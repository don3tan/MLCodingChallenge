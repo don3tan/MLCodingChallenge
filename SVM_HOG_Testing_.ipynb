{
  "nbformat": 4,
  "nbformat_minor": 0,
  "metadata": {
    "colab": {
      "name": "SVM HOG Testing .ipynb",
      "provenance": [],
      "collapsed_sections": [],
      "authorship_tag": "ABX9TyPZCaR37x69EPs9c93suLQi",
      "include_colab_link": true
    },
    "kernelspec": {
      "name": "python3",
      "display_name": "Python 3"
    }
  },
  "cells": [
    {
      "cell_type": "markdown",
      "metadata": {
        "id": "view-in-github",
        "colab_type": "text"
      },
      "source": [
        "<a href=\"https://colab.research.google.com/github/don3tan/MLCodingChallenge/blob/master/SVM_HOG_Testing_.ipynb\" target=\"_parent\"><img src=\"https://colab.research.google.com/assets/colab-badge.svg\" alt=\"Open In Colab\"/></a>"
      ]
    },
    {
      "cell_type": "code",
      "metadata": {
        "id": "SZl2otzu0Bii",
        "colab_type": "code",
        "colab": {}
      },
      "source": [
        "'''\n",
        "90.649\n",
        "Plan:\n",
        "\n",
        "1. Download Dataset\n",
        "2. Reduce Datasize to 10000 for testing\n",
        "3. Normalize data\n",
        "4. HOG features / SIFT features"
      ],
      "execution_count": 0,
      "outputs": []
    },
    {
      "cell_type": "code",
      "metadata": {
        "id": "aVAN5pwq30G8",
        "colab_type": "code",
        "colab": {}
      },
      "source": [
        "#imports\n",
        "import pandas as pd\n",
        "import numpy as np\n",
        "from sklearn.preprocessing import StandardScaler, PowerTransformer\n",
        "from sklearn.model_selection import GridSearchCV\n",
        "from sklearn.svm import SVC\n"
      ],
      "execution_count": 0,
      "outputs": []
    },
    {
      "cell_type": "code",
      "metadata": {
        "id": "npSKCVoQ1Nza",
        "colab_type": "code",
        "outputId": "d3aae9e6-27bf-4767-978e-7efacac84a52",
        "colab": {
          "base_uri": "https://localhost:8080/",
          "height": 124
        }
      },
      "source": [
        "#1. Load data\n",
        "from google.colab import drive\n",
        "drive.mount('/content/drive')"
      ],
      "execution_count": 0,
      "outputs": [
        {
          "output_type": "stream",
          "text": [
            "Go to this URL in a browser: https://accounts.google.com/o/oauth2/auth?client_id=947318989803-6bn6qk8qdgf4n4g3pfee6491hc0brc4i.apps.googleusercontent.com&redirect_uri=urn%3aietf%3awg%3aoauth%3a2.0%3aoob&response_type=code&scope=email%20https%3a%2f%2fwww.googleapis.com%2fauth%2fdocs.test%20https%3a%2f%2fwww.googleapis.com%2fauth%2fdrive%20https%3a%2f%2fwww.googleapis.com%2fauth%2fdrive.photos.readonly%20https%3a%2f%2fwww.googleapis.com%2fauth%2fpeopleapi.readonly\n",
            "\n",
            "Enter your authorization code:\n",
            "··········\n",
            "Mounted at /content/drive\n"
          ],
          "name": "stdout"
        }
      ]
    },
    {
      "cell_type": "code",
      "metadata": {
        "id": "Rwe136FvJWEU",
        "colab_type": "code",
        "colab": {}
      },
      "source": [
        "# read .csv files\n",
        "train_df = pd.read_csv('../content/drive/My Drive/fashion-mnist_train.csv')\n",
        "test_df = pd.read_csv('../content/drive/My Drive/fashion-mnist_test.csv')"
      ],
      "execution_count": 0,
      "outputs": []
    },
    {
      "cell_type": "code",
      "metadata": {
        "id": "CmOFsKLCQqkQ",
        "colab_type": "code",
        "colab": {}
      },
      "source": [
        "#define INITIAL x_train, y_train, x_test, y_test & 'normalizing' by division by 255\n",
        "x_train = train_df.drop('label', axis = 1).to_numpy(dtype = 'float32') / 255\n",
        "y_train = train_df['label'].to_numpy()\n",
        "\n",
        "x_test = test_df.drop('label', axis = 1).to_numpy(dtype = 'float32') / 255\n",
        "y_test = test_df['label'].to_numpy()"
      ],
      "execution_count": 0,
      "outputs": []
    },
    {
      "cell_type": "code",
      "metadata": {
        "id": "tLSJnvuQ1Wbu",
        "colab_type": "code",
        "colab": {}
      },
      "source": [
        "#take less data\n",
        "x_train = x_train[:10000]\n",
        "y_train = y_train[:10000]\n",
        "\n",
        "x_test = x_test[:2000]\n",
        "y_test = y_test[:2000]"
      ],
      "execution_count": 0,
      "outputs": []
    },
    {
      "cell_type": "code",
      "metadata": {
        "id": "FuKjwz42W9Zw",
        "colab_type": "code",
        "outputId": "f06f7cd3-34f1-4703-b0d6-8796a900c634",
        "colab": {
          "base_uri": "https://localhost:8080/",
          "height": 167
        }
      },
      "source": [
        "x_train = x_train[:, 0].reshape(-1, (28*28))"
      ],
      "execution_count": 0,
      "outputs": [
        {
          "output_type": "error",
          "ename": "IndexError",
          "evalue": "ignored",
          "traceback": [
            "\u001b[0;31m---------------------------------------------------------------------------\u001b[0m",
            "\u001b[0;31mIndexError\u001b[0m                                Traceback (most recent call last)",
            "\u001b[0;32m<ipython-input-48-40d41c12134f>\u001b[0m in \u001b[0;36m<module>\u001b[0;34m()\u001b[0m\n\u001b[0;32m----> 1\u001b[0;31m \u001b[0mx_train\u001b[0m \u001b[0;34m=\u001b[0m \u001b[0mx_train\u001b[0m\u001b[0;34m[\u001b[0m\u001b[0;34m:\u001b[0m\u001b[0;34m,\u001b[0m \u001b[0;36m0\u001b[0m\u001b[0;34m]\u001b[0m\u001b[0;34m.\u001b[0m\u001b[0mreshape\u001b[0m\u001b[0;34m(\u001b[0m\u001b[0;34m-\u001b[0m\u001b[0;36m1\u001b[0m\u001b[0;34m,\u001b[0m \u001b[0;34m(\u001b[0m\u001b[0;36m28\u001b[0m\u001b[0;34m*\u001b[0m\u001b[0;36m28\u001b[0m\u001b[0;34m)\u001b[0m\u001b[0;34m)\u001b[0m\u001b[0;34m\u001b[0m\u001b[0;34m\u001b[0m\u001b[0m\n\u001b[0m",
            "\u001b[0;31mIndexError\u001b[0m: too many indices for array"
          ]
        }
      ]
    },
    {
      "cell_type": "code",
      "metadata": {
        "id": "nw_UPFnyXNti",
        "colab_type": "code",
        "outputId": "f6f95ca6-1151-49bd-c922-565060779efc",
        "colab": {
          "base_uri": "https://localhost:8080/",
          "height": 34
        }
      },
      "source": [
        "x_train[0]"
      ],
      "execution_count": 0,
      "outputs": [
        {
          "output_type": "execute_result",
          "data": {
            "text/plain": [
              "0.0"
            ]
          },
          "metadata": {
            "tags": []
          },
          "execution_count": 45
        }
      ]
    },
    {
      "cell_type": "code",
      "metadata": {
        "id": "WXTihCcgLh9_",
        "colab_type": "code",
        "outputId": "2fff3849-dbbc-4d00-f4b4-a2ca90b69617",
        "colab": {
          "base_uri": "https://localhost:8080/",
          "height": 34
        }
      },
      "source": [
        "x_train.shape"
      ],
      "execution_count": 0,
      "outputs": [
        {
          "output_type": "execute_result",
          "data": {
            "text/plain": [
              "(784,)"
            ]
          },
          "metadata": {
            "tags": []
          },
          "execution_count": 44
        }
      ]
    },
    {
      "cell_type": "code",
      "metadata": {
        "id": "v8-jH1E1W8Vu",
        "colab_type": "code",
        "colab": {}
      },
      "source": [
        ""
      ],
      "execution_count": 0,
      "outputs": []
    },
    {
      "cell_type": "code",
      "metadata": {
        "id": "m7Al6Zu5qU8y",
        "colab_type": "code",
        "colab": {}
      },
      "source": [
        "#hog feature testing\n",
        "\n",
        "\n"
      ],
      "execution_count": 0,
      "outputs": []
    },
    {
      "cell_type": "code",
      "metadata": {
        "id": "K12ozp3T1WUH",
        "colab_type": "code",
        "outputId": "67efc528-ad30-4f05-daf5-26af5c06b8b9",
        "colab": {
          "base_uri": "https://localhost:8080/",
          "height": 1000
        }
      },
      "source": [
        "#Finding the best possible combination of everything\n",
        "\n",
        "normalizers = ['StandardScaler', 'PowerTransformer']\n",
        "\n",
        "classifier = SVC(random_state = 123, cache_size = 8192)\n",
        "\n",
        "parameters = {'kernel':('rbf', 'poly', 'sigmoid'), 'C':[1, 5, 8, 9, 10, 11, 12, 15], 'gamma':['auto', 'scale']}\n",
        "\n",
        "for normalizer in normalizers:\n",
        "  if normalizer == 'StandardScaler':\n",
        "    x_train = StandardScaler().fit_transform(x_train)\n",
        "    x_test = StandardScaler().fit_transform(x_test)\n",
        "  else:\n",
        "    x_train = PowerTransformer().fit_transform(x_train)\n",
        "    x_test = PowerTransformer().fit_transform(x_test)\n",
        "  print('Normalizer used:', normalizer)\n",
        "\n",
        "  #####################################################\n",
        "  #########    INSERT HOG FEATURES HERE      ########## \n",
        "  #####################################################\n",
        "\n",
        "  #GridSearching the best Kernel-parameter combination\n",
        "  clf = GridSearchCV(classifier, param_grid = parameters, verbose = 10, n_jobs = -1)\n",
        "  clf.fit(x_train, y_train)\n",
        "  print(clf.best_estimator_)\n",
        "  print(clf.best_params_)\n",
        "  print(clf.best_score_)\n",
        "\n"
      ],
      "execution_count": 0,
      "outputs": [
        {
          "output_type": "stream",
          "text": [
            "Normalizer used: StandardScaler\n",
            "Fitting 5 folds for each of 48 candidates, totalling 240 fits\n"
          ],
          "name": "stdout"
        },
        {
          "output_type": "stream",
          "text": [
            "[Parallel(n_jobs=-1)]: Using backend LokyBackend with 2 concurrent workers.\n",
            "[Parallel(n_jobs=-1)]: Done   1 tasks      | elapsed:   40.7s\n",
            "[Parallel(n_jobs=-1)]: Done   4 tasks      | elapsed:  1.3min\n",
            "[Parallel(n_jobs=-1)]: Done   9 tasks      | elapsed:  3.6min\n",
            "[Parallel(n_jobs=-1)]: Done  14 tasks      | elapsed:  4.7min\n",
            "[Parallel(n_jobs=-1)]: Done  21 tasks      | elapsed:  7.2min\n",
            "[Parallel(n_jobs=-1)]: Done  28 tasks      | elapsed:  9.3min\n",
            "[Parallel(n_jobs=-1)]: Done  37 tasks      | elapsed: 12.3min\n",
            "[Parallel(n_jobs=-1)]: Done  46 tasks      | elapsed: 14.5min\n",
            "[Parallel(n_jobs=-1)]: Done  57 tasks      | elapsed: 17.8min\n",
            "[Parallel(n_jobs=-1)]: Done  68 tasks      | elapsed: 20.8min\n",
            "[Parallel(n_jobs=-1)]: Done  81 tasks      | elapsed: 24.4min\n",
            "[Parallel(n_jobs=-1)]: Done  94 tasks      | elapsed: 27.8min\n",
            "[Parallel(n_jobs=-1)]: Done 109 tasks      | elapsed: 32.0min\n",
            "[Parallel(n_jobs=-1)]: Done 124 tasks      | elapsed: 36.0min\n",
            "[Parallel(n_jobs=-1)]: Done 141 tasks      | elapsed: 40.9min\n",
            "[Parallel(n_jobs=-1)]: Done 158 tasks      | elapsed: 45.5min\n",
            "[Parallel(n_jobs=-1)]: Done 177 tasks      | elapsed: 50.6min\n",
            "[Parallel(n_jobs=-1)]: Done 196 tasks      | elapsed: 55.6min\n",
            "[Parallel(n_jobs=-1)]: Done 217 tasks      | elapsed: 61.6min\n",
            "[Parallel(n_jobs=-1)]: Done 240 out of 240 | elapsed: 67.3min finished\n"
          ],
          "name": "stderr"
        },
        {
          "output_type": "stream",
          "text": [
            "SVC(C=5, break_ties=False, cache_size=8192, class_weight=None, coef0=0.0,\n",
            "    decision_function_shape='ovr', degree=3, gamma='auto', kernel='rbf',\n",
            "    max_iter=-1, probability=False, random_state=123, shrinking=True, tol=0.001,\n",
            "    verbose=False)\n",
            "{'C': 5, 'gamma': 'auto', 'kernel': 'rbf'}\n",
            "0.8727\n",
            "Normalizer used: PowerTransformer\n",
            "Fitting 5 folds for each of 48 candidates, totalling 240 fits\n"
          ],
          "name": "stdout"
        },
        {
          "output_type": "stream",
          "text": [
            "[Parallel(n_jobs=-1)]: Using backend LokyBackend with 2 concurrent workers.\n",
            "[Parallel(n_jobs=-1)]: Done   1 tasks      | elapsed:   43.3s\n",
            "[Parallel(n_jobs=-1)]: Done   4 tasks      | elapsed:  1.4min\n",
            "[Parallel(n_jobs=-1)]: Done   9 tasks      | elapsed:  3.5min\n",
            "[Parallel(n_jobs=-1)]: Done  14 tasks      | elapsed:  4.6min\n",
            "[Parallel(n_jobs=-1)]: Done  21 tasks      | elapsed:  7.0min\n",
            "[Parallel(n_jobs=-1)]: Done  28 tasks      | elapsed:  9.0min\n",
            "[Parallel(n_jobs=-1)]: Done  37 tasks      | elapsed: 12.2min\n",
            "[Parallel(n_jobs=-1)]: Done  46 tasks      | elapsed: 14.4min\n",
            "[Parallel(n_jobs=-1)]: Done  57 tasks      | elapsed: 17.8min\n",
            "[Parallel(n_jobs=-1)]: Done  68 tasks      | elapsed: 21.0min\n",
            "[Parallel(n_jobs=-1)]: Done  81 tasks      | elapsed: 24.6min\n",
            "[Parallel(n_jobs=-1)]: Done  94 tasks      | elapsed: 28.1min\n",
            "[Parallel(n_jobs=-1)]: Done 109 tasks      | elapsed: 32.5min\n",
            "[Parallel(n_jobs=-1)]: Done 124 tasks      | elapsed: 36.7min\n",
            "[Parallel(n_jobs=-1)]: Done 141 tasks      | elapsed: 41.8min\n",
            "[Parallel(n_jobs=-1)]: Done 158 tasks      | elapsed: 46.6min\n",
            "[Parallel(n_jobs=-1)]: Done 177 tasks      | elapsed: 51.9min\n",
            "[Parallel(n_jobs=-1)]: Done 196 tasks      | elapsed: 57.1min\n",
            "[Parallel(n_jobs=-1)]: Done 217 tasks      | elapsed: 63.4min\n",
            "[Parallel(n_jobs=-1)]: Done 240 out of 240 | elapsed: 69.3min finished\n"
          ],
          "name": "stderr"
        },
        {
          "output_type": "stream",
          "text": [
            "SVC(C=5, break_ties=False, cache_size=8192, class_weight=None, coef0=0.0,\n",
            "    decision_function_shape='ovr', degree=3, gamma='auto', kernel='rbf',\n",
            "    max_iter=-1, probability=False, random_state=123, shrinking=True, tol=0.001,\n",
            "    verbose=False)\n",
            "{'C': 5, 'gamma': 'auto', 'kernel': 'rbf'}\n",
            "0.8762000000000001\n"
          ],
          "name": "stdout"
        }
      ]
    },
    {
      "cell_type": "code",
      "metadata": {
        "id": "hpFNu_FWI-Lc",
        "colab_type": "code",
        "colab": {}
      },
      "source": [
        "normalizers = ['StandardScaler', 'PowerTransformer']\n",
        "\n",
        "classifier = SVC(random_state = 123, cache_size = 8192)\n",
        "\n",
        "parameters = {'kernel':('rbf', 'poly', 'sigmoid'), 'C':[1, 5, 8, 9, 10, 11, 12, 15], 'gamma':['auto', 'scale']}\n",
        "\n",
        "for normalizer in normalizers:\n",
        "  if normalizer == 'StandardScaler':\n",
        "    x_train = StandardScaler().fit_transform(x_train)\n",
        "    x_test = StandardScaler().fit_transform(x_test)\n",
        "  else:\n",
        "    x_train = PowerTransformer().fit_transform(x_train)\n",
        "    x_test = PowerTransformer().fit_transform(x_test)\n",
        "  print('Normalizer used:', normalizer)\n",
        "\n",
        "  #####################################################\n",
        "  #########    INSERT HOG FEATURES HERE      ########## \n",
        "  #####################################################\n",
        "\n",
        "  #GridSearching the best Kernel-parameter combination\n",
        "  clf = GridSearchCV(classifier, param_grid = parameters, verbose = 10, n_jobs = -1)\n",
        "  clf.fit(x_train, y_train)\n",
        "  print(clf.best_estimator_)\n",
        "  print(clf.best_params_)\n",
        "  print(clf.best_score_)"
      ],
      "execution_count": 0,
      "outputs": []
    },
    {
      "cell_type": "code",
      "metadata": {
        "id": "VFuCQci-LtlM",
        "colab_type": "code",
        "colab": {}
      },
      "source": [
        "x_train = PowerTransformer().fit_transform(x_train)\n",
        "x_test = PowerTransformer().fit_transform(x_test)"
      ],
      "execution_count": 0,
      "outputs": []
    },
    {
      "cell_type": "code",
      "metadata": {
        "id": "aIITu48yL2Uc",
        "colab_type": "code",
        "colab": {}
      },
      "source": [
        "x_train[1]"
      ],
      "execution_count": 0,
      "outputs": []
    },
    {
      "cell_type": "code",
      "metadata": {
        "id": "v6egXrt9JVYA",
        "colab_type": "code",
        "outputId": "a8136d64-93d2-416a-9fa2-48cf8752afd6",
        "colab": {
          "base_uri": "https://localhost:8080/",
          "height": 573
        }
      },
      "source": [
        "#test best rbf estimator vs poly gridsearching\n",
        "\n",
        "classifier = SVC(kernel = 'poly', random_state = 123, cache_size = 8192)\n",
        "\n",
        "parameters = {'C': [1, 5, 8, 9, 10, 11, 12, 15], 'degree': [3, 4, 5 ,6], 'gamma':['auto', 'scale']}\n",
        "\n",
        "clf = GridSearchCV(classifier, param_grid = parameters, verbose = 10, n_jobs = -1)\n",
        "clf.fit(x_train, y_train)\n",
        "print(clf.best_estimator_)\n",
        "print(clf.best_params_)\n",
        "print(clf.best_score_)\n",
        "\n"
      ],
      "execution_count": 0,
      "outputs": [
        {
          "output_type": "stream",
          "text": [
            "Fitting 5 folds for each of 64 candidates, totalling 320 fits\n"
          ],
          "name": "stdout"
        },
        {
          "output_type": "stream",
          "text": [
            "[Parallel(n_jobs=-1)]: Using backend LokyBackend with 2 concurrent workers.\n",
            "[Parallel(n_jobs=-1)]: Done   1 tasks      | elapsed:   45.0s\n",
            "[Parallel(n_jobs=-1)]: Done   4 tasks      | elapsed:  1.5min\n",
            "[Parallel(n_jobs=-1)]: Done   9 tasks      | elapsed:  3.8min\n",
            "[Parallel(n_jobs=-1)]: Done  14 tasks      | elapsed:  5.8min\n",
            "[Parallel(n_jobs=-1)]: Done  21 tasks      | elapsed: 10.0min\n",
            "[Parallel(n_jobs=-1)]: Done  28 tasks      | elapsed: 13.4min\n",
            "[Parallel(n_jobs=-1)]: Done  37 tasks      | elapsed: 20.1min\n",
            "[Parallel(n_jobs=-1)]: Done  46 tasks      | elapsed: 23.6min\n",
            "[Parallel(n_jobs=-1)]: Done  57 tasks      | elapsed: 28.5min\n",
            "[Parallel(n_jobs=-1)]: Done  68 tasks      | elapsed: 33.4min\n",
            "[Parallel(n_jobs=-1)]: Done  81 tasks      | elapsed: 41.1min\n",
            "[Parallel(n_jobs=-1)]: Done  94 tasks      | elapsed: 45.8min\n",
            "[Parallel(n_jobs=-1)]: Done 109 tasks      | elapsed: 53.5min\n",
            "[Parallel(n_jobs=-1)]: Done 124 tasks      | elapsed: 60.8min\n",
            "[Parallel(n_jobs=-1)]: Done 141 tasks      | elapsed: 68.5min\n",
            "[Parallel(n_jobs=-1)]: Done 158 tasks      | elapsed: 77.2min\n",
            "[Parallel(n_jobs=-1)]: Done 177 tasks      | elapsed: 85.5min\n",
            "[Parallel(n_jobs=-1)]: Done 196 tasks      | elapsed: 95.0min\n",
            "[Parallel(n_jobs=-1)]: Done 217 tasks      | elapsed: 104.5min\n",
            "[Parallel(n_jobs=-1)]: Done 238 tasks      | elapsed: 115.1min\n",
            "[Parallel(n_jobs=-1)]: Done 261 tasks      | elapsed: 125.1min\n",
            "[Parallel(n_jobs=-1)]: Done 284 tasks      | elapsed: 136.5min\n",
            "[Parallel(n_jobs=-1)]: Done 309 tasks      | elapsed: 147.8min\n",
            "[Parallel(n_jobs=-1)]: Done 320 out of 320 | elapsed: 154.1min finished\n"
          ],
          "name": "stderr"
        },
        {
          "output_type": "stream",
          "text": [
            "SVC(C=15, break_ties=False, cache_size=8192, class_weight=None, coef0=0.0,\n",
            "    decision_function_shape='ovr', degree=3, gamma='scale', kernel='poly',\n",
            "    max_iter=-1, probability=False, random_state=123, shrinking=True, tol=0.001,\n",
            "    verbose=False)\n",
            "{'C': 15, 'degree': 3, 'gamma': 'scale'}\n",
            "0.8734\n"
          ],
          "name": "stdout"
        }
      ]
    },
    {
      "cell_type": "code",
      "metadata": {
        "id": "mXIHOvjPdbU7",
        "colab_type": "code",
        "outputId": "26ecd3c9-ce90-4ace-a901-b447b2282880",
        "colab": {
          "base_uri": "https://localhost:8080/",
          "height": 86
        }
      },
      "source": [
        "clf.best_estimator_"
      ],
      "execution_count": 0,
      "outputs": [
        {
          "output_type": "execute_result",
          "data": {
            "text/plain": [
              "SVC(C=5, break_ties=False, cache_size=8192, class_weight=None, coef0=0.0,\n",
              "    decision_function_shape='ovr', degree=3, gamma='auto', kernel='rbf',\n",
              "    max_iter=-1, probability=False, random_state=123, shrinking=True, tol=0.001,\n",
              "    verbose=False)"
            ]
          },
          "metadata": {
            "tags": []
          },
          "execution_count": 9
        }
      ]
    },
    {
      "cell_type": "code",
      "metadata": {
        "id": "WG03I1pUCQNk",
        "colab_type": "code",
        "outputId": "687b67c2-5ac3-4610-8416-78120843b212",
        "colab": {
          "base_uri": "https://localhost:8080/",
          "height": 86
        }
      },
      "source": [
        "clf.best_estimator_"
      ],
      "execution_count": 0,
      "outputs": [
        {
          "output_type": "execute_result",
          "data": {
            "text/plain": [
              "SVC(C=5, break_ties=False, cache_size=8192, class_weight=None, coef0=0.0,\n",
              "    decision_function_shape='ovr', degree=2, gamma='auto', kernel='rbf',\n",
              "    max_iter=-1, probability=False, random_state=123, shrinking=True, tol=0.001,\n",
              "    verbose=False)"
            ]
          },
          "metadata": {
            "tags": []
          },
          "execution_count": 35
        }
      ]
    },
    {
      "cell_type": "code",
      "metadata": {
        "id": "Y3GkJhxh1WPc",
        "colab_type": "code",
        "outputId": "dc14f4db-5dc6-4f63-a3b9-8bdbdf47b63f",
        "colab": {
          "base_uri": "https://localhost:8080/",
          "height": 1000
        }
      },
      "source": [
        "#the best so far?\n",
        "classifier = SVC(kernel = 'rbf', gamma = 'auto', random_state = 123, cache_size = 8192, degree = 3)\n",
        "\n",
        "parameters = {'C': [6, 6.1, 6.2, 6.3, 6.4, 6.5, 6.6, 6.7, 6.8, 6.9, 7]}\n",
        "\n",
        "clf = GridSearchCV(classifier, param_grid = parameters, verbose = 20, n_jobs = -1)\n",
        "clf.fit(x_train, y_train)\n",
        "print(clf.best_estimator_)\n",
        "print(clf.best_params_)\n",
        "print(clf.best_score_)"
      ],
      "execution_count": 0,
      "outputs": [
        {
          "output_type": "stream",
          "text": [
            "Fitting 5 folds for each of 11 candidates, totalling 55 fits\n"
          ],
          "name": "stdout"
        },
        {
          "output_type": "stream",
          "text": [
            "[Parallel(n_jobs=-1)]: Using backend LokyBackend with 2 concurrent workers.\n",
            "[Parallel(n_jobs=-1)]: Done   1 tasks      | elapsed:   38.4s\n",
            "[Parallel(n_jobs=-1)]: Done   2 tasks      | elapsed:   38.4s\n",
            "[Parallel(n_jobs=-1)]: Done   3 tasks      | elapsed:  1.3min\n",
            "[Parallel(n_jobs=-1)]: Done   4 tasks      | elapsed:  1.3min\n",
            "[Parallel(n_jobs=-1)]: Done   5 tasks      | elapsed:  1.9min\n",
            "[Parallel(n_jobs=-1)]: Done   6 tasks      | elapsed:  1.9min\n",
            "[Parallel(n_jobs=-1)]: Done   7 tasks      | elapsed:  2.5min\n",
            "[Parallel(n_jobs=-1)]: Done   8 tasks      | elapsed:  2.5min\n",
            "[Parallel(n_jobs=-1)]: Done   9 tasks      | elapsed:  3.2min\n",
            "[Parallel(n_jobs=-1)]: Done  10 tasks      | elapsed:  3.2min\n",
            "[Parallel(n_jobs=-1)]: Done  11 tasks      | elapsed:  3.8min\n",
            "[Parallel(n_jobs=-1)]: Done  12 tasks      | elapsed:  3.8min\n",
            "[Parallel(n_jobs=-1)]: Done  13 tasks      | elapsed:  4.4min\n",
            "[Parallel(n_jobs=-1)]: Done  14 tasks      | elapsed:  4.5min\n",
            "[Parallel(n_jobs=-1)]: Done  15 tasks      | elapsed:  5.1min\n",
            "[Parallel(n_jobs=-1)]: Done  16 tasks      | elapsed:  5.1min\n",
            "[Parallel(n_jobs=-1)]: Done  17 tasks      | elapsed:  5.7min\n",
            "[Parallel(n_jobs=-1)]: Done  18 tasks      | elapsed:  5.7min\n",
            "[Parallel(n_jobs=-1)]: Done  19 tasks      | elapsed:  6.4min\n",
            "[Parallel(n_jobs=-1)]: Done  20 tasks      | elapsed:  6.4min\n",
            "[Parallel(n_jobs=-1)]: Done  21 tasks      | elapsed:  7.0min\n",
            "[Parallel(n_jobs=-1)]: Done  22 tasks      | elapsed:  7.0min\n",
            "[Parallel(n_jobs=-1)]: Done  23 tasks      | elapsed:  7.6min\n",
            "[Parallel(n_jobs=-1)]: Done  24 tasks      | elapsed:  7.6min\n",
            "[Parallel(n_jobs=-1)]: Done  25 tasks      | elapsed:  8.3min\n",
            "[Parallel(n_jobs=-1)]: Done  26 tasks      | elapsed:  8.3min\n",
            "[Parallel(n_jobs=-1)]: Done  27 tasks      | elapsed:  8.9min\n",
            "[Parallel(n_jobs=-1)]: Done  28 tasks      | elapsed:  8.9min\n",
            "[Parallel(n_jobs=-1)]: Done  29 tasks      | elapsed:  9.6min\n",
            "[Parallel(n_jobs=-1)]: Done  30 tasks      | elapsed:  9.6min\n",
            "[Parallel(n_jobs=-1)]: Done  31 tasks      | elapsed: 10.3min\n",
            "[Parallel(n_jobs=-1)]: Done  32 tasks      | elapsed: 10.3min\n",
            "[Parallel(n_jobs=-1)]: Done  33 tasks      | elapsed: 10.9min\n",
            "[Parallel(n_jobs=-1)]: Done  34 tasks      | elapsed: 10.9min\n",
            "[Parallel(n_jobs=-1)]: Done  35 tasks      | elapsed: 11.5min\n",
            "[Parallel(n_jobs=-1)]: Done  36 tasks      | elapsed: 11.5min\n",
            "[Parallel(n_jobs=-1)]: Done  37 tasks      | elapsed: 12.2min\n",
            "[Parallel(n_jobs=-1)]: Done  38 tasks      | elapsed: 12.2min\n",
            "[Parallel(n_jobs=-1)]: Done  39 tasks      | elapsed: 12.8min\n",
            "[Parallel(n_jobs=-1)]: Done  40 tasks      | elapsed: 12.8min\n",
            "[Parallel(n_jobs=-1)]: Done  41 tasks      | elapsed: 13.5min\n",
            "[Parallel(n_jobs=-1)]: Done  42 tasks      | elapsed: 13.5min\n",
            "[Parallel(n_jobs=-1)]: Done  43 tasks      | elapsed: 14.1min\n",
            "[Parallel(n_jobs=-1)]: Done  44 tasks      | elapsed: 14.1min\n",
            "[Parallel(n_jobs=-1)]: Done  45 tasks      | elapsed: 14.8min\n",
            "[Parallel(n_jobs=-1)]: Done  46 tasks      | elapsed: 14.8min\n",
            "[Parallel(n_jobs=-1)]: Done  47 tasks      | elapsed: 15.4min\n",
            "[Parallel(n_jobs=-1)]: Done  48 tasks      | elapsed: 15.4min\n",
            "[Parallel(n_jobs=-1)]: Done  49 tasks      | elapsed: 16.0min\n",
            "[Parallel(n_jobs=-1)]: Done  50 tasks      | elapsed: 16.1min\n",
            "[Parallel(n_jobs=-1)]: Done  51 tasks      | elapsed: 16.7min\n",
            "[Parallel(n_jobs=-1)]: Done  52 tasks      | elapsed: 16.7min\n",
            "[Parallel(n_jobs=-1)]: Done  55 out of  55 | elapsed: 17.9min remaining:    0.0s\n",
            "[Parallel(n_jobs=-1)]: Done  55 out of  55 | elapsed: 17.9min finished\n"
          ],
          "name": "stderr"
        },
        {
          "output_type": "stream",
          "text": [
            "SVC(C=6.5, break_ties=False, cache_size=8192, class_weight=None, coef0=0.0,\n",
            "    decision_function_shape='ovr', degree=3, gamma='auto', kernel='rbf',\n",
            "    max_iter=-1, probability=False, random_state=123, shrinking=True, tol=0.001,\n",
            "    verbose=False)\n",
            "{'C': 6.5}\n",
            "0.8764999999999998\n"
          ],
          "name": "stdout"
        }
      ]
    },
    {
      "cell_type": "code",
      "metadata": {
        "id": "9MXvsX3t6ICF",
        "colab_type": "code",
        "colab": {}
      },
      "source": [
        "prediction = svm.predict(x_test)"
      ],
      "execution_count": 0,
      "outputs": []
    },
    {
      "cell_type": "code",
      "metadata": {
        "id": "VNT4JDAHDZPY",
        "colab_type": "code",
        "outputId": "de7a3c5f-e154-42c1-819a-23041cf65f0e",
        "colab": {
          "base_uri": "https://localhost:8080/",
          "height": 34
        }
      },
      "source": [
        "print('Accuracy: {}%'.format(str(accuracy_score(y_test, prediction) * 100)))"
      ],
      "execution_count": 0,
      "outputs": [
        {
          "output_type": "stream",
          "text": [
            "Accuracy: 86.25%\n"
          ],
          "name": "stdout"
        }
      ]
    },
    {
      "cell_type": "code",
      "metadata": {
        "id": "aCQdZuii6H_l",
        "colab_type": "code",
        "colab": {}
      },
      "source": [
        "labels_dict = {0: \"T-shirt/top\",\n",
        "               1: \"Trouser\",\n",
        "               2: \"Pullover\",\n",
        "               3: \"Dress\",\n",
        "               4: \"Coat\",\n",
        "               5: \"Sandal\",\n",
        "               6: \"Shirt\",\n",
        "               7: \"Sneaker\",\n",
        "               8: \"Bag\",\n",
        "               9: \"Ankle boot\"}\n",
        "\n",
        "from sklearn.metrics import accuracy_score, confusion_matrix\n",
        "import matplotlib.pyplot as plt\n",
        "import seaborn as sns\n",
        "\n",
        "matrix = confusion_matrix(y_test, prediction)\n",
        "\n",
        "plt.figure(figsize=(10, 10))\n",
        "\n",
        "# plot confusion matrix heatmap\n",
        "sns.heatmap(matrix.T, square=True, annot=True, fmt='d', cbar=False, cmap='BuGn_r', xticklabels=labels_dict, yticklabels=labels_dict)\n",
        "\n",
        "# add plot axis labels\n",
        "plt.xlabel('[true class label $y_{i}$]')\n",
        "plt.ylabel('[predicted class label $y_{i}\\'$]')\n",
        "\n",
        "# add plot title\n",
        "plt.title('SVM Predictions - Confusion Matrix')"
      ],
      "execution_count": 0,
      "outputs": []
    },
    {
      "cell_type": "code",
      "metadata": {
        "id": "45DuKYQr6H9T",
        "colab_type": "code",
        "colab": {}
      },
      "source": [
        "#hog feature implementation"
      ],
      "execution_count": 0,
      "outputs": []
    },
    {
      "cell_type": "code",
      "metadata": {
        "id": "qH32sN7bcCnn",
        "colab_type": "code",
        "outputId": "a6022903-b9a7-4066-ce08-d0cdeb396e4b",
        "colab": {
          "base_uri": "https://localhost:8080/",
          "height": 86
        }
      },
      "source": [
        "svm = SVC(kernel = 'rbf', C = 6.5, gamma = 'auto', random_state = 123, cache_size = 8192)\n",
        "\n",
        "svm.fit(x_train, y_train)"
      ],
      "execution_count": 0,
      "outputs": [
        {
          "output_type": "execute_result",
          "data": {
            "text/plain": [
              "SVC(C=6.5, break_ties=False, cache_size=8192, class_weight=None, coef0=0.0,\n",
              "    decision_function_shape='ovr', degree=3, gamma='auto', kernel='rbf',\n",
              "    max_iter=-1, probability=False, random_state=123, shrinking=True, tol=0.001,\n",
              "    verbose=False)"
            ]
          },
          "metadata": {
            "tags": []
          },
          "execution_count": 44
        }
      ]
    },
    {
      "cell_type": "code",
      "metadata": {
        "id": "3Z2gciy_6H7Y",
        "colab_type": "code",
        "colab": {}
      },
      "source": [
        "prediction = svm.predict(x_test)"
      ],
      "execution_count": 0,
      "outputs": []
    },
    {
      "cell_type": "code",
      "metadata": {
        "id": "P1Li-Y1DiQjS",
        "colab_type": "code",
        "colab": {}
      },
      "source": [
        "from sklearn.metrics import accuracy_score"
      ],
      "execution_count": 0,
      "outputs": []
    },
    {
      "cell_type": "code",
      "metadata": {
        "id": "HZLqimAm6H5H",
        "colab_type": "code",
        "outputId": "59fe94c5-6ff9-403f-fb5d-8f8763cc7732",
        "colab": {
          "base_uri": "https://localhost:8080/",
          "height": 34
        }
      },
      "source": [
        "print('Accuracy: {}%'.format(str(accuracy_score(y_test, prediction) * 100)))"
      ],
      "execution_count": 0,
      "outputs": [
        {
          "output_type": "stream",
          "text": [
            "Accuracy: 90.63%\n"
          ],
          "name": "stdout"
        }
      ]
    },
    {
      "cell_type": "code",
      "metadata": {
        "id": "63EmWp8f6Hzo",
        "colab_type": "code",
        "outputId": "1482a49f-a2f3-48aa-b9ab-6c2e5c0d08a4",
        "colab": {
          "base_uri": "https://localhost:8080/",
          "height": 271
        }
      },
      "source": [
        "labels_dict = {0: \"T-shirt/top\",\n",
        "               1: \"Trouser\",\n",
        "               2: \"Pullover\",\n",
        "               3: \"Dress\",\n",
        "               4: \"Coat\",\n",
        "               5: \"Sandal\",\n",
        "               6: \"Shirt\",\n",
        "               7: \"Sneaker\",\n",
        "               8: \"Bag\",\n",
        "               9: \"Ankle boot\"}\n",
        "\n",
        "from sklearn.metrics import accuracy_score, confusion_matrix\n",
        "import matplotlib.pyplot as plt\n",
        "import seaborn as sns\n",
        "\n",
        "matrix = confusion_matrix(y_test, prediction)\n",
        "\n",
        "plt.figure(figsize=(10, 10))\n",
        "\n",
        "# plot confusion matrix heatmap\n",
        "sns.heatmap(matrix.T, square=True, annot=True, fmt='d', cbar=False, cmap='BuGn_r', xticklabels=labels_dict, yticklabels=labels_dict)\n",
        "\n",
        "# add plot axis labels\n",
        "plt.xlabel('[true class label $y_{i}$]')\n",
        "plt.ylabel('[predicted class label $y_{i}\\'$]')\n",
        "\n",
        "# add plot title\n",
        "plt.title('SVM Predictions - Confusion Matrix')"
      ],
      "execution_count": 0,
      "outputs": [
        {
          "output_type": "stream",
          "text": [
            "/usr/local/lib/python3.6/dist-packages/statsmodels/tools/_testing.py:19: FutureWarning: pandas.util.testing is deprecated. Use the functions in the public API at pandas.testing instead.\n",
            "  import pandas.util.testing as tm\n"
          ],
          "name": "stderr"
        },
        {
          "output_type": "error",
          "ename": "NameError",
          "evalue": "ignored",
          "traceback": [
            "\u001b[0;31m---------------------------------------------------------------------------\u001b[0m",
            "\u001b[0;31mNameError\u001b[0m                                 Traceback (most recent call last)",
            "\u001b[0;32m<ipython-input-10-7594c178d2cf>\u001b[0m in \u001b[0;36m<module>\u001b[0;34m()\u001b[0m\n\u001b[1;32m     14\u001b[0m \u001b[0;32mimport\u001b[0m \u001b[0mseaborn\u001b[0m \u001b[0;32mas\u001b[0m \u001b[0msns\u001b[0m\u001b[0;34m\u001b[0m\u001b[0;34m\u001b[0m\u001b[0m\n\u001b[1;32m     15\u001b[0m \u001b[0;34m\u001b[0m\u001b[0m\n\u001b[0;32m---> 16\u001b[0;31m \u001b[0mmatrix\u001b[0m \u001b[0;34m=\u001b[0m \u001b[0mconfusion_matrix\u001b[0m\u001b[0;34m(\u001b[0m\u001b[0my_test\u001b[0m\u001b[0;34m,\u001b[0m \u001b[0mprediction\u001b[0m\u001b[0;34m)\u001b[0m\u001b[0;34m\u001b[0m\u001b[0;34m\u001b[0m\u001b[0m\n\u001b[0m\u001b[1;32m     17\u001b[0m \u001b[0;34m\u001b[0m\u001b[0m\n\u001b[1;32m     18\u001b[0m \u001b[0mplt\u001b[0m\u001b[0;34m.\u001b[0m\u001b[0mfigure\u001b[0m\u001b[0;34m(\u001b[0m\u001b[0mfigsize\u001b[0m\u001b[0;34m=\u001b[0m\u001b[0;34m(\u001b[0m\u001b[0;36m10\u001b[0m\u001b[0;34m,\u001b[0m \u001b[0;36m10\u001b[0m\u001b[0;34m)\u001b[0m\u001b[0;34m)\u001b[0m\u001b[0;34m\u001b[0m\u001b[0;34m\u001b[0m\u001b[0m\n",
            "\u001b[0;31mNameError\u001b[0m: name 'prediction' is not defined"
          ]
        }
      ]
    },
    {
      "cell_type": "code",
      "metadata": {
        "id": "DIWThn2E6HuN",
        "colab_type": "code",
        "colab": {}
      },
      "source": [
        ""
      ],
      "execution_count": 0,
      "outputs": []
    },
    {
      "cell_type": "markdown",
      "metadata": {
        "id": "j7EnR0k1RuJG",
        "colab_type": "text"
      },
      "source": [
        "> HOG\n",
        "\n"
      ]
    },
    {
      "cell_type": "code",
      "metadata": {
        "id": "ekKHggY5UnZr",
        "colab_type": "code",
        "colab": {}
      },
      "source": [
        "import scipy as sp\n",
        "from scipy.stats import norm\n",
        "from skimage.feature import hog\n"
      ],
      "execution_count": 0,
      "outputs": []
    },
    {
      "cell_type": "code",
      "metadata": {
        "id": "v_nBifWFRvWl",
        "colab_type": "code",
        "outputId": "99ffca33-ac80-42de-80dc-d81f9b97e819",
        "colab": {
          "base_uri": "https://localhost:8080/",
          "height": 237
        }
      },
      "source": [
        "\n",
        "x_train = x_train.reshape((28*28))\n",
        "\n",
        "mnist_train_data_hog_features = []\n",
        "mnist_train_data_hog_images = []\n",
        "\n",
        "for i, mnist_train_image in enumerate(x_train):\n",
        "    \n",
        "    # extract hog features of current training image\n",
        "    train_features, train_image = hog(mnist_train_image, orientations=4, pixels_per_cell=(7, 7), cells_per_block=(1, 1), visualize=True)\n",
        "    \n",
        "    # collect extracted hog features\n",
        "    mnist_train_data_hog_features.append(train_features)\n",
        "    mnist_train_data_hog_images.append(train_image)\n",
        "    \n",
        "    # case: print image processing status\n",
        "    if i % 10000 == 0:\n",
        "        \n",
        "        # print log message\n",
        "        print('[LOG] {} features of training image {} succesfully extracted.'.format(str(len(train_features)), str(i).zfill(5)))\n",
        "\n",
        "\n",
        "\n",
        "\n",
        "train_image = x_train[1, :]\n",
        "b = np.reshape(train_image, (28, 28))\n",
        "plt.imshow(b, cmap='gray')"
      ],
      "execution_count": 0,
      "outputs": [
        {
          "output_type": "error",
          "ename": "ValueError",
          "evalue": "ignored",
          "traceback": [
            "\u001b[0;31m---------------------------------------------------------------------------\u001b[0m",
            "\u001b[0;31mValueError\u001b[0m                                Traceback (most recent call last)",
            "\u001b[0;32m<ipython-input-34-7a1215e1cb8b>\u001b[0m in \u001b[0;36m<module>\u001b[0;34m()\u001b[0m\n\u001b[1;32m      1\u001b[0m \u001b[0;34m\u001b[0m\u001b[0m\n\u001b[0;32m----> 2\u001b[0;31m \u001b[0mx_train\u001b[0m \u001b[0;34m=\u001b[0m \u001b[0mx_train\u001b[0m\u001b[0;34m.\u001b[0m\u001b[0mreshape\u001b[0m\u001b[0;34m(\u001b[0m\u001b[0;34m(\u001b[0m\u001b[0;36m28\u001b[0m\u001b[0;34m*\u001b[0m\u001b[0;36m28\u001b[0m\u001b[0;34m)\u001b[0m\u001b[0;34m)\u001b[0m\u001b[0;34m\u001b[0m\u001b[0;34m\u001b[0m\u001b[0m\n\u001b[0m\u001b[1;32m      3\u001b[0m \u001b[0;34m\u001b[0m\u001b[0m\n\u001b[1;32m      4\u001b[0m \u001b[0mmnist_train_data_hog_features\u001b[0m \u001b[0;34m=\u001b[0m \u001b[0;34m[\u001b[0m\u001b[0;34m]\u001b[0m\u001b[0;34m\u001b[0m\u001b[0;34m\u001b[0m\u001b[0m\n\u001b[1;32m      5\u001b[0m \u001b[0mmnist_train_data_hog_images\u001b[0m \u001b[0;34m=\u001b[0m \u001b[0;34m[\u001b[0m\u001b[0;34m]\u001b[0m\u001b[0;34m\u001b[0m\u001b[0;34m\u001b[0m\u001b[0m\n",
            "\u001b[0;31mValueError\u001b[0m: cannot reshape array of size 47040000 into shape (784,)"
          ]
        }
      ]
    }
  ]
}