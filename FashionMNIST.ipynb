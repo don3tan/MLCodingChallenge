{
  "nbformat": 4,
  "nbformat_minor": 0,
  "metadata": {
    "colab": {
      "name": "FashionMNIST.ipynb",
      "provenance": [],
      "authorship_tag": "ABX9TyO2MqnpFgAZ4cisX+QcYI6R"
    },
    "kernelspec": {
      "name": "python3",
      "display_name": "Python 3"
    },
    "widgets": {
      "application/vnd.jupyter.widget-state+json": {
        "413fd67d6a674724bd2fc424ae31b378": {
          "model_module": "@jupyter-widgets/controls",
          "model_name": "HBoxModel",
          "state": {
            "_view_name": "HBoxView",
            "_dom_classes": [],
            "_model_name": "HBoxModel",
            "_view_module": "@jupyter-widgets/controls",
            "_model_module_version": "1.5.0",
            "_view_count": null,
            "_view_module_version": "1.5.0",
            "box_style": "",
            "layout": "IPY_MODEL_a0efc442b4f3445889691d361c46a65e",
            "_model_module": "@jupyter-widgets/controls",
            "children": [
              "IPY_MODEL_c3efbe87039840a1a04b604ddbe40c0a",
              "IPY_MODEL_96bc84c22d0a41b88c9a3224014c73c2"
            ]
          }
        },
        "a0efc442b4f3445889691d361c46a65e": {
          "model_module": "@jupyter-widgets/base",
          "model_name": "LayoutModel",
          "state": {
            "_view_name": "LayoutView",
            "grid_template_rows": null,
            "right": null,
            "justify_content": null,
            "_view_module": "@jupyter-widgets/base",
            "overflow": null,
            "_model_module_version": "1.2.0",
            "_view_count": null,
            "flex_flow": null,
            "width": null,
            "min_width": null,
            "border": null,
            "align_items": null,
            "bottom": null,
            "_model_module": "@jupyter-widgets/base",
            "top": null,
            "grid_column": null,
            "overflow_y": null,
            "overflow_x": null,
            "grid_auto_flow": null,
            "grid_area": null,
            "grid_template_columns": null,
            "flex": null,
            "_model_name": "LayoutModel",
            "justify_items": null,
            "grid_row": null,
            "max_height": null,
            "align_content": null,
            "visibility": null,
            "align_self": null,
            "height": null,
            "min_height": null,
            "padding": null,
            "grid_auto_rows": null,
            "grid_gap": null,
            "max_width": null,
            "order": null,
            "_view_module_version": "1.2.0",
            "grid_template_areas": null,
            "object_position": null,
            "object_fit": null,
            "grid_auto_columns": null,
            "margin": null,
            "display": null,
            "left": null
          }
        },
        "c3efbe87039840a1a04b604ddbe40c0a": {
          "model_module": "@jupyter-widgets/controls",
          "model_name": "IntProgressModel",
          "state": {
            "_view_name": "ProgressView",
            "style": "IPY_MODEL_cd7d4fef71d040b6817f014d99ac8b46",
            "_dom_classes": [],
            "description": "",
            "_model_name": "IntProgressModel",
            "bar_style": "info",
            "max": 1,
            "_view_module": "@jupyter-widgets/controls",
            "_model_module_version": "1.5.0",
            "value": 1,
            "_view_count": null,
            "_view_module_version": "1.5.0",
            "orientation": "horizontal",
            "min": 0,
            "description_tooltip": null,
            "_model_module": "@jupyter-widgets/controls",
            "layout": "IPY_MODEL_262541843af64ecdb9e7f9526efd4101"
          }
        },
        "96bc84c22d0a41b88c9a3224014c73c2": {
          "model_module": "@jupyter-widgets/controls",
          "model_name": "HTMLModel",
          "state": {
            "_view_name": "HTMLView",
            "style": "IPY_MODEL_834d66c2bb9d439986bcb4adf96d43c8",
            "_dom_classes": [],
            "description": "",
            "_model_name": "HTMLModel",
            "placeholder": "​",
            "_view_module": "@jupyter-widgets/controls",
            "_model_module_version": "1.5.0",
            "value": " 26427392/? [00:20&lt;00:00, 11921483.10it/s]",
            "_view_count": null,
            "_view_module_version": "1.5.0",
            "description_tooltip": null,
            "_model_module": "@jupyter-widgets/controls",
            "layout": "IPY_MODEL_dbb29bcef79e4ec284a5d578ec20f9e0"
          }
        },
        "cd7d4fef71d040b6817f014d99ac8b46": {
          "model_module": "@jupyter-widgets/controls",
          "model_name": "ProgressStyleModel",
          "state": {
            "_view_name": "StyleView",
            "_model_name": "ProgressStyleModel",
            "description_width": "initial",
            "_view_module": "@jupyter-widgets/base",
            "_model_module_version": "1.5.0",
            "_view_count": null,
            "_view_module_version": "1.2.0",
            "bar_color": null,
            "_model_module": "@jupyter-widgets/controls"
          }
        },
        "262541843af64ecdb9e7f9526efd4101": {
          "model_module": "@jupyter-widgets/base",
          "model_name": "LayoutModel",
          "state": {
            "_view_name": "LayoutView",
            "grid_template_rows": null,
            "right": null,
            "justify_content": null,
            "_view_module": "@jupyter-widgets/base",
            "overflow": null,
            "_model_module_version": "1.2.0",
            "_view_count": null,
            "flex_flow": null,
            "width": null,
            "min_width": null,
            "border": null,
            "align_items": null,
            "bottom": null,
            "_model_module": "@jupyter-widgets/base",
            "top": null,
            "grid_column": null,
            "overflow_y": null,
            "overflow_x": null,
            "grid_auto_flow": null,
            "grid_area": null,
            "grid_template_columns": null,
            "flex": null,
            "_model_name": "LayoutModel",
            "justify_items": null,
            "grid_row": null,
            "max_height": null,
            "align_content": null,
            "visibility": null,
            "align_self": null,
            "height": null,
            "min_height": null,
            "padding": null,
            "grid_auto_rows": null,
            "grid_gap": null,
            "max_width": null,
            "order": null,
            "_view_module_version": "1.2.0",
            "grid_template_areas": null,
            "object_position": null,
            "object_fit": null,
            "grid_auto_columns": null,
            "margin": null,
            "display": null,
            "left": null
          }
        },
        "834d66c2bb9d439986bcb4adf96d43c8": {
          "model_module": "@jupyter-widgets/controls",
          "model_name": "DescriptionStyleModel",
          "state": {
            "_view_name": "StyleView",
            "_model_name": "DescriptionStyleModel",
            "description_width": "",
            "_view_module": "@jupyter-widgets/base",
            "_model_module_version": "1.5.0",
            "_view_count": null,
            "_view_module_version": "1.2.0",
            "_model_module": "@jupyter-widgets/controls"
          }
        },
        "dbb29bcef79e4ec284a5d578ec20f9e0": {
          "model_module": "@jupyter-widgets/base",
          "model_name": "LayoutModel",
          "state": {
            "_view_name": "LayoutView",
            "grid_template_rows": null,
            "right": null,
            "justify_content": null,
            "_view_module": "@jupyter-widgets/base",
            "overflow": null,
            "_model_module_version": "1.2.0",
            "_view_count": null,
            "flex_flow": null,
            "width": null,
            "min_width": null,
            "border": null,
            "align_items": null,
            "bottom": null,
            "_model_module": "@jupyter-widgets/base",
            "top": null,
            "grid_column": null,
            "overflow_y": null,
            "overflow_x": null,
            "grid_auto_flow": null,
            "grid_area": null,
            "grid_template_columns": null,
            "flex": null,
            "_model_name": "LayoutModel",
            "justify_items": null,
            "grid_row": null,
            "max_height": null,
            "align_content": null,
            "visibility": null,
            "align_self": null,
            "height": null,
            "min_height": null,
            "padding": null,
            "grid_auto_rows": null,
            "grid_gap": null,
            "max_width": null,
            "order": null,
            "_view_module_version": "1.2.0",
            "grid_template_areas": null,
            "object_position": null,
            "object_fit": null,
            "grid_auto_columns": null,
            "margin": null,
            "display": null,
            "left": null
          }
        },
        "4cfd0647229640fe973024776faa3012": {
          "model_module": "@jupyter-widgets/controls",
          "model_name": "HBoxModel",
          "state": {
            "_view_name": "HBoxView",
            "_dom_classes": [],
            "_model_name": "HBoxModel",
            "_view_module": "@jupyter-widgets/controls",
            "_model_module_version": "1.5.0",
            "_view_count": null,
            "_view_module_version": "1.5.0",
            "box_style": "",
            "layout": "IPY_MODEL_e69311b6c78946209e9e426eb193f7c6",
            "_model_module": "@jupyter-widgets/controls",
            "children": [
              "IPY_MODEL_e2ee0a828cb142ad97dfc329c2cd4bf3",
              "IPY_MODEL_2f72ccf708174ab0987488f9198ff8a9"
            ]
          }
        },
        "e69311b6c78946209e9e426eb193f7c6": {
          "model_module": "@jupyter-widgets/base",
          "model_name": "LayoutModel",
          "state": {
            "_view_name": "LayoutView",
            "grid_template_rows": null,
            "right": null,
            "justify_content": null,
            "_view_module": "@jupyter-widgets/base",
            "overflow": null,
            "_model_module_version": "1.2.0",
            "_view_count": null,
            "flex_flow": null,
            "width": null,
            "min_width": null,
            "border": null,
            "align_items": null,
            "bottom": null,
            "_model_module": "@jupyter-widgets/base",
            "top": null,
            "grid_column": null,
            "overflow_y": null,
            "overflow_x": null,
            "grid_auto_flow": null,
            "grid_area": null,
            "grid_template_columns": null,
            "flex": null,
            "_model_name": "LayoutModel",
            "justify_items": null,
            "grid_row": null,
            "max_height": null,
            "align_content": null,
            "visibility": null,
            "align_self": null,
            "height": null,
            "min_height": null,
            "padding": null,
            "grid_auto_rows": null,
            "grid_gap": null,
            "max_width": null,
            "order": null,
            "_view_module_version": "1.2.0",
            "grid_template_areas": null,
            "object_position": null,
            "object_fit": null,
            "grid_auto_columns": null,
            "margin": null,
            "display": null,
            "left": null
          }
        },
        "e2ee0a828cb142ad97dfc329c2cd4bf3": {
          "model_module": "@jupyter-widgets/controls",
          "model_name": "IntProgressModel",
          "state": {
            "_view_name": "ProgressView",
            "style": "IPY_MODEL_61b445a3ca0f44008f6a0c6d6dd41b59",
            "_dom_classes": [],
            "description": "",
            "_model_name": "IntProgressModel",
            "bar_style": "success",
            "max": 1,
            "_view_module": "@jupyter-widgets/controls",
            "_model_module_version": "1.5.0",
            "value": 1,
            "_view_count": null,
            "_view_module_version": "1.5.0",
            "orientation": "horizontal",
            "min": 0,
            "description_tooltip": null,
            "_model_module": "@jupyter-widgets/controls",
            "layout": "IPY_MODEL_4caa23f6c70342e1acf12b55167e575c"
          }
        },
        "2f72ccf708174ab0987488f9198ff8a9": {
          "model_module": "@jupyter-widgets/controls",
          "model_name": "HTMLModel",
          "state": {
            "_view_name": "HTMLView",
            "style": "IPY_MODEL_ca564c4124214edd8fbb7d6108d4b8bd",
            "_dom_classes": [],
            "description": "",
            "_model_name": "HTMLModel",
            "placeholder": "​",
            "_view_module": "@jupyter-widgets/controls",
            "_model_module_version": "1.5.0",
            "value": " 32768/? [00:02&lt;00:00, 13469.70it/s]",
            "_view_count": null,
            "_view_module_version": "1.5.0",
            "description_tooltip": null,
            "_model_module": "@jupyter-widgets/controls",
            "layout": "IPY_MODEL_4065baac0f154a64a63c598d32e79739"
          }
        },
        "61b445a3ca0f44008f6a0c6d6dd41b59": {
          "model_module": "@jupyter-widgets/controls",
          "model_name": "ProgressStyleModel",
          "state": {
            "_view_name": "StyleView",
            "_model_name": "ProgressStyleModel",
            "description_width": "initial",
            "_view_module": "@jupyter-widgets/base",
            "_model_module_version": "1.5.0",
            "_view_count": null,
            "_view_module_version": "1.2.0",
            "bar_color": null,
            "_model_module": "@jupyter-widgets/controls"
          }
        },
        "4caa23f6c70342e1acf12b55167e575c": {
          "model_module": "@jupyter-widgets/base",
          "model_name": "LayoutModel",
          "state": {
            "_view_name": "LayoutView",
            "grid_template_rows": null,
            "right": null,
            "justify_content": null,
            "_view_module": "@jupyter-widgets/base",
            "overflow": null,
            "_model_module_version": "1.2.0",
            "_view_count": null,
            "flex_flow": null,
            "width": null,
            "min_width": null,
            "border": null,
            "align_items": null,
            "bottom": null,
            "_model_module": "@jupyter-widgets/base",
            "top": null,
            "grid_column": null,
            "overflow_y": null,
            "overflow_x": null,
            "grid_auto_flow": null,
            "grid_area": null,
            "grid_template_columns": null,
            "flex": null,
            "_model_name": "LayoutModel",
            "justify_items": null,
            "grid_row": null,
            "max_height": null,
            "align_content": null,
            "visibility": null,
            "align_self": null,
            "height": null,
            "min_height": null,
            "padding": null,
            "grid_auto_rows": null,
            "grid_gap": null,
            "max_width": null,
            "order": null,
            "_view_module_version": "1.2.0",
            "grid_template_areas": null,
            "object_position": null,
            "object_fit": null,
            "grid_auto_columns": null,
            "margin": null,
            "display": null,
            "left": null
          }
        },
        "ca564c4124214edd8fbb7d6108d4b8bd": {
          "model_module": "@jupyter-widgets/controls",
          "model_name": "DescriptionStyleModel",
          "state": {
            "_view_name": "StyleView",
            "_model_name": "DescriptionStyleModel",
            "description_width": "",
            "_view_module": "@jupyter-widgets/base",
            "_model_module_version": "1.5.0",
            "_view_count": null,
            "_view_module_version": "1.2.0",
            "_model_module": "@jupyter-widgets/controls"
          }
        },
        "4065baac0f154a64a63c598d32e79739": {
          "model_module": "@jupyter-widgets/base",
          "model_name": "LayoutModel",
          "state": {
            "_view_name": "LayoutView",
            "grid_template_rows": null,
            "right": null,
            "justify_content": null,
            "_view_module": "@jupyter-widgets/base",
            "overflow": null,
            "_model_module_version": "1.2.0",
            "_view_count": null,
            "flex_flow": null,
            "width": null,
            "min_width": null,
            "border": null,
            "align_items": null,
            "bottom": null,
            "_model_module": "@jupyter-widgets/base",
            "top": null,
            "grid_column": null,
            "overflow_y": null,
            "overflow_x": null,
            "grid_auto_flow": null,
            "grid_area": null,
            "grid_template_columns": null,
            "flex": null,
            "_model_name": "LayoutModel",
            "justify_items": null,
            "grid_row": null,
            "max_height": null,
            "align_content": null,
            "visibility": null,
            "align_self": null,
            "height": null,
            "min_height": null,
            "padding": null,
            "grid_auto_rows": null,
            "grid_gap": null,
            "max_width": null,
            "order": null,
            "_view_module_version": "1.2.0",
            "grid_template_areas": null,
            "object_position": null,
            "object_fit": null,
            "grid_auto_columns": null,
            "margin": null,
            "display": null,
            "left": null
          }
        },
        "b354681260384c458f979892d6921bf8": {
          "model_module": "@jupyter-widgets/controls",
          "model_name": "HBoxModel",
          "state": {
            "_view_name": "HBoxView",
            "_dom_classes": [],
            "_model_name": "HBoxModel",
            "_view_module": "@jupyter-widgets/controls",
            "_model_module_version": "1.5.0",
            "_view_count": null,
            "_view_module_version": "1.5.0",
            "box_style": "",
            "layout": "IPY_MODEL_dfd9f8ba213845be971060397ed114fa",
            "_model_module": "@jupyter-widgets/controls",
            "children": [
              "IPY_MODEL_af553b9ed5474d89b73fd9bdb4139d91",
              "IPY_MODEL_0e89766218e141c99e18763bed431885"
            ]
          }
        },
        "dfd9f8ba213845be971060397ed114fa": {
          "model_module": "@jupyter-widgets/base",
          "model_name": "LayoutModel",
          "state": {
            "_view_name": "LayoutView",
            "grid_template_rows": null,
            "right": null,
            "justify_content": null,
            "_view_module": "@jupyter-widgets/base",
            "overflow": null,
            "_model_module_version": "1.2.0",
            "_view_count": null,
            "flex_flow": null,
            "width": null,
            "min_width": null,
            "border": null,
            "align_items": null,
            "bottom": null,
            "_model_module": "@jupyter-widgets/base",
            "top": null,
            "grid_column": null,
            "overflow_y": null,
            "overflow_x": null,
            "grid_auto_flow": null,
            "grid_area": null,
            "grid_template_columns": null,
            "flex": null,
            "_model_name": "LayoutModel",
            "justify_items": null,
            "grid_row": null,
            "max_height": null,
            "align_content": null,
            "visibility": null,
            "align_self": null,
            "height": null,
            "min_height": null,
            "padding": null,
            "grid_auto_rows": null,
            "grid_gap": null,
            "max_width": null,
            "order": null,
            "_view_module_version": "1.2.0",
            "grid_template_areas": null,
            "object_position": null,
            "object_fit": null,
            "grid_auto_columns": null,
            "margin": null,
            "display": null,
            "left": null
          }
        },
        "af553b9ed5474d89b73fd9bdb4139d91": {
          "model_module": "@jupyter-widgets/controls",
          "model_name": "IntProgressModel",
          "state": {
            "_view_name": "ProgressView",
            "style": "IPY_MODEL_4f0dd6baf1464f9c8d245ba2822b994c",
            "_dom_classes": [],
            "description": "",
            "_model_name": "IntProgressModel",
            "bar_style": "success",
            "max": 1,
            "_view_module": "@jupyter-widgets/controls",
            "_model_module_version": "1.5.0",
            "value": 1,
            "_view_count": null,
            "_view_module_version": "1.5.0",
            "orientation": "horizontal",
            "min": 0,
            "description_tooltip": null,
            "_model_module": "@jupyter-widgets/controls",
            "layout": "IPY_MODEL_e340dd405b4e4722b83586d517b879bf"
          }
        },
        "0e89766218e141c99e18763bed431885": {
          "model_module": "@jupyter-widgets/controls",
          "model_name": "HTMLModel",
          "state": {
            "_view_name": "HTMLView",
            "style": "IPY_MODEL_de2dc81e0c0f4b5f83ede902df440a85",
            "_dom_classes": [],
            "description": "",
            "_model_name": "HTMLModel",
            "placeholder": "​",
            "_view_module": "@jupyter-widgets/controls",
            "_model_module_version": "1.5.0",
            "value": " 4423680/? [00:01&lt;00:00, 2471408.01it/s]",
            "_view_count": null,
            "_view_module_version": "1.5.0",
            "description_tooltip": null,
            "_model_module": "@jupyter-widgets/controls",
            "layout": "IPY_MODEL_f823efe65e4f4d5cb47205510509a298"
          }
        },
        "4f0dd6baf1464f9c8d245ba2822b994c": {
          "model_module": "@jupyter-widgets/controls",
          "model_name": "ProgressStyleModel",
          "state": {
            "_view_name": "StyleView",
            "_model_name": "ProgressStyleModel",
            "description_width": "initial",
            "_view_module": "@jupyter-widgets/base",
            "_model_module_version": "1.5.0",
            "_view_count": null,
            "_view_module_version": "1.2.0",
            "bar_color": null,
            "_model_module": "@jupyter-widgets/controls"
          }
        },
        "e340dd405b4e4722b83586d517b879bf": {
          "model_module": "@jupyter-widgets/base",
          "model_name": "LayoutModel",
          "state": {
            "_view_name": "LayoutView",
            "grid_template_rows": null,
            "right": null,
            "justify_content": null,
            "_view_module": "@jupyter-widgets/base",
            "overflow": null,
            "_model_module_version": "1.2.0",
            "_view_count": null,
            "flex_flow": null,
            "width": null,
            "min_width": null,
            "border": null,
            "align_items": null,
            "bottom": null,
            "_model_module": "@jupyter-widgets/base",
            "top": null,
            "grid_column": null,
            "overflow_y": null,
            "overflow_x": null,
            "grid_auto_flow": null,
            "grid_area": null,
            "grid_template_columns": null,
            "flex": null,
            "_model_name": "LayoutModel",
            "justify_items": null,
            "grid_row": null,
            "max_height": null,
            "align_content": null,
            "visibility": null,
            "align_self": null,
            "height": null,
            "min_height": null,
            "padding": null,
            "grid_auto_rows": null,
            "grid_gap": null,
            "max_width": null,
            "order": null,
            "_view_module_version": "1.2.0",
            "grid_template_areas": null,
            "object_position": null,
            "object_fit": null,
            "grid_auto_columns": null,
            "margin": null,
            "display": null,
            "left": null
          }
        },
        "de2dc81e0c0f4b5f83ede902df440a85": {
          "model_module": "@jupyter-widgets/controls",
          "model_name": "DescriptionStyleModel",
          "state": {
            "_view_name": "StyleView",
            "_model_name": "DescriptionStyleModel",
            "description_width": "",
            "_view_module": "@jupyter-widgets/base",
            "_model_module_version": "1.5.0",
            "_view_count": null,
            "_view_module_version": "1.2.0",
            "_model_module": "@jupyter-widgets/controls"
          }
        },
        "f823efe65e4f4d5cb47205510509a298": {
          "model_module": "@jupyter-widgets/base",
          "model_name": "LayoutModel",
          "state": {
            "_view_name": "LayoutView",
            "grid_template_rows": null,
            "right": null,
            "justify_content": null,
            "_view_module": "@jupyter-widgets/base",
            "overflow": null,
            "_model_module_version": "1.2.0",
            "_view_count": null,
            "flex_flow": null,
            "width": null,
            "min_width": null,
            "border": null,
            "align_items": null,
            "bottom": null,
            "_model_module": "@jupyter-widgets/base",
            "top": null,
            "grid_column": null,
            "overflow_y": null,
            "overflow_x": null,
            "grid_auto_flow": null,
            "grid_area": null,
            "grid_template_columns": null,
            "flex": null,
            "_model_name": "LayoutModel",
            "justify_items": null,
            "grid_row": null,
            "max_height": null,
            "align_content": null,
            "visibility": null,
            "align_self": null,
            "height": null,
            "min_height": null,
            "padding": null,
            "grid_auto_rows": null,
            "grid_gap": null,
            "max_width": null,
            "order": null,
            "_view_module_version": "1.2.0",
            "grid_template_areas": null,
            "object_position": null,
            "object_fit": null,
            "grid_auto_columns": null,
            "margin": null,
            "display": null,
            "left": null
          }
        },
        "990f4b48fd4d450f9877b89371598297": {
          "model_module": "@jupyter-widgets/controls",
          "model_name": "HBoxModel",
          "state": {
            "_view_name": "HBoxView",
            "_dom_classes": [],
            "_model_name": "HBoxModel",
            "_view_module": "@jupyter-widgets/controls",
            "_model_module_version": "1.5.0",
            "_view_count": null,
            "_view_module_version": "1.5.0",
            "box_style": "",
            "layout": "IPY_MODEL_220290af3b034fc19a0a7c6b8b063ee9",
            "_model_module": "@jupyter-widgets/controls",
            "children": [
              "IPY_MODEL_8a610e8fe6bd45aaae64ad7b4c480faa",
              "IPY_MODEL_e0d229ef122145869fdb282fa7d8fd50"
            ]
          }
        },
        "220290af3b034fc19a0a7c6b8b063ee9": {
          "model_module": "@jupyter-widgets/base",
          "model_name": "LayoutModel",
          "state": {
            "_view_name": "LayoutView",
            "grid_template_rows": null,
            "right": null,
            "justify_content": null,
            "_view_module": "@jupyter-widgets/base",
            "overflow": null,
            "_model_module_version": "1.2.0",
            "_view_count": null,
            "flex_flow": null,
            "width": null,
            "min_width": null,
            "border": null,
            "align_items": null,
            "bottom": null,
            "_model_module": "@jupyter-widgets/base",
            "top": null,
            "grid_column": null,
            "overflow_y": null,
            "overflow_x": null,
            "grid_auto_flow": null,
            "grid_area": null,
            "grid_template_columns": null,
            "flex": null,
            "_model_name": "LayoutModel",
            "justify_items": null,
            "grid_row": null,
            "max_height": null,
            "align_content": null,
            "visibility": null,
            "align_self": null,
            "height": null,
            "min_height": null,
            "padding": null,
            "grid_auto_rows": null,
            "grid_gap": null,
            "max_width": null,
            "order": null,
            "_view_module_version": "1.2.0",
            "grid_template_areas": null,
            "object_position": null,
            "object_fit": null,
            "grid_auto_columns": null,
            "margin": null,
            "display": null,
            "left": null
          }
        },
        "8a610e8fe6bd45aaae64ad7b4c480faa": {
          "model_module": "@jupyter-widgets/controls",
          "model_name": "IntProgressModel",
          "state": {
            "_view_name": "ProgressView",
            "style": "IPY_MODEL_e1b6594d1bb84a59a807ee0f9c957f39",
            "_dom_classes": [],
            "description": "",
            "_model_name": "IntProgressModel",
            "bar_style": "success",
            "max": 1,
            "_view_module": "@jupyter-widgets/controls",
            "_model_module_version": "1.5.0",
            "value": 1,
            "_view_count": null,
            "_view_module_version": "1.5.0",
            "orientation": "horizontal",
            "min": 0,
            "description_tooltip": null,
            "_model_module": "@jupyter-widgets/controls",
            "layout": "IPY_MODEL_f0ee4dafb8f94e33ac24b532e78204a5"
          }
        },
        "e0d229ef122145869fdb282fa7d8fd50": {
          "model_module": "@jupyter-widgets/controls",
          "model_name": "HTMLModel",
          "state": {
            "_view_name": "HTMLView",
            "style": "IPY_MODEL_36cc68c2b57945aab3b4d66e76185ece",
            "_dom_classes": [],
            "description": "",
            "_model_name": "HTMLModel",
            "placeholder": "​",
            "_view_module": "@jupyter-widgets/controls",
            "_model_module_version": "1.5.0",
            "value": " 8192/? [00:00&lt;00:00, 12799.09it/s]",
            "_view_count": null,
            "_view_module_version": "1.5.0",
            "description_tooltip": null,
            "_model_module": "@jupyter-widgets/controls",
            "layout": "IPY_MODEL_6f36ba43d9414114bbe51252de96707e"
          }
        },
        "e1b6594d1bb84a59a807ee0f9c957f39": {
          "model_module": "@jupyter-widgets/controls",
          "model_name": "ProgressStyleModel",
          "state": {
            "_view_name": "StyleView",
            "_model_name": "ProgressStyleModel",
            "description_width": "initial",
            "_view_module": "@jupyter-widgets/base",
            "_model_module_version": "1.5.0",
            "_view_count": null,
            "_view_module_version": "1.2.0",
            "bar_color": null,
            "_model_module": "@jupyter-widgets/controls"
          }
        },
        "f0ee4dafb8f94e33ac24b532e78204a5": {
          "model_module": "@jupyter-widgets/base",
          "model_name": "LayoutModel",
          "state": {
            "_view_name": "LayoutView",
            "grid_template_rows": null,
            "right": null,
            "justify_content": null,
            "_view_module": "@jupyter-widgets/base",
            "overflow": null,
            "_model_module_version": "1.2.0",
            "_view_count": null,
            "flex_flow": null,
            "width": null,
            "min_width": null,
            "border": null,
            "align_items": null,
            "bottom": null,
            "_model_module": "@jupyter-widgets/base",
            "top": null,
            "grid_column": null,
            "overflow_y": null,
            "overflow_x": null,
            "grid_auto_flow": null,
            "grid_area": null,
            "grid_template_columns": null,
            "flex": null,
            "_model_name": "LayoutModel",
            "justify_items": null,
            "grid_row": null,
            "max_height": null,
            "align_content": null,
            "visibility": null,
            "align_self": null,
            "height": null,
            "min_height": null,
            "padding": null,
            "grid_auto_rows": null,
            "grid_gap": null,
            "max_width": null,
            "order": null,
            "_view_module_version": "1.2.0",
            "grid_template_areas": null,
            "object_position": null,
            "object_fit": null,
            "grid_auto_columns": null,
            "margin": null,
            "display": null,
            "left": null
          }
        },
        "36cc68c2b57945aab3b4d66e76185ece": {
          "model_module": "@jupyter-widgets/controls",
          "model_name": "DescriptionStyleModel",
          "state": {
            "_view_name": "StyleView",
            "_model_name": "DescriptionStyleModel",
            "description_width": "",
            "_view_module": "@jupyter-widgets/base",
            "_model_module_version": "1.5.0",
            "_view_count": null,
            "_view_module_version": "1.2.0",
            "_model_module": "@jupyter-widgets/controls"
          }
        },
        "6f36ba43d9414114bbe51252de96707e": {
          "model_module": "@jupyter-widgets/base",
          "model_name": "LayoutModel",
          "state": {
            "_view_name": "LayoutView",
            "grid_template_rows": null,
            "right": null,
            "justify_content": null,
            "_view_module": "@jupyter-widgets/base",
            "overflow": null,
            "_model_module_version": "1.2.0",
            "_view_count": null,
            "flex_flow": null,
            "width": null,
            "min_width": null,
            "border": null,
            "align_items": null,
            "bottom": null,
            "_model_module": "@jupyter-widgets/base",
            "top": null,
            "grid_column": null,
            "overflow_y": null,
            "overflow_x": null,
            "grid_auto_flow": null,
            "grid_area": null,
            "grid_template_columns": null,
            "flex": null,
            "_model_name": "LayoutModel",
            "justify_items": null,
            "grid_row": null,
            "max_height": null,
            "align_content": null,
            "visibility": null,
            "align_self": null,
            "height": null,
            "min_height": null,
            "padding": null,
            "grid_auto_rows": null,
            "grid_gap": null,
            "max_width": null,
            "order": null,
            "_view_module_version": "1.2.0",
            "grid_template_areas": null,
            "object_position": null,
            "object_fit": null,
            "grid_auto_columns": null,
            "margin": null,
            "display": null,
            "left": null
          }
        }
      }
    }
  },
  "cells": [
    {
      "cell_type": "code",
      "metadata": {
        "id": "XpXmUIl8ETkn",
        "colab_type": "code",
        "colab": {}
      },
      "source": [
        "import torchvision\n",
        "from PIL import Image\n",
        "\n",
        "import pandas as pd\n",
        "import numpy as np\n",
        "import scipy as sp\n",
        "from scipy import ndimage\n",
        "from scipy.stats import norm\n",
        "import scipy.signal as sig\n",
        "\n",
        "from sklearn.preprocessing import MinMaxScaler\n",
        "from sklearn import metrics\n",
        "from sklearn.metrics import classification_report, confusion_matrix\n",
        "from skimage import io\n",
        "from skimage.feature import hog\n",
        "from sklearn.svm import SVC\n",
        "\n",
        "from matplotlib.pyplot import imshow\n",
        "import matplotlib.pyplot as plt\n",
        "import seaborn as sns\n"
      ],
      "execution_count": 0,
      "outputs": []
    },
    {
      "cell_type": "code",
      "metadata": {
        "id": "eYL6yjAOEaPx",
        "colab_type": "code",
        "colab": {}
      },
      "source": [
        "%matplotlib inline"
      ],
      "execution_count": 0,
      "outputs": []
    },
    {
      "cell_type": "markdown",
      "metadata": {
        "id": "iQsMrT4noCaM",
        "colab_type": "text"
      },
      "source": [
        "# **Downloading of Data Set**"
      ]
    },
    {
      "cell_type": "code",
      "metadata": {
        "id": "PQYK8EtPEb1X",
        "colab_type": "code",
        "outputId": "d247c57a-25d4-4175-bb42-12d78688555a",
        "colab": {
          "base_uri": "https://localhost:8080/",
          "height": 341,
          "referenced_widgets": [
            "413fd67d6a674724bd2fc424ae31b378",
            "a0efc442b4f3445889691d361c46a65e",
            "c3efbe87039840a1a04b604ddbe40c0a",
            "96bc84c22d0a41b88c9a3224014c73c2",
            "cd7d4fef71d040b6817f014d99ac8b46",
            "262541843af64ecdb9e7f9526efd4101",
            "834d66c2bb9d439986bcb4adf96d43c8",
            "dbb29bcef79e4ec284a5d578ec20f9e0",
            "4cfd0647229640fe973024776faa3012",
            "e69311b6c78946209e9e426eb193f7c6",
            "e2ee0a828cb142ad97dfc329c2cd4bf3",
            "2f72ccf708174ab0987488f9198ff8a9",
            "61b445a3ca0f44008f6a0c6d6dd41b59",
            "4caa23f6c70342e1acf12b55167e575c",
            "ca564c4124214edd8fbb7d6108d4b8bd",
            "4065baac0f154a64a63c598d32e79739",
            "b354681260384c458f979892d6921bf8",
            "dfd9f8ba213845be971060397ed114fa",
            "af553b9ed5474d89b73fd9bdb4139d91",
            "0e89766218e141c99e18763bed431885",
            "4f0dd6baf1464f9c8d245ba2822b994c",
            "e340dd405b4e4722b83586d517b879bf",
            "de2dc81e0c0f4b5f83ede902df440a85",
            "f823efe65e4f4d5cb47205510509a298",
            "990f4b48fd4d450f9877b89371598297",
            "220290af3b034fc19a0a7c6b8b063ee9",
            "8a610e8fe6bd45aaae64ad7b4c480faa",
            "e0d229ef122145869fdb282fa7d8fd50",
            "e1b6594d1bb84a59a807ee0f9c957f39",
            "f0ee4dafb8f94e33ac24b532e78204a5",
            "36cc68c2b57945aab3b4d66e76185ece",
            "6f36ba43d9414114bbe51252de96707e"
          ]
        }
      },
      "source": [
        "# download the Fashion MNIST training data\n",
        "train_dataset = torchvision.datasets.FashionMNIST(root='./', train=True, download=True)\n",
        "\n",
        "# download the Fashion MNIST evaluation data\n",
        "eval_dataset = torchvision.datasets.FashionMNIST(root='./', train=False, download=True)"
      ],
      "execution_count": 3,
      "outputs": [
        {
          "output_type": "stream",
          "text": [
            "Downloading http://fashion-mnist.s3-website.eu-central-1.amazonaws.com/train-images-idx3-ubyte.gz to ./FashionMNIST/raw/train-images-idx3-ubyte.gz\n"
          ],
          "name": "stdout"
        },
        {
          "output_type": "display_data",
          "data": {
            "application/vnd.jupyter.widget-view+json": {
              "model_id": "413fd67d6a674724bd2fc424ae31b378",
              "version_minor": 0,
              "version_major": 2
            },
            "text/plain": [
              "HBox(children=(IntProgress(value=1, bar_style='info', max=1), HTML(value='')))"
            ]
          },
          "metadata": {
            "tags": []
          }
        },
        {
          "output_type": "stream",
          "text": [
            "Extracting ./FashionMNIST/raw/train-images-idx3-ubyte.gz to ./FashionMNIST/raw\n",
            "Downloading http://fashion-mnist.s3-website.eu-central-1.amazonaws.com/train-labels-idx1-ubyte.gz to ./FashionMNIST/raw/train-labels-idx1-ubyte.gz\n"
          ],
          "name": "stdout"
        },
        {
          "output_type": "display_data",
          "data": {
            "application/vnd.jupyter.widget-view+json": {
              "model_id": "4cfd0647229640fe973024776faa3012",
              "version_minor": 0,
              "version_major": 2
            },
            "text/plain": [
              "HBox(children=(IntProgress(value=1, bar_style='info', max=1), HTML(value='')))"
            ]
          },
          "metadata": {
            "tags": []
          }
        },
        {
          "output_type": "stream",
          "text": [
            "Extracting ./FashionMNIST/raw/train-labels-idx1-ubyte.gz to ./FashionMNIST/raw\n",
            "Downloading http://fashion-mnist.s3-website.eu-central-1.amazonaws.com/t10k-images-idx3-ubyte.gz to ./FashionMNIST/raw/t10k-images-idx3-ubyte.gz\n"
          ],
          "name": "stdout"
        },
        {
          "output_type": "display_data",
          "data": {
            "application/vnd.jupyter.widget-view+json": {
              "model_id": "b354681260384c458f979892d6921bf8",
              "version_minor": 0,
              "version_major": 2
            },
            "text/plain": [
              "HBox(children=(IntProgress(value=1, bar_style='info', max=1), HTML(value='')))"
            ]
          },
          "metadata": {
            "tags": []
          }
        },
        {
          "output_type": "stream",
          "text": [
            "Extracting ./FashionMNIST/raw/t10k-images-idx3-ubyte.gz to ./FashionMNIST/raw\n",
            "Downloading http://fashion-mnist.s3-website.eu-central-1.amazonaws.com/t10k-labels-idx1-ubyte.gz to ./FashionMNIST/raw/t10k-labels-idx1-ubyte.gz\n"
          ],
          "name": "stdout"
        },
        {
          "output_type": "display_data",
          "data": {
            "application/vnd.jupyter.widget-view+json": {
              "model_id": "990f4b48fd4d450f9877b89371598297",
              "version_minor": 0,
              "version_major": 2
            },
            "text/plain": [
              "HBox(children=(IntProgress(value=1, bar_style='info', max=1), HTML(value='')))"
            ]
          },
          "metadata": {
            "tags": []
          }
        },
        {
          "output_type": "stream",
          "text": [
            "Extracting ./FashionMNIST/raw/t10k-labels-idx1-ubyte.gz to ./FashionMNIST/raw\n",
            "Processing...\n",
            "Done!\n"
          ],
          "name": "stdout"
        }
      ]
    },
    {
      "cell_type": "code",
      "metadata": {
        "id": "8hnGThDmqDnR",
        "colab_type": "code",
        "colab": {}
      },
      "source": [
        "labels_dict = {0: \"T-shirt/top\",\n",
        "               1: \"Trouser\",\n",
        "               2: \"Pullover\",\n",
        "               3: \"Dress\",\n",
        "               4: \"Coat\",\n",
        "               5: \"Sandal\",\n",
        "               6: \"Shirt\",\n",
        "               7: \"Sneaker\",\n",
        "               8: \"Bag\",\n",
        "               9: \"Ankle boot\"}"
      ],
      "execution_count": 0,
      "outputs": []
    },
    {
      "cell_type": "markdown",
      "metadata": {
        "id": "rcGoRtieoTlH",
        "colab_type": "text"
      },
      "source": [
        "# Checking Data"
      ]
    },
    {
      "cell_type": "code",
      "metadata": {
        "id": "bRw1CYRIoP2_",
        "colab_type": "code",
        "outputId": "fb4e6f73-9cbb-4265-dd84-1c570cbae681",
        "colab": {
          "base_uri": "https://localhost:8080/",
          "height": 87
        }
      },
      "source": [
        "train_dataset"
      ],
      "execution_count": 5,
      "outputs": [
        {
          "output_type": "execute_result",
          "data": {
            "text/plain": [
              "Dataset FashionMNIST\n",
              "    Number of datapoints: 60000\n",
              "    Root location: ./\n",
              "    Split: Train"
            ]
          },
          "metadata": {
            "tags": []
          },
          "execution_count": 5
        }
      ]
    },
    {
      "cell_type": "code",
      "metadata": {
        "id": "jjyPftHyooa_",
        "colab_type": "code",
        "outputId": "725c2ae9-2582-4d5c-be00-05c49e6c032e",
        "colab": {
          "base_uri": "https://localhost:8080/",
          "height": 87
        }
      },
      "source": [
        "eval_dataset"
      ],
      "execution_count": 6,
      "outputs": [
        {
          "output_type": "execute_result",
          "data": {
            "text/plain": [
              "Dataset FashionMNIST\n",
              "    Number of datapoints: 10000\n",
              "    Root location: ./\n",
              "    Split: Test"
            ]
          },
          "metadata": {
            "tags": []
          },
          "execution_count": 6
        }
      ]
    },
    {
      "cell_type": "code",
      "metadata": {
        "id": "ew2-ih2eElf5",
        "colab_type": "code",
        "outputId": "cd91c0ff-f6ba-4131-92be-e01ace8501f1",
        "colab": {
          "base_uri": "https://localhost:8080/",
          "height": 283
        }
      },
      "source": [
        "image_1, label_1 = train_dataset[0]\n",
        "imshow(np.asarray(image_1),cmap='gray')\n",
        "print(\"Label\",label_1,labels_dict[label_1])"
      ],
      "execution_count": 8,
      "outputs": [
        {
          "output_type": "stream",
          "text": [
            "Label 9 Ankle boot\n"
          ],
          "name": "stdout"
        },
        {
          "output_type": "display_data",
          "data": {
            "image/png": "[encoded data removed]",
            "text/plain": [
              "<Figure size 432x288 with 1 Axes>"
            ]
          },
          "metadata": {
            "tags": [],
            "needs_background": "light"
          }
        }
      ]
    },
    {
      "cell_type": "code",
      "metadata": {
        "id": "NWgcE6At1far",
        "colab_type": "code",
        "outputId": "c9069245-9e98-41ba-cf34-67d0d9c97d9c",
        "colab": {
          "base_uri": "https://localhost:8080/",
          "height": 283
        }
      },
      "source": [
        "blurred_f = ndimage.gaussian_filter(image_1, 1)\n",
        "filter_blurred_f = ndimage.gaussian_filter(blurred_f, 1)\n",
        "alpha = 1\n",
        "sharpened = blurred_f + alpha * (blurred_f - filter_blurred_f)\n",
        "# imshow(blurred_f,cmap='gray')\n",
        "# imshow(filter_blurred_f,cmap='gray')\n",
        "imshow(sharpened,cmap='gray')"
      ],
      "execution_count": 9,
      "outputs": [
        {
          "output_type": "execute_result",
          "data": {
            "text/plain": [
              "<matplotlib.image.AxesImage at 0x7f3c67809278>"
            ]
          },
          "metadata": {
            "tags": []
          },
          "execution_count": 9
        },
        {
          "output_type": "display_data",
          "data": {
            "image/png": "[encoded data removed]",
            "text/plain": [
              "<Figure size 432x288 with 1 Axes>"
            ]
          },
          "metadata": {
            "tags": [],
            "needs_background": "light"
          }
        }
      ]
    },
    {
      "cell_type": "code",
      "metadata": {
        "id": "w1AF3Oss5dI1",
        "colab_type": "code",
        "outputId": "d2ef76f9-b615-45ee-c2ce-82b27a7085e5",
        "colab": {
          "base_uri": "https://localhost:8080/",
          "height": 234
        }
      },
      "source": [
        "open_square = ndimage.binary_opening(image_1)\n",
        "\n",
        "eroded_square = ndimage.binary_erosion(image_1)\n",
        "reconstruction = ndimage.binary_propagation(eroded_square, mask=image_1)\n",
        "\n",
        "plt.figure(figsize=(9.5, 3))\n",
        "plt.subplot(131)\n",
        "plt.imshow(image_1, cmap=plt.cm.gray, interpolation='nearest')\n",
        "plt.axis('off')\n",
        "plt.subplot(132)\n",
        "plt.imshow(open_square, cmap=plt.cm.gray, interpolation='nearest')\n",
        "plt.axis('off')\n",
        "plt.subplot(133)\n",
        "plt.imshow(reconstruction, cmap=plt.cm.gray, interpolation='nearest')\n",
        "plt.axis('off')\n",
        "\n",
        "plt.subplots_adjust(wspace=0, hspace=0.02, top=0.99, bottom=0.01, left=0.01, right=0.99)\n",
        "plt.show()"
      ],
      "execution_count": 10,
      "outputs": [
        {
          "output_type": "display_data",
          "data": {
            "image/png": "[encoded data removed]",
            "text/plain": [
              "<Figure size 684x216 with 3 Axes>"
            ]
          },
          "metadata": {
            "tags": [],
            "needs_background": "light"
          }
        }
      ]
    },
    {
      "cell_type": "code",
      "metadata": {
        "id": "14Aloo0T8ZJq",
        "colab_type": "code",
        "outputId": "be1a78a2-f5d3-496d-e06d-5f8b97124d6e",
        "colab": {
          "base_uri": "https://localhost:8080/",
          "height": 195
        }
      },
      "source": [
        "sx = ndimage.sobel(image_1, axis=0, mode='constant')\n",
        "sy = ndimage.sobel(image_1, axis=1, mode='constant')\n",
        "sob = np.hypot(sx, sy)\n",
        "\n",
        "plt.figure(figsize=(16, 5))\n",
        "plt.subplot(141)\n",
        "plt.imshow(image_1, cmap=plt.cm.gray)\n",
        "plt.axis('off')\n",
        "plt.title('square', fontsize=20)\n",
        "plt.subplot(142)\n",
        "plt.imshow(sx)\n",
        "plt.axis('off')\n",
        "plt.title('Sobel (x direction)', fontsize=20)\n",
        "plt.subplot(143)\n",
        "plt.imshow(sob, cmap='gray')\n",
        "plt.axis('off')\n",
        "plt.title('Sobel filter', fontsize=20)\n",
        "\n",
        "image_1 += 0.07*np.random.random((28,28))\n",
        "\n",
        "sx = ndimage.sobel(image_1, axis=0, mode='constant')\n",
        "sy = ndimage.sobel(image_1, axis=1, mode='constant')\n",
        "sob = np.hypot(sx, sy)\n",
        "\n",
        "plt.subplot(144)\n",
        "plt.imshow(sob)\n",
        "plt.axis('off')\n",
        "plt.title('Sobel for noisy image', fontsize=20)\n",
        "\n",
        "\n",
        "\n",
        "plt.subplots_adjust(wspace=0.02, hspace=0.02, top=1, bottom=0, left=0, right=0.9)\n",
        "\n",
        "plt.show()"
      ],
      "execution_count": 13,
      "outputs": [
        {
          "output_type": "display_data",
          "data": {
            "image/png": "[encoded data removed]",
            "text/plain": [
              "<Figure size 1152x360 with 4 Axes>"
            ]
          },
          "metadata": {
            "tags": [],
            "needs_background": "light"
          }
        }
      ]
    },
    {
      "cell_type": "markdown",
      "metadata": {
        "id": "b_aSrALJz2Z1",
        "colab_type": "text"
      },
      "source": [
        "Testing Sharpened + Sobel filter"
      ]
    },
    {
      "cell_type": "code",
      "metadata": {
        "id": "NuU3JyD5zdqC",
        "colab_type": "code",
        "colab": {
          "base_uri": "https://localhost:8080/",
          "height": 195
        },
        "outputId": "0f305a5f-5ba3-42a2-ac21-7024f7711719"
      },
      "source": [
        "sharpened_test = sharpened.astype('float')\n",
        "\n",
        "sx = ndimage.sobel(sharpened_test, axis=0, mode='constant')\n",
        "sy = ndimage.sobel(sharpened_test, axis=1, mode='constant')\n",
        "sob = np.hypot(sx, sy)\n",
        "\n",
        "plt.figure(figsize=(16, 5))\n",
        "plt.subplot(141)\n",
        "plt.imshow(sharpened_test, cmap=plt.cm.gray)\n",
        "plt.axis('off')\n",
        "plt.title('square', fontsize=20)\n",
        "plt.subplot(142)\n",
        "plt.imshow(sx)\n",
        "plt.axis('off')\n",
        "plt.title('Sobel (x direction)', fontsize=20)\n",
        "plt.subplot(143)\n",
        "plt.imshow(sob, cmap='gray')\n",
        "plt.axis('off')\n",
        "plt.title('Sobel filter', fontsize=20)\n",
        "\n",
        "sharpened_test += 0.07*np.random.random((28,28))\n",
        "\n",
        "sx = ndimage.sobel(sharpened_test, axis=0, mode='constant')\n",
        "sy = ndimage.sobel(sharpened_test, axis=1, mode='constant')\n",
        "sob = np.hypot(sx, sy)\n",
        "\n",
        "plt.subplot(144)\n",
        "plt.imshow(sob)\n",
        "plt.axis('off')\n",
        "plt.title('Sobel for noisy image', fontsize=20)\n",
        "\n",
        "\n",
        "\n",
        "plt.subplots_adjust(wspace=0.02, hspace=0.02, top=1, bottom=0, left=0, right=0.9)\n",
        "\n",
        "plt.show()"
      ],
      "execution_count": 22,
      "outputs": [
        {
          "output_type": "display_data",
          "data": {
            "image/png": "[encoded data removed]",
            "text/plain": [
              "<Figure size 1152x360 with 4 Axes>"
            ]
          },
          "metadata": {
            "tags": [],
            "needs_background": "light"
          }
        }
      ]
    },
    {
      "cell_type": "code",
      "metadata": {
        "id": "XNEErTljquYB",
        "colab_type": "code",
        "outputId": "a462b779-6b72-4bae-e668-337956d33aef",
        "colab": {
          "base_uri": "https://localhost:8080/",
          "height": 283
        }
      },
      "source": [
        "image_2, label_2 = train_dataset[99]\n",
        "imshow(np.asarray(image_2),cmap='gray')\n",
        "print(\"Label\",label_2,labels_dict[label_2])"
      ],
      "execution_count": 0,
      "outputs": [
        {
          "output_type": "stream",
          "text": [
            "Label 8 Bag\n"
          ],
          "name": "stdout"
        },
        {
          "output_type": "display_data",
          "data": {
            "image/png": "[encoded data removed]",
            "text/plain": [
              "<Figure size 432x288 with 1 Axes>"
            ]
          },
          "metadata": {
            "tags": [],
            "needs_background": "light"
          }
        }
      ]
    },
    {
      "cell_type": "code",
      "metadata": {
        "id": "JXR2Vews2N37",
        "colab_type": "code",
        "outputId": "8ff83511-5d59-42c7-bc9f-d109259ef313",
        "colab": {
          "base_uri": "https://localhost:8080/",
          "height": 297
        }
      },
      "source": [
        "blurred_f = ndimage.gaussian_filter(image_2, 1)\n",
        "filter_blurred_f = ndimage.gaussian_filter(blurred_f, 1)\n",
        "alpha = 1\n",
        "sharpened_1 = blurred_f + alpha * (blurred_f - filter_blurred_f)\n",
        "\n",
        "blurred_f = ndimage.gaussian_filter(image_2, 1)\n",
        "filter_blurred_f = ndimage.gaussian_filter(blurred_f, 2)\n",
        "alpha = 1\n",
        "sharpened_2 = blurred_f + alpha * (blurred_f - filter_blurred_f)\n",
        "\n",
        "blurred_f = ndimage.gaussian_filter(image_2, 1)\n",
        "filter_blurred_f = ndimage.gaussian_filter(blurred_f, 3)\n",
        "alpha = 1\n",
        "sharpened_3 = blurred_f + alpha * (blurred_f - filter_blurred_f)\n",
        "\n",
        "plt.figure(figsize=(12, 4))\n",
        "\n",
        "plt.subplot(131)\n",
        "plt.imshow(sharpened_1, cmap=plt.cm.gray)\n",
        "plt.axis('off')\n",
        "plt.subplot(132)\n",
        "plt.imshow(sharpened_2, cmap=plt.cm.gray)\n",
        "plt.axis('off')\n",
        "plt.subplot(133)\n",
        "plt.imshow(sharpened_3, cmap=plt.cm.gray)\n",
        "plt.axis('off')\n",
        "\n",
        "plt.tight_layout()\n",
        "plt.show()"
      ],
      "execution_count": 0,
      "outputs": [
        {
          "output_type": "display_data",
          "data": {
            "image/png": "[encoded data removed]",
            "text/plain": [
              "<Figure size 864x288 with 3 Axes>"
            ]
          },
          "metadata": {
            "tags": [],
            "needs_background": "light"
          }
        }
      ]
    },
    {
      "cell_type": "code",
      "metadata": {
        "id": "wyNYIZCq50AQ",
        "colab_type": "code",
        "outputId": "c925c7fc-a7fa-4e1c-ac1c-e95f5a8f9f03",
        "colab": {
          "base_uri": "https://localhost:8080/",
          "height": 243
        }
      },
      "source": [
        "open_square = ndimage.binary_opening(image_2)\n",
        "\n",
        "eroded_square = ndimage.binary_erosion(image_2)\n",
        "reconstruction = ndimage.binary_propagation(eroded_square, mask=image_2)\n",
        "\n",
        "plt.figure(figsize=(9.5, 3))\n",
        "plt.subplot(131)\n",
        "plt.imshow(image_2, cmap=plt.cm.gray, interpolation='nearest')\n",
        "plt.axis('off')\n",
        "plt.subplot(132)\n",
        "plt.imshow(open_square, cmap=plt.cm.gray, interpolation='nearest')\n",
        "plt.axis('off')\n",
        "plt.subplot(133)\n",
        "plt.imshow(reconstruction, cmap=plt.cm.gray, interpolation='nearest')\n",
        "plt.axis('off')\n",
        "\n",
        "plt.subplots_adjust(wspace=0, hspace=0.02, top=0.99, bottom=0.01, left=0.01, right=0.99)\n",
        "plt.show()"
      ],
      "execution_count": 0,
      "outputs": [
        {
          "output_type": "display_data",
          "data": {
            "image/png": "[encoded data removed]",
            "text/plain": [
              "<Figure size 684x216 with 3 Axes>"
            ]
          },
          "metadata": {
            "tags": [],
            "needs_background": "light"
          }
        }
      ]
    },
    {
      "cell_type": "code",
      "metadata": {
        "id": "DBo6wtgv7BNd",
        "colab_type": "code",
        "outputId": "5685d8d0-f2a0-4e1f-be43-0b916ad9e46a",
        "colab": {
          "base_uri": "https://localhost:8080/",
          "height": 307
        }
      },
      "source": [
        "sx = ndimage.sobel(image_2, axis=0, mode='constant')\n",
        "sy = ndimage.sobel(image_2, axis=1, mode='constant')\n",
        "sob = np.hypot(sx, sy)\n",
        "\n",
        "plt.figure(figsize=(16, 5))\n",
        "plt.subplot(141)\n",
        "plt.imshow(image_2, cmap=plt.cm.gray)\n",
        "plt.axis('off')\n",
        "plt.title('square', fontsize=20)\n",
        "plt.subplot(142)\n",
        "plt.imshow(sx)\n",
        "plt.axis('off')\n",
        "plt.title('Sobel (x direction)', fontsize=20)\n",
        "plt.subplot(143)\n",
        "plt.imshow(sob)\n",
        "plt.axis('off')\n",
        "plt.title('Sobel filter', fontsize=20)\n",
        "\n",
        "image_2 += 0.07*np.random.random((28,28))\n",
        "\n",
        "sx = ndimage.sobel(image_2, axis=0, mode='constant')\n",
        "sy = ndimage.sobel(image_2, axis=1, mode='constant')\n",
        "sob = np.hypot(sx, sy)\n",
        "\n",
        "plt.subplot(144)\n",
        "plt.imshow(sob)\n",
        "plt.axis('off')\n",
        "plt.title('Sobel for noisy image', fontsize=20)\n",
        "\n",
        "\n",
        "\n",
        "plt.subplots_adjust(wspace=0.02, hspace=0.02, top=1, bottom=0, left=0, right=0.9)\n",
        "\n",
        "plt.show()"
      ],
      "execution_count": 0,
      "outputs": [
        {
          "output_type": "display_data",
          "data": {
            "image/png": "[encoded data removed]",
            "text/plain": [
              "<Figure size 1152x360 with 4 Axes>"
            ]
          },
          "metadata": {
            "tags": [],
            "needs_background": "light"
          }
        }
      ]
    },
    {
      "cell_type": "code",
      "metadata": {
        "id": "pk2RTBPWq07O",
        "colab_type": "code",
        "outputId": "ba31994c-7339-48d8-9e17-9f499b50c4b6",
        "colab": {
          "base_uri": "https://localhost:8080/",
          "height": 283
        }
      },
      "source": [
        "image_3, label_3 = train_dataset[402]\n",
        "imshow(np.asarray(image_3),cmap='gray')\n",
        "print(\"Label\",label_3,labels_dict[label_3])"
      ],
      "execution_count": 0,
      "outputs": [
        {
          "output_type": "stream",
          "text": [
            "Label 6 Shirt\n"
          ],
          "name": "stdout"
        },
        {
          "output_type": "display_data",
          "data": {
            "image/png": "[encoded data removed]",
            "text/plain": [
              "<Figure size 432x288 with 1 Axes>"
            ]
          },
          "metadata": {
            "tags": [],
            "needs_background": "light"
          }
        }
      ]
    },
    {
      "cell_type": "code",
      "metadata": {
        "id": "EPHRN0de2cMJ",
        "colab_type": "code",
        "outputId": "a94a3f06-f473-4643-a2f8-8775858e6ea4",
        "colab": {
          "base_uri": "https://localhost:8080/",
          "height": 283
        }
      },
      "source": [
        "blurred_f = ndimage.gaussian_filter(image_3, 1)\n",
        "filter_blurred_f = ndimage.gaussian_filter(blurred_f, 1)\n",
        "alpha = 1\n",
        "sharpened = blurred_f + alpha * (blurred_f - filter_blurred_f)\n",
        "# imshow(blurred_f,cmap='gray')\n",
        "# imshow(filter_blurred_f,cmap='gray')\n",
        "imshow(sharpened,cmap='gray')"
      ],
      "execution_count": 0,
      "outputs": [
        {
          "output_type": "execute_result",
          "data": {
            "text/plain": [
              "<matplotlib.image.AxesImage at 0x7f2dce7549e8>"
            ]
          },
          "metadata": {
            "tags": []
          },
          "execution_count": 56
        },
        {
          "output_type": "display_data",
          "data": {
            "image/png": "[encoded data removed]",
            "text/plain": [
              "<Figure size 432x288 with 1 Axes>"
            ]
          },
          "metadata": {
            "tags": [],
            "needs_background": "light"
          }
        }
      ]
    },
    {
      "cell_type": "code",
      "metadata": {
        "id": "l-zcDM-e6SH4",
        "colab_type": "code",
        "outputId": "7190b2b0-7e7f-445e-d49d-2e055a8c420b",
        "colab": {
          "base_uri": "https://localhost:8080/",
          "height": 243
        }
      },
      "source": [
        "open_square = ndimage.binary_opening(image_3)\n",
        "\n",
        "eroded_square = ndimage.binary_erosion(image_3)\n",
        "reconstruction = ndimage.binary_propagation(eroded_square, mask=image_3)\n",
        "\n",
        "plt.figure(figsize=(9.5, 3))\n",
        "plt.subplot(131)\n",
        "plt.imshow(image_3, cmap=plt.cm.gray, interpolation='nearest')\n",
        "plt.axis('off')\n",
        "plt.subplot(132)\n",
        "plt.imshow(open_square, cmap=plt.cm.gray, interpolation='nearest')\n",
        "plt.axis('off')\n",
        "plt.subplot(133)\n",
        "plt.imshow(reconstruction, cmap=plt.cm.gray, interpolation='nearest')\n",
        "plt.axis('off')\n",
        "\n",
        "plt.subplots_adjust(wspace=0, hspace=0.02, top=0.99, bottom=0.01, left=0.01, right=0.99)\n",
        "plt.show()"
      ],
      "execution_count": 0,
      "outputs": [
        {
          "output_type": "display_data",
          "data": {
            "image/png": "[encoded data removed]",
            "text/plain": [
              "<Figure size 684x216 with 3 Axes>"
            ]
          },
          "metadata": {
            "tags": [],
            "needs_background": "light"
          }
        }
      ]
    },
    {
      "cell_type": "code",
      "metadata": {
        "id": "S9bHK6gs80j6",
        "colab_type": "code",
        "outputId": "75383451-ad64-40af-b8a8-bda3a3ec8d4e",
        "colab": {
          "base_uri": "https://localhost:8080/",
          "height": 307
        }
      },
      "source": [
        "sx = ndimage.sobel(image_3, axis=0, mode='constant')\n",
        "sy = ndimage.sobel(image_3, axis=1, mode='constant')\n",
        "sob = np.hypot(sx, sy)\n",
        "\n",
        "plt.figure(figsize=(16, 5))\n",
        "plt.subplot(141)\n",
        "plt.imshow(image_3, cmap=plt.cm.gray)\n",
        "plt.axis('off')\n",
        "plt.title('square', fontsize=20)\n",
        "plt.subplot(142)\n",
        "plt.imshow(sx)\n",
        "plt.axis('off')\n",
        "plt.title('Sobel (x direction)', fontsize=20)\n",
        "plt.subplot(143)\n",
        "plt.imshow(sob)\n",
        "plt.axis('off')\n",
        "plt.title('Sobel filter', fontsize=20)\n",
        "\n",
        "image_3 += 0.07*np.random.random((28,28))\n",
        "\n",
        "sx = ndimage.sobel(image_3, axis=0, mode='constant')\n",
        "sy = ndimage.sobel(image_3, axis=1, mode='constant')\n",
        "sob = np.hypot(sx, sy)\n",
        "\n",
        "plt.subplot(144)\n",
        "plt.imshow(sob)\n",
        "plt.axis('off')\n",
        "plt.title('Sobel for noisy image', fontsize=20)\n",
        "\n",
        "\n",
        "\n",
        "plt.subplots_adjust(wspace=0.02, hspace=0.02, top=1, bottom=0, left=0, right=0.9)\n",
        "\n",
        "plt.show()"
      ],
      "execution_count": 0,
      "outputs": [
        {
          "output_type": "display_data",
          "data": {
            "image/png": "[encoded data removed]",
            "text/plain": [
              "<Figure size 1152x360 with 4 Axes>"
            ]
          },
          "metadata": {
            "tags": [],
            "needs_background": "light"
          }
        }
      ]
    },
    {
      "cell_type": "code",
      "metadata": {
        "id": "vqFf3CX8rDPf",
        "colab_type": "code",
        "outputId": "dbe02792-bd54-48ee-a12e-69f9821f1529",
        "colab": {
          "base_uri": "https://localhost:8080/",
          "height": 283
        }
      },
      "source": [
        "image_4, label_4 = train_dataset[20432]\n",
        "imshow(np.asarray(image_4),cmap='gray')\n",
        "print(\"Label\",label_4,labels_dict[label_4])"
      ],
      "execution_count": 23,
      "outputs": [
        {
          "output_type": "stream",
          "text": [
            "Label 2 Pullover\n"
          ],
          "name": "stdout"
        },
        {
          "output_type": "display_data",
          "data": {
            "image/png": "[encoded data removed]",
            "text/plain": [
              "<Figure size 432x288 with 1 Axes>"
            ]
          },
          "metadata": {
            "tags": [],
            "needs_background": "light"
          }
        }
      ]
    },
    {
      "cell_type": "code",
      "metadata": {
        "id": "UsC5WOrN4mSz",
        "colab_type": "code",
        "outputId": "ea61b3d2-0bfe-4c13-d1be-d2095d8b5eda",
        "colab": {
          "base_uri": "https://localhost:8080/",
          "height": 283
        }
      },
      "source": [
        "blurred_f = ndimage.gaussian_filter(image_4, 1)\n",
        "filter_blurred_f = ndimage.gaussian_filter(blurred_f, 1)\n",
        "alpha = 1\n",
        "sharpened = blurred_f + alpha * (blurred_f - filter_blurred_f)\n",
        "# imshow(blurred_f,cmap='gray')\n",
        "# imshow(filter_blurred_f,cmap='gray')\n",
        "imshow(sharpened,cmap='gray')"
      ],
      "execution_count": 24,
      "outputs": [
        {
          "output_type": "execute_result",
          "data": {
            "text/plain": [
              "<matplotlib.image.AxesImage at 0x7f3c66df1978>"
            ]
          },
          "metadata": {
            "tags": []
          },
          "execution_count": 24
        },
        {
          "output_type": "display_data",
          "data": {
            "image/png": "[encoded data removed]",
            "text/plain": [
              "<Figure size 432x288 with 1 Axes>"
            ]
          },
          "metadata": {
            "tags": [],
            "needs_background": "light"
          }
        }
      ]
    },
    {
      "cell_type": "code",
      "metadata": {
        "id": "88Lz2Hd06VOp",
        "colab_type": "code",
        "outputId": "092e3bf6-027d-4b02-f6c0-8846fe432026",
        "colab": {
          "base_uri": "https://localhost:8080/",
          "height": 234
        }
      },
      "source": [
        "open_square = ndimage.binary_opening(image_4)\n",
        "\n",
        "eroded_square = ndimage.binary_erosion(image_4)\n",
        "reconstruction = ndimage.binary_propagation(eroded_square, mask=image_4)\n",
        "\n",
        "plt.figure(figsize=(9.5, 3))\n",
        "plt.subplot(131)\n",
        "plt.imshow(image_4, cmap=plt.cm.gray, interpolation='nearest')\n",
        "plt.axis('off')\n",
        "plt.subplot(132)\n",
        "plt.imshow(open_square, cmap=plt.cm.gray, interpolation='nearest')\n",
        "plt.axis('off')\n",
        "plt.subplot(133)\n",
        "plt.imshow(reconstruction, cmap=plt.cm.gray, interpolation='nearest')\n",
        "plt.axis('off')\n",
        "\n",
        "plt.subplots_adjust(wspace=0, hspace=0.02, top=0.99, bottom=0.01, left=0.01, right=0.99)\n",
        "plt.show()"
      ],
      "execution_count": 25,
      "outputs": [
        {
          "output_type": "display_data",
          "data": {
            "image/png": "[encoded data removed]",
            "text/plain": [
              "<Figure size 684x216 with 3 Axes>"
            ]
          },
          "metadata": {
            "tags": [],
            "needs_background": "light"
          }
        }
      ]
    },
    {
      "cell_type": "code",
      "metadata": {
        "id": "c13_FL-M9EG_",
        "colab_type": "code",
        "outputId": "880209ba-afb9-4f51-fbaa-44aff98f8ccf",
        "colab": {
          "base_uri": "https://localhost:8080/",
          "height": 195
        }
      },
      "source": [
        "sx = ndimage.sobel(image_4, axis=0, mode='constant')\n",
        "sy = ndimage.sobel(image_4, axis=1, mode='constant')\n",
        "sob = np.hypot(sx, sy)\n",
        "\n",
        "plt.figure(figsize=(16, 5))\n",
        "plt.subplot(141)\n",
        "plt.imshow(image_4, cmap=plt.cm.gray)\n",
        "plt.axis('off')\n",
        "plt.title('square', fontsize=20)\n",
        "plt.subplot(142)\n",
        "plt.imshow(sx)\n",
        "plt.axis('off')\n",
        "plt.title('Sobel (x direction)', fontsize=20)\n",
        "plt.subplot(143)\n",
        "plt.imshow(sob)\n",
        "plt.axis('off')\n",
        "plt.title('Sobel filter', fontsize=20)\n",
        "\n",
        "image_4 += 0.07*np.random.random((28,28))\n",
        "\n",
        "sx = ndimage.sobel(image_4, axis=0, mode='constant')\n",
        "sy = ndimage.sobel(image_4, axis=1, mode='constant')\n",
        "sob = np.hypot(sx, sy)\n",
        "\n",
        "plt.subplot(144)\n",
        "plt.imshow(sob)\n",
        "plt.axis('off')\n",
        "plt.title('Sobel for noisy image', fontsize=20)\n",
        "\n",
        "\n",
        "\n",
        "plt.subplots_adjust(wspace=0.02, hspace=0.02, top=1, bottom=0, left=0, right=0.9)\n",
        "\n",
        "plt.show()"
      ],
      "execution_count": 27,
      "outputs": [
        {
          "output_type": "display_data",
          "data": {
            "image/png": "[encoded data removed]",
            "text/plain": [
              "<Figure size 1152x360 with 4 Axes>"
            ]
          },
          "metadata": {
            "tags": [],
            "needs_background": "light"
          }
        }
      ]
    },
    {
      "cell_type": "code",
      "metadata": {
        "id": "wOLwyZsO1fKF",
        "colab_type": "code",
        "colab": {
          "base_uri": "https://localhost:8080/",
          "height": 195
        },
        "outputId": "b0c616ea-7787-4d09-e038-cd1cd1f5690a"
      },
      "source": [
        "sx = ndimage.sobel(image_4, axis=0, mode='constant')\n",
        "sy = ndimage.sobel(image_4, axis=1, mode='constant')\n",
        "sob = np.hypot(sx, sy)\n",
        "\n",
        "plt.figure(figsize=(16, 5))\n",
        "plt.subplot(141)\n",
        "plt.imshow(image_4, cmap=plt.cm.gray)\n",
        "plt.axis('off')\n",
        "plt.title('square', fontsize=20)\n",
        "plt.subplot(142)\n",
        "plt.imshow(sx)\n",
        "plt.axis('off')\n",
        "plt.title('Sobel (x direction)', fontsize=20)\n",
        "plt.subplot(143)\n",
        "plt.imshow(sob)\n",
        "plt.axis('off')\n",
        "plt.title('Sobel filter', fontsize=20)\n",
        "\n",
        "image_4 += 0.07*np.random.random((28,28))\n",
        "\n",
        "sx = ndimage.sobel(image_4, axis=0, mode='constant')\n",
        "sy = ndimage.sobel(image_4, axis=1, mode='constant')\n",
        "sob = np.hypot(sx, sy)\n",
        "\n",
        "plt.subplot(144)\n",
        "plt.imshow(sob)\n",
        "plt.axis('off')\n",
        "plt.title('Sobel for noisy image', fontsize=20)\n",
        "\n",
        "\n",
        "\n",
        "plt.subplots_adjust(wspace=0.02, hspace=0.02, top=1, bottom=0, left=0, right=0.9)\n",
        "\n",
        "plt.show()"
      ],
      "execution_count": 32,
      "outputs": [
        {
          "output_type": "display_data",
          "data": {
            "image/png": "[encoded data removed]",
            "text/plain": [
              "<Figure size 1152x360 with 4 Axes>"
            ]
          },
          "metadata": {
            "tags": [],
            "needs_background": "light"
          }
        }
      ]
    },
    {
      "cell_type": "markdown",
      "metadata": {
        "id": "vR66I2igrZAe",
        "colab_type": "text"
      },
      "source": [
        "# **Preparing Data**\n",
        "Creating Dataframes"
      ]
    },
    {
      "cell_type": "code",
      "metadata": {
        "id": "ZyXLL7lqrgZp",
        "colab_type": "code",
        "colab": {}
      },
      "source": [
        "train_images = train_dataset.data.numpy()\n",
        "train_labels = train_dataset.targets.data.numpy()"
      ],
      "execution_count": 0,
      "outputs": []
    },
    {
      "cell_type": "code",
      "metadata": {
        "id": "ohKfnzmIsknJ",
        "colab_type": "code",
        "outputId": "dda342eb-e57e-43b4-cd56-37f4720c4e39",
        "colab": {
          "base_uri": "https://localhost:8080/",
          "height": 35
        }
      },
      "source": [
        "train_images.shape"
      ],
      "execution_count": 0,
      "outputs": [
        {
          "output_type": "execute_result",
          "data": {
            "text/plain": [
              "(60000, 28, 28)"
            ]
          },
          "metadata": {
            "tags": []
          },
          "execution_count": 27
        }
      ]
    },
    {
      "cell_type": "code",
      "metadata": {
        "id": "Y04wZNYqsupX",
        "colab_type": "code",
        "outputId": "85cd87af-ddbb-4911-be3a-2079565adf9e",
        "colab": {
          "base_uri": "https://localhost:8080/",
          "height": 35
        }
      },
      "source": [
        "train_labels.shape"
      ],
      "execution_count": 0,
      "outputs": [
        {
          "output_type": "execute_result",
          "data": {
            "text/plain": [
              "(60000,)"
            ]
          },
          "metadata": {
            "tags": []
          },
          "execution_count": 28
        }
      ]
    },
    {
      "cell_type": "code",
      "metadata": {
        "id": "mFykg6XQsys-",
        "colab_type": "code",
        "colab": {}
      },
      "source": [
        "eval_images = eval_dataset.data.numpy()\n",
        "eval_labels = eval_dataset.targets.data.numpy()"
      ],
      "execution_count": 0,
      "outputs": []
    },
    {
      "cell_type": "code",
      "metadata": {
        "id": "_ZOOzfAts08u",
        "colab_type": "code",
        "outputId": "c666e455-994d-4d5e-e694-f7881a0cdc53",
        "colab": {
          "base_uri": "https://localhost:8080/",
          "height": 35
        }
      },
      "source": [
        "eval_images.shape"
      ],
      "execution_count": 0,
      "outputs": [
        {
          "output_type": "execute_result",
          "data": {
            "text/plain": [
              "(10000, 28, 28)"
            ]
          },
          "metadata": {
            "tags": []
          },
          "execution_count": 31
        }
      ]
    },
    {
      "cell_type": "code",
      "metadata": {
        "id": "3fOmqBRLs4eG",
        "colab_type": "code",
        "outputId": "0ca5982b-cde4-472c-cba6-b7956c33f0e5",
        "colab": {
          "base_uri": "https://localhost:8080/",
          "height": 35
        }
      },
      "source": [
        "eval_labels.shape"
      ],
      "execution_count": 0,
      "outputs": [
        {
          "output_type": "execute_result",
          "data": {
            "text/plain": [
              "(10000,)"
            ]
          },
          "metadata": {
            "tags": []
          },
          "execution_count": 32
        }
      ]
    },
    {
      "cell_type": "markdown",
      "metadata": {
        "id": "XemhfZbl0K97",
        "colab_type": "text"
      },
      "source": [
        "# **1. SVM with PCA**"
      ]
    },
    {
      "cell_type": "code",
      "metadata": {
        "id": "x9dTMRk8EKoS",
        "colab_type": "code",
        "colab": {}
      },
      "source": [
        "from sklearn.preprocessing import StandardScaler\n",
        "from sklearn.decomposition import PCA"
      ],
      "execution_count": 0,
      "outputs": []
    },
    {
      "cell_type": "code",
      "metadata": {
        "id": "d1_u2bmnENNJ",
        "colab_type": "code",
        "colab": {}
      },
      "source": [
        "standardized_data = StandardScaler().fit_transform(train_images)\n",
        "\n",
        "pca = PCA()\n",
        "pca.n_components = 2\n",
        "pca_data = pca.fit_transform(standardized_data)"
      ],
      "execution_count": 0,
      "outputs": []
    },
    {
      "cell_type": "code",
      "metadata": {
        "id": "h-HaacS05Iej",
        "colab_type": "code",
        "colab": {}
      },
      "source": [
        "svm = SVC(kernel='linear', random_state=42)"
      ],
      "execution_count": 0,
      "outputs": []
    },
    {
      "cell_type": "code",
      "metadata": {
        "id": "jFceNgp-EDRq",
        "colab_type": "code",
        "colab": {}
      },
      "source": [
        ""
      ],
      "execution_count": 0,
      "outputs": []
    }
  ]
}