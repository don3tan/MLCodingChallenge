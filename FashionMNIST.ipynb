{
  "nbformat": 4,
  "nbformat_minor": 0,
  "metadata": {
    "colab": {
      "name": "FashionMNIST.ipynb",
      "provenance": [],
      "authorship_tag": "ABX9TyNjMAxSZOjXf+ud4f2UO2bN"
    },
    "kernelspec": {
      "name": "python3",
      "display_name": "Python 3"
    },
    "widgets": {
      "application/vnd.jupyter.widget-state+json": {
        "de88387a124d49d4a2a1c8cb3a9ddcd2": {
          "model_module": "@jupyter-widgets/controls",
          "model_name": "HBoxModel",
          "state": {
            "_view_name": "HBoxView",
            "_dom_classes": [],
            "_model_name": "HBoxModel",
            "_view_module": "@jupyter-widgets/controls",
            "_model_module_version": "1.5.0",
            "_view_count": null,
            "_view_module_version": "1.5.0",
            "box_style": "",
            "layout": "IPY_MODEL_58731a34322d4ce2bfc8bc51ca32349e",
            "_model_module": "@jupyter-widgets/controls",
            "children": [
              "IPY_MODEL_880a4ef2b01949998d85a6844390d20d",
              "IPY_MODEL_3bfa589b202c4fb4ba62b34967d3d5bd"
            ]
          }
        },
        "58731a34322d4ce2bfc8bc51ca32349e": {
          "model_module": "@jupyter-widgets/base",
          "model_name": "LayoutModel",
          "state": {
            "_view_name": "LayoutView",
            "grid_template_rows": null,
            "right": null,
            "justify_content": null,
            "_view_module": "@jupyter-widgets/base",
            "overflow": null,
            "_model_module_version": "1.2.0",
            "_view_count": null,
            "flex_flow": null,
            "width": null,
            "min_width": null,
            "border": null,
            "align_items": null,
            "bottom": null,
            "_model_module": "@jupyter-widgets/base",
            "top": null,
            "grid_column": null,
            "overflow_y": null,
            "overflow_x": null,
            "grid_auto_flow": null,
            "grid_area": null,
            "grid_template_columns": null,
            "flex": null,
            "_model_name": "LayoutModel",
            "justify_items": null,
            "grid_row": null,
            "max_height": null,
            "align_content": null,
            "visibility": null,
            "align_self": null,
            "height": null,
            "min_height": null,
            "padding": null,
            "grid_auto_rows": null,
            "grid_gap": null,
            "max_width": null,
            "order": null,
            "_view_module_version": "1.2.0",
            "grid_template_areas": null,
            "object_position": null,
            "object_fit": null,
            "grid_auto_columns": null,
            "margin": null,
            "display": null,
            "left": null
          }
        },
        "880a4ef2b01949998d85a6844390d20d": {
          "model_module": "@jupyter-widgets/controls",
          "model_name": "IntProgressModel",
          "state": {
            "_view_name": "ProgressView",
            "style": "IPY_MODEL_208f7c680c55484b9e28c40a249edef8",
            "_dom_classes": [],
            "description": "",
            "_model_name": "IntProgressModel",
            "bar_style": "info",
            "max": 1,
            "_view_module": "@jupyter-widgets/controls",
            "_model_module_version": "1.5.0",
            "value": 1,
            "_view_count": null,
            "_view_module_version": "1.5.0",
            "orientation": "horizontal",
            "min": 0,
            "description_tooltip": null,
            "_model_module": "@jupyter-widgets/controls",
            "layout": "IPY_MODEL_c60ef91f31af407fbf34f3fd076b6b62"
          }
        },
        "3bfa589b202c4fb4ba62b34967d3d5bd": {
          "model_module": "@jupyter-widgets/controls",
          "model_name": "HTMLModel",
          "state": {
            "_view_name": "HTMLView",
            "style": "IPY_MODEL_339e825485d346d0a5cef5270e8f53ff",
            "_dom_classes": [],
            "description": "",
            "_model_name": "HTMLModel",
            "placeholder": "​",
            "_view_module": "@jupyter-widgets/controls",
            "_model_module_version": "1.5.0",
            "value": " 26427392/? [00:20&lt;00:00, 6694141.39it/s]",
            "_view_count": null,
            "_view_module_version": "1.5.0",
            "description_tooltip": null,
            "_model_module": "@jupyter-widgets/controls",
            "layout": "IPY_MODEL_a78799c1f47543c0a9ef7f8689cff382"
          }
        },
        "208f7c680c55484b9e28c40a249edef8": {
          "model_module": "@jupyter-widgets/controls",
          "model_name": "ProgressStyleModel",
          "state": {
            "_view_name": "StyleView",
            "_model_name": "ProgressStyleModel",
            "description_width": "initial",
            "_view_module": "@jupyter-widgets/base",
            "_model_module_version": "1.5.0",
            "_view_count": null,
            "_view_module_version": "1.2.0",
            "bar_color": null,
            "_model_module": "@jupyter-widgets/controls"
          }
        },
        "c60ef91f31af407fbf34f3fd076b6b62": {
          "model_module": "@jupyter-widgets/base",
          "model_name": "LayoutModel",
          "state": {
            "_view_name": "LayoutView",
            "grid_template_rows": null,
            "right": null,
            "justify_content": null,
            "_view_module": "@jupyter-widgets/base",
            "overflow": null,
            "_model_module_version": "1.2.0",
            "_view_count": null,
            "flex_flow": null,
            "width": null,
            "min_width": null,
            "border": null,
            "align_items": null,
            "bottom": null,
            "_model_module": "@jupyter-widgets/base",
            "top": null,
            "grid_column": null,
            "overflow_y": null,
            "overflow_x": null,
            "grid_auto_flow": null,
            "grid_area": null,
            "grid_template_columns": null,
            "flex": null,
            "_model_name": "LayoutModel",
            "justify_items": null,
            "grid_row": null,
            "max_height": null,
            "align_content": null,
            "visibility": null,
            "align_self": null,
            "height": null,
            "min_height": null,
            "padding": null,
            "grid_auto_rows": null,
            "grid_gap": null,
            "max_width": null,
            "order": null,
            "_view_module_version": "1.2.0",
            "grid_template_areas": null,
            "object_position": null,
            "object_fit": null,
            "grid_auto_columns": null,
            "margin": null,
            "display": null,
            "left": null
          }
        },
        "339e825485d346d0a5cef5270e8f53ff": {
          "model_module": "@jupyter-widgets/controls",
          "model_name": "DescriptionStyleModel",
          "state": {
            "_view_name": "StyleView",
            "_model_name": "DescriptionStyleModel",
            "description_width": "",
            "_view_module": "@jupyter-widgets/base",
            "_model_module_version": "1.5.0",
            "_view_count": null,
            "_view_module_version": "1.2.0",
            "_model_module": "@jupyter-widgets/controls"
          }
        },
        "a78799c1f47543c0a9ef7f8689cff382": {
          "model_module": "@jupyter-widgets/base",
          "model_name": "LayoutModel",
          "state": {
            "_view_name": "LayoutView",
            "grid_template_rows": null,
            "right": null,
            "justify_content": null,
            "_view_module": "@jupyter-widgets/base",
            "overflow": null,
            "_model_module_version": "1.2.0",
            "_view_count": null,
            "flex_flow": null,
            "width": null,
            "min_width": null,
            "border": null,
            "align_items": null,
            "bottom": null,
            "_model_module": "@jupyter-widgets/base",
            "top": null,
            "grid_column": null,
            "overflow_y": null,
            "overflow_x": null,
            "grid_auto_flow": null,
            "grid_area": null,
            "grid_template_columns": null,
            "flex": null,
            "_model_name": "LayoutModel",
            "justify_items": null,
            "grid_row": null,
            "max_height": null,
            "align_content": null,
            "visibility": null,
            "align_self": null,
            "height": null,
            "min_height": null,
            "padding": null,
            "grid_auto_rows": null,
            "grid_gap": null,
            "max_width": null,
            "order": null,
            "_view_module_version": "1.2.0",
            "grid_template_areas": null,
            "object_position": null,
            "object_fit": null,
            "grid_auto_columns": null,
            "margin": null,
            "display": null,
            "left": null
          }
        },
        "2fcf214081234e35b06100faf2135059": {
          "model_module": "@jupyter-widgets/controls",
          "model_name": "HBoxModel",
          "state": {
            "_view_name": "HBoxView",
            "_dom_classes": [],
            "_model_name": "HBoxModel",
            "_view_module": "@jupyter-widgets/controls",
            "_model_module_version": "1.5.0",
            "_view_count": null,
            "_view_module_version": "1.5.0",
            "box_style": "",
            "layout": "IPY_MODEL_a2e760121cd948a0a616e5e902eb6d58",
            "_model_module": "@jupyter-widgets/controls",
            "children": [
              "IPY_MODEL_5839e196ed3440b7960fc494fcee5695",
              "IPY_MODEL_6fe114e3bc5b44e18a1ca26df7aa811a"
            ]
          }
        },
        "a2e760121cd948a0a616e5e902eb6d58": {
          "model_module": "@jupyter-widgets/base",
          "model_name": "LayoutModel",
          "state": {
            "_view_name": "LayoutView",
            "grid_template_rows": null,
            "right": null,
            "justify_content": null,
            "_view_module": "@jupyter-widgets/base",
            "overflow": null,
            "_model_module_version": "1.2.0",
            "_view_count": null,
            "flex_flow": null,
            "width": null,
            "min_width": null,
            "border": null,
            "align_items": null,
            "bottom": null,
            "_model_module": "@jupyter-widgets/base",
            "top": null,
            "grid_column": null,
            "overflow_y": null,
            "overflow_x": null,
            "grid_auto_flow": null,
            "grid_area": null,
            "grid_template_columns": null,
            "flex": null,
            "_model_name": "LayoutModel",
            "justify_items": null,
            "grid_row": null,
            "max_height": null,
            "align_content": null,
            "visibility": null,
            "align_self": null,
            "height": null,
            "min_height": null,
            "padding": null,
            "grid_auto_rows": null,
            "grid_gap": null,
            "max_width": null,
            "order": null,
            "_view_module_version": "1.2.0",
            "grid_template_areas": null,
            "object_position": null,
            "object_fit": null,
            "grid_auto_columns": null,
            "margin": null,
            "display": null,
            "left": null
          }
        },
        "5839e196ed3440b7960fc494fcee5695": {
          "model_module": "@jupyter-widgets/controls",
          "model_name": "IntProgressModel",
          "state": {
            "_view_name": "ProgressView",
            "style": "IPY_MODEL_e0e4deb24b5749b4b906b562505975be",
            "_dom_classes": [],
            "description": "",
            "_model_name": "IntProgressModel",
            "bar_style": "success",
            "max": 1,
            "_view_module": "@jupyter-widgets/controls",
            "_model_module_version": "1.5.0",
            "value": 1,
            "_view_count": null,
            "_view_module_version": "1.5.0",
            "orientation": "horizontal",
            "min": 0,
            "description_tooltip": null,
            "_model_module": "@jupyter-widgets/controls",
            "layout": "IPY_MODEL_5177dad8bac74fb2bd725c0d3b3dc8e8"
          }
        },
        "6fe114e3bc5b44e18a1ca26df7aa811a": {
          "model_module": "@jupyter-widgets/controls",
          "model_name": "HTMLModel",
          "state": {
            "_view_name": "HTMLView",
            "style": "IPY_MODEL_0f3b379aac3e420a85544a8ab57e3c3d",
            "_dom_classes": [],
            "description": "",
            "_model_name": "HTMLModel",
            "placeholder": "​",
            "_view_module": "@jupyter-widgets/controls",
            "_model_module_version": "1.5.0",
            "value": " 32768/? [00:02&lt;00:00, 12793.03it/s]",
            "_view_count": null,
            "_view_module_version": "1.5.0",
            "description_tooltip": null,
            "_model_module": "@jupyter-widgets/controls",
            "layout": "IPY_MODEL_9b792eeb9b424a039715455cffc5eb0f"
          }
        },
        "e0e4deb24b5749b4b906b562505975be": {
          "model_module": "@jupyter-widgets/controls",
          "model_name": "ProgressStyleModel",
          "state": {
            "_view_name": "StyleView",
            "_model_name": "ProgressStyleModel",
            "description_width": "initial",
            "_view_module": "@jupyter-widgets/base",
            "_model_module_version": "1.5.0",
            "_view_count": null,
            "_view_module_version": "1.2.0",
            "bar_color": null,
            "_model_module": "@jupyter-widgets/controls"
          }
        },
        "5177dad8bac74fb2bd725c0d3b3dc8e8": {
          "model_module": "@jupyter-widgets/base",
          "model_name": "LayoutModel",
          "state": {
            "_view_name": "LayoutView",
            "grid_template_rows": null,
            "right": null,
            "justify_content": null,
            "_view_module": "@jupyter-widgets/base",
            "overflow": null,
            "_model_module_version": "1.2.0",
            "_view_count": null,
            "flex_flow": null,
            "width": null,
            "min_width": null,
            "border": null,
            "align_items": null,
            "bottom": null,
            "_model_module": "@jupyter-widgets/base",
            "top": null,
            "grid_column": null,
            "overflow_y": null,
            "overflow_x": null,
            "grid_auto_flow": null,
            "grid_area": null,
            "grid_template_columns": null,
            "flex": null,
            "_model_name": "LayoutModel",
            "justify_items": null,
            "grid_row": null,
            "max_height": null,
            "align_content": null,
            "visibility": null,
            "align_self": null,
            "height": null,
            "min_height": null,
            "padding": null,
            "grid_auto_rows": null,
            "grid_gap": null,
            "max_width": null,
            "order": null,
            "_view_module_version": "1.2.0",
            "grid_template_areas": null,
            "object_position": null,
            "object_fit": null,
            "grid_auto_columns": null,
            "margin": null,
            "display": null,
            "left": null
          }
        },
        "0f3b379aac3e420a85544a8ab57e3c3d": {
          "model_module": "@jupyter-widgets/controls",
          "model_name": "DescriptionStyleModel",
          "state": {
            "_view_name": "StyleView",
            "_model_name": "DescriptionStyleModel",
            "description_width": "",
            "_view_module": "@jupyter-widgets/base",
            "_model_module_version": "1.5.0",
            "_view_count": null,
            "_view_module_version": "1.2.0",
            "_model_module": "@jupyter-widgets/controls"
          }
        },
        "9b792eeb9b424a039715455cffc5eb0f": {
          "model_module": "@jupyter-widgets/base",
          "model_name": "LayoutModel",
          "state": {
            "_view_name": "LayoutView",
            "grid_template_rows": null,
            "right": null,
            "justify_content": null,
            "_view_module": "@jupyter-widgets/base",
            "overflow": null,
            "_model_module_version": "1.2.0",
            "_view_count": null,
            "flex_flow": null,
            "width": null,
            "min_width": null,
            "border": null,
            "align_items": null,
            "bottom": null,
            "_model_module": "@jupyter-widgets/base",
            "top": null,
            "grid_column": null,
            "overflow_y": null,
            "overflow_x": null,
            "grid_auto_flow": null,
            "grid_area": null,
            "grid_template_columns": null,
            "flex": null,
            "_model_name": "LayoutModel",
            "justify_items": null,
            "grid_row": null,
            "max_height": null,
            "align_content": null,
            "visibility": null,
            "align_self": null,
            "height": null,
            "min_height": null,
            "padding": null,
            "grid_auto_rows": null,
            "grid_gap": null,
            "max_width": null,
            "order": null,
            "_view_module_version": "1.2.0",
            "grid_template_areas": null,
            "object_position": null,
            "object_fit": null,
            "grid_auto_columns": null,
            "margin": null,
            "display": null,
            "left": null
          }
        },
        "5e573c0b23874b2e830701d34e7e4494": {
          "model_module": "@jupyter-widgets/controls",
          "model_name": "HBoxModel",
          "state": {
            "_view_name": "HBoxView",
            "_dom_classes": [],
            "_model_name": "HBoxModel",
            "_view_module": "@jupyter-widgets/controls",
            "_model_module_version": "1.5.0",
            "_view_count": null,
            "_view_module_version": "1.5.0",
            "box_style": "",
            "layout": "IPY_MODEL_4a22d69eb27440db8026e3f83c8da7c1",
            "_model_module": "@jupyter-widgets/controls",
            "children": [
              "IPY_MODEL_b556e28d34ff45f9969798a6c8d3d294",
              "IPY_MODEL_84bd02cd0c354237b3351f5225a4c49e"
            ]
          }
        },
        "4a22d69eb27440db8026e3f83c8da7c1": {
          "model_module": "@jupyter-widgets/base",
          "model_name": "LayoutModel",
          "state": {
            "_view_name": "LayoutView",
            "grid_template_rows": null,
            "right": null,
            "justify_content": null,
            "_view_module": "@jupyter-widgets/base",
            "overflow": null,
            "_model_module_version": "1.2.0",
            "_view_count": null,
            "flex_flow": null,
            "width": null,
            "min_width": null,
            "border": null,
            "align_items": null,
            "bottom": null,
            "_model_module": "@jupyter-widgets/base",
            "top": null,
            "grid_column": null,
            "overflow_y": null,
            "overflow_x": null,
            "grid_auto_flow": null,
            "grid_area": null,
            "grid_template_columns": null,
            "flex": null,
            "_model_name": "LayoutModel",
            "justify_items": null,
            "grid_row": null,
            "max_height": null,
            "align_content": null,
            "visibility": null,
            "align_self": null,
            "height": null,
            "min_height": null,
            "padding": null,
            "grid_auto_rows": null,
            "grid_gap": null,
            "max_width": null,
            "order": null,
            "_view_module_version": "1.2.0",
            "grid_template_areas": null,
            "object_position": null,
            "object_fit": null,
            "grid_auto_columns": null,
            "margin": null,
            "display": null,
            "left": null
          }
        },
        "b556e28d34ff45f9969798a6c8d3d294": {
          "model_module": "@jupyter-widgets/controls",
          "model_name": "IntProgressModel",
          "state": {
            "_view_name": "ProgressView",
            "style": "IPY_MODEL_182832af7f4847b1a00ef1c70c6052c0",
            "_dom_classes": [],
            "description": "",
            "_model_name": "IntProgressModel",
            "bar_style": "success",
            "max": 1,
            "_view_module": "@jupyter-widgets/controls",
            "_model_module_version": "1.5.0",
            "value": 1,
            "_view_count": null,
            "_view_module_version": "1.5.0",
            "orientation": "horizontal",
            "min": 0,
            "description_tooltip": null,
            "_model_module": "@jupyter-widgets/controls",
            "layout": "IPY_MODEL_e74a1f4bf8bf404b80efd411fbeb02a9"
          }
        },
        "84bd02cd0c354237b3351f5225a4c49e": {
          "model_module": "@jupyter-widgets/controls",
          "model_name": "HTMLModel",
          "state": {
            "_view_name": "HTMLView",
            "style": "IPY_MODEL_8c16aa2bb2684d9095f1a98e70d23df3",
            "_dom_classes": [],
            "description": "",
            "_model_name": "HTMLModel",
            "placeholder": "​",
            "_view_module": "@jupyter-widgets/controls",
            "_model_module_version": "1.5.0",
            "value": " 4423680/? [00:02&lt;00:00, 2148890.13it/s]",
            "_view_count": null,
            "_view_module_version": "1.5.0",
            "description_tooltip": null,
            "_model_module": "@jupyter-widgets/controls",
            "layout": "IPY_MODEL_4327a37a989f4968b0b603b88706d179"
          }
        },
        "182832af7f4847b1a00ef1c70c6052c0": {
          "model_module": "@jupyter-widgets/controls",
          "model_name": "ProgressStyleModel",
          "state": {
            "_view_name": "StyleView",
            "_model_name": "ProgressStyleModel",
            "description_width": "initial",
            "_view_module": "@jupyter-widgets/base",
            "_model_module_version": "1.5.0",
            "_view_count": null,
            "_view_module_version": "1.2.0",
            "bar_color": null,
            "_model_module": "@jupyter-widgets/controls"
          }
        },
        "e74a1f4bf8bf404b80efd411fbeb02a9": {
          "model_module": "@jupyter-widgets/base",
          "model_name": "LayoutModel",
          "state": {
            "_view_name": "LayoutView",
            "grid_template_rows": null,
            "right": null,
            "justify_content": null,
            "_view_module": "@jupyter-widgets/base",
            "overflow": null,
            "_model_module_version": "1.2.0",
            "_view_count": null,
            "flex_flow": null,
            "width": null,
            "min_width": null,
            "border": null,
            "align_items": null,
            "bottom": null,
            "_model_module": "@jupyter-widgets/base",
            "top": null,
            "grid_column": null,
            "overflow_y": null,
            "overflow_x": null,
            "grid_auto_flow": null,
            "grid_area": null,
            "grid_template_columns": null,
            "flex": null,
            "_model_name": "LayoutModel",
            "justify_items": null,
            "grid_row": null,
            "max_height": null,
            "align_content": null,
            "visibility": null,
            "align_self": null,
            "height": null,
            "min_height": null,
            "padding": null,
            "grid_auto_rows": null,
            "grid_gap": null,
            "max_width": null,
            "order": null,
            "_view_module_version": "1.2.0",
            "grid_template_areas": null,
            "object_position": null,
            "object_fit": null,
            "grid_auto_columns": null,
            "margin": null,
            "display": null,
            "left": null
          }
        },
        "8c16aa2bb2684d9095f1a98e70d23df3": {
          "model_module": "@jupyter-widgets/controls",
          "model_name": "DescriptionStyleModel",
          "state": {
            "_view_name": "StyleView",
            "_model_name": "DescriptionStyleModel",
            "description_width": "",
            "_view_module": "@jupyter-widgets/base",
            "_model_module_version": "1.5.0",
            "_view_count": null,
            "_view_module_version": "1.2.0",
            "_model_module": "@jupyter-widgets/controls"
          }
        },
        "4327a37a989f4968b0b603b88706d179": {
          "model_module": "@jupyter-widgets/base",
          "model_name": "LayoutModel",
          "state": {
            "_view_name": "LayoutView",
            "grid_template_rows": null,
            "right": null,
            "justify_content": null,
            "_view_module": "@jupyter-widgets/base",
            "overflow": null,
            "_model_module_version": "1.2.0",
            "_view_count": null,
            "flex_flow": null,
            "width": null,
            "min_width": null,
            "border": null,
            "align_items": null,
            "bottom": null,
            "_model_module": "@jupyter-widgets/base",
            "top": null,
            "grid_column": null,
            "overflow_y": null,
            "overflow_x": null,
            "grid_auto_flow": null,
            "grid_area": null,
            "grid_template_columns": null,
            "flex": null,
            "_model_name": "LayoutModel",
            "justify_items": null,
            "grid_row": null,
            "max_height": null,
            "align_content": null,
            "visibility": null,
            "align_self": null,
            "height": null,
            "min_height": null,
            "padding": null,
            "grid_auto_rows": null,
            "grid_gap": null,
            "max_width": null,
            "order": null,
            "_view_module_version": "1.2.0",
            "grid_template_areas": null,
            "object_position": null,
            "object_fit": null,
            "grid_auto_columns": null,
            "margin": null,
            "display": null,
            "left": null
          }
        },
        "75dd65a6c5424320b2ff91bdef09ce77": {
          "model_module": "@jupyter-widgets/controls",
          "model_name": "HBoxModel",
          "state": {
            "_view_name": "HBoxView",
            "_dom_classes": [],
            "_model_name": "HBoxModel",
            "_view_module": "@jupyter-widgets/controls",
            "_model_module_version": "1.5.0",
            "_view_count": null,
            "_view_module_version": "1.5.0",
            "box_style": "",
            "layout": "IPY_MODEL_88d30b41213b46098335d2902271ae21",
            "_model_module": "@jupyter-widgets/controls",
            "children": [
              "IPY_MODEL_4c9cdf1964bc4bb28db006e96fe8de91",
              "IPY_MODEL_291c8815f8c8440f9bdf2053de3bc8d2"
            ]
          }
        },
        "88d30b41213b46098335d2902271ae21": {
          "model_module": "@jupyter-widgets/base",
          "model_name": "LayoutModel",
          "state": {
            "_view_name": "LayoutView",
            "grid_template_rows": null,
            "right": null,
            "justify_content": null,
            "_view_module": "@jupyter-widgets/base",
            "overflow": null,
            "_model_module_version": "1.2.0",
            "_view_count": null,
            "flex_flow": null,
            "width": null,
            "min_width": null,
            "border": null,
            "align_items": null,
            "bottom": null,
            "_model_module": "@jupyter-widgets/base",
            "top": null,
            "grid_column": null,
            "overflow_y": null,
            "overflow_x": null,
            "grid_auto_flow": null,
            "grid_area": null,
            "grid_template_columns": null,
            "flex": null,
            "_model_name": "LayoutModel",
            "justify_items": null,
            "grid_row": null,
            "max_height": null,
            "align_content": null,
            "visibility": null,
            "align_self": null,
            "height": null,
            "min_height": null,
            "padding": null,
            "grid_auto_rows": null,
            "grid_gap": null,
            "max_width": null,
            "order": null,
            "_view_module_version": "1.2.0",
            "grid_template_areas": null,
            "object_position": null,
            "object_fit": null,
            "grid_auto_columns": null,
            "margin": null,
            "display": null,
            "left": null
          }
        },
        "4c9cdf1964bc4bb28db006e96fe8de91": {
          "model_module": "@jupyter-widgets/controls",
          "model_name": "IntProgressModel",
          "state": {
            "_view_name": "ProgressView",
            "style": "IPY_MODEL_0f1286658dff4f679abee81a0467d994",
            "_dom_classes": [],
            "description": "",
            "_model_name": "IntProgressModel",
            "bar_style": "success",
            "max": 1,
            "_view_module": "@jupyter-widgets/controls",
            "_model_module_version": "1.5.0",
            "value": 1,
            "_view_count": null,
            "_view_module_version": "1.5.0",
            "orientation": "horizontal",
            "min": 0,
            "description_tooltip": null,
            "_model_module": "@jupyter-widgets/controls",
            "layout": "IPY_MODEL_a64a76277f054972aecc2ff7a99215d9"
          }
        },
        "291c8815f8c8440f9bdf2053de3bc8d2": {
          "model_module": "@jupyter-widgets/controls",
          "model_name": "HTMLModel",
          "state": {
            "_view_name": "HTMLView",
            "style": "IPY_MODEL_b26b11bc35984412804ba18caf3541a1",
            "_dom_classes": [],
            "description": "",
            "_model_name": "HTMLModel",
            "placeholder": "​",
            "_view_module": "@jupyter-widgets/controls",
            "_model_module_version": "1.5.0",
            "value": " 8192/? [00:00&lt;00:00, 18310.29it/s]",
            "_view_count": null,
            "_view_module_version": "1.5.0",
            "description_tooltip": null,
            "_model_module": "@jupyter-widgets/controls",
            "layout": "IPY_MODEL_ad5cc58b602447f79a45f5e7f0c6ab34"
          }
        },
        "0f1286658dff4f679abee81a0467d994": {
          "model_module": "@jupyter-widgets/controls",
          "model_name": "ProgressStyleModel",
          "state": {
            "_view_name": "StyleView",
            "_model_name": "ProgressStyleModel",
            "description_width": "initial",
            "_view_module": "@jupyter-widgets/base",
            "_model_module_version": "1.5.0",
            "_view_count": null,
            "_view_module_version": "1.2.0",
            "bar_color": null,
            "_model_module": "@jupyter-widgets/controls"
          }
        },
        "a64a76277f054972aecc2ff7a99215d9": {
          "model_module": "@jupyter-widgets/base",
          "model_name": "LayoutModel",
          "state": {
            "_view_name": "LayoutView",
            "grid_template_rows": null,
            "right": null,
            "justify_content": null,
            "_view_module": "@jupyter-widgets/base",
            "overflow": null,
            "_model_module_version": "1.2.0",
            "_view_count": null,
            "flex_flow": null,
            "width": null,
            "min_width": null,
            "border": null,
            "align_items": null,
            "bottom": null,
            "_model_module": "@jupyter-widgets/base",
            "top": null,
            "grid_column": null,
            "overflow_y": null,
            "overflow_x": null,
            "grid_auto_flow": null,
            "grid_area": null,
            "grid_template_columns": null,
            "flex": null,
            "_model_name": "LayoutModel",
            "justify_items": null,
            "grid_row": null,
            "max_height": null,
            "align_content": null,
            "visibility": null,
            "align_self": null,
            "height": null,
            "min_height": null,
            "padding": null,
            "grid_auto_rows": null,
            "grid_gap": null,
            "max_width": null,
            "order": null,
            "_view_module_version": "1.2.0",
            "grid_template_areas": null,
            "object_position": null,
            "object_fit": null,
            "grid_auto_columns": null,
            "margin": null,
            "display": null,
            "left": null
          }
        },
        "b26b11bc35984412804ba18caf3541a1": {
          "model_module": "@jupyter-widgets/controls",
          "model_name": "DescriptionStyleModel",
          "state": {
            "_view_name": "StyleView",
            "_model_name": "DescriptionStyleModel",
            "description_width": "",
            "_view_module": "@jupyter-widgets/base",
            "_model_module_version": "1.5.0",
            "_view_count": null,
            "_view_module_version": "1.2.0",
            "_model_module": "@jupyter-widgets/controls"
          }
        },
        "ad5cc58b602447f79a45f5e7f0c6ab34": {
          "model_module": "@jupyter-widgets/base",
          "model_name": "LayoutModel",
          "state": {
            "_view_name": "LayoutView",
            "grid_template_rows": null,
            "right": null,
            "justify_content": null,
            "_view_module": "@jupyter-widgets/base",
            "overflow": null,
            "_model_module_version": "1.2.0",
            "_view_count": null,
            "flex_flow": null,
            "width": null,
            "min_width": null,
            "border": null,
            "align_items": null,
            "bottom": null,
            "_model_module": "@jupyter-widgets/base",
            "top": null,
            "grid_column": null,
            "overflow_y": null,
            "overflow_x": null,
            "grid_auto_flow": null,
            "grid_area": null,
            "grid_template_columns": null,
            "flex": null,
            "_model_name": "LayoutModel",
            "justify_items": null,
            "grid_row": null,
            "max_height": null,
            "align_content": null,
            "visibility": null,
            "align_self": null,
            "height": null,
            "min_height": null,
            "padding": null,
            "grid_auto_rows": null,
            "grid_gap": null,
            "max_width": null,
            "order": null,
            "_view_module_version": "1.2.0",
            "grid_template_areas": null,
            "object_position": null,
            "object_fit": null,
            "grid_auto_columns": null,
            "margin": null,
            "display": null,
            "left": null
          }
        }
      }
    }
  },
  "cells": [
    {
      "cell_type": "code",
      "metadata": {
        "id": "XpXmUIl8ETkn",
        "colab_type": "code",
        "colab": {
          "base_uri": "https://localhost:8080/",
          "height": 72
        },
        "outputId": "cf7406a2-8f00-4138-dc4c-07837b3fc1de"
      },
      "source": [
        "import torchvision\n",
        "from PIL import Image\n",
        "\n",
        "import pandas as pd\n",
        "import numpy as np\n",
        "import scipy as sp\n",
        "from scipy import ndimage\n",
        "from scipy.stats import norm\n",
        "import scipy.signal as sig\n",
        "\n",
        "from sklearn.preprocessing import MinMaxScaler\n",
        "from sklearn import metrics\n",
        "from sklearn.metrics import classification_report, confusion_matrix\n",
        "from skimage import io\n",
        "from skimage.feature import hog\n",
        "from sklearn.svm import SVC\n",
        "\n",
        "from matplotlib.pyplot import imshow\n",
        "import matplotlib.pyplot as plt\n",
        "import seaborn as sns\n"
      ],
      "execution_count": 1,
      "outputs": [
        {
          "output_type": "stream",
          "text": [
            "/usr/local/lib/python3.6/dist-packages/statsmodels/tools/_testing.py:19: FutureWarning: pandas.util.testing is deprecated. Use the functions in the public API at pandas.testing instead.\n",
            "  import pandas.util.testing as tm\n"
          ],
          "name": "stderr"
        }
      ]
    },
    {
      "cell_type": "code",
      "metadata": {
        "id": "eYL6yjAOEaPx",
        "colab_type": "code",
        "colab": {}
      },
      "source": [
        "%matplotlib inline"
      ],
      "execution_count": 0,
      "outputs": []
    },
    {
      "cell_type": "markdown",
      "metadata": {
        "id": "iQsMrT4noCaM",
        "colab_type": "text"
      },
      "source": [
        "# **Downloading of Data Set**"
      ]
    },
    {
      "cell_type": "code",
      "metadata": {
        "id": "PQYK8EtPEb1X",
        "colab_type": "code",
        "outputId": "038309ec-602b-4376-e4ef-2996888f2383",
        "colab": {
          "base_uri": "https://localhost:8080/",
          "height": 394,
          "referenced_widgets": [
            "de88387a124d49d4a2a1c8cb3a9ddcd2",
            "58731a34322d4ce2bfc8bc51ca32349e",
            "880a4ef2b01949998d85a6844390d20d",
            "3bfa589b202c4fb4ba62b34967d3d5bd",
            "208f7c680c55484b9e28c40a249edef8",
            "c60ef91f31af407fbf34f3fd076b6b62",
            "339e825485d346d0a5cef5270e8f53ff",
            "a78799c1f47543c0a9ef7f8689cff382",
            "2fcf214081234e35b06100faf2135059",
            "a2e760121cd948a0a616e5e902eb6d58",
            "5839e196ed3440b7960fc494fcee5695",
            "6fe114e3bc5b44e18a1ca26df7aa811a",
            "e0e4deb24b5749b4b906b562505975be",
            "5177dad8bac74fb2bd725c0d3b3dc8e8",
            "0f3b379aac3e420a85544a8ab57e3c3d",
            "9b792eeb9b424a039715455cffc5eb0f",
            "5e573c0b23874b2e830701d34e7e4494",
            "4a22d69eb27440db8026e3f83c8da7c1",
            "b556e28d34ff45f9969798a6c8d3d294",
            "84bd02cd0c354237b3351f5225a4c49e",
            "182832af7f4847b1a00ef1c70c6052c0",
            "e74a1f4bf8bf404b80efd411fbeb02a9",
            "8c16aa2bb2684d9095f1a98e70d23df3",
            "4327a37a989f4968b0b603b88706d179",
            "75dd65a6c5424320b2ff91bdef09ce77",
            "88d30b41213b46098335d2902271ae21",
            "4c9cdf1964bc4bb28db006e96fe8de91",
            "291c8815f8c8440f9bdf2053de3bc8d2",
            "0f1286658dff4f679abee81a0467d994",
            "a64a76277f054972aecc2ff7a99215d9",
            "b26b11bc35984412804ba18caf3541a1",
            "ad5cc58b602447f79a45f5e7f0c6ab34"
          ]
        }
      },
      "source": [
        "# download the Fashion MNIST training data\n",
        "train_dataset = torchvision.datasets.FashionMNIST(root='./', train=True, download=True)\n",
        "\n",
        "# download the Fashion MNIST evaluation data\n",
        "eval_dataset = torchvision.datasets.FashionMNIST(root='./', train=False, download=True)"
      ],
      "execution_count": 3,
      "outputs": [
        {
          "output_type": "stream",
          "text": [
            "Downloading http://fashion-mnist.s3-website.eu-central-1.amazonaws.com/train-images-idx3-ubyte.gz to ./FashionMNIST/raw/train-images-idx3-ubyte.gz\n"
          ],
          "name": "stdout"
        },
        {
          "output_type": "display_data",
          "data": {
            "application/vnd.jupyter.widget-view+json": {
              "model_id": "de88387a124d49d4a2a1c8cb3a9ddcd2",
              "version_minor": 0,
              "version_major": 2
            },
            "text/plain": [
              "HBox(children=(IntProgress(value=1, bar_style='info', max=1), HTML(value='')))"
            ]
          },
          "metadata": {
            "tags": []
          }
        },
        {
          "output_type": "stream",
          "text": [
            "Extracting ./FashionMNIST/raw/train-images-idx3-ubyte.gz to ./FashionMNIST/raw\n",
            "Downloading http://fashion-mnist.s3-website.eu-central-1.amazonaws.com/train-labels-idx1-ubyte.gz to ./FashionMNIST/raw/train-labels-idx1-ubyte.gz\n"
          ],
          "name": "stdout"
        },
        {
          "output_type": "display_data",
          "data": {
            "application/vnd.jupyter.widget-view+json": {
              "model_id": "2fcf214081234e35b06100faf2135059",
              "version_minor": 0,
              "version_major": 2
            },
            "text/plain": [
              "HBox(children=(IntProgress(value=1, bar_style='info', max=1), HTML(value='')))"
            ]
          },
          "metadata": {
            "tags": []
          }
        },
        {
          "output_type": "stream",
          "text": [
            "Extracting ./FashionMNIST/raw/train-labels-idx1-ubyte.gz to ./FashionMNIST/raw\n",
            "Downloading http://fashion-mnist.s3-website.eu-central-1.amazonaws.com/t10k-images-idx3-ubyte.gz to ./FashionMNIST/raw/t10k-images-idx3-ubyte.gz\n"
          ],
          "name": "stdout"
        },
        {
          "output_type": "display_data",
          "data": {
            "application/vnd.jupyter.widget-view+json": {
              "model_id": "5e573c0b23874b2e830701d34e7e4494",
              "version_minor": 0,
              "version_major": 2
            },
            "text/plain": [
              "HBox(children=(IntProgress(value=1, bar_style='info', max=1), HTML(value='')))"
            ]
          },
          "metadata": {
            "tags": []
          }
        },
        {
          "output_type": "stream",
          "text": [
            "Extracting ./FashionMNIST/raw/t10k-images-idx3-ubyte.gz to ./FashionMNIST/raw\n",
            "Downloading http://fashion-mnist.s3-website.eu-central-1.amazonaws.com/t10k-labels-idx1-ubyte.gz to ./FashionMNIST/raw/t10k-labels-idx1-ubyte.gz\n"
          ],
          "name": "stdout"
        },
        {
          "output_type": "display_data",
          "data": {
            "application/vnd.jupyter.widget-view+json": {
              "model_id": "75dd65a6c5424320b2ff91bdef09ce77",
              "version_minor": 0,
              "version_major": 2
            },
            "text/plain": [
              "HBox(children=(IntProgress(value=1, bar_style='info', max=1), HTML(value='')))"
            ]
          },
          "metadata": {
            "tags": []
          }
        },
        {
          "output_type": "stream",
          "text": [
            "Extracting ./FashionMNIST/raw/t10k-labels-idx1-ubyte.gz to ./FashionMNIST/raw\n",
            "Processing...\n",
            "Done!\n",
            "\n",
            "\n",
            "\n"
          ],
          "name": "stdout"
        }
      ]
    },
    {
      "cell_type": "code",
      "metadata": {
        "id": "8hnGThDmqDnR",
        "colab_type": "code",
        "colab": {}
      },
      "source": [
        "labels_dict = {0: \"T-shirt/top\",\n",
        "               1: \"Trouser\",\n",
        "               2: \"Pullover\",\n",
        "               3: \"Dress\",\n",
        "               4: \"Coat\",\n",
        "               5: \"Sandal\",\n",
        "               6: \"Shirt\",\n",
        "               7: \"Sneaker\",\n",
        "               8: \"Bag\",\n",
        "               9: \"Ankle boot\"}"
      ],
      "execution_count": 0,
      "outputs": []
    },
    {
      "cell_type": "markdown",
      "metadata": {
        "id": "rcGoRtieoTlH",
        "colab_type": "text"
      },
      "source": [
        "#**Checking Data**"
      ]
    },
    {
      "cell_type": "code",
      "metadata": {
        "id": "bRw1CYRIoP2_",
        "colab_type": "code",
        "outputId": "35539304-303a-49ee-96f8-48f3d5a97ed9",
        "colab": {
          "base_uri": "https://localhost:8080/",
          "height": 87
        }
      },
      "source": [
        "train_dataset"
      ],
      "execution_count": 5,
      "outputs": [
        {
          "output_type": "execute_result",
          "data": {
            "text/plain": [
              "Dataset FashionMNIST\n",
              "    Number of datapoints: 60000\n",
              "    Root location: ./\n",
              "    Split: Train"
            ]
          },
          "metadata": {
            "tags": []
          },
          "execution_count": 5
        }
      ]
    },
    {
      "cell_type": "code",
      "metadata": {
        "id": "jjyPftHyooa_",
        "colab_type": "code",
        "outputId": "eddc2c00-5901-440e-9031-fca5036a3113",
        "colab": {
          "base_uri": "https://localhost:8080/",
          "height": 87
        }
      },
      "source": [
        "eval_dataset"
      ],
      "execution_count": 6,
      "outputs": [
        {
          "output_type": "execute_result",
          "data": {
            "text/plain": [
              "Dataset FashionMNIST\n",
              "    Number of datapoints: 10000\n",
              "    Root location: ./\n",
              "    Split: Test"
            ]
          },
          "metadata": {
            "tags": []
          },
          "execution_count": 6
        }
      ]
    },
    {
      "cell_type": "code",
      "metadata": {
        "id": "ew2-ih2eElf5",
        "colab_type": "code",
        "outputId": "19e21206-e435-4dbc-d87c-1282636b2fac",
        "colab": {
          "base_uri": "https://localhost:8080/",
          "height": 283
        }
      },
      "source": [
        "image_1, label_1 = train_dataset[0]\n",
        "imshow(np.asarray(image_1),cmap='gray')\n",
        "print(\"Label\",label_1,labels_dict[label_1])"
      ],
      "execution_count": 7,
      "outputs": [
        {
          "output_type": "stream",
          "text": [
            "Label 9 Ankle boot\n"
          ],
          "name": "stdout"
        },
        {
          "output_type": "display_data",
          "data": {
            "image/png": "[encoded data removed]",
            "text/plain": [
              "<Figure size 432x288 with 1 Axes>"
            ]
          },
          "metadata": {
            "tags": [],
            "needs_background": "light"
          }
        }
      ]
    },
    {
      "cell_type": "code",
      "metadata": {
        "id": "NWgcE6At1far",
        "colab_type": "code",
        "outputId": "2dac2e53-7e14-466e-a0bb-6a4f55e99357",
        "colab": {
          "base_uri": "https://localhost:8080/",
          "height": 283
        }
      },
      "source": [
        "blurred_f = ndimage.gaussian_filter(image_1, 1)\n",
        "filter_blurred_f = ndimage.gaussian_filter(blurred_f, 1)\n",
        "alpha = 1\n",
        "sharpened = blurred_f + alpha * (blurred_f - filter_blurred_f)\n",
        "# imshow(blurred_f,cmap='gray')\n",
        "# imshow(filter_blurred_f,cmap='gray')\n",
        "imshow(sharpened,cmap='gray')"
      ],
      "execution_count": 8,
      "outputs": [
        {
          "output_type": "execute_result",
          "data": {
            "text/plain": [
              "<matplotlib.image.AxesImage at 0x7f8d9a5e6b38>"
            ]
          },
          "metadata": {
            "tags": []
          },
          "execution_count": 8
        },
        {
          "output_type": "display_data",
          "data": {
            "image/png": "[encoded data removed]",
            "text/plain": [
              "<Figure size 432x288 with 1 Axes>"
            ]
          },
          "metadata": {
            "tags": [],
            "needs_background": "light"
          }
        }
      ]
    },
    {
      "cell_type": "code",
      "metadata": {
        "id": "w1AF3Oss5dI1",
        "colab_type": "code",
        "outputId": "2ccd9e21-89f1-4539-8cd1-0cb77cdb59de",
        "colab": {
          "base_uri": "https://localhost:8080/",
          "height": 234
        }
      },
      "source": [
        "open_square = ndimage.binary_opening(image_1)\n",
        "\n",
        "eroded_square = ndimage.binary_erosion(image_1)\n",
        "reconstruction = ndimage.binary_propagation(eroded_square, mask=image_1)\n",
        "\n",
        "plt.figure(figsize=(9.5, 3))\n",
        "plt.subplot(131)\n",
        "plt.imshow(image_1, cmap=plt.cm.gray, interpolation='nearest')\n",
        "plt.axis('off')\n",
        "plt.subplot(132)\n",
        "plt.imshow(open_square, cmap=plt.cm.gray, interpolation='nearest')\n",
        "plt.axis('off')\n",
        "plt.subplot(133)\n",
        "plt.imshow(reconstruction, cmap=plt.cm.gray, interpolation='nearest')\n",
        "plt.axis('off')\n",
        "\n",
        "plt.subplots_adjust(wspace=0, hspace=0.02, top=0.99, bottom=0.01, left=0.01, right=0.99)\n",
        "plt.show()"
      ],
      "execution_count": 9,
      "outputs": [
        {
          "output_type": "display_data",
          "data": {
            "image/png": "[encoded data removed]",
            "text/plain": [
              "<Figure size 684x216 with 3 Axes>"
            ]
          },
          "metadata": {
            "tags": [],
            "needs_background": "light"
          }
        }
      ]
    },
    {
      "cell_type": "code",
      "metadata": {
        "id": "14Aloo0T8ZJq",
        "colab_type": "code",
        "outputId": "2ba8b31f-286e-475e-8cbc-96cb2cf8eb68",
        "colab": {
          "base_uri": "https://localhost:8080/",
          "height": 195
        }
      },
      "source": [
        "sx = ndimage.sobel(image_1, axis=0, mode='constant')\n",
        "sy = ndimage.sobel(image_1, axis=1, mode='constant')\n",
        "sob = np.hypot(sx, sy)\n",
        "\n",
        "plt.figure(figsize=(16, 5))\n",
        "plt.subplot(141)\n",
        "plt.imshow(image_1, cmap=plt.cm.gray)\n",
        "plt.axis('off')\n",
        "plt.title('square', fontsize=20)\n",
        "plt.subplot(142)\n",
        "plt.imshow(sx)\n",
        "plt.axis('off')\n",
        "plt.title('Sobel (x direction)', fontsize=20)\n",
        "plt.subplot(143)\n",
        "plt.imshow(sob, cmap='gray')\n",
        "plt.axis('off')\n",
        "plt.title('Sobel filter', fontsize=20)\n",
        "\n",
        "image_1 += 0.07*np.random.random((28,28))\n",
        "\n",
        "sx = ndimage.sobel(image_1, axis=0, mode='constant')\n",
        "sy = ndimage.sobel(image_1, axis=1, mode='constant')\n",
        "sob = np.hypot(sx, sy)\n",
        "\n",
        "plt.subplot(144)\n",
        "plt.imshow(sob)\n",
        "plt.axis('off')\n",
        "plt.title('Sobel for noisy image', fontsize=20)\n",
        "\n",
        "\n",
        "\n",
        "plt.subplots_adjust(wspace=0.02, hspace=0.02, top=1, bottom=0, left=0, right=0.9)\n",
        "\n",
        "plt.show()"
      ],
      "execution_count": 11,
      "outputs": [
        {
          "output_type": "display_data",
          "data": {
            "image/png": "[encoded data removed]",
            "text/plain": [
              "<Figure size 1152x360 with 4 Axes>"
            ]
          },
          "metadata": {
            "tags": [],
            "needs_background": "light"
          }
        }
      ]
    },
    {
      "cell_type": "markdown",
      "metadata": {
        "id": "b_aSrALJz2Z1",
        "colab_type": "text"
      },
      "source": [
        "Testing Sharpened + Sobel filter"
      ]
    },
    {
      "cell_type": "code",
      "metadata": {
        "id": "NuU3JyD5zdqC",
        "colab_type": "code",
        "outputId": "21be233d-bf5a-4a67-ed64-d09cf0c5b1a4",
        "colab": {
          "base_uri": "https://localhost:8080/",
          "height": 195
        }
      },
      "source": [
        "sharpened_test = sharpened.astype('float')\n",
        "\n",
        "sx = ndimage.sobel(sharpened_test, axis=0, mode='constant')\n",
        "sy = ndimage.sobel(sharpened_test, axis=1, mode='constant')\n",
        "sob = np.hypot(sx, sy)\n",
        "\n",
        "plt.figure(figsize=(16, 5))\n",
        "plt.subplot(141)\n",
        "plt.imshow(sharpened_test, cmap=plt.cm.gray)\n",
        "plt.axis('off')\n",
        "plt.title('square', fontsize=20)\n",
        "plt.subplot(142)\n",
        "plt.imshow(sx)\n",
        "plt.axis('off')\n",
        "plt.title('Sobel (x direction)', fontsize=20)\n",
        "plt.subplot(143)\n",
        "plt.imshow(sob, cmap='gray')\n",
        "plt.axis('off')\n",
        "plt.title('Sobel filter', fontsize=20)\n",
        "\n",
        "sharpened_test += 0.07*np.random.random((28,28))\n",
        "\n",
        "sx = ndimage.sobel(sharpened_test, axis=0, mode='constant')\n",
        "sy = ndimage.sobel(sharpened_test, axis=1, mode='constant')\n",
        "sob = np.hypot(sx, sy)\n",
        "\n",
        "plt.subplot(144)\n",
        "plt.imshow(sob)\n",
        "plt.axis('off')\n",
        "plt.title('Sobel for noisy image', fontsize=20)\n",
        "\n",
        "\n",
        "\n",
        "plt.subplots_adjust(wspace=0.02, hspace=0.02, top=1, bottom=0, left=0, right=0.9)\n",
        "\n",
        "plt.show()"
      ],
      "execution_count": 12,
      "outputs": [
        {
          "output_type": "display_data",
          "data": {
            "image/png": "[encoded data removed]",
            "text/plain": [
              "<Figure size 1152x360 with 4 Axes>"
            ]
          },
          "metadata": {
            "tags": [],
            "needs_background": "light"
          }
        }
      ]
    },
    {
      "cell_type": "code",
      "metadata": {
        "id": "XNEErTljquYB",
        "colab_type": "code",
        "outputId": "c1c4bed1-5923-4bc7-e6ba-5f101646441c",
        "colab": {
          "base_uri": "https://localhost:8080/",
          "height": 283
        }
      },
      "source": [
        "image_2, label_2 = train_dataset[99]\n",
        "imshow(np.asarray(image_2),cmap='gray')\n",
        "print(\"Label\",label_2,labels_dict[label_2])"
      ],
      "execution_count": 13,
      "outputs": [
        {
          "output_type": "stream",
          "text": [
            "Label 8 Bag\n"
          ],
          "name": "stdout"
        },
        {
          "output_type": "display_data",
          "data": {
            "image/png": "[encoded data removed]",
            "text/plain": [
              "<Figure size 432x288 with 1 Axes>"
            ]
          },
          "metadata": {
            "tags": [],
            "needs_background": "light"
          }
        }
      ]
    },
    {
      "cell_type": "code",
      "metadata": {
        "id": "JXR2Vews2N37",
        "colab_type": "code",
        "outputId": "732fb2ff-4deb-4e40-8171-19659a837a57",
        "colab": {
          "base_uri": "https://localhost:8080/",
          "height": 229
        }
      },
      "source": [
        "blurred_f = ndimage.gaussian_filter(image_2, 1)\n",
        "filter_blurred_f = ndimage.gaussian_filter(blurred_f, 1)\n",
        "alpha = 1\n",
        "sharpened_1 = blurred_f + alpha * (blurred_f - filter_blurred_f)\n",
        "\n",
        "blurred_f = ndimage.gaussian_filter(image_2, 1)\n",
        "filter_blurred_f = ndimage.gaussian_filter(blurred_f, 2)\n",
        "alpha = 1\n",
        "sharpened_2 = blurred_f + alpha * (blurred_f - filter_blurred_f)\n",
        "\n",
        "blurred_f = ndimage.gaussian_filter(image_2, 1)\n",
        "filter_blurred_f = ndimage.gaussian_filter(blurred_f, 3)\n",
        "alpha = 1\n",
        "sharpened_3 = blurred_f + alpha * (blurred_f - filter_blurred_f)\n",
        "\n",
        "plt.figure(figsize=(12, 4))\n",
        "\n",
        "plt.subplot(131)\n",
        "plt.imshow(sharpened_1, cmap=plt.cm.gray)\n",
        "plt.axis('off')\n",
        "plt.subplot(132)\n",
        "plt.imshow(sharpened_2, cmap=plt.cm.gray)\n",
        "plt.axis('off')\n",
        "plt.subplot(133)\n",
        "plt.imshow(sharpened_3, cmap=plt.cm.gray)\n",
        "plt.axis('off')\n",
        "\n",
        "plt.tight_layout()\n",
        "plt.show()"
      ],
      "execution_count": 14,
      "outputs": [
        {
          "output_type": "display_data",
          "data": {
            "image/png": "[encoded data removed]",
            "text/plain": [
              "<Figure size 864x288 with 3 Axes>"
            ]
          },
          "metadata": {
            "tags": [],
            "needs_background": "light"
          }
        }
      ]
    },
    {
      "cell_type": "code",
      "metadata": {
        "id": "wyNYIZCq50AQ",
        "colab_type": "code",
        "outputId": "2260fa3e-c15a-4fac-bd8d-d174ce2c167f",
        "colab": {
          "base_uri": "https://localhost:8080/",
          "height": 234
        }
      },
      "source": [
        "open_square = ndimage.binary_opening(image_2)\n",
        "\n",
        "eroded_square = ndimage.binary_erosion(image_2)\n",
        "reconstruction = ndimage.binary_propagation(eroded_square, mask=image_2)\n",
        "\n",
        "plt.figure(figsize=(9.5, 3))\n",
        "plt.subplot(131)\n",
        "plt.imshow(image_2, cmap=plt.cm.gray, interpolation='nearest')\n",
        "plt.axis('off')\n",
        "plt.subplot(132)\n",
        "plt.imshow(open_square, cmap=plt.cm.gray, interpolation='nearest')\n",
        "plt.axis('off')\n",
        "plt.subplot(133)\n",
        "plt.imshow(reconstruction, cmap=plt.cm.gray, interpolation='nearest')\n",
        "plt.axis('off')\n",
        "\n",
        "plt.subplots_adjust(wspace=0, hspace=0.02, top=0.99, bottom=0.01, left=0.01, right=0.99)\n",
        "plt.show()"
      ],
      "execution_count": 15,
      "outputs": [
        {
          "output_type": "display_data",
          "data": {
            "image/png": "[encoded data removed]",
            "text/plain": [
              "<Figure size 684x216 with 3 Axes>"
            ]
          },
          "metadata": {
            "tags": [],
            "needs_background": "light"
          }
        }
      ]
    },
    {
      "cell_type": "code",
      "metadata": {
        "id": "DBo6wtgv7BNd",
        "colab_type": "code",
        "outputId": "4b4796fc-6db3-455b-868f-296485188ebe",
        "colab": {
          "base_uri": "https://localhost:8080/",
          "height": 195
        }
      },
      "source": [
        "sx = ndimage.sobel(image_2, axis=0, mode='constant')\n",
        "sy = ndimage.sobel(image_2, axis=1, mode='constant')\n",
        "sob = np.hypot(sx, sy)\n",
        "\n",
        "plt.figure(figsize=(16, 5))\n",
        "plt.subplot(141)\n",
        "plt.imshow(image_2, cmap=plt.cm.gray)\n",
        "plt.axis('off')\n",
        "plt.title('square', fontsize=20)\n",
        "plt.subplot(142)\n",
        "plt.imshow(sx)\n",
        "plt.axis('off')\n",
        "plt.title('Sobel (x direction)', fontsize=20)\n",
        "plt.subplot(143)\n",
        "plt.imshow(sob)\n",
        "plt.axis('off')\n",
        "plt.title('Sobel filter', fontsize=20)\n",
        "\n",
        "image_2 += 0.07*np.random.random((28,28))\n",
        "\n",
        "sx = ndimage.sobel(image_2, axis=0, mode='constant')\n",
        "sy = ndimage.sobel(image_2, axis=1, mode='constant')\n",
        "sob = np.hypot(sx, sy)\n",
        "\n",
        "plt.subplot(144)\n",
        "plt.imshow(sob)\n",
        "plt.axis('off')\n",
        "plt.title('Sobel for noisy image', fontsize=20)\n",
        "\n",
        "\n",
        "\n",
        "plt.subplots_adjust(wspace=0.02, hspace=0.02, top=1, bottom=0, left=0, right=0.9)\n",
        "\n",
        "plt.show()"
      ],
      "execution_count": 17,
      "outputs": [
        {
          "output_type": "display_data",
          "data": {
            "image/png": "[encoded data removed]",
            "text/plain": [
              "<Figure size 1152x360 with 4 Axes>"
            ]
          },
          "metadata": {
            "tags": [],
            "needs_background": "light"
          }
        }
      ]
    },
    {
      "cell_type": "code",
      "metadata": {
        "id": "pk2RTBPWq07O",
        "colab_type": "code",
        "outputId": "90cccd97-c80e-4a16-a478-525712da88a6",
        "colab": {
          "base_uri": "https://localhost:8080/",
          "height": 283
        }
      },
      "source": [
        "image_3, label_3 = train_dataset[402]\n",
        "imshow(np.asarray(image_3),cmap='gray')\n",
        "print(\"Label\",label_3,labels_dict[label_3])"
      ],
      "execution_count": 18,
      "outputs": [
        {
          "output_type": "stream",
          "text": [
            "Label 6 Shirt\n"
          ],
          "name": "stdout"
        },
        {
          "output_type": "display_data",
          "data": {
            "image/png": "[encoded data removed]",
            "text/plain": [
              "<Figure size 432x288 with 1 Axes>"
            ]
          },
          "metadata": {
            "tags": [],
            "needs_background": "light"
          }
        }
      ]
    },
    {
      "cell_type": "code",
      "metadata": {
        "id": "EPHRN0de2cMJ",
        "colab_type": "code",
        "outputId": "4335a25b-8b01-40af-bb52-6919b54fcfd4",
        "colab": {
          "base_uri": "https://localhost:8080/",
          "height": 283
        }
      },
      "source": [
        "blurred_f = ndimage.gaussian_filter(image_3, 1)\n",
        "filter_blurred_f = ndimage.gaussian_filter(blurred_f, 1)\n",
        "alpha = 1\n",
        "sharpened = blurred_f + alpha * (blurred_f - filter_blurred_f)\n",
        "# imshow(blurred_f,cmap='gray')\n",
        "# imshow(filter_blurred_f,cmap='gray')\n",
        "imshow(sharpened,cmap='gray')"
      ],
      "execution_count": 19,
      "outputs": [
        {
          "output_type": "execute_result",
          "data": {
            "text/plain": [
              "<matplotlib.image.AxesImage at 0x7f8d9747f2e8>"
            ]
          },
          "metadata": {
            "tags": []
          },
          "execution_count": 19
        },
        {
          "output_type": "display_data",
          "data": {
            "image/png": "[encoded data removed]",
            "text/plain": [
              "<Figure size 432x288 with 1 Axes>"
            ]
          },
          "metadata": {
            "tags": [],
            "needs_background": "light"
          }
        }
      ]
    },
    {
      "cell_type": "code",
      "metadata": {
        "id": "l-zcDM-e6SH4",
        "colab_type": "code",
        "outputId": "ae0a33c9-f66b-43c3-8d86-24b4f85e4576",
        "colab": {
          "base_uri": "https://localhost:8080/",
          "height": 234
        }
      },
      "source": [
        "open_square = ndimage.binary_opening(image_3)\n",
        "\n",
        "eroded_square = ndimage.binary_erosion(image_3)\n",
        "reconstruction = ndimage.binary_propagation(eroded_square, mask=image_3)\n",
        "\n",
        "plt.figure(figsize=(9.5, 3))\n",
        "plt.subplot(131)\n",
        "plt.imshow(image_3, cmap=plt.cm.gray, interpolation='nearest')\n",
        "plt.axis('off')\n",
        "plt.subplot(132)\n",
        "plt.imshow(open_square, cmap=plt.cm.gray, interpolation='nearest')\n",
        "plt.axis('off')\n",
        "plt.subplot(133)\n",
        "plt.imshow(reconstruction, cmap=plt.cm.gray, interpolation='nearest')\n",
        "plt.axis('off')\n",
        "\n",
        "plt.subplots_adjust(wspace=0, hspace=0.02, top=0.99, bottom=0.01, left=0.01, right=0.99)\n",
        "plt.show()"
      ],
      "execution_count": 20,
      "outputs": [
        {
          "output_type": "display_data",
          "data": {
            "image/png": "[encoded data removed]",
            "text/plain": [
              "<Figure size 684x216 with 3 Axes>"
            ]
          },
          "metadata": {
            "tags": [],
            "needs_background": "light"
          }
        }
      ]
    },
    {
      "cell_type": "code",
      "metadata": {
        "id": "S9bHK6gs80j6",
        "colab_type": "code",
        "outputId": "e1532f6a-1e04-4526-d82b-1e8b4e429a36",
        "colab": {
          "base_uri": "https://localhost:8080/",
          "height": 195
        }
      },
      "source": [
        "sx = ndimage.sobel(image_3, axis=0, mode='constant')\n",
        "sy = ndimage.sobel(image_3, axis=1, mode='constant')\n",
        "sob = np.hypot(sx, sy)\n",
        "\n",
        "plt.figure(figsize=(16, 5))\n",
        "plt.subplot(141)\n",
        "plt.imshow(image_3, cmap=plt.cm.gray)\n",
        "plt.axis('off')\n",
        "plt.title('square', fontsize=20)\n",
        "plt.subplot(142)\n",
        "plt.imshow(sx)\n",
        "plt.axis('off')\n",
        "plt.title('Sobel (x direction)', fontsize=20)\n",
        "plt.subplot(143)\n",
        "plt.imshow(sob)\n",
        "plt.axis('off')\n",
        "plt.title('Sobel filter', fontsize=20)\n",
        "\n",
        "image_3 += 0.07*np.random.random((28,28))\n",
        "\n",
        "sx = ndimage.sobel(image_3, axis=0, mode='constant')\n",
        "sy = ndimage.sobel(image_3, axis=1, mode='constant')\n",
        "sob = np.hypot(sx, sy)\n",
        "\n",
        "plt.subplot(144)\n",
        "plt.imshow(sob)\n",
        "plt.axis('off')\n",
        "plt.title('Sobel for noisy image', fontsize=20)\n",
        "\n",
        "\n",
        "\n",
        "plt.subplots_adjust(wspace=0.02, hspace=0.02, top=1, bottom=0, left=0, right=0.9)\n",
        "\n",
        "plt.show()"
      ],
      "execution_count": 22,
      "outputs": [
        {
          "output_type": "display_data",
          "data": {
            "image/png": "[encoded data removed]",
            "text/plain": [
              "<Figure size 1152x360 with 4 Axes>"
            ]
          },
          "metadata": {
            "tags": [],
            "needs_background": "light"
          }
        }
      ]
    },
    {
      "cell_type": "code",
      "metadata": {
        "id": "vqFf3CX8rDPf",
        "colab_type": "code",
        "outputId": "c3f2c133-33e9-483b-c854-e1a77dc122f6",
        "colab": {
          "base_uri": "https://localhost:8080/",
          "height": 283
        }
      },
      "source": [
        "image_4, label_4 = train_dataset[20432]\n",
        "imshow(np.asarray(image_4),cmap='gray')\n",
        "print(\"Label\",label_4,labels_dict[label_4])"
      ],
      "execution_count": 23,
      "outputs": [
        {
          "output_type": "stream",
          "text": [
            "Label 2 Pullover\n"
          ],
          "name": "stdout"
        },
        {
          "output_type": "display_data",
          "data": {
            "image/png": "[encoded data removed]",
            "text/plain": [
              "<Figure size 432x288 with 1 Axes>"
            ]
          },
          "metadata": {
            "tags": [],
            "needs_background": "light"
          }
        }
      ]
    },
    {
      "cell_type": "code",
      "metadata": {
        "id": "UsC5WOrN4mSz",
        "colab_type": "code",
        "outputId": "b073e0cc-52d8-4b28-d419-7d1553957c6d",
        "colab": {
          "base_uri": "https://localhost:8080/",
          "height": 283
        }
      },
      "source": [
        "blurred_f = ndimage.gaussian_filter(image_4, 1)\n",
        "filter_blurred_f = ndimage.gaussian_filter(blurred_f, 1)\n",
        "alpha = 1\n",
        "sharpened = blurred_f + alpha * (blurred_f - filter_blurred_f)\n",
        "# imshow(blurred_f,cmap='gray')\n",
        "# imshow(filter_blurred_f,cmap='gray')\n",
        "imshow(sharpened,cmap='gray')"
      ],
      "execution_count": 24,
      "outputs": [
        {
          "output_type": "execute_result",
          "data": {
            "text/plain": [
              "<matplotlib.image.AxesImage at 0x7f8d973b72e8>"
            ]
          },
          "metadata": {
            "tags": []
          },
          "execution_count": 24
        },
        {
          "output_type": "display_data",
          "data": {
            "image/png": "[encoded data removed]",
            "text/plain": [
              "<Figure size 432x288 with 1 Axes>"
            ]
          },
          "metadata": {
            "tags": [],
            "needs_background": "light"
          }
        }
      ]
    },
    {
      "cell_type": "code",
      "metadata": {
        "id": "88Lz2Hd06VOp",
        "colab_type": "code",
        "outputId": "a937b187-344a-46ed-c31a-bbab6d3a3de3",
        "colab": {
          "base_uri": "https://localhost:8080/",
          "height": 234
        }
      },
      "source": [
        "open_square = ndimage.binary_opening(image_4)\n",
        "\n",
        "eroded_square = ndimage.binary_erosion(image_4)\n",
        "reconstruction = ndimage.binary_propagation(eroded_square, mask=image_4)\n",
        "\n",
        "plt.figure(figsize=(9.5, 3))\n",
        "plt.subplot(131)\n",
        "plt.imshow(image_4, cmap=plt.cm.gray, interpolation='nearest')\n",
        "plt.axis('off')\n",
        "plt.subplot(132)\n",
        "plt.imshow(open_square, cmap=plt.cm.gray, interpolation='nearest')\n",
        "plt.axis('off')\n",
        "plt.subplot(133)\n",
        "plt.imshow(reconstruction, cmap=plt.cm.gray, interpolation='nearest')\n",
        "plt.axis('off')\n",
        "\n",
        "plt.subplots_adjust(wspace=0, hspace=0.02, top=0.99, bottom=0.01, left=0.01, right=0.99)\n",
        "plt.show()"
      ],
      "execution_count": 25,
      "outputs": [
        {
          "output_type": "display_data",
          "data": {
            "image/png": "[encoded data removed]",
            "text/plain": [
              "<Figure size 684x216 with 3 Axes>"
            ]
          },
          "metadata": {
            "tags": [],
            "needs_background": "light"
          }
        }
      ]
    },
    {
      "cell_type": "code",
      "metadata": {
        "id": "c13_FL-M9EG_",
        "colab_type": "code",
        "outputId": "a95936ee-362f-4376-a18e-43d1503efe55",
        "colab": {
          "base_uri": "https://localhost:8080/",
          "height": 195
        }
      },
      "source": [
        "sx = ndimage.sobel(image_4, axis=0, mode='constant')\n",
        "sy = ndimage.sobel(image_4, axis=1, mode='constant')\n",
        "sob = np.hypot(sx, sy)\n",
        "\n",
        "plt.figure(figsize=(16, 5))\n",
        "plt.subplot(141)\n",
        "plt.imshow(image_4, cmap=plt.cm.gray)\n",
        "plt.axis('off')\n",
        "plt.title('square', fontsize=20)\n",
        "plt.subplot(142)\n",
        "plt.imshow(sx)\n",
        "plt.axis('off')\n",
        "plt.title('Sobel (x direction)', fontsize=20)\n",
        "plt.subplot(143)\n",
        "plt.imshow(sob)\n",
        "plt.axis('off')\n",
        "plt.title('Sobel filter', fontsize=20)\n",
        "\n",
        "image_4 += 0.07*np.random.random((28,28))\n",
        "\n",
        "sx = ndimage.sobel(image_4, axis=0, mode='constant')\n",
        "sy = ndimage.sobel(image_4, axis=1, mode='constant')\n",
        "sob = np.hypot(sx, sy)\n",
        "\n",
        "plt.subplot(144)\n",
        "plt.imshow(sob)\n",
        "plt.axis('off')\n",
        "plt.title('Sobel for noisy image', fontsize=20)\n",
        "\n",
        "\n",
        "\n",
        "plt.subplots_adjust(wspace=0.02, hspace=0.02, top=1, bottom=0, left=0, right=0.9)\n",
        "\n",
        "plt.show()"
      ],
      "execution_count": 27,
      "outputs": [
        {
          "output_type": "display_data",
          "data": {
            "image/png": "[encoded data removed]",
            "text/plain": [
              "<Figure size 1152x360 with 4 Axes>"
            ]
          },
          "metadata": {
            "tags": [],
            "needs_background": "light"
          }
        }
      ]
    },
    {
      "cell_type": "code",
      "metadata": {
        "id": "wOLwyZsO1fKF",
        "colab_type": "code",
        "outputId": "a4e4b816-dbbe-4341-b4f7-585b6b2faa9c",
        "colab": {
          "base_uri": "https://localhost:8080/",
          "height": 195
        }
      },
      "source": [
        "sx = ndimage.sobel(image_4, axis=0, mode='constant')\n",
        "sy = ndimage.sobel(image_4, axis=1, mode='constant')\n",
        "sob = np.hypot(sx, sy)\n",
        "\n",
        "plt.figure(figsize=(16, 5))\n",
        "plt.subplot(141)\n",
        "plt.imshow(image_4, cmap=plt.cm.gray)\n",
        "plt.axis('off')\n",
        "plt.title('square', fontsize=20)\n",
        "plt.subplot(142)\n",
        "plt.imshow(sx)\n",
        "plt.axis('off')\n",
        "plt.title('Sobel (x direction)', fontsize=20)\n",
        "plt.subplot(143)\n",
        "plt.imshow(sob)\n",
        "plt.axis('off')\n",
        "plt.title('Sobel filter', fontsize=20)\n",
        "\n",
        "image_4 += 0.07*np.random.random((28,28))\n",
        "\n",
        "sx = ndimage.sobel(image_4, axis=0, mode='constant')\n",
        "sy = ndimage.sobel(image_4, axis=1, mode='constant')\n",
        "sob = np.hypot(sx, sy)\n",
        "\n",
        "plt.subplot(144)\n",
        "plt.imshow(sob)\n",
        "plt.axis('off')\n",
        "plt.title('Sobel for noisy image', fontsize=20)\n",
        "\n",
        "\n",
        "\n",
        "plt.subplots_adjust(wspace=0.02, hspace=0.02, top=1, bottom=0, left=0, right=0.9)\n",
        "\n",
        "plt.show()"
      ],
      "execution_count": 28,
      "outputs": [
        {
          "output_type": "display_data",
          "data": {
            "image/png": "[encoded data removed]",
            "text/plain": [
              "<Figure size 1152x360 with 4 Axes>"
            ]
          },
          "metadata": {
            "tags": [],
            "needs_background": "light"
          }
        }
      ]
    },
    {
      "cell_type": "markdown",
      "metadata": {
        "id": "vR66I2igrZAe",
        "colab_type": "text"
      },
      "source": [
        "# **Preparing Data**\n",
        "Creating Dataframes"
      ]
    },
    {
      "cell_type": "code",
      "metadata": {
        "id": "ZyXLL7lqrgZp",
        "colab_type": "code",
        "colab": {}
      },
      "source": [
        "train_images = train_dataset.data.numpy().reshape(-1,28*28)\n",
        "train_labels = train_dataset.targets.data.numpy()"
      ],
      "execution_count": 0,
      "outputs": []
    },
    {
      "cell_type": "code",
      "metadata": {
        "id": "ohKfnzmIsknJ",
        "colab_type": "code",
        "outputId": "2d8b6922-07c5-42bf-863a-f359e42973cc",
        "colab": {
          "base_uri": "https://localhost:8080/",
          "height": 35
        }
      },
      "source": [
        "train_images.shape"
      ],
      "execution_count": 38,
      "outputs": [
        {
          "output_type": "execute_result",
          "data": {
            "text/plain": [
              "(60000, 784)"
            ]
          },
          "metadata": {
            "tags": []
          },
          "execution_count": 38
        }
      ]
    },
    {
      "cell_type": "code",
      "metadata": {
        "id": "Y04wZNYqsupX",
        "colab_type": "code",
        "outputId": "97e96e69-a5cc-44af-e592-e8d2cb950419",
        "colab": {
          "base_uri": "https://localhost:8080/",
          "height": 35
        }
      },
      "source": [
        "train_labels.shape"
      ],
      "execution_count": 31,
      "outputs": [
        {
          "output_type": "execute_result",
          "data": {
            "text/plain": [
              "(60000,)"
            ]
          },
          "metadata": {
            "tags": []
          },
          "execution_count": 31
        }
      ]
    },
    {
      "cell_type": "code",
      "metadata": {
        "id": "jO5avgcEJygp",
        "colab_type": "code",
        "colab": {}
      },
      "source": [
        "train_labels_df = pd.DataFrame(train_labels,columns=[\"class\"])"
      ],
      "execution_count": 0,
      "outputs": []
    },
    {
      "cell_type": "code",
      "metadata": {
        "id": "KpmZ6oGGKqv1",
        "colab_type": "code",
        "colab": {
          "base_uri": "https://localhost:8080/",
          "height": 203
        },
        "outputId": "3f94845c-47e5-4a81-aec5-43776615db76"
      },
      "source": [
        "train_labels_df.head()"
      ],
      "execution_count": 50,
      "outputs": [
        {
          "output_type": "execute_result",
          "data": {
            "text/html": [
              "<div>\n",
              "<style scoped>\n",
              "    .dataframe tbody tr th:only-of-type {\n",
              "        vertical-align: middle;\n",
              "    }\n",
              "\n",
              "    .dataframe tbody tr th {\n",
              "        vertical-align: top;\n",
              "    }\n",
              "\n",
              "    .dataframe thead th {\n",
              "        text-align: right;\n",
              "    }\n",
              "</style>\n",
              "<table border=\"1\" class=\"dataframe\">\n",
              "  <thead>\n",
              "    <tr style=\"text-align: right;\">\n",
              "      <th></th>\n",
              "      <th>class</th>\n",
              "    </tr>\n",
              "  </thead>\n",
              "  <tbody>\n",
              "    <tr>\n",
              "      <th>0</th>\n",
              "      <td>9</td>\n",
              "    </tr>\n",
              "    <tr>\n",
              "      <th>1</th>\n",
              "      <td>0</td>\n",
              "    </tr>\n",
              "    <tr>\n",
              "      <th>2</th>\n",
              "      <td>0</td>\n",
              "    </tr>\n",
              "    <tr>\n",
              "      <th>3</th>\n",
              "      <td>3</td>\n",
              "    </tr>\n",
              "    <tr>\n",
              "      <th>4</th>\n",
              "      <td>0</td>\n",
              "    </tr>\n",
              "  </tbody>\n",
              "</table>\n",
              "</div>"
            ],
            "text/plain": [
              "   class\n",
              "0      9\n",
              "1      0\n",
              "2      0\n",
              "3      3\n",
              "4      0"
            ]
          },
          "metadata": {
            "tags": []
          },
          "execution_count": 50
        }
      ]
    },
    {
      "cell_type": "code",
      "metadata": {
        "id": "mFykg6XQsys-",
        "colab_type": "code",
        "colab": {}
      },
      "source": [
        "eval_images = eval_dataset.data.numpy().reshape(-1,28*28)\n",
        "eval_labels = eval_dataset.targets.data.numpy()"
      ],
      "execution_count": 0,
      "outputs": []
    },
    {
      "cell_type": "code",
      "metadata": {
        "id": "_ZOOzfAts08u",
        "colab_type": "code",
        "outputId": "949e9ff3-aaeb-45c9-a231-4e8df35de7eb",
        "colab": {
          "base_uri": "https://localhost:8080/",
          "height": 35
        }
      },
      "source": [
        "eval_images.shape"
      ],
      "execution_count": 40,
      "outputs": [
        {
          "output_type": "execute_result",
          "data": {
            "text/plain": [
              "(10000, 784)"
            ]
          },
          "metadata": {
            "tags": []
          },
          "execution_count": 40
        }
      ]
    },
    {
      "cell_type": "code",
      "metadata": {
        "id": "3fOmqBRLs4eG",
        "colab_type": "code",
        "outputId": "8480053b-de0d-4409-a44b-0446b25d4a69",
        "colab": {
          "base_uri": "https://localhost:8080/",
          "height": 35
        }
      },
      "source": [
        "eval_labels.shape"
      ],
      "execution_count": 34,
      "outputs": [
        {
          "output_type": "execute_result",
          "data": {
            "text/plain": [
              "(10000,)"
            ]
          },
          "metadata": {
            "tags": []
          },
          "execution_count": 34
        }
      ]
    },
    {
      "cell_type": "code",
      "metadata": {
        "id": "k1FR7sa5K1jn",
        "colab_type": "code",
        "colab": {}
      },
      "source": [
        "eval_labels_df = pd.DataFrame(eval_labels,columns=[\"class\"])"
      ],
      "execution_count": 0,
      "outputs": []
    },
    {
      "cell_type": "code",
      "metadata": {
        "id": "H5sCtWyOK6vG",
        "colab_type": "code",
        "colab": {
          "base_uri": "https://localhost:8080/",
          "height": 203
        },
        "outputId": "e58c2578-e975-459f-f7b5-1802521ae15f"
      },
      "source": [
        "eval_labels_df.head()"
      ],
      "execution_count": 52,
      "outputs": [
        {
          "output_type": "execute_result",
          "data": {
            "text/html": [
              "<div>\n",
              "<style scoped>\n",
              "    .dataframe tbody tr th:only-of-type {\n",
              "        vertical-align: middle;\n",
              "    }\n",
              "\n",
              "    .dataframe tbody tr th {\n",
              "        vertical-align: top;\n",
              "    }\n",
              "\n",
              "    .dataframe thead th {\n",
              "        text-align: right;\n",
              "    }\n",
              "</style>\n",
              "<table border=\"1\" class=\"dataframe\">\n",
              "  <thead>\n",
              "    <tr style=\"text-align: right;\">\n",
              "      <th></th>\n",
              "      <th>class</th>\n",
              "    </tr>\n",
              "  </thead>\n",
              "  <tbody>\n",
              "    <tr>\n",
              "      <th>0</th>\n",
              "      <td>9</td>\n",
              "    </tr>\n",
              "    <tr>\n",
              "      <th>1</th>\n",
              "      <td>2</td>\n",
              "    </tr>\n",
              "    <tr>\n",
              "      <th>2</th>\n",
              "      <td>1</td>\n",
              "    </tr>\n",
              "    <tr>\n",
              "      <th>3</th>\n",
              "      <td>1</td>\n",
              "    </tr>\n",
              "    <tr>\n",
              "      <th>4</th>\n",
              "      <td>6</td>\n",
              "    </tr>\n",
              "  </tbody>\n",
              "</table>\n",
              "</div>"
            ],
            "text/plain": [
              "   class\n",
              "0      9\n",
              "1      2\n",
              "2      1\n",
              "3      1\n",
              "4      6"
            ]
          },
          "metadata": {
            "tags": []
          },
          "execution_count": 52
        }
      ]
    },
    {
      "cell_type": "markdown",
      "metadata": {
        "id": "XemhfZbl0K97",
        "colab_type": "text"
      },
      "source": [
        "# **1. SVM with PCA**"
      ]
    },
    {
      "cell_type": "code",
      "metadata": {
        "id": "x9dTMRk8EKoS",
        "colab_type": "code",
        "colab": {}
      },
      "source": [
        "from sklearn.preprocessing import StandardScaler\n",
        "from sklearn.decomposition import PCA"
      ],
      "execution_count": 0,
      "outputs": []
    },
    {
      "cell_type": "code",
      "metadata": {
        "id": "d1_u2bmnENNJ",
        "colab_type": "code",
        "colab": {}
      },
      "source": [
        "standardized_train_images = StandardScaler().fit_transform(train_images)\n",
        "#Test it with TSNE later\n",
        "pca = PCA()\n",
        "pca.n_components = 2\n",
        "pca_train_images = pca.fit_transform(standardized_train_images)\n",
        "\n",
        "standardized_eval_images = StandardScaler().fit_transform(eval_images)\n",
        "\n",
        "pca = PCA()\n",
        "pca.n_components = 2\n",
        "pca_eval_images = pca.fit_transform(standardized_eval_images)"
      ],
      "execution_count": 0,
      "outputs": []
    },
    {
      "cell_type": "code",
      "metadata": {
        "id": "h-HaacS05Iej",
        "colab_type": "code",
        "colab": {}
      },
      "source": [
        "svm = SVC(kernel='linear', random_state=42)"
      ],
      "execution_count": 0,
      "outputs": []
    },
    {
      "cell_type": "code",
      "metadata": {
        "id": "kfD8wSlAJWTz",
        "colab_type": "code",
        "colab": {}
      },
      "source": [
        "pca_train_images_df = pd.DataFrame(pca_train_images,columns=(\"1st principal\",\"2nd principal\"))"
      ],
      "execution_count": 0,
      "outputs": []
    },
    {
      "cell_type": "code",
      "metadata": {
        "id": "jFceNgp-EDRq",
        "colab_type": "code",
        "colab": {
          "base_uri": "https://localhost:8080/",
          "height": 87
        },
        "outputId": "9993b6ee-0fde-47ba-aba4-b3260c27d789"
      },
      "source": [
        "svm.fit(pca_train_images,train_labels)"
      ],
      "execution_count": 55,
      "outputs": [
        {
          "output_type": "execute_result",
          "data": {
            "text/plain": [
              "SVC(C=1.0, break_ties=False, cache_size=200, class_weight=None, coef0=0.0,\n",
              "    decision_function_shape='ovr', degree=3, gamma='scale', kernel='linear',\n",
              "    max_iter=-1, probability=False, random_state=42, shrinking=True, tol=0.001,\n",
              "    verbose=False)"
            ]
          },
          "metadata": {
            "tags": []
          },
          "execution_count": 55
        }
      ]
    },
    {
      "cell_type": "code",
      "metadata": {
        "id": "zm7CQsxwMi9r",
        "colab_type": "code",
        "colab": {}
      },
      "source": [
        "y_pred_1 = svm.predict(pca_eval_images)"
      ],
      "execution_count": 0,
      "outputs": []
    },
    {
      "cell_type": "code",
      "metadata": {
        "id": "SgM-jllJNCfq",
        "colab_type": "code",
        "colab": {
          "base_uri": "https://localhost:8080/",
          "height": 35
        },
        "outputId": "a731d030-ba28-4bf3-f358-c9905756ac9c"
      },
      "source": [
        "y_pred_1"
      ],
      "execution_count": 61,
      "outputs": [
        {
          "output_type": "execute_result",
          "data": {
            "text/plain": [
              "array([7, 2, 1, ..., 0, 1, 5])"
            ]
          },
          "metadata": {
            "tags": []
          },
          "execution_count": 61
        }
      ]
    },
    {
      "cell_type": "code",
      "metadata": {
        "id": "5X9FfygvNEgP",
        "colab_type": "code",
        "colab": {
          "base_uri": "https://localhost:8080/",
          "height": 35
        },
        "outputId": "cf709685-b75c-4123-d35f-589d634834d3"
      },
      "source": [
        "eval_labels"
      ],
      "execution_count": 62,
      "outputs": [
        {
          "output_type": "execute_result",
          "data": {
            "text/plain": [
              "array([9, 2, 1, ..., 8, 1, 5])"
            ]
          },
          "metadata": {
            "tags": []
          },
          "execution_count": 62
        }
      ]
    },
    {
      "cell_type": "code",
      "metadata": {
        "id": "UBN0RNVmNIQC",
        "colab_type": "code",
        "colab": {
          "base_uri": "https://localhost:8080/",
          "height": 35
        },
        "outputId": "3e6e5c82-cbbd-4e8a-8a90-a682d08a74de"
      },
      "source": [
        "print('Model classification accuracy: {}%'.format(str(metrics.accuracy_score(eval_labels, y_pred_1) * 100)))"
      ],
      "execution_count": 63,
      "outputs": [
        {
          "output_type": "stream",
          "text": [
            "Model classification accuracy: 51.370000000000005%\n"
          ],
          "name": "stdout"
        }
      ]
    }
  ]
}