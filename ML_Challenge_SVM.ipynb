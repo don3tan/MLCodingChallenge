{
  "nbformat": 4,
  "nbformat_minor": 0,
  "metadata": {
    "colab": {
      "name": "ML Challenge SVM.ipynb",
      "provenance": [],
      "collapsed_sections": [],
      "authorship_tag": "ABX9TyN1uN8VscSkupKNR6HCUr5w",
      "include_colab_link": true
    },
    "kernelspec": {
      "name": "python3",
      "display_name": "Python 3"
    }
  },
  "cells": [
    {
      "cell_type": "markdown",
      "metadata": {
        "id": "view-in-github",
        "colab_type": "text"
      },
      "source": [
        "<a href=\"https://colab.research.google.com/github/don3tan/MLCodingChallenge/blob/master/ML_Challenge_SVM.ipynb\" target=\"_parent\"><img src=\"https://colab.research.google.com/assets/colab-badge.svg\" alt=\"Open In Colab\"/></a>"
      ]
    },
    {
      "cell_type": "markdown",
      "metadata": {
        "id": "XrX6EDtjvxQM",
        "colab_type": "text"
      },
      "source": [
        "# ML Coding Challenge SVM Notebook - Group: Strangers\n",
        "> Ning Natalie Lee, Wan Ting Lee, Don Kuk Jun Tan, Martin Klapper\n"
      ]
    },
    {
      "cell_type": "markdown",
      "metadata": {
        "id": "3RDoo7CGw4r3",
        "colab_type": "text"
      },
      "source": [
        "# 1. Preparations"
      ]
    },
    {
      "cell_type": "markdown",
      "metadata": {
        "id": "wd5d8eYvw-4R",
        "colab_type": "text"
      },
      "source": [
        "> ## 1.1 Importing Libraries + Prepare Dataset Download\n"
      ]
    },
    {
      "cell_type": "code",
      "metadata": {
        "id": "UFmOcHDGw3ho",
        "colab_type": "code",
        "colab": {
          "base_uri": "https://localhost:8080/",
          "height": 52
        },
        "outputId": "17b53993-1876-4cfc-9978-8837070675e1"
      },
      "source": [
        "import pandas as pd\n",
        "import numpy as np\n",
        "\n",
        "from sklearn.model_selection import GridSearchCV\n",
        "from sklearn.svm import SVC\n",
        "from skimage.feature import hog\n",
        "from sklearn.metrics import accuracy_score, confusion_matrix\n",
        "\n",
        "import matplotlib.pyplot as plt\n",
        "import seaborn as sns"
      ],
      "execution_count": 56,
      "outputs": [
        {
          "output_type": "stream",
          "text": [
            "/usr/local/lib/python3.6/dist-packages/statsmodels/tools/_testing.py:19: FutureWarning: pandas.util.testing is deprecated. Use the functions in the public API at pandas.testing instead.\n",
            "  import pandas.util.testing as tm\n"
          ],
          "name": "stderr"
        }
      ]
    },
    {
      "cell_type": "markdown",
      "metadata": {
        "id": "swZ33Ae0xPcn",
        "colab_type": "text"
      },
      "source": [
        "> ## 1.2 Confusion Matrix Labels"
      ]
    },
    {
      "cell_type": "code",
      "metadata": {
        "id": "bynk5wEHxMrw",
        "colab_type": "code",
        "colab": {}
      },
      "source": [
        "labels_dict = {0: \"T-shirt/top\",\n",
        "               1: \"Trouser\",\n",
        "               2: \"Pullover\",\n",
        "               3: \"Dress\",\n",
        "               4: \"Coat\",\n",
        "               5: \"Sandal\",\n",
        "               6: \"Shirt\",\n",
        "               7: \"Sneaker\",\n",
        "               8: \"Bag\",\n",
        "               9: \"Ankle boot\"}"
      ],
      "execution_count": 0,
      "outputs": []
    },
    {
      "cell_type": "markdown",
      "metadata": {
        "id": "fCetun7B9T32",
        "colab_type": "text"
      },
      "source": [
        "> ## 1.3 Remaining Setup Parameters"
      ]
    },
    {
      "cell_type": "code",
      "metadata": {
        "id": "0glI8YJj9Yd7",
        "colab_type": "code",
        "colab": {}
      },
      "source": [
        "random_state = 42"
      ],
      "execution_count": 0,
      "outputs": []
    },
    {
      "cell_type": "markdown",
      "metadata": {
        "id": "Kr7PmBjFMyIN",
        "colab_type": "text"
      },
      "source": [
        "# 2. Data Preparation"
      ]
    },
    {
      "cell_type": "markdown",
      "metadata": {
        "id": "E-LYZAOXOgYj",
        "colab_type": "text"
      },
      "source": [
        "> ## 2.1 Dataset Download"
      ]
    },
    {
      "cell_type": "code",
      "metadata": {
        "id": "QqRdpdG8YGcq",
        "colab_type": "code",
        "outputId": "78265405-da53-46b2-b756-d9e8c4064406",
        "colab": {
          "base_uri": "https://localhost:8080/",
          "height": 104
        }
      },
      "source": [
        "!git clone https://github.com/zalandoresearch/fashion-mnist.git"
      ],
      "execution_count": 5,
      "outputs": [
        {
          "output_type": "stream",
          "text": [
            "Cloning into 'fashion-mnist'...\n",
            "remote: Enumerating objects: 688, done.\u001b[K\n",
            "remote: Total 688 (delta 0), reused 0 (delta 0), pack-reused 688\u001b[K\n",
            "Receiving objects: 100% (688/688), 105.20 MiB | 13.28 MiB/s, done.\n",
            "Resolving deltas: 100% (397/397), done.\n"
          ],
          "name": "stdout"
        }
      ]
    },
    {
      "cell_type": "code",
      "metadata": {
        "id": "1Kl3nzv5kKxR",
        "colab_type": "code",
        "outputId": "d6ebc494-c34f-498e-d3cc-a8737dc6531a",
        "colab": {
          "base_uri": "https://localhost:8080/",
          "height": 34
        }
      },
      "source": [
        "%cd /content/fashion-mnist/utils/\n",
        "import mnist_reader"
      ],
      "execution_count": 6,
      "outputs": [
        {
          "output_type": "stream",
          "text": [
            "/content/fashion-mnist/utils\n"
          ],
          "name": "stdout"
        }
      ]
    },
    {
      "cell_type": "code",
      "metadata": {
        "id": "hASjiAbBkKLw",
        "colab_type": "code",
        "outputId": "8e391bad-45a1-4b32-e54c-0682a76ea861",
        "colab": {
          "base_uri": "https://localhost:8080/",
          "height": 34
        }
      },
      "source": [
        "%cd"
      ],
      "execution_count": 7,
      "outputs": [
        {
          "output_type": "stream",
          "text": [
            "/root\n"
          ],
          "name": "stdout"
        }
      ]
    },
    {
      "cell_type": "code",
      "metadata": {
        "id": "8_OIu-otZNjA",
        "colab_type": "code",
        "colab": {}
      },
      "source": [
        "x_train, y_train = mnist_reader.load_mnist('/content/fashion-mnist/data/fashion', kind='train')\n",
        "x_test, y_test = mnist_reader.load_mnist('/content/fashion-mnist/data/fashion', kind='t10k')"
      ],
      "execution_count": 0,
      "outputs": []
    },
    {
      "cell_type": "code",
      "metadata": {
        "id": "w8d-vzj4Zbhj",
        "colab_type": "code",
        "colab": {}
      },
      "source": [
        "x_train = x_train.astype('float32')\n",
        "y_train = y_train.astype('int')\n",
        "\n",
        "x_test = x_test.astype('float32')\n",
        "y_test = y_test.astype('int')"
      ],
      "execution_count": 0,
      "outputs": []
    },
    {
      "cell_type": "markdown",
      "metadata": {
        "id": "rtp8N_c8Oa0x",
        "colab_type": "text"
      },
      "source": [
        "> ## 2.2 Simple Data 'Normalizing'\n",
        ">> 0<= Pixel Value <= 1"
      ]
    },
    {
      "cell_type": "code",
      "metadata": {
        "id": "vFqzWF4EOYVs",
        "colab_type": "code",
        "colab": {}
      },
      "source": [
        "x_train = x_train / 255\n",
        "\n",
        "x_test = x_test / 255"
      ],
      "execution_count": 0,
      "outputs": []
    },
    {
      "cell_type": "markdown",
      "metadata": {
        "id": "ANSXtkr8f0xY",
        "colab_type": "text"
      },
      "source": [
        "# 3. Feature Extraction (HOG)\n",
        "> credit: Martin Klapper, Don Kuk Jun Tan"
      ]
    },
    {
      "cell_type": "code",
      "metadata": {
        "id": "mI4L4PQxqyRU",
        "colab_type": "code",
        "colab": {}
      },
      "source": [
        "x_train_hog = []\n",
        "x_test_hog = []\n",
        "for a, image in enumerate(x_train):\n",
        "  train_hog = hog(image.reshape(28,28), orientations = 8, pixels_per_cell = (4,2), cells_per_block = (1,1))\n",
        "  x_train_hog.append(train_hog)\n",
        "\n",
        "for b, image in enumerate(x_test):\n",
        "  test_hog = hog(image.reshape(28,28), orientations = 8, pixels_per_cell = (4,2), cells_per_block = (1,1))\n",
        "  x_test_hog.append(test_hog)"
      ],
      "execution_count": 0,
      "outputs": []
    },
    {
      "cell_type": "markdown",
      "metadata": {
        "id": "RBPBwNB_MY3s",
        "colab_type": "text"
      },
      "source": [
        "# 4. Support Vector Machine Training & Prediction\n",
        "> credit: Martin Klapper"
      ]
    },
    {
      "cell_type": "code",
      "metadata": {
        "id": "wo8bHswwrD0d",
        "colab_type": "code",
        "colab": {
          "base_uri": "https://localhost:8080/",
          "height": 34
        },
        "outputId": "18df99b1-787b-415b-9224-3c9405423838"
      },
      "source": [
        "svm = SVC(C = 4, kernel = 'rbf', gamma = 'scale', cache_size = 8192, random_state = random_state)\n",
        "\n",
        "svm.fit(x_train_hog, y_train)\n",
        "predict = svm.predict(x_test_hog)\n",
        "\n",
        "print('Accuracy: {}%'.format(str(accuracy_score(y_test, predict) * 100)))"
      ],
      "execution_count": 40,
      "outputs": [
        {
          "output_type": "stream",
          "text": [
            "Accuracy: 90.05%\n"
          ],
          "name": "stdout"
        }
      ]
    },
    {
      "cell_type": "markdown",
      "metadata": {
        "id": "AxtsPP90Mqbv",
        "colab_type": "text"
      },
      "source": [
        "# 5. Visualizing the result\n",
        "> credit : Martin Klapper, Don Kuk Jun Tan"
      ]
    },
    {
      "cell_type": "code",
      "metadata": {
        "id": "HF3AI4tk4Z0E",
        "colab_type": "code",
        "colab": {
          "base_uri": "https://localhost:8080/",
          "height": 642
        },
        "outputId": "37627f36-0001-456c-8d1f-e2cc3ed8dfc4"
      },
      "source": [
        "matrix = confusion_matrix(y_test, predict)\n",
        "\n",
        "plt.figure(figsize=(10, 10))\n",
        "\n",
        "# plot confusion matrix heatmap\n",
        "sns.heatmap(matrix.T, square=True, annot=True, fmt='d', cbar=False, cmap='BuGn_r', xticklabels=labels_dict, yticklabels=labels_dict)\n",
        "\n",
        "# add plot axis labels\n",
        "plt.xlabel('[true class label $y_{i}$]')\n",
        "plt.ylabel('[predicted class label $y_{i}\\'$]')\n",
        "\n",
        "# add plot title\n",
        "plt.title('SVM Predictions - Confusion Matrix')"
      ],
      "execution_count": 57,
      "outputs": [
        {
          "output_type": "execute_result",
          "data": {
            "text/plain": [
              "Text(0.5, 1.0, 'SVM Predictions - Confusion Matrix')"
            ]
          },
          "metadata": {
            "tags": []
          },
          "execution_count": 57
        },
        {
          "output_type": "display_data",
          "data": {
            "image/png": "[encoded data removed]",
            "text/plain": [
              "<Figure size 720x720 with 1 Axes>"
            ]
          },
          "metadata": {
            "tags": [],
            "needs_background": "light"
          }
        }
      ]
    },
    {
      "cell_type": "code",
      "metadata": {
        "id": "JK0P5FiRFLt2",
        "colab_type": "code",
        "colab": {
          "base_uri": "https://localhost:8080/",
          "height": 417
        },
        "outputId": "c0fac94c-aaa3-4c5a-8710-b003e904690f"
      },
      "source": [
        "orientations = [10]\n",
        "pixels_per_cell = [(4,4), (7,2), (7,7)]\n",
        "\n",
        "classifier = SVC(kernel = 'rbf', random_state = random_state, cache_size = 8192)\n",
        "parameters = {'C':[1, 5, 8, 9, 10, 11, 12, 15], 'gamma':['auto', 'scale']}\n",
        "\n",
        "clf = GridSearchCV(classifier, param_grid = parameters, verbose = 10, n_jobs = -1)\n",
        "\n",
        "for i in orientations:\n",
        "  for j in pixels_per_cell:\n",
        "    x_train_hog = []\n",
        "    x_test_hog = []\n",
        "    for a, image in enumerate(x_train):\n",
        "      train_hog = hog(image.reshape(28,28), orientations = i, pixels_per_cell = j, cells_per_block = (1,1))\n",
        "      x_train_hog.append(train_hog)\n",
        "\n",
        "    for b, image in enumerate(x_test):\n",
        "      test_hog = hog(image.reshape(28,28), orientations = i, pixels_per_cell = j, cells_per_block = (1,1))\n",
        "      x_test_hog.append(test_hog)\n",
        "\n",
        "    clf.fit(x_train_hog, y_train)\n",
        "    print(i,j)\n",
        "    print(clf.best_estimator_, clf.best_score_)"
      ],
      "execution_count": 53,
      "outputs": [
        {
          "output_type": "error",
          "ename": "KeyboardInterrupt",
          "evalue": "ignored",
          "traceback": [
            "\u001b[0;31m---------------------------------------------------------------------------\u001b[0m",
            "\u001b[0;31mKeyboardInterrupt\u001b[0m                         Traceback (most recent call last)",
            "\u001b[0;32m<ipython-input-53-afe2eb1ed7d0>\u001b[0m in \u001b[0;36m<module>\u001b[0;34m()\u001b[0m\n\u001b[1;32m     12\u001b[0m     \u001b[0mx_test_hog\u001b[0m \u001b[0;34m=\u001b[0m \u001b[0;34m[\u001b[0m\u001b[0;34m]\u001b[0m\u001b[0;34m\u001b[0m\u001b[0;34m\u001b[0m\u001b[0m\n\u001b[1;32m     13\u001b[0m     \u001b[0;32mfor\u001b[0m \u001b[0ma\u001b[0m\u001b[0;34m,\u001b[0m \u001b[0mimage\u001b[0m \u001b[0;32min\u001b[0m \u001b[0menumerate\u001b[0m\u001b[0;34m(\u001b[0m\u001b[0mx_train\u001b[0m\u001b[0;34m)\u001b[0m\u001b[0;34m:\u001b[0m\u001b[0;34m\u001b[0m\u001b[0;34m\u001b[0m\u001b[0m\n\u001b[0;32m---> 14\u001b[0;31m       \u001b[0mtrain_hog\u001b[0m \u001b[0;34m=\u001b[0m \u001b[0mhog\u001b[0m\u001b[0;34m(\u001b[0m\u001b[0mimage\u001b[0m\u001b[0;34m.\u001b[0m\u001b[0mreshape\u001b[0m\u001b[0;34m(\u001b[0m\u001b[0;36m28\u001b[0m\u001b[0;34m,\u001b[0m\u001b[0;36m28\u001b[0m\u001b[0;34m)\u001b[0m\u001b[0;34m,\u001b[0m \u001b[0morientations\u001b[0m \u001b[0;34m=\u001b[0m \u001b[0mi\u001b[0m\u001b[0;34m,\u001b[0m \u001b[0mpixels_per_cell\u001b[0m \u001b[0;34m=\u001b[0m \u001b[0mj\u001b[0m\u001b[0;34m,\u001b[0m \u001b[0mcells_per_block\u001b[0m \u001b[0;34m=\u001b[0m \u001b[0;34m(\u001b[0m\u001b[0;36m1\u001b[0m\u001b[0;34m,\u001b[0m\u001b[0;36m1\u001b[0m\u001b[0;34m)\u001b[0m\u001b[0;34m)\u001b[0m\u001b[0;34m\u001b[0m\u001b[0;34m\u001b[0m\u001b[0m\n\u001b[0m\u001b[1;32m     15\u001b[0m       \u001b[0mx_train_hog\u001b[0m\u001b[0;34m.\u001b[0m\u001b[0mappend\u001b[0m\u001b[0;34m(\u001b[0m\u001b[0mtrain_hog\u001b[0m\u001b[0;34m)\u001b[0m\u001b[0;34m\u001b[0m\u001b[0;34m\u001b[0m\u001b[0m\n\u001b[1;32m     16\u001b[0m \u001b[0;34m\u001b[0m\u001b[0m\n",
            "\u001b[0;32m/usr/local/lib/python3.6/dist-packages/skimage/feature/_hog.py\u001b[0m in \u001b[0;36mhog\u001b[0;34m(image, orientations, pixels_per_cell, cells_per_block, block_norm, visualize, transform_sqrt, feature_vector, multichannel)\u001b[0m\n\u001b[1;32m    279\u001b[0m             \u001b[0mblock\u001b[0m \u001b[0;34m=\u001b[0m \u001b[0morientation_histogram\u001b[0m\u001b[0;34m[\u001b[0m\u001b[0mr\u001b[0m\u001b[0;34m:\u001b[0m\u001b[0mr\u001b[0m \u001b[0;34m+\u001b[0m \u001b[0mb_row\u001b[0m\u001b[0;34m,\u001b[0m \u001b[0mc\u001b[0m\u001b[0;34m:\u001b[0m\u001b[0mc\u001b[0m \u001b[0;34m+\u001b[0m \u001b[0mb_col\u001b[0m\u001b[0;34m,\u001b[0m \u001b[0;34m:\u001b[0m\u001b[0;34m]\u001b[0m\u001b[0;34m\u001b[0m\u001b[0;34m\u001b[0m\u001b[0m\n\u001b[1;32m    280\u001b[0m             \u001b[0mnormalized_blocks\u001b[0m\u001b[0;34m[\u001b[0m\u001b[0mr\u001b[0m\u001b[0;34m,\u001b[0m \u001b[0mc\u001b[0m\u001b[0;34m,\u001b[0m \u001b[0;34m:\u001b[0m\u001b[0;34m]\u001b[0m \u001b[0;34m=\u001b[0m\u001b[0;31m \u001b[0m\u001b[0;31m\\\u001b[0m\u001b[0;34m\u001b[0m\u001b[0;34m\u001b[0m\u001b[0m\n\u001b[0;32m--> 281\u001b[0;31m                 \u001b[0m_hog_normalize_block\u001b[0m\u001b[0;34m(\u001b[0m\u001b[0mblock\u001b[0m\u001b[0;34m,\u001b[0m \u001b[0mmethod\u001b[0m\u001b[0;34m=\u001b[0m\u001b[0mblock_norm\u001b[0m\u001b[0;34m)\u001b[0m\u001b[0;34m\u001b[0m\u001b[0;34m\u001b[0m\u001b[0m\n\u001b[0m\u001b[1;32m    282\u001b[0m \u001b[0;34m\u001b[0m\u001b[0m\n\u001b[1;32m    283\u001b[0m     \"\"\"\n",
            "\u001b[0;32m/usr/local/lib/python3.6/dist-packages/skimage/feature/_hog.py\u001b[0m in \u001b[0;36m_hog_normalize_block\u001b[0;34m(block, method, eps)\u001b[0m\n\u001b[1;32m     13\u001b[0m         \u001b[0mout\u001b[0m \u001b[0;34m=\u001b[0m \u001b[0mblock\u001b[0m \u001b[0;34m/\u001b[0m \u001b[0mnp\u001b[0m\u001b[0;34m.\u001b[0m\u001b[0msqrt\u001b[0m\u001b[0;34m(\u001b[0m\u001b[0mnp\u001b[0m\u001b[0;34m.\u001b[0m\u001b[0msum\u001b[0m\u001b[0;34m(\u001b[0m\u001b[0mblock\u001b[0m \u001b[0;34m**\u001b[0m \u001b[0;36m2\u001b[0m\u001b[0;34m)\u001b[0m \u001b[0;34m+\u001b[0m \u001b[0meps\u001b[0m \u001b[0;34m**\u001b[0m \u001b[0;36m2\u001b[0m\u001b[0;34m)\u001b[0m\u001b[0;34m\u001b[0m\u001b[0;34m\u001b[0m\u001b[0m\n\u001b[1;32m     14\u001b[0m         \u001b[0mout\u001b[0m \u001b[0;34m=\u001b[0m \u001b[0mnp\u001b[0m\u001b[0;34m.\u001b[0m\u001b[0mminimum\u001b[0m\u001b[0;34m(\u001b[0m\u001b[0mout\u001b[0m\u001b[0;34m,\u001b[0m \u001b[0;36m0.2\u001b[0m\u001b[0;34m)\u001b[0m\u001b[0;34m\u001b[0m\u001b[0;34m\u001b[0m\u001b[0m\n\u001b[0;32m---> 15\u001b[0;31m         \u001b[0mout\u001b[0m \u001b[0;34m=\u001b[0m \u001b[0mout\u001b[0m \u001b[0;34m/\u001b[0m \u001b[0mnp\u001b[0m\u001b[0;34m.\u001b[0m\u001b[0msqrt\u001b[0m\u001b[0;34m(\u001b[0m\u001b[0mnp\u001b[0m\u001b[0;34m.\u001b[0m\u001b[0msum\u001b[0m\u001b[0;34m(\u001b[0m\u001b[0mout\u001b[0m \u001b[0;34m**\u001b[0m \u001b[0;36m2\u001b[0m\u001b[0;34m)\u001b[0m \u001b[0;34m+\u001b[0m \u001b[0meps\u001b[0m \u001b[0;34m**\u001b[0m \u001b[0;36m2\u001b[0m\u001b[0;34m)\u001b[0m\u001b[0;34m\u001b[0m\u001b[0;34m\u001b[0m\u001b[0m\n\u001b[0m\u001b[1;32m     16\u001b[0m     \u001b[0;32melse\u001b[0m\u001b[0;34m:\u001b[0m\u001b[0;34m\u001b[0m\u001b[0;34m\u001b[0m\u001b[0m\n\u001b[1;32m     17\u001b[0m         \u001b[0;32mraise\u001b[0m \u001b[0mValueError\u001b[0m\u001b[0;34m(\u001b[0m\u001b[0;34m'Selected block normalization method is invalid.'\u001b[0m\u001b[0;34m)\u001b[0m\u001b[0;34m\u001b[0m\u001b[0;34m\u001b[0m\u001b[0m\n",
            "\u001b[0;32m<__array_function__ internals>\u001b[0m in \u001b[0;36msum\u001b[0;34m(*args, **kwargs)\u001b[0m\n",
            "\u001b[0;31mKeyboardInterrupt\u001b[0m: "
          ]
        }
      ]
    },
    {
      "cell_type": "code",
      "metadata": {
        "id": "p_D4mWcuJn3B",
        "colab_type": "code",
        "colab": {
          "base_uri": "https://localhost:8080/",
          "height": 1000
        },
        "outputId": "16050dd9-09ef-459b-dda6-35e929de6693"
      },
      "source": [
        "orientations = [12]\n",
        "pixels_per_cell = [(4,4), (7,2), (7,7)]\n",
        "\n",
        "classifier = SVC(kernel = 'rbf', random_state = random_state, cache_size = 8192)\n",
        "parameters = {'C':[1, 5, 8, 9, 10, 11, 12, 15], 'gamma':['auto', 'scale']}\n",
        "\n",
        "clf = GridSearchCV(classifier, param_grid = parameters, verbose = 10, n_jobs = -1)\n",
        "\n",
        "for i in orientations:\n",
        "  for j in pixels_per_cell:\n",
        "    x_train_hog = []\n",
        "    x_test_hog = []\n",
        "    for a, image in enumerate(x_train):\n",
        "      train_hog = hog(image.reshape(28,28), orientations = i, pixels_per_cell = j, cells_per_block = (1,1))\n",
        "      x_train_hog.append(train_hog)\n",
        "\n",
        "    for b, image in enumerate(x_test):\n",
        "      test_hog = hog(image.reshape(28,28), orientations = i, pixels_per_cell = j, cells_per_block = (1,1))\n",
        "      x_test_hog.append(test_hog)\n",
        "\n",
        "    clf.fit(x_train_hog, y_train)\n",
        "    print(i,j)\n",
        "    print(clf.best_estimator_, clf.best_score_)"
      ],
      "execution_count": 55,
      "outputs": [
        {
          "output_type": "stream",
          "text": [
            "Fitting 5 folds for each of 16 candidates, totalling 80 fits\n"
          ],
          "name": "stdout"
        },
        {
          "output_type": "stream",
          "text": [
            "[Parallel(n_jobs=-1)]: Using backend LokyBackend with 2 concurrent workers.\n",
            "[Parallel(n_jobs=-1)]: Done   1 tasks      | elapsed:   50.5s\n",
            "/usr/local/lib/python3.6/dist-packages/joblib/externals/loky/process_executor.py:706: UserWarning: A worker stopped while some jobs were given to the executor. This can be caused by a too short worker timeout or by a memory leak.\n",
            "  \"timeout or by a memory leak.\", UserWarning\n",
            "[Parallel(n_jobs=-1)]: Done   4 tasks      | elapsed:  1.8min\n",
            "[Parallel(n_jobs=-1)]: Done   9 tasks      | elapsed:  3.8min\n",
            "[Parallel(n_jobs=-1)]: Done  14 tasks      | elapsed:  5.0min\n",
            "[Parallel(n_jobs=-1)]: Done  21 tasks      | elapsed:  7.6min\n",
            "[Parallel(n_jobs=-1)]: Done  28 tasks      | elapsed:  9.9min\n",
            "[Parallel(n_jobs=-1)]: Done  37 tasks      | elapsed: 12.4min\n",
            "[Parallel(n_jobs=-1)]: Done  46 tasks      | elapsed: 15.3min\n",
            "[Parallel(n_jobs=-1)]: Done  57 tasks      | elapsed: 18.4min\n",
            "[Parallel(n_jobs=-1)]: Done  68 tasks      | elapsed: 22.0min\n",
            "[Parallel(n_jobs=-1)]: Done  80 out of  80 | elapsed: 25.6min finished\n"
          ],
          "name": "stderr"
        },
        {
          "output_type": "stream",
          "text": [
            "12 (4, 4)\n",
            "SVC(C=5, break_ties=False, cache_size=8192, class_weight=None, coef0=0.0,\n",
            "    decision_function_shape='ovr', degree=3, gamma='scale', kernel='rbf',\n",
            "    max_iter=-1, probability=False, random_state=42, shrinking=True, tol=0.001,\n",
            "    verbose=False) 0.8709\n",
            "Fitting 5 folds for each of 16 candidates, totalling 80 fits\n"
          ],
          "name": "stdout"
        },
        {
          "output_type": "stream",
          "text": [
            "[Parallel(n_jobs=-1)]: Using backend LokyBackend with 2 concurrent workers.\n",
            "[Parallel(n_jobs=-1)]: Done   1 tasks      | elapsed:   56.2s\n",
            "/usr/local/lib/python3.6/dist-packages/joblib/externals/loky/process_executor.py:706: UserWarning: A worker stopped while some jobs were given to the executor. This can be caused by a too short worker timeout or by a memory leak.\n",
            "  \"timeout or by a memory leak.\", UserWarning\n",
            "[Parallel(n_jobs=-1)]: Done   4 tasks      | elapsed:  1.9min\n",
            "[Parallel(n_jobs=-1)]: Done   9 tasks      | elapsed:  4.4min\n",
            "[Parallel(n_jobs=-1)]: Done  14 tasks      | elapsed:  5.8min\n",
            "[Parallel(n_jobs=-1)]: Done  21 tasks      | elapsed:  8.6min\n",
            "[Parallel(n_jobs=-1)]: Done  28 tasks      | elapsed: 11.4min\n",
            "[Parallel(n_jobs=-1)]: Done  37 tasks      | elapsed: 14.4min\n",
            "[Parallel(n_jobs=-1)]: Done  46 tasks      | elapsed: 17.9min\n",
            "[Parallel(n_jobs=-1)]: Done  57 tasks      | elapsed: 21.6min\n",
            "[Parallel(n_jobs=-1)]: Done  68 tasks      | elapsed: 25.9min\n",
            "[Parallel(n_jobs=-1)]: Done  80 out of  80 | elapsed: 29.9min finished\n"
          ],
          "name": "stderr"
        },
        {
          "output_type": "stream",
          "text": [
            "12 (7, 2)\n",
            "SVC(C=5, break_ties=False, cache_size=8192, class_weight=None, coef0=0.0,\n",
            "    decision_function_shape='ovr', degree=3, gamma='scale', kernel='rbf',\n",
            "    max_iter=-1, probability=False, random_state=42, shrinking=True, tol=0.001,\n",
            "    verbose=False) 0.869\n",
            "Fitting 5 folds for each of 16 candidates, totalling 80 fits\n"
          ],
          "name": "stdout"
        },
        {
          "output_type": "stream",
          "text": [
            "[Parallel(n_jobs=-1)]: Using backend LokyBackend with 2 concurrent workers.\n",
            "[Parallel(n_jobs=-1)]: Done   1 tasks      | elapsed:   16.2s\n",
            "[Parallel(n_jobs=-1)]: Done   4 tasks      | elapsed:   33.5s\n",
            "[Parallel(n_jobs=-1)]: Done   9 tasks      | elapsed:  1.2min\n",
            "[Parallel(n_jobs=-1)]: Done  14 tasks      | elapsed:  1.6min\n",
            "[Parallel(n_jobs=-1)]: Done  21 tasks      | elapsed:  2.3min\n",
            "[Parallel(n_jobs=-1)]: Done  28 tasks      | elapsed:  3.1min\n",
            "[Parallel(n_jobs=-1)]: Done  37 tasks      | elapsed:  3.9min\n",
            "[Parallel(n_jobs=-1)]: Done  46 tasks      | elapsed:  4.9min\n",
            "[Parallel(n_jobs=-1)]: Done  57 tasks      | elapsed:  5.9min\n",
            "[Parallel(n_jobs=-1)]: Done  68 tasks      | elapsed:  7.1min\n",
            "[Parallel(n_jobs=-1)]: Done  80 out of  80 | elapsed:  8.3min finished\n"
          ],
          "name": "stderr"
        },
        {
          "output_type": "stream",
          "text": [
            "12 (7, 7)\n",
            "SVC(C=5, break_ties=False, cache_size=8192, class_weight=None, coef0=0.0,\n",
            "    decision_function_shape='ovr', degree=3, gamma='scale', kernel='rbf',\n",
            "    max_iter=-1, probability=False, random_state=42, shrinking=True, tol=0.001,\n",
            "    verbose=False) 0.8314\n"
          ],
          "name": "stdout"
        }
      ]
    },
    {
      "cell_type": "code",
      "metadata": {
        "id": "zrodNb2ojbjB",
        "colab_type": "code",
        "colab": {
          "base_uri": "https://localhost:8080/",
          "height": 1000
        },
        "outputId": "c38125c0-0618-444a-e1c3-c7e5bfc39c51"
      },
      "source": [
        "orientations = [11,12,13,14,15,16]\n",
        "pixels_per_cell = [(4,4)]\n",
        "\n",
        "classifier = SVC(kernel = 'rbf', random_state = random_state, cache_size = 8192, gamma = 'scale')\n",
        "parameters = {'C':[5,6,7]}\n",
        "\n",
        "clf = GridSearchCV(classifier, param_grid = parameters, verbose = 10, n_jobs = -1)\n",
        "\n",
        "for i in orientations:\n",
        "  for j in pixels_per_cell:\n",
        "    x_train_hog = []\n",
        "    x_test_hog = []\n",
        "    for a, image in enumerate(x_train):\n",
        "      train_hog = hog(image.reshape(28,28), orientations = i, pixels_per_cell = j, cells_per_block = (1,1))\n",
        "      x_train_hog.append(train_hog)\n",
        "\n",
        "    for b, image in enumerate(x_test):\n",
        "      test_hog = hog(image.reshape(28,28), orientations = i, pixels_per_cell = j, cells_per_block = (1,1))\n",
        "      x_test_hog.append(test_hog)\n",
        "\n",
        "    clf.fit(x_train_hog, y_train)\n",
        "    print(i,j)\n",
        "    print(clf.best_estimator_, clf.best_score_)"
      ],
      "execution_count": 56,
      "outputs": [
        {
          "output_type": "stream",
          "text": [
            "Fitting 5 folds for each of 3 candidates, totalling 15 fits\n"
          ],
          "name": "stdout"
        },
        {
          "output_type": "stream",
          "text": [
            "[Parallel(n_jobs=-1)]: Using backend LokyBackend with 2 concurrent workers.\n",
            "[Parallel(n_jobs=-1)]: Done   1 tasks      | elapsed:   37.3s\n",
            "[Parallel(n_jobs=-1)]: Done   4 tasks      | elapsed:  1.2min\n",
            "[Parallel(n_jobs=-1)]: Done   9 tasks      | elapsed:  3.1min\n",
            "[Parallel(n_jobs=-1)]: Done  15 out of  15 | elapsed:  4.9min finished\n"
          ],
          "name": "stderr"
        },
        {
          "output_type": "stream",
          "text": [
            "11 (4, 4)\n",
            "SVC(C=5, break_ties=False, cache_size=8192, class_weight=None, coef0=0.0,\n",
            "    decision_function_shape='ovr', degree=3, gamma='scale', kernel='rbf',\n",
            "    max_iter=-1, probability=False, random_state=42, shrinking=True, tol=0.001,\n",
            "    verbose=False) 0.874\n",
            "Fitting 5 folds for each of 3 candidates, totalling 15 fits\n"
          ],
          "name": "stdout"
        },
        {
          "output_type": "stream",
          "text": [
            "[Parallel(n_jobs=-1)]: Using backend LokyBackend with 2 concurrent workers.\n",
            "[Parallel(n_jobs=-1)]: Done   1 tasks      | elapsed:   40.4s\n",
            "/usr/local/lib/python3.6/dist-packages/joblib/externals/loky/process_executor.py:706: UserWarning: A worker stopped while some jobs were given to the executor. This can be caused by a too short worker timeout or by a memory leak.\n",
            "  \"timeout or by a memory leak.\", UserWarning\n",
            "[Parallel(n_jobs=-1)]: Done   4 tasks      | elapsed:  1.4min\n",
            "[Parallel(n_jobs=-1)]: Done   9 tasks      | elapsed:  3.4min\n",
            "[Parallel(n_jobs=-1)]: Done  15 out of  15 | elapsed:  5.4min finished\n"
          ],
          "name": "stderr"
        },
        {
          "output_type": "stream",
          "text": [
            "12 (4, 4)\n",
            "SVC(C=5, break_ties=False, cache_size=8192, class_weight=None, coef0=0.0,\n",
            "    decision_function_shape='ovr', degree=3, gamma='scale', kernel='rbf',\n",
            "    max_iter=-1, probability=False, random_state=42, shrinking=True, tol=0.001,\n",
            "    verbose=False) 0.8709\n",
            "Fitting 5 folds for each of 3 candidates, totalling 15 fits\n"
          ],
          "name": "stdout"
        },
        {
          "output_type": "stream",
          "text": [
            "[Parallel(n_jobs=-1)]: Using backend LokyBackend with 2 concurrent workers.\n",
            "[Parallel(n_jobs=-1)]: Done   1 tasks      | elapsed:   44.5s\n",
            "/usr/local/lib/python3.6/dist-packages/joblib/externals/loky/process_executor.py:706: UserWarning: A worker stopped while some jobs were given to the executor. This can be caused by a too short worker timeout or by a memory leak.\n",
            "  \"timeout or by a memory leak.\", UserWarning\n",
            "[Parallel(n_jobs=-1)]: Done   4 tasks      | elapsed:  1.6min\n",
            "[Parallel(n_jobs=-1)]: Done   9 tasks      | elapsed:  3.8min\n",
            "[Parallel(n_jobs=-1)]: Done  15 out of  15 | elapsed:  5.9min finished\n"
          ],
          "name": "stderr"
        },
        {
          "output_type": "stream",
          "text": [
            "13 (4, 4)\n",
            "SVC(C=6, break_ties=False, cache_size=8192, class_weight=None, coef0=0.0,\n",
            "    decision_function_shape='ovr', degree=3, gamma='scale', kernel='rbf',\n",
            "    max_iter=-1, probability=False, random_state=42, shrinking=True, tol=0.001,\n",
            "    verbose=False) 0.8709999999999999\n",
            "Fitting 5 folds for each of 3 candidates, totalling 15 fits\n"
          ],
          "name": "stdout"
        },
        {
          "output_type": "stream",
          "text": [
            "[Parallel(n_jobs=-1)]: Using backend LokyBackend with 2 concurrent workers.\n",
            "[Parallel(n_jobs=-1)]: Done   1 tasks      | elapsed:   50.7s\n",
            "/usr/local/lib/python3.6/dist-packages/joblib/externals/loky/process_executor.py:706: UserWarning: A worker stopped while some jobs were given to the executor. This can be caused by a too short worker timeout or by a memory leak.\n",
            "  \"timeout or by a memory leak.\", UserWarning\n",
            "[Parallel(n_jobs=-1)]: Done   4 tasks      | elapsed:  1.7min\n",
            "[Parallel(n_jobs=-1)]: Done   9 tasks      | elapsed:  4.2min\n",
            "[Parallel(n_jobs=-1)]: Done  15 out of  15 | elapsed:  6.6min finished\n"
          ],
          "name": "stderr"
        },
        {
          "output_type": "stream",
          "text": [
            "14 (4, 4)\n",
            "SVC(C=5, break_ties=False, cache_size=8192, class_weight=None, coef0=0.0,\n",
            "    decision_function_shape='ovr', degree=3, gamma='scale', kernel='rbf',\n",
            "    max_iter=-1, probability=False, random_state=42, shrinking=True, tol=0.001,\n",
            "    verbose=False) 0.8714999999999999\n",
            "Fitting 5 folds for each of 3 candidates, totalling 15 fits\n"
          ],
          "name": "stdout"
        },
        {
          "output_type": "stream",
          "text": [
            "[Parallel(n_jobs=-1)]: Using backend LokyBackend with 2 concurrent workers.\n",
            "[Parallel(n_jobs=-1)]: Done   1 tasks      | elapsed:   54.4s\n",
            "[Parallel(n_jobs=-1)]: Done   4 tasks      | elapsed:  1.8min\n",
            "[Parallel(n_jobs=-1)]: Done   9 tasks      | elapsed:  4.5min\n",
            "[Parallel(n_jobs=-1)]: Done  15 out of  15 | elapsed:  7.1min finished\n"
          ],
          "name": "stderr"
        },
        {
          "output_type": "stream",
          "text": [
            "15 (4, 4)\n",
            "SVC(C=5, break_ties=False, cache_size=8192, class_weight=None, coef0=0.0,\n",
            "    decision_function_shape='ovr', degree=3, gamma='scale', kernel='rbf',\n",
            "    max_iter=-1, probability=False, random_state=42, shrinking=True, tol=0.001,\n",
            "    verbose=False) 0.8717\n",
            "Fitting 5 folds for each of 3 candidates, totalling 15 fits\n"
          ],
          "name": "stdout"
        },
        {
          "output_type": "stream",
          "text": [
            "[Parallel(n_jobs=-1)]: Using backend LokyBackend with 2 concurrent workers.\n",
            "[Parallel(n_jobs=-1)]: Done   1 tasks      | elapsed:   59.8s\n",
            "/usr/local/lib/python3.6/dist-packages/joblib/externals/loky/process_executor.py:706: UserWarning: A worker stopped while some jobs were given to the executor. This can be caused by a too short worker timeout or by a memory leak.\n",
            "  \"timeout or by a memory leak.\", UserWarning\n",
            "[Parallel(n_jobs=-1)]: Done   4 tasks      | elapsed:  2.0min\n",
            "[Parallel(n_jobs=-1)]: Done   9 tasks      | elapsed:  5.0min\n",
            "[Parallel(n_jobs=-1)]: Done  15 out of  15 | elapsed:  7.9min finished\n"
          ],
          "name": "stderr"
        },
        {
          "output_type": "stream",
          "text": [
            "16 (4, 4)\n",
            "SVC(C=5, break_ties=False, cache_size=8192, class_weight=None, coef0=0.0,\n",
            "    decision_function_shape='ovr', degree=3, gamma='scale', kernel='rbf',\n",
            "    max_iter=-1, probability=False, random_state=42, shrinking=True, tol=0.001,\n",
            "    verbose=False) 0.8729999999999999\n"
          ],
          "name": "stdout"
        }
      ]
    },
    {
      "cell_type": "code",
      "metadata": {
        "id": "HhtWzlNS_4pl",
        "colab_type": "code",
        "colab": {
          "base_uri": "https://localhost:8080/",
          "height": 1000
        },
        "outputId": "8b0fac55-217b-432b-d1bc-2723e1d1d08c"
      },
      "source": [
        "orientations = [11]\n",
        "pixels_per_cell = [(4,4), (4,2), (2,4), (4,7), (7,4)]\n",
        "\n",
        "classifier = SVC(kernel = 'rbf', random_state = random_state, cache_size = 8192, gamma = 'scale')\n",
        "parameters = {'C':[5,6,7]}\n",
        "\n",
        "clf = GridSearchCV(classifier, param_grid = parameters, verbose = 10, n_jobs = -1)\n",
        "\n",
        "for i in orientations:\n",
        "  for j in pixels_per_cell:\n",
        "    x_train_hog = []\n",
        "    x_test_hog = []\n",
        "    for a, image in enumerate(x_train):\n",
        "      train_hog = hog(image.reshape(28,28), orientations = i, pixels_per_cell = j, cells_per_block = (1,1))\n",
        "      x_train_hog.append(train_hog)\n",
        "\n",
        "    for b, image in enumerate(x_test):\n",
        "      test_hog = hog(image.reshape(28,28), orientations = i, pixels_per_cell = j, cells_per_block = (1,1))\n",
        "      x_test_hog.append(test_hog)\n",
        "\n",
        "    clf.fit(x_train_hog, y_train)\n",
        "    print(i,j)\n",
        "    print(clf.best_estimator_, clf.best_score_)"
      ],
      "execution_count": 58,
      "outputs": [
        {
          "output_type": "stream",
          "text": [
            "Fitting 5 folds for each of 3 candidates, totalling 15 fits\n"
          ],
          "name": "stdout"
        },
        {
          "output_type": "stream",
          "text": [
            "[Parallel(n_jobs=-1)]: Using backend LokyBackend with 2 concurrent workers.\n",
            "[Parallel(n_jobs=-1)]: Done   1 tasks      | elapsed:   37.4s\n",
            "[Parallel(n_jobs=-1)]: Done   4 tasks      | elapsed:  1.2min\n",
            "[Parallel(n_jobs=-1)]: Done   9 tasks      | elapsed:  3.0min\n",
            "[Parallel(n_jobs=-1)]: Done  15 out of  15 | elapsed:  4.7min finished\n"
          ],
          "name": "stderr"
        },
        {
          "output_type": "stream",
          "text": [
            "11 (4, 4)\n",
            "SVC(C=5, break_ties=False, cache_size=8192, class_weight=None, coef0=0.0,\n",
            "    decision_function_shape='ovr', degree=3, gamma='scale', kernel='rbf',\n",
            "    max_iter=-1, probability=False, random_state=42, shrinking=True, tol=0.001,\n",
            "    verbose=False) 0.874\n",
            "Fitting 5 folds for each of 3 candidates, totalling 15 fits\n"
          ],
          "name": "stdout"
        },
        {
          "output_type": "stream",
          "text": [
            "[Parallel(n_jobs=-1)]: Using backend LokyBackend with 2 concurrent workers.\n",
            "[Parallel(n_jobs=-1)]: Done   1 tasks      | elapsed:  1.3min\n",
            "/usr/local/lib/python3.6/dist-packages/joblib/externals/loky/process_executor.py:706: UserWarning: A worker stopped while some jobs were given to the executor. This can be caused by a too short worker timeout or by a memory leak.\n",
            "  \"timeout or by a memory leak.\", UserWarning\n",
            "[Parallel(n_jobs=-1)]: Done   4 tasks      | elapsed:  2.8min\n",
            "[Parallel(n_jobs=-1)]: Done   9 tasks      | elapsed:  6.8min\n",
            "[Parallel(n_jobs=-1)]: Done  15 out of  15 | elapsed: 10.6min finished\n"
          ],
          "name": "stderr"
        },
        {
          "output_type": "stream",
          "text": [
            "11 (4, 2)\n",
            "SVC(C=6, break_ties=False, cache_size=8192, class_weight=None, coef0=0.0,\n",
            "    decision_function_shape='ovr', degree=3, gamma='scale', kernel='rbf',\n",
            "    max_iter=-1, probability=False, random_state=42, shrinking=True, tol=0.001,\n",
            "    verbose=False) 0.8749\n",
            "Fitting 5 folds for each of 3 candidates, totalling 15 fits\n"
          ],
          "name": "stdout"
        },
        {
          "output_type": "stream",
          "text": [
            "[Parallel(n_jobs=-1)]: Using backend LokyBackend with 2 concurrent workers.\n",
            "[Parallel(n_jobs=-1)]: Done   1 tasks      | elapsed:  1.3min\n",
            "/usr/local/lib/python3.6/dist-packages/joblib/externals/loky/process_executor.py:706: UserWarning: A worker stopped while some jobs were given to the executor. This can be caused by a too short worker timeout or by a memory leak.\n",
            "  \"timeout or by a memory leak.\", UserWarning\n",
            "[Parallel(n_jobs=-1)]: Done   4 tasks      | elapsed:  2.6min\n",
            "[Parallel(n_jobs=-1)]: Done   9 tasks      | elapsed:  6.5min\n",
            "[Parallel(n_jobs=-1)]: Done  15 out of  15 | elapsed: 10.4min finished\n"
          ],
          "name": "stderr"
        },
        {
          "output_type": "stream",
          "text": [
            "11 (2, 4)\n",
            "SVC(C=7, break_ties=False, cache_size=8192, class_weight=None, coef0=0.0,\n",
            "    decision_function_shape='ovr', degree=3, gamma='scale', kernel='rbf',\n",
            "    max_iter=-1, probability=False, random_state=42, shrinking=True, tol=0.001,\n",
            "    verbose=False) 0.8755\n",
            "Fitting 5 folds for each of 3 candidates, totalling 15 fits\n"
          ],
          "name": "stdout"
        },
        {
          "output_type": "stream",
          "text": [
            "[Parallel(n_jobs=-1)]: Using backend LokyBackend with 2 concurrent workers.\n",
            "[Parallel(n_jobs=-1)]: Done   1 tasks      | elapsed:   21.3s\n",
            "[Parallel(n_jobs=-1)]: Done   4 tasks      | elapsed:   42.2s\n",
            "[Parallel(n_jobs=-1)]: Done   9 tasks      | elapsed:  1.6min\n",
            "[Parallel(n_jobs=-1)]: Done  15 out of  15 | elapsed:  2.6min finished\n"
          ],
          "name": "stderr"
        },
        {
          "output_type": "stream",
          "text": [
            "11 (4, 7)\n",
            "SVC(C=5, break_ties=False, cache_size=8192, class_weight=None, coef0=0.0,\n",
            "    decision_function_shape='ovr', degree=3, gamma='scale', kernel='rbf',\n",
            "    max_iter=-1, probability=False, random_state=42, shrinking=True, tol=0.001,\n",
            "    verbose=False) 0.8461000000000001\n",
            "Fitting 5 folds for each of 3 candidates, totalling 15 fits\n"
          ],
          "name": "stdout"
        },
        {
          "output_type": "stream",
          "text": [
            "[Parallel(n_jobs=-1)]: Using backend LokyBackend with 2 concurrent workers.\n",
            "[Parallel(n_jobs=-1)]: Done   1 tasks      | elapsed:   19.0s\n",
            "[Parallel(n_jobs=-1)]: Done   4 tasks      | elapsed:   38.5s\n",
            "[Parallel(n_jobs=-1)]: Done   9 tasks      | elapsed:  1.5min\n",
            "[Parallel(n_jobs=-1)]: Done  15 out of  15 | elapsed:  2.4min finished\n"
          ],
          "name": "stderr"
        },
        {
          "output_type": "stream",
          "text": [
            "11 (7, 4)\n",
            "SVC(C=6, break_ties=False, cache_size=8192, class_weight=None, coef0=0.0,\n",
            "    decision_function_shape='ovr', degree=3, gamma='scale', kernel='rbf',\n",
            "    max_iter=-1, probability=False, random_state=42, shrinking=True, tol=0.001,\n",
            "    verbose=False) 0.8621000000000001\n"
          ],
          "name": "stdout"
        }
      ]
    },
    {
      "cell_type": "code",
      "metadata": {
        "id": "xPPkrFQSI7iz",
        "colab_type": "code",
        "colab": {
          "base_uri": "https://localhost:8080/",
          "height": 1000
        },
        "outputId": "a35b377b-b510-4079-a960-4558ba2b7af6"
      },
      "source": [
        "orientations = [10,11,12]\n",
        "pixels_per_cell = [(2,4), (2,2)]\n",
        "\n",
        "classifier = SVC(kernel = 'rbf', random_state = random_state, cache_size = 8192, gamma = 'scale')\n",
        "parameters = {'C':[5,6,7]}\n",
        "\n",
        "clf = GridSearchCV(classifier, param_grid = parameters, verbose = 10, n_jobs = -1)\n",
        "\n",
        "for i in orientations:\n",
        "  for j in pixels_per_cell:\n",
        "    x_train_hog = []\n",
        "    x_test_hog = []\n",
        "    for a, image in enumerate(x_train):\n",
        "      train_hog = hog(image.reshape(28,28), orientations = i, pixels_per_cell = j, cells_per_block = (1,1))\n",
        "      x_train_hog.append(train_hog)\n",
        "\n",
        "    for b, image in enumerate(x_test):\n",
        "      test_hog = hog(image.reshape(28,28), orientations = i, pixels_per_cell = j, cells_per_block = (1,1))\n",
        "      x_test_hog.append(test_hog)\n",
        "\n",
        "    clf.fit(x_train_hog, y_train)\n",
        "    print(i,j)\n",
        "    print(clf.best_estimator_, clf.best_score_)"
      ],
      "execution_count": 59,
      "outputs": [
        {
          "output_type": "stream",
          "text": [
            "Fitting 5 folds for each of 3 candidates, totalling 15 fits\n"
          ],
          "name": "stdout"
        },
        {
          "output_type": "stream",
          "text": [
            "[Parallel(n_jobs=-1)]: Using backend LokyBackend with 2 concurrent workers.\n",
            "[Parallel(n_jobs=-1)]: Done   1 tasks      | elapsed:  1.2min\n",
            "/usr/local/lib/python3.6/dist-packages/joblib/externals/loky/process_executor.py:706: UserWarning: A worker stopped while some jobs were given to the executor. This can be caused by a too short worker timeout or by a memory leak.\n",
            "  \"timeout or by a memory leak.\", UserWarning\n",
            "[Parallel(n_jobs=-1)]: Done   4 tasks      | elapsed:  2.4min\n",
            "[Parallel(n_jobs=-1)]: Done   9 tasks      | elapsed:  6.0min\n",
            "[Parallel(n_jobs=-1)]: Done  15 out of  15 | elapsed:  9.4min finished\n"
          ],
          "name": "stderr"
        },
        {
          "output_type": "stream",
          "text": [
            "10 (2, 4)\n",
            "SVC(C=6, break_ties=False, cache_size=8192, class_weight=None, coef0=0.0,\n",
            "    decision_function_shape='ovr', degree=3, gamma='scale', kernel='rbf',\n",
            "    max_iter=-1, probability=False, random_state=42, shrinking=True, tol=0.001,\n",
            "    verbose=False) 0.8709\n",
            "Fitting 5 folds for each of 3 candidates, totalling 15 fits\n"
          ],
          "name": "stdout"
        },
        {
          "output_type": "stream",
          "text": [
            "[Parallel(n_jobs=-1)]: Using backend LokyBackend with 2 concurrent workers.\n",
            "[Parallel(n_jobs=-1)]: Done   1 tasks      | elapsed:  2.9min\n",
            "/usr/local/lib/python3.6/dist-packages/joblib/externals/loky/process_executor.py:706: UserWarning: A worker stopped while some jobs were given to the executor. This can be caused by a too short worker timeout or by a memory leak.\n",
            "  \"timeout or by a memory leak.\", UserWarning\n",
            "[Parallel(n_jobs=-1)]: Done   4 tasks      | elapsed:  5.7min\n",
            "[Parallel(n_jobs=-1)]: Done   9 tasks      | elapsed: 14.1min\n",
            "[Parallel(n_jobs=-1)]: Done  15 out of  15 | elapsed: 22.3min finished\n"
          ],
          "name": "stderr"
        },
        {
          "output_type": "stream",
          "text": [
            "10 (2, 2)\n",
            "SVC(C=6, break_ties=False, cache_size=8192, class_weight=None, coef0=0.0,\n",
            "    decision_function_shape='ovr', degree=3, gamma='scale', kernel='rbf',\n",
            "    max_iter=-1, probability=False, random_state=42, shrinking=True, tol=0.001,\n",
            "    verbose=False) 0.8766999999999999\n",
            "Fitting 5 folds for each of 3 candidates, totalling 15 fits\n"
          ],
          "name": "stdout"
        },
        {
          "output_type": "stream",
          "text": [
            "[Parallel(n_jobs=-1)]: Using backend LokyBackend with 2 concurrent workers.\n",
            "[Parallel(n_jobs=-1)]: Done   1 tasks      | elapsed:  1.3min\n",
            "[Parallel(n_jobs=-1)]: Done   4 tasks      | elapsed:  2.6min\n",
            "/usr/local/lib/python3.6/dist-packages/joblib/externals/loky/process_executor.py:706: UserWarning: A worker stopped while some jobs were given to the executor. This can be caused by a too short worker timeout or by a memory leak.\n",
            "  \"timeout or by a memory leak.\", UserWarning\n",
            "[Parallel(n_jobs=-1)]: Done   9 tasks      | elapsed:  6.3min\n",
            "[Parallel(n_jobs=-1)]: Done  15 out of  15 | elapsed: 10.0min finished\n"
          ],
          "name": "stderr"
        },
        {
          "output_type": "stream",
          "text": [
            "11 (2, 4)\n",
            "SVC(C=7, break_ties=False, cache_size=8192, class_weight=None, coef0=0.0,\n",
            "    decision_function_shape='ovr', degree=3, gamma='scale', kernel='rbf',\n",
            "    max_iter=-1, probability=False, random_state=42, shrinking=True, tol=0.001,\n",
            "    verbose=False) 0.8755\n",
            "Fitting 5 folds for each of 3 candidates, totalling 15 fits\n"
          ],
          "name": "stdout"
        },
        {
          "output_type": "stream",
          "text": [
            "[Parallel(n_jobs=-1)]: Using backend LokyBackend with 2 concurrent workers.\n",
            "[Parallel(n_jobs=-1)]: Done   1 tasks      | elapsed:  3.0min\n",
            "/usr/local/lib/python3.6/dist-packages/joblib/externals/loky/process_executor.py:706: UserWarning: A worker stopped while some jobs were given to the executor. This can be caused by a too short worker timeout or by a memory leak.\n",
            "  \"timeout or by a memory leak.\", UserWarning\n",
            "[Parallel(n_jobs=-1)]: Done   4 tasks      | elapsed:  6.0min\n",
            "[Parallel(n_jobs=-1)]: Done   9 tasks      | elapsed: 15.0min\n",
            "[Parallel(n_jobs=-1)]: Done  15 out of  15 | elapsed: 23.6min finished\n"
          ],
          "name": "stderr"
        },
        {
          "output_type": "stream",
          "text": [
            "11 (2, 2)\n",
            "SVC(C=5, break_ties=False, cache_size=8192, class_weight=None, coef0=0.0,\n",
            "    decision_function_shape='ovr', degree=3, gamma='scale', kernel='rbf',\n",
            "    max_iter=-1, probability=False, random_state=42, shrinking=True, tol=0.001,\n",
            "    verbose=False) 0.873\n",
            "Fitting 5 folds for each of 3 candidates, totalling 15 fits\n"
          ],
          "name": "stdout"
        },
        {
          "output_type": "stream",
          "text": [
            "[Parallel(n_jobs=-1)]: Using backend LokyBackend with 2 concurrent workers.\n",
            "[Parallel(n_jobs=-1)]: Done   1 tasks      | elapsed:  1.4min\n",
            "[Parallel(n_jobs=-1)]: Done   4 tasks      | elapsed:  2.8min\n",
            "/usr/local/lib/python3.6/dist-packages/joblib/externals/loky/process_executor.py:706: UserWarning: A worker stopped while some jobs were given to the executor. This can be caused by a too short worker timeout or by a memory leak.\n",
            "  \"timeout or by a memory leak.\", UserWarning\n",
            "[Parallel(n_jobs=-1)]: Done   9 tasks      | elapsed:  6.8min\n",
            "[Parallel(n_jobs=-1)]: Done  15 out of  15 | elapsed: 10.7min finished\n"
          ],
          "name": "stderr"
        },
        {
          "output_type": "stream",
          "text": [
            "12 (2, 4)\n",
            "SVC(C=6, break_ties=False, cache_size=8192, class_weight=None, coef0=0.0,\n",
            "    decision_function_shape='ovr', degree=3, gamma='scale', kernel='rbf',\n",
            "    max_iter=-1, probability=False, random_state=42, shrinking=True, tol=0.001,\n",
            "    verbose=False) 0.8728\n",
            "Fitting 5 folds for each of 3 candidates, totalling 15 fits\n"
          ],
          "name": "stdout"
        },
        {
          "output_type": "stream",
          "text": [
            "[Parallel(n_jobs=-1)]: Using backend LokyBackend with 2 concurrent workers.\n",
            "[Parallel(n_jobs=-1)]: Done   1 tasks      | elapsed:  3.3min\n",
            "/usr/local/lib/python3.6/dist-packages/joblib/externals/loky/process_executor.py:706: UserWarning: A worker stopped while some jobs were given to the executor. This can be caused by a too short worker timeout or by a memory leak.\n",
            "  \"timeout or by a memory leak.\", UserWarning\n",
            "[Parallel(n_jobs=-1)]: Done   4 tasks      | elapsed:  6.7min\n",
            "[Parallel(n_jobs=-1)]: Done   9 tasks      | elapsed: 16.6min\n",
            "[Parallel(n_jobs=-1)]: Done  15 out of  15 | elapsed: 26.2min finished\n"
          ],
          "name": "stderr"
        },
        {
          "output_type": "stream",
          "text": [
            "12 (2, 2)\n",
            "SVC(C=5, break_ties=False, cache_size=8192, class_weight=None, coef0=0.0,\n",
            "    decision_function_shape='ovr', degree=3, gamma='scale', kernel='rbf',\n",
            "    max_iter=-1, probability=False, random_state=42, shrinking=True, tol=0.001,\n",
            "    verbose=False) 0.8725000000000002\n"
          ],
          "name": "stdout"
        }
      ]
    },
    {
      "cell_type": "code",
      "metadata": {
        "id": "nU9ipz3tcHg3",
        "colab_type": "code",
        "colab": {
          "base_uri": "https://localhost:8080/",
          "height": 489
        },
        "outputId": "605902ae-fec7-426b-b20a-c1c9003bc6e5"
      },
      "source": [
        "orientations = [8, 10]\n",
        "pixels_per_cell = [(2,2)]\n",
        "\n",
        "classifier = SVC(kernel = 'rbf', random_state = random_state, cache_size = 8192, gamma = 'scale')\n",
        "parameters = {'C':[5,6,7]}\n",
        "\n",
        "clf = GridSearchCV(classifier, param_grid = parameters, verbose = 10, n_jobs = -1)\n",
        "\n",
        "for i in orientations:\n",
        "  for j in pixels_per_cell:\n",
        "    x_train_hog = []\n",
        "    x_test_hog = []\n",
        "    for a, image in enumerate(x_train):\n",
        "      train_hog = hog(image.reshape(28,28), orientations = i, pixels_per_cell = j, cells_per_block = (1,1))\n",
        "      x_train_hog.append(train_hog)\n",
        "\n",
        "    for b, image in enumerate(x_test):\n",
        "      test_hog = hog(image.reshape(28,28), orientations = i, pixels_per_cell = j, cells_per_block = (1,1))\n",
        "      x_test_hog.append(test_hog)\n",
        "\n",
        "    clf.fit(x_train_hog, y_train)\n",
        "    print(i,j)\n",
        "    print(clf.best_estimator_, clf.best_score_)"
      ],
      "execution_count": 11,
      "outputs": [
        {
          "output_type": "stream",
          "text": [
            "Fitting 5 folds for each of 3 candidates, totalling 15 fits\n"
          ],
          "name": "stdout"
        },
        {
          "output_type": "stream",
          "text": [
            "[Parallel(n_jobs=-1)]: Using backend LokyBackend with 2 concurrent workers.\n",
            "[Parallel(n_jobs=-1)]: Done   1 tasks      | elapsed:  2.2min\n",
            "/usr/local/lib/python3.6/dist-packages/joblib/externals/loky/process_executor.py:706: UserWarning: A worker stopped while some jobs were given to the executor. This can be caused by a too short worker timeout or by a memory leak.\n",
            "  \"timeout or by a memory leak.\", UserWarning\n",
            "[Parallel(n_jobs=-1)]: Done   4 tasks      | elapsed:  4.4min\n",
            "[Parallel(n_jobs=-1)]: Done   9 tasks      | elapsed: 10.7min\n",
            "[Parallel(n_jobs=-1)]: Done  15 out of  15 | elapsed: 17.1min finished\n"
          ],
          "name": "stderr"
        },
        {
          "output_type": "stream",
          "text": [
            "8 (2, 2)\n",
            "SVC(C=5, break_ties=False, cache_size=8192, class_weight=None, coef0=0.0,\n",
            "    decision_function_shape='ovr', degree=3, gamma='scale', kernel='rbf',\n",
            "    max_iter=-1, probability=False, random_state=42, shrinking=True, tol=0.001,\n",
            "    verbose=False) 0.8766999999999999\n",
            "Fitting 5 folds for each of 3 candidates, totalling 15 fits\n"
          ],
          "name": "stdout"
        },
        {
          "output_type": "stream",
          "text": [
            "[Parallel(n_jobs=-1)]: Using backend LokyBackend with 2 concurrent workers.\n",
            "[Parallel(n_jobs=-1)]: Done   1 tasks      | elapsed:  2.9min\n",
            "/usr/local/lib/python3.6/dist-packages/joblib/externals/loky/process_executor.py:706: UserWarning: A worker stopped while some jobs were given to the executor. This can be caused by a too short worker timeout or by a memory leak.\n",
            "  \"timeout or by a memory leak.\", UserWarning\n",
            "[Parallel(n_jobs=-1)]: Done   4 tasks      | elapsed:  5.9min\n",
            "[Parallel(n_jobs=-1)]: Done   9 tasks      | elapsed: 14.2min\n",
            "[Parallel(n_jobs=-1)]: Done  15 out of  15 | elapsed: 22.1min finished\n"
          ],
          "name": "stderr"
        },
        {
          "output_type": "stream",
          "text": [
            "10 (2, 2)\n",
            "SVC(C=6, break_ties=False, cache_size=8192, class_weight=None, coef0=0.0,\n",
            "    decision_function_shape='ovr', degree=3, gamma='scale', kernel='rbf',\n",
            "    max_iter=-1, probability=False, random_state=42, shrinking=True, tol=0.001,\n",
            "    verbose=False) 0.8766999999999999\n"
          ],
          "name": "stdout"
        }
      ]
    },
    {
      "cell_type": "code",
      "metadata": {
        "id": "X5PSTToUpKcb",
        "colab_type": "code",
        "colab": {
          "base_uri": "https://localhost:8080/",
          "height": 1000
        },
        "outputId": "b9fdbbb5-a164-464f-e762-a3095259ec6f"
      },
      "source": [
        "orientations = [10]\n",
        "pixels_per_cell = [(2,2), (7,2), (4,2), (2,4), (4,4)]\n",
        "\n",
        "classifier = SVC(kernel = 'rbf', random_state = random_state, cache_size = 8192, gamma = 'scale')\n",
        "parameters = {'C':[5,6,7]}\n",
        "\n",
        "clf = GridSearchCV(classifier, param_grid = parameters, verbose = 10, n_jobs = -1)\n",
        "\n",
        "for i in orientations:\n",
        "  for j in pixels_per_cell:\n",
        "    x_train_hog = []\n",
        "    x_test_hog = []\n",
        "    for a, image in enumerate(x_train):\n",
        "      train_hog = hog(image.reshape(28,28), orientations = i, pixels_per_cell = j, cells_per_block = (1,1))\n",
        "      x_train_hog.append(train_hog)\n",
        "\n",
        "    for b, image in enumerate(x_test):\n",
        "      test_hog = hog(image.reshape(28,28), orientations = i, pixels_per_cell = j, cells_per_block = (1,1))\n",
        "      x_test_hog.append(test_hog)\n",
        "\n",
        "    clf.fit(x_train_hog, y_train)\n",
        "    print(i,j)\n",
        "    print(clf.best_estimator_, clf.best_score_)"
      ],
      "execution_count": 12,
      "outputs": [
        {
          "output_type": "stream",
          "text": [
            "Fitting 5 folds for each of 3 candidates, totalling 15 fits\n"
          ],
          "name": "stdout"
        },
        {
          "output_type": "stream",
          "text": [
            "[Parallel(n_jobs=-1)]: Using backend LokyBackend with 2 concurrent workers.\n",
            "[Parallel(n_jobs=-1)]: Done   1 tasks      | elapsed:  2.8min\n",
            "[Parallel(n_jobs=-1)]: Done   4 tasks      | elapsed:  5.6min\n",
            "/usr/local/lib/python3.6/dist-packages/joblib/externals/loky/process_executor.py:706: UserWarning: A worker stopped while some jobs were given to the executor. This can be caused by a too short worker timeout or by a memory leak.\n",
            "  \"timeout or by a memory leak.\", UserWarning\n",
            "[Parallel(n_jobs=-1)]: Done   9 tasks      | elapsed: 13.7min\n",
            "[Parallel(n_jobs=-1)]: Done  15 out of  15 | elapsed: 21.4min finished\n"
          ],
          "name": "stderr"
        },
        {
          "output_type": "stream",
          "text": [
            "10 (2, 2)\n",
            "SVC(C=6, break_ties=False, cache_size=8192, class_weight=None, coef0=0.0,\n",
            "    decision_function_shape='ovr', degree=3, gamma='scale', kernel='rbf',\n",
            "    max_iter=-1, probability=False, random_state=42, shrinking=True, tol=0.001,\n",
            "    verbose=False) 0.8766999999999999\n",
            "Fitting 5 folds for each of 3 candidates, totalling 15 fits\n"
          ],
          "name": "stdout"
        },
        {
          "output_type": "stream",
          "text": [
            "[Parallel(n_jobs=-1)]: Using backend LokyBackend with 2 concurrent workers.\n",
            "[Parallel(n_jobs=-1)]: Done   1 tasks      | elapsed:   35.6s\n",
            "[Parallel(n_jobs=-1)]: Done   4 tasks      | elapsed:  1.2min\n",
            "[Parallel(n_jobs=-1)]: Done   9 tasks      | elapsed:  2.9min\n",
            "[Parallel(n_jobs=-1)]: Done  15 out of  15 | elapsed:  4.5min finished\n"
          ],
          "name": "stderr"
        },
        {
          "output_type": "stream",
          "text": [
            "10 (7, 2)\n",
            "SVC(C=5, break_ties=False, cache_size=8192, class_weight=None, coef0=0.0,\n",
            "    decision_function_shape='ovr', degree=3, gamma='scale', kernel='rbf',\n",
            "    max_iter=-1, probability=False, random_state=42, shrinking=True, tol=0.001,\n",
            "    verbose=False) 0.8668000000000001\n",
            "Fitting 5 folds for each of 3 candidates, totalling 15 fits\n"
          ],
          "name": "stdout"
        },
        {
          "output_type": "stream",
          "text": [
            "[Parallel(n_jobs=-1)]: Using backend LokyBackend with 2 concurrent workers.\n",
            "[Parallel(n_jobs=-1)]: Done   1 tasks      | elapsed:  1.1min\n",
            "/usr/local/lib/python3.6/dist-packages/joblib/externals/loky/process_executor.py:706: UserWarning: A worker stopped while some jobs were given to the executor. This can be caused by a too short worker timeout or by a memory leak.\n",
            "  \"timeout or by a memory leak.\", UserWarning\n",
            "[Parallel(n_jobs=-1)]: Done   4 tasks      | elapsed:  2.1min\n",
            "[Parallel(n_jobs=-1)]: Done   9 tasks      | elapsed:  5.3min\n",
            "[Parallel(n_jobs=-1)]: Done  15 out of  15 | elapsed:  8.3min finished\n"
          ],
          "name": "stderr"
        },
        {
          "output_type": "stream",
          "text": [
            "10 (4, 2)\n",
            "SVC(C=5, break_ties=False, cache_size=8192, class_weight=None, coef0=0.0,\n",
            "    decision_function_shape='ovr', degree=3, gamma='scale', kernel='rbf',\n",
            "    max_iter=-1, probability=False, random_state=42, shrinking=True, tol=0.001,\n",
            "    verbose=False) 0.8780999999999999\n",
            "Fitting 5 folds for each of 3 candidates, totalling 15 fits\n"
          ],
          "name": "stdout"
        },
        {
          "output_type": "stream",
          "text": [
            "[Parallel(n_jobs=-1)]: Using backend LokyBackend with 2 concurrent workers.\n",
            "[Parallel(n_jobs=-1)]: Done   1 tasks      | elapsed:  1.0min\n",
            "[Parallel(n_jobs=-1)]: Done   4 tasks      | elapsed:  2.1min\n",
            "[Parallel(n_jobs=-1)]: Done   9 tasks      | elapsed:  5.2min\n",
            "[Parallel(n_jobs=-1)]: Done  15 out of  15 | elapsed:  8.3min finished\n"
          ],
          "name": "stderr"
        },
        {
          "output_type": "stream",
          "text": [
            "10 (2, 4)\n",
            "SVC(C=6, break_ties=False, cache_size=8192, class_weight=None, coef0=0.0,\n",
            "    decision_function_shape='ovr', degree=3, gamma='scale', kernel='rbf',\n",
            "    max_iter=-1, probability=False, random_state=42, shrinking=True, tol=0.001,\n",
            "    verbose=False) 0.8709\n",
            "Fitting 5 folds for each of 3 candidates, totalling 15 fits\n"
          ],
          "name": "stdout"
        },
        {
          "output_type": "stream",
          "text": [
            "[Parallel(n_jobs=-1)]: Using backend LokyBackend with 2 concurrent workers.\n",
            "[Parallel(n_jobs=-1)]: Done   1 tasks      | elapsed:   28.8s\n",
            "[Parallel(n_jobs=-1)]: Done   4 tasks      | elapsed:   58.9s\n",
            "[Parallel(n_jobs=-1)]: Done   9 tasks      | elapsed:  2.4min\n",
            "[Parallel(n_jobs=-1)]: Done  15 out of  15 | elapsed:  3.8min finished\n"
          ],
          "name": "stderr"
        },
        {
          "output_type": "stream",
          "text": [
            "10 (4, 4)\n",
            "SVC(C=6, break_ties=False, cache_size=8192, class_weight=None, coef0=0.0,\n",
            "    decision_function_shape='ovr', degree=3, gamma='scale', kernel='rbf',\n",
            "    max_iter=-1, probability=False, random_state=42, shrinking=True, tol=0.001,\n",
            "    verbose=False) 0.8705\n"
          ],
          "name": "stdout"
        }
      ]
    },
    {
      "cell_type": "code",
      "metadata": {
        "id": "jNF9sX9L2UA9",
        "colab_type": "code",
        "colab": {
          "base_uri": "https://localhost:8080/",
          "height": 1000
        },
        "outputId": "43392f21-97d5-4233-8eaa-f7629aee3d60"
      },
      "source": [
        "orientations = [6,7,8,9,10]\n",
        "pixels_per_cell = [(4,2)]\n",
        "\n",
        "classifier = SVC(kernel = 'rbf', random_state = random_state, cache_size = 8192, gamma = 'scale')\n",
        "parameters = {'C':[5]}\n",
        "\n",
        "clf = GridSearchCV(classifier, param_grid = parameters, verbose = 10, n_jobs = -1)\n",
        "\n",
        "for i in orientations:\n",
        "  for j in pixels_per_cell:\n",
        "    x_train_hog = []\n",
        "    x_test_hog = []\n",
        "    for a, image in enumerate(x_train):\n",
        "      train_hog = hog(image.reshape(28,28), orientations = i, pixels_per_cell = j, cells_per_block = (1,1))\n",
        "      x_train_hog.append(train_hog)\n",
        "\n",
        "    for b, image in enumerate(x_test):\n",
        "      test_hog = hog(image.reshape(28,28), orientations = i, pixels_per_cell = j, cells_per_block = (1,1))\n",
        "      x_test_hog.append(test_hog)\n",
        "\n",
        "    clf.fit(x_train_hog, y_train)\n",
        "    print(i,j)\n",
        "    print(clf.best_estimator_, clf.best_score_)"
      ],
      "execution_count": 14,
      "outputs": [
        {
          "output_type": "stream",
          "text": [
            "Fitting 5 folds for each of 1 candidates, totalling 5 fits\n"
          ],
          "name": "stdout"
        },
        {
          "output_type": "stream",
          "text": [
            "[Parallel(n_jobs=-1)]: Using backend LokyBackend with 2 concurrent workers.\n",
            "[Parallel(n_jobs=-1)]: Done   1 tasks      | elapsed:   41.9s\n",
            "[Parallel(n_jobs=-1)]: Done   3 out of   5 | elapsed:  1.4min remaining:   55.4s\n",
            "[Parallel(n_jobs=-1)]: Done   5 out of   5 | elapsed:  2.0min remaining:    0.0s\n",
            "[Parallel(n_jobs=-1)]: Done   5 out of   5 | elapsed:  2.0min finished\n"
          ],
          "name": "stderr"
        },
        {
          "output_type": "stream",
          "text": [
            "6 (4, 2)\n",
            "SVC(C=5, break_ties=False, cache_size=8192, class_weight=None, coef0=0.0,\n",
            "    decision_function_shape='ovr', degree=3, gamma='scale', kernel='rbf',\n",
            "    max_iter=-1, probability=False, random_state=42, shrinking=True, tol=0.001,\n",
            "    verbose=False) 0.876\n",
            "Fitting 5 folds for each of 1 candidates, totalling 5 fits\n"
          ],
          "name": "stdout"
        },
        {
          "output_type": "stream",
          "text": [
            "[Parallel(n_jobs=-1)]: Using backend LokyBackend with 2 concurrent workers.\n",
            "[Parallel(n_jobs=-1)]: Done   1 tasks      | elapsed:   48.3s\n",
            "/usr/local/lib/python3.6/dist-packages/joblib/externals/loky/process_executor.py:706: UserWarning: A worker stopped while some jobs were given to the executor. This can be caused by a too short worker timeout or by a memory leak.\n",
            "  \"timeout or by a memory leak.\", UserWarning\n",
            "[Parallel(n_jobs=-1)]: Done   3 out of   5 | elapsed:  1.6min remaining:  1.1min\n",
            "[Parallel(n_jobs=-1)]: Done   5 out of   5 | elapsed:  2.3min remaining:    0.0s\n",
            "[Parallel(n_jobs=-1)]: Done   5 out of   5 | elapsed:  2.3min finished\n"
          ],
          "name": "stderr"
        },
        {
          "output_type": "stream",
          "text": [
            "7 (4, 2)\n",
            "SVC(C=5, break_ties=False, cache_size=8192, class_weight=None, coef0=0.0,\n",
            "    decision_function_shape='ovr', degree=3, gamma='scale', kernel='rbf',\n",
            "    max_iter=-1, probability=False, random_state=42, shrinking=True, tol=0.001,\n",
            "    verbose=False) 0.8785999999999999\n",
            "Fitting 5 folds for each of 1 candidates, totalling 5 fits\n"
          ],
          "name": "stdout"
        },
        {
          "output_type": "stream",
          "text": [
            "[Parallel(n_jobs=-1)]: Using backend LokyBackend with 2 concurrent workers.\n",
            "[Parallel(n_jobs=-1)]: Done   1 tasks      | elapsed:   57.8s\n",
            "/usr/local/lib/python3.6/dist-packages/joblib/externals/loky/process_executor.py:706: UserWarning: A worker stopped while some jobs were given to the executor. This can be caused by a too short worker timeout or by a memory leak.\n",
            "  \"timeout or by a memory leak.\", UserWarning\n",
            "[Parallel(n_jobs=-1)]: Done   3 out of   5 | elapsed:  1.9min remaining:  1.3min\n",
            "[Parallel(n_jobs=-1)]: Done   5 out of   5 | elapsed:  2.8min remaining:    0.0s\n",
            "[Parallel(n_jobs=-1)]: Done   5 out of   5 | elapsed:  2.8min finished\n"
          ],
          "name": "stderr"
        },
        {
          "output_type": "stream",
          "text": [
            "8 (4, 2)\n",
            "SVC(C=5, break_ties=False, cache_size=8192, class_weight=None, coef0=0.0,\n",
            "    decision_function_shape='ovr', degree=3, gamma='scale', kernel='rbf',\n",
            "    max_iter=-1, probability=False, random_state=42, shrinking=True, tol=0.001,\n",
            "    verbose=False) 0.8785999999999999\n",
            "Fitting 5 folds for each of 1 candidates, totalling 5 fits\n"
          ],
          "name": "stdout"
        },
        {
          "output_type": "stream",
          "text": [
            "[Parallel(n_jobs=-1)]: Using backend LokyBackend with 2 concurrent workers.\n",
            "[Parallel(n_jobs=-1)]: Done   1 tasks      | elapsed:  1.1min\n",
            "/usr/local/lib/python3.6/dist-packages/joblib/externals/loky/process_executor.py:706: UserWarning: A worker stopped while some jobs were given to the executor. This can be caused by a too short worker timeout or by a memory leak.\n",
            "  \"timeout or by a memory leak.\", UserWarning\n",
            "[Parallel(n_jobs=-1)]: Done   3 out of   5 | elapsed:  2.3min remaining:  1.5min\n",
            "[Parallel(n_jobs=-1)]: Done   5 out of   5 | elapsed:  3.3min remaining:    0.0s\n",
            "[Parallel(n_jobs=-1)]: Done   5 out of   5 | elapsed:  3.3min finished\n"
          ],
          "name": "stderr"
        },
        {
          "output_type": "stream",
          "text": [
            "9 (4, 2)\n",
            "SVC(C=5, break_ties=False, cache_size=8192, class_weight=None, coef0=0.0,\n",
            "    decision_function_shape='ovr', degree=3, gamma='scale', kernel='rbf',\n",
            "    max_iter=-1, probability=False, random_state=42, shrinking=True, tol=0.001,\n",
            "    verbose=False) 0.8758000000000001\n",
            "Fitting 5 folds for each of 1 candidates, totalling 5 fits\n"
          ],
          "name": "stdout"
        },
        {
          "output_type": "stream",
          "text": [
            "[Parallel(n_jobs=-1)]: Using backend LokyBackend with 2 concurrent workers.\n",
            "[Parallel(n_jobs=-1)]: Done   1 tasks      | elapsed:  1.3min\n",
            "/usr/local/lib/python3.6/dist-packages/joblib/externals/loky/process_executor.py:706: UserWarning: A worker stopped while some jobs were given to the executor. This can be caused by a too short worker timeout or by a memory leak.\n",
            "  \"timeout or by a memory leak.\", UserWarning\n",
            "[Parallel(n_jobs=-1)]: Done   3 out of   5 | elapsed:  2.6min remaining:  1.7min\n",
            "[Parallel(n_jobs=-1)]: Done   5 out of   5 | elapsed:  3.7min remaining:    0.0s\n",
            "[Parallel(n_jobs=-1)]: Done   5 out of   5 | elapsed:  3.7min finished\n"
          ],
          "name": "stderr"
        },
        {
          "output_type": "stream",
          "text": [
            "10 (4, 2)\n",
            "SVC(C=5, break_ties=False, cache_size=8192, class_weight=None, coef0=0.0,\n",
            "    decision_function_shape='ovr', degree=3, gamma='scale', kernel='rbf',\n",
            "    max_iter=-1, probability=False, random_state=42, shrinking=True, tol=0.001,\n",
            "    verbose=False) 0.8780999999999999\n"
          ],
          "name": "stdout"
        }
      ]
    },
    {
      "cell_type": "code",
      "metadata": {
        "id": "QfIxTeAZBEg8",
        "colab_type": "code",
        "colab": {
          "base_uri": "https://localhost:8080/",
          "height": 243
        },
        "outputId": "7a5db14b-148d-4869-ed74-7b323e2eb7ea"
      },
      "source": [
        "orientations = [8]\n",
        "pixels_per_cell = [(4,2)]\n",
        "\n",
        "classifier = SVC(kernel = 'rbf', random_state = random_state, cache_size = 8192, gamma = 'scale')\n",
        "parameters = {'C':[1,4,5,6,7,10]}\n",
        "\n",
        "clf = GridSearchCV(classifier, param_grid = parameters, verbose = 10, n_jobs = -1)\n",
        "\n",
        "for i in orientations:\n",
        "  for j in pixels_per_cell:\n",
        "    x_train_hog = []\n",
        "    x_test_hog = []\n",
        "    for a, image in enumerate(x_train):\n",
        "      train_hog = hog(image.reshape(28,28), orientations = i, pixels_per_cell = j, cells_per_block = (1,1))\n",
        "      x_train_hog.append(train_hog)\n",
        "\n",
        "    for b, image in enumerate(x_test):\n",
        "      test_hog = hog(image.reshape(28,28), orientations = i, pixels_per_cell = j, cells_per_block = (1,1))\n",
        "      x_test_hog.append(test_hog)\n",
        "\n",
        "    clf.fit(x_train_hog, y_train)\n",
        "    print(i,j)\n",
        "    print(clf.best_estimator_, clf.best_score_)"
      ],
      "execution_count": 15,
      "outputs": [
        {
          "output_type": "stream",
          "text": [
            "Fitting 5 folds for each of 6 candidates, totalling 30 fits\n"
          ],
          "name": "stdout"
        },
        {
          "output_type": "stream",
          "text": [
            "[Parallel(n_jobs=-1)]: Using backend LokyBackend with 2 concurrent workers.\n",
            "[Parallel(n_jobs=-1)]: Done   1 tasks      | elapsed:   53.4s\n",
            "[Parallel(n_jobs=-1)]: Done   4 tasks      | elapsed:  1.8min\n",
            "[Parallel(n_jobs=-1)]: Done   9 tasks      | elapsed:  4.6min\n",
            "[Parallel(n_jobs=-1)]: Done  14 tasks      | elapsed:  6.7min\n",
            "[Parallel(n_jobs=-1)]: Done  21 tasks      | elapsed: 10.3min\n",
            "[Parallel(n_jobs=-1)]: Done  30 out of  30 | elapsed: 14.4min finished\n"
          ],
          "name": "stderr"
        },
        {
          "output_type": "stream",
          "text": [
            "8 (4, 2)\n",
            "SVC(C=4, break_ties=False, cache_size=8192, class_weight=None, coef0=0.0,\n",
            "    decision_function_shape='ovr', degree=3, gamma='scale', kernel='rbf',\n",
            "    max_iter=-1, probability=False, random_state=42, shrinking=True, tol=0.001,\n",
            "    verbose=False) 0.8792\n"
          ],
          "name": "stdout"
        }
      ]
    },
    {
      "cell_type": "code",
      "metadata": {
        "id": "AnJD4wfQFZmi",
        "colab_type": "code",
        "colab": {
          "base_uri": "https://localhost:8080/",
          "height": 260
        },
        "outputId": "5efb6d54-7e8e-4ec6-f832-ed91c0cef63b"
      },
      "source": [
        "orientations = [8]\n",
        "pixels_per_cell = [(4,2)]\n",
        "\n",
        "classifier = SVC(kernel = 'rbf', random_state = random_state, cache_size = 8192, gamma = 'scale')\n",
        "parameters = {'C':[2,2.5,3,3.5,4]}\n",
        "\n",
        "clf = GridSearchCV(classifier, param_grid = parameters, verbose = 10, n_jobs = -1)\n",
        "\n",
        "for i in orientations:\n",
        "  for j in pixels_per_cell:\n",
        "    x_train_hog = []\n",
        "    x_test_hog = []\n",
        "    for a, image in enumerate(x_train):\n",
        "      train_hog = hog(image.reshape(28,28), orientations = i, pixels_per_cell = j, cells_per_block = (1,1))\n",
        "      x_train_hog.append(train_hog)\n",
        "\n",
        "    for b, image in enumerate(x_test):\n",
        "      test_hog = hog(image.reshape(28,28), orientations = i, pixels_per_cell = j, cells_per_block = (1,1))\n",
        "      x_test_hog.append(test_hog)\n",
        "\n",
        "    clf.fit(x_train_hog, y_train)\n",
        "    print(i,j)\n",
        "    print(clf.best_estimator_, clf.best_score_)"
      ],
      "execution_count": 16,
      "outputs": [
        {
          "output_type": "stream",
          "text": [
            "Fitting 5 folds for each of 5 candidates, totalling 25 fits\n"
          ],
          "name": "stdout"
        },
        {
          "output_type": "stream",
          "text": [
            "[Parallel(n_jobs=-1)]: Using backend LokyBackend with 2 concurrent workers.\n",
            "[Parallel(n_jobs=-1)]: Done   1 tasks      | elapsed:   54.9s\n",
            "[Parallel(n_jobs=-1)]: Done   4 tasks      | elapsed:  1.8min\n",
            "[Parallel(n_jobs=-1)]: Done   9 tasks      | elapsed:  4.6min\n",
            "[Parallel(n_jobs=-1)]: Done  14 tasks      | elapsed:  6.6min\n",
            "[Parallel(n_jobs=-1)]: Done  21 tasks      | elapsed: 10.5min\n",
            "[Parallel(n_jobs=-1)]: Done  25 out of  25 | elapsed: 12.4min remaining:    0.0s\n",
            "[Parallel(n_jobs=-1)]: Done  25 out of  25 | elapsed: 12.4min finished\n"
          ],
          "name": "stderr"
        },
        {
          "output_type": "stream",
          "text": [
            "8 (4, 2)\n",
            "SVC(C=4, break_ties=False, cache_size=8192, class_weight=None, coef0=0.0,\n",
            "    decision_function_shape='ovr', degree=3, gamma='scale', kernel='rbf',\n",
            "    max_iter=-1, probability=False, random_state=42, shrinking=True, tol=0.001,\n",
            "    verbose=False) 0.8792\n"
          ],
          "name": "stdout"
        }
      ]
    },
    {
      "cell_type": "code",
      "metadata": {
        "id": "hvBk-JslJGwS",
        "colab_type": "code",
        "colab": {
          "base_uri": "https://localhost:8080/",
          "height": 454
        },
        "outputId": "5c8762c1-6035-4b9a-d4b6-a56a79044284"
      },
      "source": [
        "orientations = [8,16]\n",
        "pixels_per_cell = [(4,2)]\n",
        "\n",
        "classifier = SVC(kernel = 'rbf', random_state = random_state, cache_size = 8192, gamma = 'scale')\n",
        "parameters = {'C':[4,4.5,5]}\n",
        "\n",
        "clf = GridSearchCV(classifier, param_grid = parameters, verbose = 10, n_jobs = -1)\n",
        "\n",
        "for i in orientations:\n",
        "  for j in pixels_per_cell:\n",
        "    x_train_hog = []\n",
        "    x_test_hog = []\n",
        "    for a, image in enumerate(x_train):\n",
        "      train_hog = hog(image.reshape(28,28), orientations = i, pixels_per_cell = j, cells_per_block = (1,1))\n",
        "      x_train_hog.append(train_hog)\n",
        "\n",
        "    for b, image in enumerate(x_test):\n",
        "      test_hog = hog(image.reshape(28,28), orientations = i, pixels_per_cell = j, cells_per_block = (1,1))\n",
        "      x_test_hog.append(test_hog)\n",
        "\n",
        "    clf.fit(x_train_hog, y_train)\n",
        "    print(i,j)\n",
        "    print(clf.best_estimator_, clf.best_score_)"
      ],
      "execution_count": 17,
      "outputs": [
        {
          "output_type": "stream",
          "text": [
            "Fitting 5 folds for each of 3 candidates, totalling 15 fits\n"
          ],
          "name": "stdout"
        },
        {
          "output_type": "stream",
          "text": [
            "[Parallel(n_jobs=-1)]: Using backend LokyBackend with 2 concurrent workers.\n",
            "[Parallel(n_jobs=-1)]: Done   1 tasks      | elapsed:   54.7s\n",
            "[Parallel(n_jobs=-1)]: Done   4 tasks      | elapsed:  1.9min\n",
            "[Parallel(n_jobs=-1)]: Done   9 tasks      | elapsed:  4.6min\n",
            "[Parallel(n_jobs=-1)]: Done  15 out of  15 | elapsed:  7.2min finished\n"
          ],
          "name": "stderr"
        },
        {
          "output_type": "stream",
          "text": [
            "8 (4, 2)\n",
            "SVC(C=4, break_ties=False, cache_size=8192, class_weight=None, coef0=0.0,\n",
            "    decision_function_shape='ovr', degree=3, gamma='scale', kernel='rbf',\n",
            "    max_iter=-1, probability=False, random_state=42, shrinking=True, tol=0.001,\n",
            "    verbose=False) 0.8792\n",
            "Fitting 5 folds for each of 3 candidates, totalling 15 fits\n"
          ],
          "name": "stdout"
        },
        {
          "output_type": "stream",
          "text": [
            "[Parallel(n_jobs=-1)]: Using backend LokyBackend with 2 concurrent workers.\n",
            "[Parallel(n_jobs=-1)]: Done   1 tasks      | elapsed:  2.2min\n",
            "/usr/local/lib/python3.6/dist-packages/joblib/externals/loky/process_executor.py:706: UserWarning: A worker stopped while some jobs were given to the executor. This can be caused by a too short worker timeout or by a memory leak.\n",
            "  \"timeout or by a memory leak.\", UserWarning\n",
            "[Parallel(n_jobs=-1)]: Done   4 tasks      | elapsed:  4.5min\n",
            "[Parallel(n_jobs=-1)]: Done   9 tasks      | elapsed: 11.0min\n",
            "[Parallel(n_jobs=-1)]: Done  15 out of  15 | elapsed: 17.5min finished\n"
          ],
          "name": "stderr"
        },
        {
          "output_type": "stream",
          "text": [
            "16 (4, 2)\n",
            "SVC(C=4, break_ties=False, cache_size=8192, class_weight=None, coef0=0.0,\n",
            "    decision_function_shape='ovr', degree=3, gamma='scale', kernel='rbf',\n",
            "    max_iter=-1, probability=False, random_state=42, shrinking=True, tol=0.001,\n",
            "    verbose=False) 0.8758000000000001\n"
          ],
          "name": "stdout"
        }
      ]
    },
    {
      "cell_type": "code",
      "metadata": {
        "id": "fB_Huu-YSG2Z",
        "colab_type": "code",
        "colab": {
          "base_uri": "https://localhost:8080/",
          "height": 298
        },
        "outputId": "d87835a8-f2ae-4ed0-d1b3-c95fc384ed12"
      },
      "source": [
        "orientations = [8]\n",
        "pixels_per_cell = [(4,2)]\n",
        "\n",
        "classifier = SVC(kernel = 'poly', random_state = random_state, cache_size = 8192, gamma = 'scale')\n",
        "parameters = {'C':[4], 'degree': [2,3,4,5]}\n",
        "\n",
        "clf = GridSearchCV(classifier, param_grid = parameters, verbose = 10, n_jobs = -1)\n",
        "\n",
        "for i in orientations:\n",
        "  for j in pixels_per_cell:\n",
        "    x_train_hog = []\n",
        "    x_test_hog = []\n",
        "    for a, image in enumerate(x_train):\n",
        "      train_hog = hog(image.reshape(28,28), orientations = i, pixels_per_cell = j, cells_per_block = (1,1))\n",
        "      x_train_hog.append(train_hog)\n",
        "\n",
        "    for b, image in enumerate(x_test):\n",
        "      test_hog = hog(image.reshape(28,28), orientations = i, pixels_per_cell = j, cells_per_block = (1,1))\n",
        "      x_test_hog.append(test_hog)\n",
        "\n",
        "    clf.fit(x_train_hog, y_train)\n",
        "    print(i,j)\n",
        "    print(clf.best_estimator_, clf.best_score_)"
      ],
      "execution_count": 18,
      "outputs": [
        {
          "output_type": "stream",
          "text": [
            "Fitting 5 folds for each of 4 candidates, totalling 20 fits\n"
          ],
          "name": "stdout"
        },
        {
          "output_type": "stream",
          "text": [
            "[Parallel(n_jobs=-1)]: Using backend LokyBackend with 2 concurrent workers.\n",
            "[Parallel(n_jobs=-1)]: Done   1 tasks      | elapsed:   41.7s\n",
            "[Parallel(n_jobs=-1)]: Done   4 tasks      | elapsed:  1.4min\n",
            "/usr/local/lib/python3.6/dist-packages/joblib/externals/loky/process_executor.py:706: UserWarning: A worker stopped while some jobs were given to the executor. This can be caused by a too short worker timeout or by a memory leak.\n",
            "  \"timeout or by a memory leak.\", UserWarning\n",
            "[Parallel(n_jobs=-1)]: Done   9 tasks      | elapsed:  3.9min\n",
            "[Parallel(n_jobs=-1)]: Done  14 tasks      | elapsed:  6.0min\n",
            "[Parallel(n_jobs=-1)]: Done  20 out of  20 | elapsed:  9.6min remaining:    0.0s\n",
            "[Parallel(n_jobs=-1)]: Done  20 out of  20 | elapsed:  9.6min finished\n"
          ],
          "name": "stderr"
        },
        {
          "output_type": "stream",
          "text": [
            "8 (4, 2)\n",
            "SVC(C=4, break_ties=False, cache_size=8192, class_weight=None, coef0=0.0,\n",
            "    decision_function_shape='ovr', degree=4, gamma='scale', kernel='poly',\n",
            "    max_iter=-1, probability=False, random_state=42, shrinking=True, tol=0.001,\n",
            "    verbose=False) 0.8789000000000001\n"
          ],
          "name": "stdout"
        }
      ]
    },
    {
      "cell_type": "code",
      "metadata": {
        "id": "ESsopZXWW99P",
        "colab_type": "code",
        "colab": {
          "base_uri": "https://localhost:8080/",
          "height": 243
        },
        "outputId": "9eddb261-c89d-4d42-a2df-026b8ac0472f"
      },
      "source": [
        "orientations = [8]\n",
        "pixels_per_cell = [(4,2)]\n",
        "\n",
        "classifier = SVC(kernel = 'sigmoid', random_state = random_state, cache_size = 8192, gamma = 'scale')\n",
        "parameters = {'C':[4], 'degree': [2,3,4,5]}\n",
        "\n",
        "clf = GridSearchCV(classifier, param_grid = parameters, verbose = 10, n_jobs = -1)\n",
        "\n",
        "for i in orientations:\n",
        "  for j in pixels_per_cell:\n",
        "    x_train_hog = []\n",
        "    x_test_hog = []\n",
        "    for a, image in enumerate(x_train):\n",
        "      train_hog = hog(image.reshape(28,28), orientations = i, pixels_per_cell = j, cells_per_block = (1,1))\n",
        "      x_train_hog.append(train_hog)\n",
        "\n",
        "    for b, image in enumerate(x_test):\n",
        "      test_hog = hog(image.reshape(28,28), orientations = i, pixels_per_cell = j, cells_per_block = (1,1))\n",
        "      x_test_hog.append(test_hog)\n",
        "\n",
        "    clf.fit(x_train_hog, y_train)\n",
        "    print(i,j)\n",
        "    print(clf.best_estimator_, clf.best_score_)"
      ],
      "execution_count": 19,
      "outputs": [
        {
          "output_type": "stream",
          "text": [
            "Fitting 5 folds for each of 4 candidates, totalling 20 fits\n"
          ],
          "name": "stdout"
        },
        {
          "output_type": "stream",
          "text": [
            "[Parallel(n_jobs=-1)]: Using backend LokyBackend with 2 concurrent workers.\n",
            "[Parallel(n_jobs=-1)]: Done   1 tasks      | elapsed:   29.0s\n",
            "[Parallel(n_jobs=-1)]: Done   4 tasks      | elapsed:   58.0s\n",
            "[Parallel(n_jobs=-1)]: Done   9 tasks      | elapsed:  2.4min\n",
            "[Parallel(n_jobs=-1)]: Done  14 tasks      | elapsed:  3.4min\n",
            "[Parallel(n_jobs=-1)]: Done  20 out of  20 | elapsed:  4.8min remaining:    0.0s\n",
            "[Parallel(n_jobs=-1)]: Done  20 out of  20 | elapsed:  4.8min finished\n"
          ],
          "name": "stderr"
        },
        {
          "output_type": "stream",
          "text": [
            "8 (4, 2)\n",
            "SVC(C=4, break_ties=False, cache_size=8192, class_weight=None, coef0=0.0,\n",
            "    decision_function_shape='ovr', degree=2, gamma='scale', kernel='sigmoid',\n",
            "    max_iter=-1, probability=False, random_state=42, shrinking=True, tol=0.001,\n",
            "    verbose=False) 0.8413\n"
          ],
          "name": "stdout"
        }
      ]
    },
    {
      "cell_type": "code",
      "metadata": {
        "id": "L-rEsHV9dbCP",
        "colab_type": "code",
        "colab": {}
      },
      "source": [
        "#svm = SVC(kernel = 'rbf', C = 2, gamma = 'scale', cache_size = 8192, random_state = random_state)"
      ],
      "execution_count": 0,
      "outputs": []
    },
    {
      "cell_type": "code",
      "metadata": {
        "id": "07YPv9JY-6np",
        "colab_type": "code",
        "colab": {}
      },
      "source": [
        "'''svm.fit(x_train_hog, y_train)\n",
        "predict = svm.predict(x_test_hog)\n",
        "print('Accuracy of HOG: {}%'.format(str(accuracy_score(y_test, predict) * 100)))'''"
      ],
      "execution_count": 0,
      "outputs": []
    },
    {
      "cell_type": "code",
      "metadata": {
        "id": "fZ2to_UMHmXx",
        "colab_type": "code",
        "colab": {}
      },
      "source": [
        "'''svm.fit(x_train, y_train)\n",
        "predict = svm.predict(x_test)\n",
        "print('Accuracy of HOG: {}%'.format(str(accuracy_score(y_test, predict) * 100)))'''"
      ],
      "execution_count": 0,
      "outputs": []
    },
    {
      "cell_type": "markdown",
      "metadata": {
        "id": "dYp_mNyTJ8wD",
        "colab_type": "text"
      },
      "source": [
        "best result so far: HOG Features 10, (7,2) ; SVC rbf,C=2, gamma = scale :: 89.5%"
      ]
    },
    {
      "cell_type": "code",
      "metadata": {
        "id": "TPbb50fn7df-",
        "colab_type": "code",
        "colab": {}
      },
      "source": [
        "'''\n",
        "8 (4, 2)\n",
        "SVC(C=5, break_ties=False, cache_size=8192, class_weight=None, coef0=0.0,\n",
        "    decision_function_shape='ovr', degree=3, gamma='scale', kernel='rbf',\n",
        "    max_iter=-1, probability=False, random_state=42, shrinking=True, tol=0.001,\n",
        "    verbose=False) 0.8785999999999999\n",
        "    '''"
      ],
      "execution_count": 0,
      "outputs": []
    },
    {
      "cell_type": "code",
      "metadata": {
        "id": "woeFJzGwSUjt",
        "colab_type": "code",
        "colab": {}
      },
      "source": [
        "'''\n",
        "8 (4, 2)\n",
        "SVC(C=4, break_ties=False, cache_size=8192, class_weight=None, coef0=0.0,\n",
        "    decision_function_shape='ovr', degree=3, gamma='scale', kernel='rbf',\n",
        "    max_iter=-1, probability=False, random_state=42, shrinking=True, tol=0.001,\n",
        "    verbose=False) 0.8792\n",
        "'''"
      ],
      "execution_count": 0,
      "outputs": []
    }
  ]
}