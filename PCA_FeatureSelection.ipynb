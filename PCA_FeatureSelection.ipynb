{
  "nbformat": 4,
  "nbformat_minor": 0,
  "metadata": {
    "colab": {
      "name": "FashionMNIST.ipynb",
      "provenance": [],
      "machine_shape": "hm"
    },
    "kernelspec": {
      "display_name": "Python 3",
      "language": "python",
      "name": "python3"
    },
    "language_info": {
      "codemirror_mode": {
        "name": "ipython",
        "version": 3
      },
      "file_extension": ".py",
      "mimetype": "text/x-python",
      "name": "python",
      "nbconvert_exporter": "python",
      "pygments_lexer": "ipython3",
      "version": "3.7.3"
    }
  },
  "cells": [
    {
      "cell_type": "markdown",
      "metadata": {
        "colab_type": "text",
        "id": "PibQ771SXsrE"
      },
      "source": [
        "# Data Dictionary:\n",
        "## **1. Download Data**\n",
        "> train_dataset    |   torchvision.datasets.mnist.FashionMNIST<br>\n",
        "eval_dataset       |   torchvision.datasets.mnist.FashionMNIST\n",
        "\n",
        "## **2. Prepare Data**\n",
        "\n",
        "\n",
        "> train_images     |   numpy array (60000, 784)\n",
        "<br>train_labels   |   numpy array (60000, )\n",
        "<br>eval_images    |   numpy array (10000, 784)\n",
        "<br>eval_labels    |   numpy array (10000, )\n",
        "<br> standardized_train_images | numpy array (60000, 784)\n",
        "<br> standardized_eval_images |   numpy array (10000, 784)\n",
        "\n",
        "\n"
      ]
    },
    {
      "cell_type": "markdown",
      "metadata": {
        "colab_type": "text",
        "id": "kCavEznV3yT5"
      },
      "source": [
        "# **To-Do**\n",
        "1. Test PCA with sharpened data\n",
        "2. Test Feature selection on PCs\n",
        "\n",
        "Add in F1 Score & Confusion matrix"
      ]
    },
    {
      "cell_type": "code",
      "metadata": {
        "colab_type": "code",
        "id": "INUdIHaWRX3T",
        "colab": {}
      },
      "source": [
        "# a = []\n",
        "# while(1):\n",
        "#     a.append('1')"
      ],
      "execution_count": 0,
      "outputs": []
    },
    {
      "cell_type": "markdown",
      "metadata": {
        "colab_type": "text",
        "id": "2GvcPJ17Dbu0"
      },
      "source": [
        "# Importing of Libraries"
      ]
    },
    {
      "cell_type": "code",
      "metadata": {
        "colab_type": "code",
        "id": "XpXmUIl8ETkn",
        "outputId": "8a2fe3bb-b087-45df-ebb0-76ce622e66ef",
        "colab": {
          "base_uri": "https://localhost:8080/",
          "height": 72
        }
      },
      "source": [
        "import torchvision\n",
        "from PIL import Image\n",
        "\n",
        "import pandas as pd\n",
        "import numpy as np\n",
        "import scipy as sp\n",
        "from scipy import ndimage\n",
        "from scipy.stats import norm\n",
        "import scipy.signal as sig\n",
        "\n",
        "from sklearn.preprocessing import MinMaxScaler\n",
        "from sklearn import metrics\n",
        "from sklearn.metrics import classification_report, confusion_matrix\n",
        "from sklearn.metrics import precision_score\n",
        "from sklearn.metrics import recall_score\n",
        "from sklearn.metrics import f1_score\n",
        "from skimage import io\n",
        "from skimage.feature import hog\n",
        "from sklearn.svm import SVC\n",
        "from sklearn.model_selection import cross_val_score\n",
        "from sklearn.model_selection import learning_curve\n",
        "from sklearn.model_selection import GridSearchCV\n",
        "from sklearn.model_selection import StratifiedShuffleSplit\n",
        "from sklearn.model_selection import StratifiedKFold\n",
        "from sklearn.feature_selection import RFECV\n",
        "\n",
        "from matplotlib.pyplot import imshow\n",
        "import matplotlib.pyplot as plt\n",
        "import seaborn as sns\n",
        "\n",
        "from sklearn.preprocessing import StandardScaler\n",
        "from sklearn.decomposition import PCA\n",
        "\n",
        "import time, random, math\n"
      ],
      "execution_count": 1,
      "outputs": [
        {
          "output_type": "stream",
          "text": [
            "/usr/local/lib/python3.6/dist-packages/statsmodels/tools/_testing.py:19: FutureWarning: pandas.util.testing is deprecated. Use the functions in the public API at pandas.testing instead.\n",
            "  import pandas.util.testing as tm\n"
          ],
          "name": "stderr"
        }
      ]
    },
    {
      "cell_type": "code",
      "metadata": {
        "colab_type": "code",
        "id": "eYL6yjAOEaPx",
        "colab": {}
      },
      "source": [
        "%matplotlib inline"
      ],
      "execution_count": 0,
      "outputs": []
    },
    {
      "cell_type": "markdown",
      "metadata": {
        "colab_type": "text",
        "id": "jwH7Rd98gvSd"
      },
      "source": [
        "# Functions"
      ]
    },
    {
      "cell_type": "code",
      "metadata": {
        "colab_type": "code",
        "id": "6aL7d05_gxwu",
        "colab": {}
      },
      "source": [
        "def print_time_taken(start_time):\n",
        "    end_time = time.time()\n",
        "    secs = end_time-start_time\n",
        "    mins = math.floor(secs / 60)\n",
        "    secs = secs % 60\n",
        "    print('time taken:',str(mins), 'min ',str(secs),'s')"
      ],
      "execution_count": 0,
      "outputs": []
    },
    {
      "cell_type": "markdown",
      "metadata": {
        "colab_type": "text",
        "id": "iQsMrT4noCaM"
      },
      "source": [
        "# Data Extraction"
      ]
    },
    {
      "cell_type": "code",
      "metadata": {
        "colab_type": "code",
        "id": "PQYK8EtPEb1X",
        "colab": {}
      },
      "source": [
        "# download the Fashion MNIST training data\n",
        "train_dataset = torchvision.datasets.FashionMNIST(root='./', train=True, download=True)\n",
        "\n",
        "# download the Fashion MNIST evaluation data\n",
        "eval_dataset = torchvision.datasets.FashionMNIST(root='./', train=False, download=True)"
      ],
      "execution_count": 0,
      "outputs": []
    },
    {
      "cell_type": "code",
      "metadata": {
        "colab_type": "code",
        "id": "8hnGThDmqDnR",
        "colab": {}
      },
      "source": [
        "labels_dict = {0: \"T-shirt/top\",\n",
        "               1: \"Trouser\",\n",
        "               2: \"Pullover\",\n",
        "               3: \"Dress\",\n",
        "               4: \"Coat\",\n",
        "               5: \"Sandal\",\n",
        "               6: \"Shirt\",\n",
        "               7: \"Sneaker\",\n",
        "               8: \"Bag\",\n",
        "               9: \"Ankle boot\"}"
      ],
      "execution_count": 0,
      "outputs": []
    },
    {
      "cell_type": "markdown",
      "metadata": {
        "colab_type": "text",
        "id": "vR66I2igrZAe"
      },
      "source": [
        "# Data Preparation"
      ]
    },
    {
      "cell_type": "markdown",
      "metadata": {
        "colab_type": "text",
        "id": "tCoKJguwfJQb"
      },
      "source": [
        "**Reshape data from 28x28 into 784**"
      ]
    },
    {
      "cell_type": "code",
      "metadata": {
        "colab_type": "code",
        "id": "ZyXLL7lqrgZp",
        "colab": {}
      },
      "source": [
        "train_images = train_dataset.data.numpy().reshape(-1,28*28)\n",
        "train_labels = train_dataset.targets.data.numpy()"
      ],
      "execution_count": 0,
      "outputs": []
    },
    {
      "cell_type": "code",
      "metadata": {
        "colab_type": "code",
        "id": "ohKfnzmIsknJ",
        "outputId": "d867e2ab-06ab-47ed-e40b-2ddd87ed0bd7",
        "colab": {
          "base_uri": "https://localhost:8080/",
          "height": 35
        }
      },
      "source": [
        "train_images.shape"
      ],
      "execution_count": 7,
      "outputs": [
        {
          "output_type": "execute_result",
          "data": {
            "text/plain": [
              "(60000, 784)"
            ]
          },
          "metadata": {
            "tags": []
          },
          "execution_count": 7
        }
      ]
    },
    {
      "cell_type": "code",
      "metadata": {
        "colab_type": "code",
        "id": "Y04wZNYqsupX",
        "outputId": "cd9f8f2d-f4ce-4d91-cfd0-9e4bc4adf5cd",
        "colab": {
          "base_uri": "https://localhost:8080/",
          "height": 35
        }
      },
      "source": [
        "train_labels.shape"
      ],
      "execution_count": 8,
      "outputs": [
        {
          "output_type": "execute_result",
          "data": {
            "text/plain": [
              "(60000,)"
            ]
          },
          "metadata": {
            "tags": []
          },
          "execution_count": 8
        }
      ]
    },
    {
      "cell_type": "code",
      "metadata": {
        "colab_type": "code",
        "id": "mFykg6XQsys-",
        "colab": {}
      },
      "source": [
        "eval_images = eval_dataset.data.numpy().reshape(-1,28*28)\n",
        "eval_labels = eval_dataset.targets.data.numpy()"
      ],
      "execution_count": 0,
      "outputs": []
    },
    {
      "cell_type": "code",
      "metadata": {
        "colab_type": "code",
        "id": "_ZOOzfAts08u",
        "outputId": "81184a11-e976-4a48-a6a4-746ab65f8439",
        "colab": {
          "base_uri": "https://localhost:8080/",
          "height": 35
        }
      },
      "source": [
        "eval_images.shape"
      ],
      "execution_count": 10,
      "outputs": [
        {
          "output_type": "execute_result",
          "data": {
            "text/plain": [
              "(10000, 784)"
            ]
          },
          "metadata": {
            "tags": []
          },
          "execution_count": 10
        }
      ]
    },
    {
      "cell_type": "code",
      "metadata": {
        "colab_type": "code",
        "id": "3fOmqBRLs4eG",
        "outputId": "c083c0c1-d366-4087-8976-5b7229e249e3",
        "colab": {
          "base_uri": "https://localhost:8080/",
          "height": 35
        }
      },
      "source": [
        "eval_labels.shape"
      ],
      "execution_count": 11,
      "outputs": [
        {
          "output_type": "execute_result",
          "data": {
            "text/plain": [
              "(10000,)"
            ]
          },
          "metadata": {
            "tags": []
          },
          "execution_count": 11
        }
      ]
    },
    {
      "cell_type": "markdown",
      "metadata": {
        "colab_type": "text",
        "id": "9yp_HTDofHf3"
      },
      "source": [
        "**Standardize data**"
      ]
    },
    {
      "cell_type": "code",
      "metadata": {
        "colab_type": "code",
        "id": "ZhMwebBjf6kD",
        "colab": {}
      },
      "source": [
        "standardized_train_images = StandardScaler().fit_transform(train_images)\n",
        "standardized_eval_images = StandardScaler().fit_transform(eval_images)"
      ],
      "execution_count": 0,
      "outputs": []
    },
    {
      "cell_type": "markdown",
      "metadata": {
        "colab_type": "text",
        "id": "1HN3NAKRev79"
      },
      "source": [
        "# Support Vector Machine"
      ]
    },
    {
      "cell_type": "code",
      "metadata": {
        "colab_type": "code",
        "id": "BjrCcIC7XXn6",
        "colab": {}
      },
      "source": [
        "# optimal number for random_state\n",
        "random_seed = 42"
      ],
      "execution_count": 0,
      "outputs": []
    },
    {
      "cell_type": "markdown",
      "metadata": {
        "colab_type": "text",
        "id": "-_UXxWD7XNAc"
      },
      "source": [
        "**Run SVM on Untreated Data**"
      ]
    },
    {
      "cell_type": "code",
      "metadata": {
        "colab_type": "code",
        "id": "NDogzMZlaGik",
        "colab": {}
      },
      "source": [
        "# svm = SVC(kernel='linear', random_state=random_seed)"
      ],
      "execution_count": 0,
      "outputs": []
    },
    {
      "cell_type": "code",
      "metadata": {
        "id": "AY71MSwmigL2",
        "colab_type": "code",
        "colab": {}
      },
      "source": [
        "# cvs = cross_val_score(svm, train_images, train_labels,scoring='precision_macro')\n",
        "# print np.mean(cvs)"
      ],
      "execution_count": 0,
      "outputs": []
    },
    {
      "cell_type": "code",
      "metadata": {
        "id": "sAHbfD1LiWPX",
        "colab_type": "code",
        "colab": {}
      },
      "source": [
        "# start = time.time()"
      ],
      "execution_count": 0,
      "outputs": []
    },
    {
      "cell_type": "code",
      "metadata": {
        "colab_type": "code",
        "id": "K4fzvYdqaSCQ",
        "colab": {}
      },
      "source": [
        "# svm.fit(train_images,train_labels)"
      ],
      "execution_count": 0,
      "outputs": []
    },
    {
      "cell_type": "code",
      "metadata": {
        "id": "IyeG5R58iZlW",
        "colab_type": "code",
        "colab": {}
      },
      "source": [
        "# y_pred_1 = svm.predict(eval_images)\n",
        "\n",
        "# print('Model classification accuracy: {}%'.format(str(metrics.accuracy_score(eval_labels, y_pred_1) * 100)))\n",
        "# f1 = f1_score(eval_labels, y_pred_1,average='macro')\n",
        "# print('F1 score: %f' % f1)\n",
        "\n",
        "# print_time_taken(start)"
      ],
      "execution_count": 0,
      "outputs": []
    },
    {
      "cell_type": "markdown",
      "metadata": {
        "colab_type": "text",
        "id": "EohxUkd4eSaM"
      },
      "source": [
        "**Run SVM on Standardized Data**"
      ]
    },
    {
      "cell_type": "code",
      "metadata": {
        "colab_type": "code",
        "id": "fcpGKx58mjSW",
        "colab": {}
      },
      "source": [
        "# svm = SVC(kernel='linear', random_state=random_seed)"
      ],
      "execution_count": 0,
      "outputs": []
    },
    {
      "cell_type": "code",
      "metadata": {
        "colab_type": "code",
        "id": "l461nx3S_v2A",
        "colab": {}
      },
      "source": [
        "# cvs = cross_val_score(svm, train_images, train_labels,scoring='precision_macro')\n",
        "# print np.mean(cvs)"
      ],
      "execution_count": 0,
      "outputs": []
    },
    {
      "cell_type": "code",
      "metadata": {
        "id": "booBTvzMiktF",
        "colab_type": "code",
        "colab": {}
      },
      "source": [
        "# start = time.time()"
      ],
      "execution_count": 0,
      "outputs": []
    },
    {
      "cell_type": "code",
      "metadata": {
        "colab_type": "code",
        "id": "XCi4F20LmqYs",
        "colab": {}
      },
      "source": [
        "# svm.fit(standardized_train_images,train_labels)\n"
      ],
      "execution_count": 0,
      "outputs": []
    },
    {
      "cell_type": "code",
      "metadata": {
        "id": "nG0dgM-4ilw9",
        "colab_type": "code",
        "colab": {}
      },
      "source": [
        "# y_pred_2 = svm.predict(standardized_eval_images)\n",
        "\n",
        "# print('Model classification accuracy: {}%'.format(str(metrics.accuracy_score(eval_labels, y_pred_2) * 100)))\n",
        "# f1 = f1_score(eval_labels, y_pred_2,average='macro')\n",
        "# print('F1 score: %f' % f1)\n",
        "\n",
        "# print_time_taken(start)"
      ],
      "execution_count": 0,
      "outputs": []
    },
    {
      "cell_type": "markdown",
      "metadata": {
        "id": "iHDoPQN2j8xs",
        "colab_type": "text"
      },
      "source": [
        "**Run SVM with PCA**"
      ]
    },
    {
      "cell_type": "code",
      "metadata": {
        "id": "ikuYaW8Kj8Rn",
        "colab_type": "code",
        "colab": {}
      },
      "source": [
        "pca = PCA()\n",
        "\n",
        "pca.n_components = 10\n",
        "\n",
        "pca_train_images = pca.fit_transform(standardized_train_images)\n",
        "pca_eval_images = pca.fit_transform(standardized_eval_images)"
      ],
      "execution_count": 0,
      "outputs": []
    },
    {
      "cell_type": "code",
      "metadata": {
        "id": "qIPkNpspkXH9",
        "colab_type": "code",
        "colab": {}
      },
      "source": [
        "svm = SVC(kernel='linear', random_state=random_seed)"
      ],
      "execution_count": 0,
      "outputs": []
    },
    {
      "cell_type": "code",
      "metadata": {
        "id": "hMMXjPQokh7-",
        "colab_type": "code",
        "colab": {}
      },
      "source": [
        "start = time.time()"
      ],
      "execution_count": 0,
      "outputs": []
    },
    {
      "cell_type": "code",
      "metadata": {
        "id": "N8HvrZ5Ckd9e",
        "colab_type": "code",
        "colab": {
          "base_uri": "https://localhost:8080/",
          "height": 87
        },
        "outputId": "eb9e86d4-ecf7-4e03-91a7-4e24c3199f82"
      },
      "source": [
        "svm.fit(pca_train_images,train_labels)"
      ],
      "execution_count": 17,
      "outputs": [
        {
          "output_type": "execute_result",
          "data": {
            "text/plain": [
              "SVC(C=1.0, break_ties=False, cache_size=200, class_weight=None, coef0=0.0,\n",
              "    decision_function_shape='ovr', degree=3, gamma='scale', kernel='linear',\n",
              "    max_iter=-1, probability=False, random_state=42, shrinking=True, tol=0.001,\n",
              "    verbose=False)"
            ]
          },
          "metadata": {
            "tags": []
          },
          "execution_count": 17
        }
      ]
    },
    {
      "cell_type": "code",
      "metadata": {
        "id": "Arg6-rkykgDm",
        "colab_type": "code",
        "colab": {
          "base_uri": "https://localhost:8080/",
          "height": 70
        },
        "outputId": "a6c61a98-43fc-491c-f1bf-af9bac44dd1a"
      },
      "source": [
        "y_pred_3 = svm.predict(pca_eval_images)\n",
        "\n",
        "print('Model classification accuracy: {}%'.format(str(metrics.accuracy_score(eval_labels, y_pred_3) * 100)))\n",
        "f1 = f1_score(eval_labels, y_pred_3,average='macro')\n",
        "print('F1 score: %f' % f1)\n",
        "\n",
        "print_time_taken(start)"
      ],
      "execution_count": 18,
      "outputs": [
        {
          "output_type": "stream",
          "text": [
            "Model classification accuracy: 75.87%\n",
            "F1 score: 0.753390\n",
            "time taken: 3 min  24.402482748031616 s\n"
          ],
          "name": "stdout"
        }
      ]
    },
    {
      "cell_type": "markdown",
      "metadata": {
        "colab_type": "text",
        "id": "IHw9QNlRatDj"
      },
      "source": [
        "**SVM GridSearchCV**"
      ]
    },
    {
      "cell_type": "code",
      "metadata": {
        "colab_type": "code",
        "id": "fK-7pxN6pFR1",
        "colab": {}
      },
      "source": [
        "c_values = [0.0001, 0.01, 0.1, 1, 100]\n",
        "gamma_values = ['auto','scale']\n",
        "degree_values = np.arange(1, 3, 1)\n",
        "# kernel_types = ['linear','rbf','poly','sigmoid']\n",
        "# param_grid = dict(kernel=kernel_types, gamma=gamma_range, C=c_range,degree=degree_values)\n",
        "tuning_param_grid = [{'kernel':['linear'], 'C':c_values},\n",
        "                     {'kernel':['rbf'], 'C':c_values, 'gamma':gamma_values}]\n",
        "                    #  {'kernel':['poly'],'degree':degree_values, 'C':c_values, 'gamma':gamma_values}]\n",
        "                    #  {'kernel':['sigmoid'], 'C':c_values, 'gamma':gamma_values}]\n",
        "svm = SVC()\n",
        "cv = StratifiedShuffleSplit(n_splits=5, test_size=0.2, random_state=random_seed)"
      ],
      "execution_count": 0,
      "outputs": []
    },
    {
      "cell_type": "code",
      "metadata": {
        "id": "QIHcYBd7jyUz",
        "colab_type": "code",
        "colab": {}
      },
      "source": [
        "start = time.time()"
      ],
      "execution_count": 0,
      "outputs": []
    },
    {
      "cell_type": "code",
      "metadata": {
        "colab_type": "code",
        "id": "AotSYYdl5ZmH",
        "colab": {}
      },
      "source": [
        "grid = GridSearchCV(svm, param_grid=tuning_param_grid, cv=cv, verbose=10)\n",
        "grid.fit(standardized_train_images,train_labels)"
      ],
      "execution_count": 0,
      "outputs": []
    },
    {
      "cell_type": "code",
      "metadata": {
        "id": "djYb8QIZj1kl",
        "colab_type": "code",
        "colab": {}
      },
      "source": [
        "print (\"The best classifier is: \" , grid_rbf.best_estimator_)\n",
        "print ('Score of best classifier :', grid_rbf.score(test,testt))\n",
        "print_time_taken(start)"
      ],
      "execution_count": 0,
      "outputs": []
    },
    {
      "cell_type": "code",
      "metadata": {
        "colab_type": "code",
        "id": "0A-eSL6O5F7t",
        "colab": {}
      },
      "source": [
        "# grid.best_param.get(\"kernel\")\n",
        "# grid.best_param.get(\"gamma\")\n",
        "# grid.best_param.get(\"C\")\n",
        "# grid.best_param.get(\"degree\")\n",
        "# grid.best_param"
      ],
      "execution_count": 0,
      "outputs": []
    },
    {
      "cell_type": "code",
      "metadata": {
        "colab_type": "code",
        "id": "z24wv9V58yJd",
        "colab": {}
      },
      "source": [
        "# for param, score in zip(grid.cv_results_['params'], grid.cv_results_['mean_test_score']):\n",
        "#     print(param, score)"
      ],
      "execution_count": 0,
      "outputs": []
    },
    {
      "cell_type": "code",
      "metadata": {
        "colab_type": "code",
        "id": "xjArLKdtG9FI",
        "colab": {}
      },
      "source": [
        ""
      ],
      "execution_count": 0,
      "outputs": []
    },
    {
      "cell_type": "markdown",
      "metadata": {
        "id": "21s8yvSzhmRW",
        "colab_type": "text"
      },
      "source": [
        "**Recursive feature elimination**\n",
        "\n",
        "\n",
        "m = RFECV(RandomForestClassifier(), scoring='accuracy')\n",
        "m.fit(X, y)"
      ]
    }
  ]
}