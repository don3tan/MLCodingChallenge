{
  "nbformat": 4,
  "nbformat_minor": 0,
  "metadata": {
    "colab": {
      "name": "FashionMNIST.ipynb",
      "provenance": [],
      "machine_shape": "hm"
    },
    "kernelspec": {
      "display_name": "Python 3",
      "language": "python",
      "name": "python3"
    },
    "language_info": {
      "codemirror_mode": {
        "name": "ipython",
        "version": 3
      },
      "file_extension": ".py",
      "mimetype": "text/x-python",
      "name": "python",
      "nbconvert_exporter": "python",
      "pygments_lexer": "ipython3",
      "version": "3.7.3"
    },
    "widgets": {
      "application/vnd.jupyter.widget-state+json": {
        "be2a568b4aac48feb9048bd8541ac168": {
          "model_module": "@jupyter-widgets/controls",
          "model_name": "HBoxModel",
          "state": {
            "_view_name": "HBoxView",
            "_dom_classes": [],
            "_model_name": "HBoxModel",
            "_view_module": "@jupyter-widgets/controls",
            "_model_module_version": "1.5.0",
            "_view_count": null,
            "_view_module_version": "1.5.0",
            "box_style": "",
            "layout": "IPY_MODEL_a8d9817ddb1844d1a0fa1045ee411b99",
            "_model_module": "@jupyter-widgets/controls",
            "children": [
              "IPY_MODEL_111ec3ec32134342b5e1011430f61510",
              "IPY_MODEL_c39563253a66416789652b98101a9a5d"
            ]
          }
        },
        "a8d9817ddb1844d1a0fa1045ee411b99": {
          "model_module": "@jupyter-widgets/base",
          "model_name": "LayoutModel",
          "state": {
            "_view_name": "LayoutView",
            "grid_template_rows": null,
            "right": null,
            "justify_content": null,
            "_view_module": "@jupyter-widgets/base",
            "overflow": null,
            "_model_module_version": "1.2.0",
            "_view_count": null,
            "flex_flow": null,
            "width": null,
            "min_width": null,
            "border": null,
            "align_items": null,
            "bottom": null,
            "_model_module": "@jupyter-widgets/base",
            "top": null,
            "grid_column": null,
            "overflow_y": null,
            "overflow_x": null,
            "grid_auto_flow": null,
            "grid_area": null,
            "grid_template_columns": null,
            "flex": null,
            "_model_name": "LayoutModel",
            "justify_items": null,
            "grid_row": null,
            "max_height": null,
            "align_content": null,
            "visibility": null,
            "align_self": null,
            "height": null,
            "min_height": null,
            "padding": null,
            "grid_auto_rows": null,
            "grid_gap": null,
            "max_width": null,
            "order": null,
            "_view_module_version": "1.2.0",
            "grid_template_areas": null,
            "object_position": null,
            "object_fit": null,
            "grid_auto_columns": null,
            "margin": null,
            "display": null,
            "left": null
          }
        },
        "111ec3ec32134342b5e1011430f61510": {
          "model_module": "@jupyter-widgets/controls",
          "model_name": "IntProgressModel",
          "state": {
            "_view_name": "ProgressView",
            "style": "IPY_MODEL_a58b42947458403e9775c69d84d4aa56",
            "_dom_classes": [],
            "description": "",
            "_model_name": "IntProgressModel",
            "bar_style": "success",
            "max": 1,
            "_view_module": "@jupyter-widgets/controls",
            "_model_module_version": "1.5.0",
            "value": 1,
            "_view_count": null,
            "_view_module_version": "1.5.0",
            "orientation": "horizontal",
            "min": 0,
            "description_tooltip": null,
            "_model_module": "@jupyter-widgets/controls",
            "layout": "IPY_MODEL_a4b74f09c7224e939ce475704407ee4e"
          }
        },
        "c39563253a66416789652b98101a9a5d": {
          "model_module": "@jupyter-widgets/controls",
          "model_name": "HTMLModel",
          "state": {
            "_view_name": "HTMLView",
            "style": "IPY_MODEL_ed6dfdfdbbdb4d079b1d7148ef0f6b8e",
            "_dom_classes": [],
            "description": "",
            "_model_name": "HTMLModel",
            "placeholder": "​",
            "_view_module": "@jupyter-widgets/controls",
            "_model_module_version": "1.5.0",
            "value": " 26427392/? [00:05&lt;00:00, 4429159.96it/s]",
            "_view_count": null,
            "_view_module_version": "1.5.0",
            "description_tooltip": null,
            "_model_module": "@jupyter-widgets/controls",
            "layout": "IPY_MODEL_5a6599adfb3d4cfe87de1dbfc010a57a"
          }
        },
        "a58b42947458403e9775c69d84d4aa56": {
          "model_module": "@jupyter-widgets/controls",
          "model_name": "ProgressStyleModel",
          "state": {
            "_view_name": "StyleView",
            "_model_name": "ProgressStyleModel",
            "description_width": "initial",
            "_view_module": "@jupyter-widgets/base",
            "_model_module_version": "1.5.0",
            "_view_count": null,
            "_view_module_version": "1.2.0",
            "bar_color": null,
            "_model_module": "@jupyter-widgets/controls"
          }
        },
        "a4b74f09c7224e939ce475704407ee4e": {
          "model_module": "@jupyter-widgets/base",
          "model_name": "LayoutModel",
          "state": {
            "_view_name": "LayoutView",
            "grid_template_rows": null,
            "right": null,
            "justify_content": null,
            "_view_module": "@jupyter-widgets/base",
            "overflow": null,
            "_model_module_version": "1.2.0",
            "_view_count": null,
            "flex_flow": null,
            "width": null,
            "min_width": null,
            "border": null,
            "align_items": null,
            "bottom": null,
            "_model_module": "@jupyter-widgets/base",
            "top": null,
            "grid_column": null,
            "overflow_y": null,
            "overflow_x": null,
            "grid_auto_flow": null,
            "grid_area": null,
            "grid_template_columns": null,
            "flex": null,
            "_model_name": "LayoutModel",
            "justify_items": null,
            "grid_row": null,
            "max_height": null,
            "align_content": null,
            "visibility": null,
            "align_self": null,
            "height": null,
            "min_height": null,
            "padding": null,
            "grid_auto_rows": null,
            "grid_gap": null,
            "max_width": null,
            "order": null,
            "_view_module_version": "1.2.0",
            "grid_template_areas": null,
            "object_position": null,
            "object_fit": null,
            "grid_auto_columns": null,
            "margin": null,
            "display": null,
            "left": null
          }
        },
        "ed6dfdfdbbdb4d079b1d7148ef0f6b8e": {
          "model_module": "@jupyter-widgets/controls",
          "model_name": "DescriptionStyleModel",
          "state": {
            "_view_name": "StyleView",
            "_model_name": "DescriptionStyleModel",
            "description_width": "",
            "_view_module": "@jupyter-widgets/base",
            "_model_module_version": "1.5.0",
            "_view_count": null,
            "_view_module_version": "1.2.0",
            "_model_module": "@jupyter-widgets/controls"
          }
        },
        "5a6599adfb3d4cfe87de1dbfc010a57a": {
          "model_module": "@jupyter-widgets/base",
          "model_name": "LayoutModel",
          "state": {
            "_view_name": "LayoutView",
            "grid_template_rows": null,
            "right": null,
            "justify_content": null,
            "_view_module": "@jupyter-widgets/base",
            "overflow": null,
            "_model_module_version": "1.2.0",
            "_view_count": null,
            "flex_flow": null,
            "width": null,
            "min_width": null,
            "border": null,
            "align_items": null,
            "bottom": null,
            "_model_module": "@jupyter-widgets/base",
            "top": null,
            "grid_column": null,
            "overflow_y": null,
            "overflow_x": null,
            "grid_auto_flow": null,
            "grid_area": null,
            "grid_template_columns": null,
            "flex": null,
            "_model_name": "LayoutModel",
            "justify_items": null,
            "grid_row": null,
            "max_height": null,
            "align_content": null,
            "visibility": null,
            "align_self": null,
            "height": null,
            "min_height": null,
            "padding": null,
            "grid_auto_rows": null,
            "grid_gap": null,
            "max_width": null,
            "order": null,
            "_view_module_version": "1.2.0",
            "grid_template_areas": null,
            "object_position": null,
            "object_fit": null,
            "grid_auto_columns": null,
            "margin": null,
            "display": null,
            "left": null
          }
        },
        "02b67625bb334279892b598beee5e8ec": {
          "model_module": "@jupyter-widgets/controls",
          "model_name": "HBoxModel",
          "state": {
            "_view_name": "HBoxView",
            "_dom_classes": [],
            "_model_name": "HBoxModel",
            "_view_module": "@jupyter-widgets/controls",
            "_model_module_version": "1.5.0",
            "_view_count": null,
            "_view_module_version": "1.5.0",
            "box_style": "",
            "layout": "IPY_MODEL_80f5d85300ac4429bc50f47f8dfa1b1e",
            "_model_module": "@jupyter-widgets/controls",
            "children": [
              "IPY_MODEL_4b15a1283bbc4f46baf64b1c27593d86",
              "IPY_MODEL_9d9a4e8c182a4a81b1832b6a8d6dd696"
            ]
          }
        },
        "80f5d85300ac4429bc50f47f8dfa1b1e": {
          "model_module": "@jupyter-widgets/base",
          "model_name": "LayoutModel",
          "state": {
            "_view_name": "LayoutView",
            "grid_template_rows": null,
            "right": null,
            "justify_content": null,
            "_view_module": "@jupyter-widgets/base",
            "overflow": null,
            "_model_module_version": "1.2.0",
            "_view_count": null,
            "flex_flow": null,
            "width": null,
            "min_width": null,
            "border": null,
            "align_items": null,
            "bottom": null,
            "_model_module": "@jupyter-widgets/base",
            "top": null,
            "grid_column": null,
            "overflow_y": null,
            "overflow_x": null,
            "grid_auto_flow": null,
            "grid_area": null,
            "grid_template_columns": null,
            "flex": null,
            "_model_name": "LayoutModel",
            "justify_items": null,
            "grid_row": null,
            "max_height": null,
            "align_content": null,
            "visibility": null,
            "align_self": null,
            "height": null,
            "min_height": null,
            "padding": null,
            "grid_auto_rows": null,
            "grid_gap": null,
            "max_width": null,
            "order": null,
            "_view_module_version": "1.2.0",
            "grid_template_areas": null,
            "object_position": null,
            "object_fit": null,
            "grid_auto_columns": null,
            "margin": null,
            "display": null,
            "left": null
          }
        },
        "4b15a1283bbc4f46baf64b1c27593d86": {
          "model_module": "@jupyter-widgets/controls",
          "model_name": "IntProgressModel",
          "state": {
            "_view_name": "ProgressView",
            "style": "IPY_MODEL_e338e92396484294b209d8e74277b264",
            "_dom_classes": [],
            "description": "",
            "_model_name": "IntProgressModel",
            "bar_style": "success",
            "max": 1,
            "_view_module": "@jupyter-widgets/controls",
            "_model_module_version": "1.5.0",
            "value": 1,
            "_view_count": null,
            "_view_module_version": "1.5.0",
            "orientation": "horizontal",
            "min": 0,
            "description_tooltip": null,
            "_model_module": "@jupyter-widgets/controls",
            "layout": "IPY_MODEL_48ecfbd910ce4545a27082d1a7bfbd62"
          }
        },
        "9d9a4e8c182a4a81b1832b6a8d6dd696": {
          "model_module": "@jupyter-widgets/controls",
          "model_name": "HTMLModel",
          "state": {
            "_view_name": "HTMLView",
            "style": "IPY_MODEL_62e60d51552b4bedae0391d857581bbf",
            "_dom_classes": [],
            "description": "",
            "_model_name": "HTMLModel",
            "placeholder": "​",
            "_view_module": "@jupyter-widgets/controls",
            "_model_module_version": "1.5.0",
            "value": " 32768/? [00:00&lt;00:00, 38054.67it/s]",
            "_view_count": null,
            "_view_module_version": "1.5.0",
            "description_tooltip": null,
            "_model_module": "@jupyter-widgets/controls",
            "layout": "IPY_MODEL_bc43b41a90a04369b2d5cdce4aba14b9"
          }
        },
        "e338e92396484294b209d8e74277b264": {
          "model_module": "@jupyter-widgets/controls",
          "model_name": "ProgressStyleModel",
          "state": {
            "_view_name": "StyleView",
            "_model_name": "ProgressStyleModel",
            "description_width": "initial",
            "_view_module": "@jupyter-widgets/base",
            "_model_module_version": "1.5.0",
            "_view_count": null,
            "_view_module_version": "1.2.0",
            "bar_color": null,
            "_model_module": "@jupyter-widgets/controls"
          }
        },
        "48ecfbd910ce4545a27082d1a7bfbd62": {
          "model_module": "@jupyter-widgets/base",
          "model_name": "LayoutModel",
          "state": {
            "_view_name": "LayoutView",
            "grid_template_rows": null,
            "right": null,
            "justify_content": null,
            "_view_module": "@jupyter-widgets/base",
            "overflow": null,
            "_model_module_version": "1.2.0",
            "_view_count": null,
            "flex_flow": null,
            "width": null,
            "min_width": null,
            "border": null,
            "align_items": null,
            "bottom": null,
            "_model_module": "@jupyter-widgets/base",
            "top": null,
            "grid_column": null,
            "overflow_y": null,
            "overflow_x": null,
            "grid_auto_flow": null,
            "grid_area": null,
            "grid_template_columns": null,
            "flex": null,
            "_model_name": "LayoutModel",
            "justify_items": null,
            "grid_row": null,
            "max_height": null,
            "align_content": null,
            "visibility": null,
            "align_self": null,
            "height": null,
            "min_height": null,
            "padding": null,
            "grid_auto_rows": null,
            "grid_gap": null,
            "max_width": null,
            "order": null,
            "_view_module_version": "1.2.0",
            "grid_template_areas": null,
            "object_position": null,
            "object_fit": null,
            "grid_auto_columns": null,
            "margin": null,
            "display": null,
            "left": null
          }
        },
        "62e60d51552b4bedae0391d857581bbf": {
          "model_module": "@jupyter-widgets/controls",
          "model_name": "DescriptionStyleModel",
          "state": {
            "_view_name": "StyleView",
            "_model_name": "DescriptionStyleModel",
            "description_width": "",
            "_view_module": "@jupyter-widgets/base",
            "_model_module_version": "1.5.0",
            "_view_count": null,
            "_view_module_version": "1.2.0",
            "_model_module": "@jupyter-widgets/controls"
          }
        },
        "bc43b41a90a04369b2d5cdce4aba14b9": {
          "model_module": "@jupyter-widgets/base",
          "model_name": "LayoutModel",
          "state": {
            "_view_name": "LayoutView",
            "grid_template_rows": null,
            "right": null,
            "justify_content": null,
            "_view_module": "@jupyter-widgets/base",
            "overflow": null,
            "_model_module_version": "1.2.0",
            "_view_count": null,
            "flex_flow": null,
            "width": null,
            "min_width": null,
            "border": null,
            "align_items": null,
            "bottom": null,
            "_model_module": "@jupyter-widgets/base",
            "top": null,
            "grid_column": null,
            "overflow_y": null,
            "overflow_x": null,
            "grid_auto_flow": null,
            "grid_area": null,
            "grid_template_columns": null,
            "flex": null,
            "_model_name": "LayoutModel",
            "justify_items": null,
            "grid_row": null,
            "max_height": null,
            "align_content": null,
            "visibility": null,
            "align_self": null,
            "height": null,
            "min_height": null,
            "padding": null,
            "grid_auto_rows": null,
            "grid_gap": null,
            "max_width": null,
            "order": null,
            "_view_module_version": "1.2.0",
            "grid_template_areas": null,
            "object_position": null,
            "object_fit": null,
            "grid_auto_columns": null,
            "margin": null,
            "display": null,
            "left": null
          }
        },
        "7ac7e2e4272648e397fd138ee2b18b84": {
          "model_module": "@jupyter-widgets/controls",
          "model_name": "HBoxModel",
          "state": {
            "_view_name": "HBoxView",
            "_dom_classes": [],
            "_model_name": "HBoxModel",
            "_view_module": "@jupyter-widgets/controls",
            "_model_module_version": "1.5.0",
            "_view_count": null,
            "_view_module_version": "1.5.0",
            "box_style": "",
            "layout": "IPY_MODEL_bc5f3fde814244bb842195b3098056f3",
            "_model_module": "@jupyter-widgets/controls",
            "children": [
              "IPY_MODEL_bb3fe58ea3aa4e96a99098e0ad9f5877",
              "IPY_MODEL_36b9f4188eab4998ba878baff4efdba6"
            ]
          }
        },
        "bc5f3fde814244bb842195b3098056f3": {
          "model_module": "@jupyter-widgets/base",
          "model_name": "LayoutModel",
          "state": {
            "_view_name": "LayoutView",
            "grid_template_rows": null,
            "right": null,
            "justify_content": null,
            "_view_module": "@jupyter-widgets/base",
            "overflow": null,
            "_model_module_version": "1.2.0",
            "_view_count": null,
            "flex_flow": null,
            "width": null,
            "min_width": null,
            "border": null,
            "align_items": null,
            "bottom": null,
            "_model_module": "@jupyter-widgets/base",
            "top": null,
            "grid_column": null,
            "overflow_y": null,
            "overflow_x": null,
            "grid_auto_flow": null,
            "grid_area": null,
            "grid_template_columns": null,
            "flex": null,
            "_model_name": "LayoutModel",
            "justify_items": null,
            "grid_row": null,
            "max_height": null,
            "align_content": null,
            "visibility": null,
            "align_self": null,
            "height": null,
            "min_height": null,
            "padding": null,
            "grid_auto_rows": null,
            "grid_gap": null,
            "max_width": null,
            "order": null,
            "_view_module_version": "1.2.0",
            "grid_template_areas": null,
            "object_position": null,
            "object_fit": null,
            "grid_auto_columns": null,
            "margin": null,
            "display": null,
            "left": null
          }
        },
        "bb3fe58ea3aa4e96a99098e0ad9f5877": {
          "model_module": "@jupyter-widgets/controls",
          "model_name": "IntProgressModel",
          "state": {
            "_view_name": "ProgressView",
            "style": "IPY_MODEL_8c4ac91be00248739877e6f2eb2572c2",
            "_dom_classes": [],
            "description": "",
            "_model_name": "IntProgressModel",
            "bar_style": "info",
            "max": 1,
            "_view_module": "@jupyter-widgets/controls",
            "_model_module_version": "1.5.0",
            "value": 1,
            "_view_count": null,
            "_view_module_version": "1.5.0",
            "orientation": "horizontal",
            "min": 0,
            "description_tooltip": null,
            "_model_module": "@jupyter-widgets/controls",
            "layout": "IPY_MODEL_0da0dce552ee476985b73556ef70a074"
          }
        },
        "36b9f4188eab4998ba878baff4efdba6": {
          "model_module": "@jupyter-widgets/controls",
          "model_name": "HTMLModel",
          "state": {
            "_view_name": "HTMLView",
            "style": "IPY_MODEL_5b2b0e2162904a8e933df7c9d3170d9d",
            "_dom_classes": [],
            "description": "",
            "_model_name": "HTMLModel",
            "placeholder": "​",
            "_view_module": "@jupyter-widgets/controls",
            "_model_module_version": "1.5.0",
            "value": " 4423680/? [00:14&lt;00:00, 1245007.61it/s]",
            "_view_count": null,
            "_view_module_version": "1.5.0",
            "description_tooltip": null,
            "_model_module": "@jupyter-widgets/controls",
            "layout": "IPY_MODEL_cb778d756dd84fac8fcb753dd8d63e86"
          }
        },
        "8c4ac91be00248739877e6f2eb2572c2": {
          "model_module": "@jupyter-widgets/controls",
          "model_name": "ProgressStyleModel",
          "state": {
            "_view_name": "StyleView",
            "_model_name": "ProgressStyleModel",
            "description_width": "initial",
            "_view_module": "@jupyter-widgets/base",
            "_model_module_version": "1.5.0",
            "_view_count": null,
            "_view_module_version": "1.2.0",
            "bar_color": null,
            "_model_module": "@jupyter-widgets/controls"
          }
        },
        "0da0dce552ee476985b73556ef70a074": {
          "model_module": "@jupyter-widgets/base",
          "model_name": "LayoutModel",
          "state": {
            "_view_name": "LayoutView",
            "grid_template_rows": null,
            "right": null,
            "justify_content": null,
            "_view_module": "@jupyter-widgets/base",
            "overflow": null,
            "_model_module_version": "1.2.0",
            "_view_count": null,
            "flex_flow": null,
            "width": null,
            "min_width": null,
            "border": null,
            "align_items": null,
            "bottom": null,
            "_model_module": "@jupyter-widgets/base",
            "top": null,
            "grid_column": null,
            "overflow_y": null,
            "overflow_x": null,
            "grid_auto_flow": null,
            "grid_area": null,
            "grid_template_columns": null,
            "flex": null,
            "_model_name": "LayoutModel",
            "justify_items": null,
            "grid_row": null,
            "max_height": null,
            "align_content": null,
            "visibility": null,
            "align_self": null,
            "height": null,
            "min_height": null,
            "padding": null,
            "grid_auto_rows": null,
            "grid_gap": null,
            "max_width": null,
            "order": null,
            "_view_module_version": "1.2.0",
            "grid_template_areas": null,
            "object_position": null,
            "object_fit": null,
            "grid_auto_columns": null,
            "margin": null,
            "display": null,
            "left": null
          }
        },
        "5b2b0e2162904a8e933df7c9d3170d9d": {
          "model_module": "@jupyter-widgets/controls",
          "model_name": "DescriptionStyleModel",
          "state": {
            "_view_name": "StyleView",
            "_model_name": "DescriptionStyleModel",
            "description_width": "",
            "_view_module": "@jupyter-widgets/base",
            "_model_module_version": "1.5.0",
            "_view_count": null,
            "_view_module_version": "1.2.0",
            "_model_module": "@jupyter-widgets/controls"
          }
        },
        "cb778d756dd84fac8fcb753dd8d63e86": {
          "model_module": "@jupyter-widgets/base",
          "model_name": "LayoutModel",
          "state": {
            "_view_name": "LayoutView",
            "grid_template_rows": null,
            "right": null,
            "justify_content": null,
            "_view_module": "@jupyter-widgets/base",
            "overflow": null,
            "_model_module_version": "1.2.0",
            "_view_count": null,
            "flex_flow": null,
            "width": null,
            "min_width": null,
            "border": null,
            "align_items": null,
            "bottom": null,
            "_model_module": "@jupyter-widgets/base",
            "top": null,
            "grid_column": null,
            "overflow_y": null,
            "overflow_x": null,
            "grid_auto_flow": null,
            "grid_area": null,
            "grid_template_columns": null,
            "flex": null,
            "_model_name": "LayoutModel",
            "justify_items": null,
            "grid_row": null,
            "max_height": null,
            "align_content": null,
            "visibility": null,
            "align_self": null,
            "height": null,
            "min_height": null,
            "padding": null,
            "grid_auto_rows": null,
            "grid_gap": null,
            "max_width": null,
            "order": null,
            "_view_module_version": "1.2.0",
            "grid_template_areas": null,
            "object_position": null,
            "object_fit": null,
            "grid_auto_columns": null,
            "margin": null,
            "display": null,
            "left": null
          }
        },
        "73f7dbda9a5d4fdea2fc5ced9ec7f7e1": {
          "model_module": "@jupyter-widgets/controls",
          "model_name": "HBoxModel",
          "state": {
            "_view_name": "HBoxView",
            "_dom_classes": [],
            "_model_name": "HBoxModel",
            "_view_module": "@jupyter-widgets/controls",
            "_model_module_version": "1.5.0",
            "_view_count": null,
            "_view_module_version": "1.5.0",
            "box_style": "",
            "layout": "IPY_MODEL_8ea5aa93bb1849fab58e501ee66da416",
            "_model_module": "@jupyter-widgets/controls",
            "children": [
              "IPY_MODEL_7124af5b7dd24eb2b8d719df1a73dae0",
              "IPY_MODEL_54cf48ca12214c64b6c04298cc4b6400"
            ]
          }
        },
        "8ea5aa93bb1849fab58e501ee66da416": {
          "model_module": "@jupyter-widgets/base",
          "model_name": "LayoutModel",
          "state": {
            "_view_name": "LayoutView",
            "grid_template_rows": null,
            "right": null,
            "justify_content": null,
            "_view_module": "@jupyter-widgets/base",
            "overflow": null,
            "_model_module_version": "1.2.0",
            "_view_count": null,
            "flex_flow": null,
            "width": null,
            "min_width": null,
            "border": null,
            "align_items": null,
            "bottom": null,
            "_model_module": "@jupyter-widgets/base",
            "top": null,
            "grid_column": null,
            "overflow_y": null,
            "overflow_x": null,
            "grid_auto_flow": null,
            "grid_area": null,
            "grid_template_columns": null,
            "flex": null,
            "_model_name": "LayoutModel",
            "justify_items": null,
            "grid_row": null,
            "max_height": null,
            "align_content": null,
            "visibility": null,
            "align_self": null,
            "height": null,
            "min_height": null,
            "padding": null,
            "grid_auto_rows": null,
            "grid_gap": null,
            "max_width": null,
            "order": null,
            "_view_module_version": "1.2.0",
            "grid_template_areas": null,
            "object_position": null,
            "object_fit": null,
            "grid_auto_columns": null,
            "margin": null,
            "display": null,
            "left": null
          }
        },
        "7124af5b7dd24eb2b8d719df1a73dae0": {
          "model_module": "@jupyter-widgets/controls",
          "model_name": "IntProgressModel",
          "state": {
            "_view_name": "ProgressView",
            "style": "IPY_MODEL_927b7ff8cfec4ae995f756ec5015bfed",
            "_dom_classes": [],
            "description": "  0%",
            "_model_name": "IntProgressModel",
            "bar_style": "info",
            "max": 1,
            "_view_module": "@jupyter-widgets/controls",
            "_model_module_version": "1.5.0",
            "value": 0,
            "_view_count": null,
            "_view_module_version": "1.5.0",
            "orientation": "horizontal",
            "min": 0,
            "description_tooltip": null,
            "_model_module": "@jupyter-widgets/controls",
            "layout": "IPY_MODEL_cc26a2287fa64107b93a88e8329df16e"
          }
        },
        "54cf48ca12214c64b6c04298cc4b6400": {
          "model_module": "@jupyter-widgets/controls",
          "model_name": "HTMLModel",
          "state": {
            "_view_name": "HTMLView",
            "style": "IPY_MODEL_964bc37aacc94d2c850e0e0bde236a40",
            "_dom_classes": [],
            "description": "",
            "_model_name": "HTMLModel",
            "placeholder": "​",
            "_view_module": "@jupyter-widgets/controls",
            "_model_module_version": "1.5.0",
            "value": " 0/5148 [00:00&lt;?, ?it/s]",
            "_view_count": null,
            "_view_module_version": "1.5.0",
            "description_tooltip": null,
            "_model_module": "@jupyter-widgets/controls",
            "layout": "IPY_MODEL_3ae052fce36d46009d52f2143b4e5c4e"
          }
        },
        "927b7ff8cfec4ae995f756ec5015bfed": {
          "model_module": "@jupyter-widgets/controls",
          "model_name": "ProgressStyleModel",
          "state": {
            "_view_name": "StyleView",
            "_model_name": "ProgressStyleModel",
            "description_width": "initial",
            "_view_module": "@jupyter-widgets/base",
            "_model_module_version": "1.5.0",
            "_view_count": null,
            "_view_module_version": "1.2.0",
            "bar_color": null,
            "_model_module": "@jupyter-widgets/controls"
          }
        },
        "cc26a2287fa64107b93a88e8329df16e": {
          "model_module": "@jupyter-widgets/base",
          "model_name": "LayoutModel",
          "state": {
            "_view_name": "LayoutView",
            "grid_template_rows": null,
            "right": null,
            "justify_content": null,
            "_view_module": "@jupyter-widgets/base",
            "overflow": null,
            "_model_module_version": "1.2.0",
            "_view_count": null,
            "flex_flow": null,
            "width": null,
            "min_width": null,
            "border": null,
            "align_items": null,
            "bottom": null,
            "_model_module": "@jupyter-widgets/base",
            "top": null,
            "grid_column": null,
            "overflow_y": null,
            "overflow_x": null,
            "grid_auto_flow": null,
            "grid_area": null,
            "grid_template_columns": null,
            "flex": null,
            "_model_name": "LayoutModel",
            "justify_items": null,
            "grid_row": null,
            "max_height": null,
            "align_content": null,
            "visibility": null,
            "align_self": null,
            "height": null,
            "min_height": null,
            "padding": null,
            "grid_auto_rows": null,
            "grid_gap": null,
            "max_width": null,
            "order": null,
            "_view_module_version": "1.2.0",
            "grid_template_areas": null,
            "object_position": null,
            "object_fit": null,
            "grid_auto_columns": null,
            "margin": null,
            "display": null,
            "left": null
          }
        },
        "964bc37aacc94d2c850e0e0bde236a40": {
          "model_module": "@jupyter-widgets/controls",
          "model_name": "DescriptionStyleModel",
          "state": {
            "_view_name": "StyleView",
            "_model_name": "DescriptionStyleModel",
            "description_width": "",
            "_view_module": "@jupyter-widgets/base",
            "_model_module_version": "1.5.0",
            "_view_count": null,
            "_view_module_version": "1.2.0",
            "_model_module": "@jupyter-widgets/controls"
          }
        },
        "3ae052fce36d46009d52f2143b4e5c4e": {
          "model_module": "@jupyter-widgets/base",
          "model_name": "LayoutModel",
          "state": {
            "_view_name": "LayoutView",
            "grid_template_rows": null,
            "right": null,
            "justify_content": null,
            "_view_module": "@jupyter-widgets/base",
            "overflow": null,
            "_model_module_version": "1.2.0",
            "_view_count": null,
            "flex_flow": null,
            "width": null,
            "min_width": null,
            "border": null,
            "align_items": null,
            "bottom": null,
            "_model_module": "@jupyter-widgets/base",
            "top": null,
            "grid_column": null,
            "overflow_y": null,
            "overflow_x": null,
            "grid_auto_flow": null,
            "grid_area": null,
            "grid_template_columns": null,
            "flex": null,
            "_model_name": "LayoutModel",
            "justify_items": null,
            "grid_row": null,
            "max_height": null,
            "align_content": null,
            "visibility": null,
            "align_self": null,
            "height": null,
            "min_height": null,
            "padding": null,
            "grid_auto_rows": null,
            "grid_gap": null,
            "max_width": null,
            "order": null,
            "_view_module_version": "1.2.0",
            "grid_template_areas": null,
            "object_position": null,
            "object_fit": null,
            "grid_auto_columns": null,
            "margin": null,
            "display": null,
            "left": null
          }
        }
      }
    }
  },
  "cells": [
    {
      "cell_type": "markdown",
      "metadata": {
        "colab_type": "text",
        "id": "PibQ771SXsrE"
      },
      "source": [
        "# Data Dictionary:\n",
        "## **1. Download Data**\n",
        "> train_dataset    |   torchvision.datasets.mnist.FashionMNIST<br>\n",
        "eval_dataset       |   torchvision.datasets.mnist.FashionMNIST\n",
        "\n",
        "## **2. Prepare Data**\n",
        "\n",
        "\n",
        "> train_images     |   numpy array (60000, 784)\n",
        "<br>train_labels   |   numpy array (60000, )\n",
        "<br>eval_images    |   numpy array (10000, 784)\n",
        "<br>eval_labels    |   numpy array (10000, )\n",
        "<br> standardized_train_images | numpy array (60000, 784)\n",
        "<br> standardized_eval_images |   numpy array (10000, 784)\n",
        "\n",
        "\n"
      ]
    },
    {
      "cell_type": "markdown",
      "metadata": {
        "colab_type": "text",
        "id": "kCavEznV3yT5"
      },
      "source": [
        "# **To-Do**\n",
        "1. Test PCA with sharpened data\n",
        "2. Test Feature selection on PCs\n",
        "\n",
        "Add in F1 Score & Confusion matrix"
      ]
    },
    {
      "cell_type": "code",
      "metadata": {
        "colab_type": "code",
        "id": "INUdIHaWRX3T",
        "colab": {}
      },
      "source": [
        "# a = []\n",
        "# while(1):\n",
        "#     a.append('1')"
      ],
      "execution_count": 0,
      "outputs": []
    },
    {
      "cell_type": "markdown",
      "metadata": {
        "colab_type": "text",
        "id": "2GvcPJ17Dbu0"
      },
      "source": [
        "# Importing of Libraries"
      ]
    },
    {
      "cell_type": "code",
      "metadata": {
        "colab_type": "code",
        "id": "XpXmUIl8ETkn",
        "outputId": "8bc289d1-2d2e-4efb-8f66-8b8853144c0d",
        "colab": {
          "base_uri": "https://localhost:8080/",
          "height": 72
        }
      },
      "source": [
        "import torchvision\n",
        "from PIL import Image\n",
        "\n",
        "import pandas as pd\n",
        "import numpy as np\n",
        "import scipy as sp\n",
        "from scipy import ndimage\n",
        "from scipy.stats import norm\n",
        "import scipy.signal as sig\n",
        "\n",
        "from sklearn.preprocessing import MinMaxScaler\n",
        "from sklearn import metrics\n",
        "from sklearn.metrics import classification_report, confusion_matrix\n",
        "from sklearn.metrics import precision_score\n",
        "from sklearn.metrics import recall_score\n",
        "from sklearn.metrics import f1_score\n",
        "from skimage import io\n",
        "from skimage.feature import hog\n",
        "from sklearn.svm import SVC\n",
        "from sklearn.model_selection import cross_val_score\n",
        "from sklearn.model_selection import learning_curve\n",
        "from sklearn.model_selection import GridSearchCV\n",
        "from sklearn.model_selection import StratifiedShuffleSplit\n",
        "from sklearn.model_selection import StratifiedKFold\n",
        "from sklearn.feature_selection import RFECV\n",
        "\n",
        "from matplotlib.pyplot import imshow\n",
        "import matplotlib.pyplot as plt\n",
        "import seaborn as sns\n",
        "\n",
        "from sklearn.preprocessing import StandardScaler\n",
        "from sklearn.decomposition import PCA\n",
        "\n",
        "import time, random, math\n"
      ],
      "execution_count": 2,
      "outputs": [
        {
          "output_type": "stream",
          "text": [
            "/usr/local/lib/python3.6/dist-packages/statsmodels/tools/_testing.py:19: FutureWarning: pandas.util.testing is deprecated. Use the functions in the public API at pandas.testing instead.\n",
            "  import pandas.util.testing as tm\n"
          ],
          "name": "stderr"
        }
      ]
    },
    {
      "cell_type": "code",
      "metadata": {
        "colab_type": "code",
        "id": "eYL6yjAOEaPx",
        "colab": {}
      },
      "source": [
        "%matplotlib inline"
      ],
      "execution_count": 0,
      "outputs": []
    },
    {
      "cell_type": "markdown",
      "metadata": {
        "colab_type": "text",
        "id": "jwH7Rd98gvSd"
      },
      "source": [
        "# Functions"
      ]
    },
    {
      "cell_type": "markdown",
      "metadata": {
        "colab_type": "text",
        "id": "iQsMrT4noCaM"
      },
      "source": [
        "# Data Extraction"
      ]
    },
    {
      "cell_type": "code",
      "metadata": {
        "colab_type": "code",
        "id": "PQYK8EtPEb1X",
        "outputId": "502750e7-e636-46db-b441-f66f8de26dac",
        "colab": {
          "base_uri": "https://localhost:8080/",
          "height": 394,
          "referenced_widgets": [
            "be2a568b4aac48feb9048bd8541ac168",
            "a8d9817ddb1844d1a0fa1045ee411b99",
            "111ec3ec32134342b5e1011430f61510",
            "c39563253a66416789652b98101a9a5d",
            "a58b42947458403e9775c69d84d4aa56",
            "a4b74f09c7224e939ce475704407ee4e",
            "ed6dfdfdbbdb4d079b1d7148ef0f6b8e",
            "5a6599adfb3d4cfe87de1dbfc010a57a",
            "02b67625bb334279892b598beee5e8ec",
            "80f5d85300ac4429bc50f47f8dfa1b1e",
            "4b15a1283bbc4f46baf64b1c27593d86",
            "9d9a4e8c182a4a81b1832b6a8d6dd696",
            "e338e92396484294b209d8e74277b264",
            "48ecfbd910ce4545a27082d1a7bfbd62",
            "62e60d51552b4bedae0391d857581bbf",
            "bc43b41a90a04369b2d5cdce4aba14b9",
            "7ac7e2e4272648e397fd138ee2b18b84",
            "bc5f3fde814244bb842195b3098056f3",
            "bb3fe58ea3aa4e96a99098e0ad9f5877",
            "36b9f4188eab4998ba878baff4efdba6",
            "8c4ac91be00248739877e6f2eb2572c2",
            "0da0dce552ee476985b73556ef70a074",
            "5b2b0e2162904a8e933df7c9d3170d9d",
            "cb778d756dd84fac8fcb753dd8d63e86",
            "73f7dbda9a5d4fdea2fc5ced9ec7f7e1",
            "8ea5aa93bb1849fab58e501ee66da416",
            "7124af5b7dd24eb2b8d719df1a73dae0",
            "54cf48ca12214c64b6c04298cc4b6400",
            "927b7ff8cfec4ae995f756ec5015bfed",
            "cc26a2287fa64107b93a88e8329df16e",
            "964bc37aacc94d2c850e0e0bde236a40",
            "3ae052fce36d46009d52f2143b4e5c4e"
          ]
        }
      },
      "source": [
        "# download the Fashion MNIST training data\n",
        "train_dataset = torchvision.datasets.FashionMNIST(root='./', train=True, download=True)\n",
        "\n",
        "# download the Fashion MNIST evaluation data\n",
        "eval_dataset = torchvision.datasets.FashionMNIST(root='./', train=False, download=True)"
      ],
      "execution_count": 3,
      "outputs": [
        {
          "output_type": "stream",
          "text": [
            "Downloading http://fashion-mnist.s3-website.eu-central-1.amazonaws.com/train-images-idx3-ubyte.gz to ./FashionMNIST/raw/train-images-idx3-ubyte.gz\n"
          ],
          "name": "stdout"
        },
        {
          "output_type": "display_data",
          "data": {
            "application/vnd.jupyter.widget-view+json": {
              "model_id": "be2a568b4aac48feb9048bd8541ac168",
              "version_minor": 0,
              "version_major": 2
            },
            "text/plain": [
              "HBox(children=(IntProgress(value=1, bar_style='info', max=1), HTML(value='')))"
            ]
          },
          "metadata": {
            "tags": []
          }
        },
        {
          "output_type": "stream",
          "text": [
            "Extracting ./FashionMNIST/raw/train-images-idx3-ubyte.gz to ./FashionMNIST/raw\n",
            "Downloading http://fashion-mnist.s3-website.eu-central-1.amazonaws.com/train-labels-idx1-ubyte.gz to ./FashionMNIST/raw/train-labels-idx1-ubyte.gz\n"
          ],
          "name": "stdout"
        },
        {
          "output_type": "display_data",
          "data": {
            "application/vnd.jupyter.widget-view+json": {
              "model_id": "02b67625bb334279892b598beee5e8ec",
              "version_minor": 0,
              "version_major": 2
            },
            "text/plain": [
              "HBox(children=(IntProgress(value=1, bar_style='info', max=1), HTML(value='')))"
            ]
          },
          "metadata": {
            "tags": []
          }
        },
        {
          "output_type": "stream",
          "text": [
            "Extracting ./FashionMNIST/raw/train-labels-idx1-ubyte.gz to ./FashionMNIST/raw\n",
            "Downloading http://fashion-mnist.s3-website.eu-central-1.amazonaws.com/t10k-images-idx3-ubyte.gz to ./FashionMNIST/raw/t10k-images-idx3-ubyte.gz\n",
            "\n",
            "\n"
          ],
          "name": "stdout"
        },
        {
          "output_type": "display_data",
          "data": {
            "application/vnd.jupyter.widget-view+json": {
              "model_id": "7ac7e2e4272648e397fd138ee2b18b84",
              "version_minor": 0,
              "version_major": 2
            },
            "text/plain": [
              "HBox(children=(IntProgress(value=1, bar_style='info', max=1), HTML(value='')))"
            ]
          },
          "metadata": {
            "tags": []
          }
        },
        {
          "output_type": "stream",
          "text": [
            "Extracting ./FashionMNIST/raw/t10k-images-idx3-ubyte.gz to ./FashionMNIST/raw\n",
            "Downloading http://fashion-mnist.s3-website.eu-central-1.amazonaws.com/t10k-labels-idx1-ubyte.gz to ./FashionMNIST/raw/t10k-labels-idx1-ubyte.gz\n"
          ],
          "name": "stdout"
        },
        {
          "output_type": "display_data",
          "data": {
            "application/vnd.jupyter.widget-view+json": {
              "model_id": "73f7dbda9a5d4fdea2fc5ced9ec7f7e1",
              "version_minor": 0,
              "version_major": 2
            },
            "text/plain": [
              "HBox(children=(IntProgress(value=1, bar_style='info', max=1), HTML(value='')))"
            ]
          },
          "metadata": {
            "tags": []
          }
        },
        {
          "output_type": "stream",
          "text": [
            "Extracting ./FashionMNIST/raw/t10k-labels-idx1-ubyte.gz to ./FashionMNIST/raw\n",
            "Processing...\n",
            "Done!\n"
          ],
          "name": "stdout"
        },
        {
          "output_type": "stream",
          "text": [
            "/pytorch/torch/csrc/utils/tensor_numpy.cpp:141: UserWarning: The given NumPy array is not writeable, and PyTorch does not support non-writeable tensors. This means you can write to the underlying (supposedly non-writeable) NumPy array using the tensor. You may want to copy the array to protect its data or make it writeable before converting it to a tensor. This type of warning will be suppressed for the rest of this program.\n"
          ],
          "name": "stderr"
        }
      ]
    },
    {
      "cell_type": "code",
      "metadata": {
        "colab_type": "code",
        "id": "8hnGThDmqDnR",
        "colab": {}
      },
      "source": [
        "labels_dict = {0: \"T-shirt/top\",\n",
        "               1: \"Trouser\",\n",
        "               2: \"Pullover\",\n",
        "               3: \"Dress\",\n",
        "               4: \"Coat\",\n",
        "               5: \"Sandal\",\n",
        "               6: \"Shirt\",\n",
        "               7: \"Sneaker\",\n",
        "               8: \"Bag\",\n",
        "               9: \"Ankle boot\"}"
      ],
      "execution_count": 0,
      "outputs": []
    },
    {
      "cell_type": "markdown",
      "metadata": {
        "colab_type": "text",
        "id": "vR66I2igrZAe"
      },
      "source": [
        "# Data Preparation"
      ]
    },
    {
      "cell_type": "markdown",
      "metadata": {
        "colab_type": "text",
        "id": "tCoKJguwfJQb"
      },
      "source": [
        "**Reshape data from 28x28 into 784**"
      ]
    },
    {
      "cell_type": "code",
      "metadata": {
        "colab_type": "code",
        "id": "ZyXLL7lqrgZp",
        "colab": {}
      },
      "source": [
        "train_images = train_dataset.data.numpy().reshape(-1,28*28)\n",
        "train_labels = train_dataset.targets.data.numpy()"
      ],
      "execution_count": 0,
      "outputs": []
    },
    {
      "cell_type": "code",
      "metadata": {
        "colab_type": "code",
        "id": "ohKfnzmIsknJ",
        "outputId": "556c15c7-d66d-4b88-df4d-93e9a6e651ca",
        "colab": {
          "base_uri": "https://localhost:8080/",
          "height": 35
        }
      },
      "source": [
        "train_images.shape"
      ],
      "execution_count": 0,
      "outputs": [
        {
          "output_type": "execute_result",
          "data": {
            "text/plain": [
              "(60000, 784)"
            ]
          },
          "metadata": {
            "tags": []
          },
          "execution_count": 6
        }
      ]
    },
    {
      "cell_type": "code",
      "metadata": {
        "colab_type": "code",
        "id": "Y04wZNYqsupX",
        "outputId": "58dcb09b-4e54-4bc7-ddb7-8e533939bad7",
        "colab": {
          "base_uri": "https://localhost:8080/",
          "height": 35
        }
      },
      "source": [
        "train_labels.shape"
      ],
      "execution_count": 0,
      "outputs": [
        {
          "output_type": "execute_result",
          "data": {
            "text/plain": [
              "(60000,)"
            ]
          },
          "metadata": {
            "tags": []
          },
          "execution_count": 7
        }
      ]
    },
    {
      "cell_type": "code",
      "metadata": {
        "colab_type": "code",
        "id": "mFykg6XQsys-",
        "colab": {}
      },
      "source": [
        "eval_images = eval_dataset.data.numpy().reshape(-1,28*28)\n",
        "eval_labels = eval_dataset.targets.data.numpy()"
      ],
      "execution_count": 0,
      "outputs": []
    },
    {
      "cell_type": "code",
      "metadata": {
        "colab_type": "code",
        "id": "_ZOOzfAts08u",
        "outputId": "b74fbf09-b621-4aa6-9116-a59cbd4ac5d6",
        "colab": {
          "base_uri": "https://localhost:8080/",
          "height": 35
        }
      },
      "source": [
        "eval_images.shape"
      ],
      "execution_count": 0,
      "outputs": [
        {
          "output_type": "execute_result",
          "data": {
            "text/plain": [
              "(10000, 784)"
            ]
          },
          "metadata": {
            "tags": []
          },
          "execution_count": 9
        }
      ]
    },
    {
      "cell_type": "code",
      "metadata": {
        "colab_type": "code",
        "id": "3fOmqBRLs4eG",
        "outputId": "6a2dba5f-2177-4771-abdf-f878a6193b3e",
        "colab": {
          "base_uri": "https://localhost:8080/",
          "height": 35
        }
      },
      "source": [
        "eval_labels.shape"
      ],
      "execution_count": 0,
      "outputs": [
        {
          "output_type": "execute_result",
          "data": {
            "text/plain": [
              "(10000,)"
            ]
          },
          "metadata": {
            "tags": []
          },
          "execution_count": 10
        }
      ]
    },
    {
      "cell_type": "markdown",
      "metadata": {
        "colab_type": "text",
        "id": "9yp_HTDofHf3"
      },
      "source": [
        "**Standardize data**"
      ]
    },
    {
      "cell_type": "code",
      "metadata": {
        "colab_type": "code",
        "id": "ZhMwebBjf6kD",
        "colab": {}
      },
      "source": [
        "standardized_train_images = StandardScaler().fit_transform(train_images)\n",
        "standardized_eval_images = StandardScaler().fit_transform(eval_images)"
      ],
      "execution_count": 0,
      "outputs": []
    },
    {
      "cell_type": "markdown",
      "metadata": {
        "colab_type": "text",
        "id": "1HN3NAKRev79"
      },
      "source": [
        "# Support Vector Machine"
      ]
    },
    {
      "cell_type": "code",
      "metadata": {
        "colab_type": "code",
        "id": "BjrCcIC7XXn6",
        "colab": {}
      },
      "source": [
        "# optimal number for random_state\n",
        "random_seed = 42"
      ],
      "execution_count": 0,
      "outputs": []
    },
    {
      "cell_type": "markdown",
      "metadata": {
        "colab_type": "text",
        "id": "-_UXxWD7XNAc"
      },
      "source": [
        "**Run SVM on Untreated Data**"
      ]
    },
    {
      "cell_type": "code",
      "metadata": {
        "colab_type": "code",
        "id": "NDogzMZlaGik",
        "colab": {}
      },
      "source": [
        "svm = SVC(kernel='rbf', random_state=random_seed)"
      ],
      "execution_count": 0,
      "outputs": []
    },
    {
      "cell_type": "code",
      "metadata": {
        "id": "AY71MSwmigL2",
        "colab_type": "code",
        "colab": {}
      },
      "source": [
        "# cvs = cross_val_score(svm, train_images, train_labels,scoring='precision_macro')\n",
        "# print np.mean(cvs)"
      ],
      "execution_count": 0,
      "outputs": []
    },
    {
      "cell_type": "code",
      "metadata": {
        "colab_type": "code",
        "id": "K4fzvYdqaSCQ",
        "colab": {
          "base_uri": "https://localhost:8080/",
          "height": 87
        },
        "outputId": "c808a9ae-972c-4142-9a68-ba71c28047fc"
      },
      "source": [
        "%%time\n",
        "\n",
        "svm.fit(train_images,train_labels)"
      ],
      "execution_count": 10,
      "outputs": [
        {
          "output_type": "execute_result",
          "data": {
            "text/plain": [
              "SVC(C=1.0, break_ties=False, cache_size=200, class_weight=None, coef0=0.0,\n",
              "    decision_function_shape='ovr', degree=3, gamma='scale', kernel='rbf',\n",
              "    max_iter=-1, probability=False, random_state=42, shrinking=True, tol=0.001,\n",
              "    verbose=False)"
            ]
          },
          "metadata": {
            "tags": []
          },
          "execution_count": 10
        }
      ]
    },
    {
      "cell_type": "code",
      "metadata": {
        "id": "IyeG5R58iZlW",
        "colab_type": "code",
        "colab": {
          "base_uri": "https://localhost:8080/",
          "height": 52
        },
        "outputId": "4cf2d01d-cf81-4de2-c2bd-e21c92ae872b"
      },
      "source": [
        "y_pred_1 = svm.predict(eval_images)\n",
        "\n",
        "print('Model classification accuracy: {}%'.format(str(metrics.accuracy_score(eval_labels, y_pred_1) * 100)))\n",
        "f1 = f1_score(eval_labels, y_pred_1,average='macro')\n",
        "print('F1 score: %f' % f1)"
      ],
      "execution_count": 11,
      "outputs": [
        {
          "output_type": "stream",
          "text": [
            "Model classification accuracy: 88.28%\n",
            "F1 score: 0.882265\n"
          ],
          "name": "stdout"
        }
      ]
    },
    {
      "cell_type": "markdown",
      "metadata": {
        "colab_type": "text",
        "id": "EohxUkd4eSaM"
      },
      "source": [
        "**Run SVM on Standardized Data**"
      ]
    },
    {
      "cell_type": "code",
      "metadata": {
        "colab_type": "code",
        "id": "fcpGKx58mjSW",
        "colab": {}
      },
      "source": [
        "svm = SVC(kernel='rbf', random_state=random_seed)"
      ],
      "execution_count": 0,
      "outputs": []
    },
    {
      "cell_type": "code",
      "metadata": {
        "colab_type": "code",
        "id": "l461nx3S_v2A",
        "outputId": "9ad46cac-2728-47d5-86cb-122737dc8788",
        "colab": {
          "base_uri": "https://localhost:8080/",
          "height": 35
        }
      },
      "source": [
        "cvs = cross_val_score(svm, train_images, train_labels,scoring='precision_macro')\n",
        "print(np.mean(cvs))"
      ],
      "execution_count": 0,
      "outputs": [
        {
          "output_type": "stream",
          "text": [
            "0.8890649801213758\n"
          ],
          "name": "stdout"
        }
      ]
    },
    {
      "cell_type": "code",
      "metadata": {
        "colab_type": "code",
        "id": "XCi4F20LmqYs",
        "outputId": "17eb1e4a-960d-49fe-a4b2-0cfeba453567",
        "colab": {
          "base_uri": "https://localhost:8080/",
          "height": 123
        }
      },
      "source": [
        "%%time\n",
        "\n",
        "svm.fit(standardized_train_images,train_labels)"
      ],
      "execution_count": 13,
      "outputs": [
        {
          "output_type": "stream",
          "text": [
            "CPU times: user 14min 35s, sys: 163 ms, total: 14min 35s\n",
            "Wall time: 14min 35s\n"
          ],
          "name": "stdout"
        },
        {
          "output_type": "execute_result",
          "data": {
            "text/plain": [
              "SVC(C=1.0, break_ties=False, cache_size=200, class_weight=None, coef0=0.0,\n",
              "    decision_function_shape='ovr', degree=3, gamma='scale', kernel='rbf',\n",
              "    max_iter=-1, probability=False, random_state=42, shrinking=True, tol=0.001,\n",
              "    verbose=False)"
            ]
          },
          "metadata": {
            "tags": []
          },
          "execution_count": 13
        }
      ]
    },
    {
      "cell_type": "code",
      "metadata": {
        "id": "nG0dgM-4ilw9",
        "colab_type": "code",
        "outputId": "ec2134e8-1200-43c8-f1a1-ecd8f231c112",
        "colab": {
          "base_uri": "https://localhost:8080/",
          "height": 52
        }
      },
      "source": [
        "y_pred_2 = svm.predict(standardized_eval_images)\n",
        "\n",
        "print('Model classification accuracy: {}%'.format(str(metrics.accuracy_score(eval_labels, y_pred_2) * 100)))\n",
        "f1 = f1_score(eval_labels, y_pred_2,average='macro')\n",
        "print('F1 score: %f' % f1)"
      ],
      "execution_count": 14,
      "outputs": [
        {
          "output_type": "stream",
          "text": [
            "Model classification accuracy: 88.36%\n",
            "F1 score: 0.882864\n"
          ],
          "name": "stdout"
        }
      ]
    },
    {
      "cell_type": "markdown",
      "metadata": {
        "id": "iHDoPQN2j8xs",
        "colab_type": "text"
      },
      "source": [
        "**Run SVM with PCA**"
      ]
    },
    {
      "cell_type": "code",
      "metadata": {
        "id": "ikuYaW8Kj8Rn",
        "colab_type": "code",
        "colab": {}
      },
      "source": [
        "pca = PCA()\n",
        "\n",
        "pca.n_components = 11\n",
        "\n",
        "pca_train_images = pca.fit_transform(standardized_train_images)\n",
        "pca_eval_images = pca.fit_transform(standardized_eval_images)"
      ],
      "execution_count": 0,
      "outputs": []
    },
    {
      "cell_type": "code",
      "metadata": {
        "id": "qIPkNpspkXH9",
        "colab_type": "code",
        "colab": {}
      },
      "source": [
        "svm = SVC(kernel='rbf', C=1000, random_state=random_seed)"
      ],
      "execution_count": 0,
      "outputs": []
    },
    {
      "cell_type": "code",
      "metadata": {
        "id": "N8HvrZ5Ckd9e",
        "colab_type": "code",
        "outputId": "365417c8-afb2-47ea-f9aa-dc7876c7ae18",
        "colab": {
          "base_uri": "https://localhost:8080/",
          "height": 123
        }
      },
      "source": [
        "%%time\n",
        "\n",
        "svm.fit(pca_train_images,train_labels)"
      ],
      "execution_count": 17,
      "outputs": [
        {
          "output_type": "stream",
          "text": [
            "CPU times: user 3min 4s, sys: 327 ms, total: 3min 4s\n",
            "Wall time: 3min 4s\n"
          ],
          "name": "stdout"
        },
        {
          "output_type": "execute_result",
          "data": {
            "text/plain": [
              "SVC(C=1000, break_ties=False, cache_size=200, class_weight=None, coef0=0.0,\n",
              "    decision_function_shape='ovr', degree=3, gamma='scale', kernel='rbf',\n",
              "    max_iter=-1, probability=False, random_state=42, shrinking=True, tol=0.001,\n",
              "    verbose=False)"
            ]
          },
          "metadata": {
            "tags": []
          },
          "execution_count": 17
        }
      ]
    },
    {
      "cell_type": "code",
      "metadata": {
        "id": "Arg6-rkykgDm",
        "colab_type": "code",
        "outputId": "13a58520-d887-4385-9a6f-e29674f8f393",
        "colab": {
          "base_uri": "https://localhost:8080/",
          "height": 52
        }
      },
      "source": [
        "y_pred_3 = svm.predict(pca_eval_images)\n",
        "\n",
        "print('Model classification accuracy: {}%'.format(str(metrics.accuracy_score(eval_labels, y_pred_3) * 100)))\n",
        "f1 = f1_score(eval_labels, y_pred_3,average='macro')\n",
        "print('F1 score: %f' % f1)"
      ],
      "execution_count": 18,
      "outputs": [
        {
          "output_type": "stream",
          "text": [
            "Model classification accuracy: 80.53%\n",
            "F1 score: 0.803440\n"
          ],
          "name": "stdout"
        }
      ]
    },
    {
      "cell_type": "markdown",
      "metadata": {
        "colab_type": "text",
        "id": "IHw9QNlRatDj"
      },
      "source": [
        "**SVM GridSearchCV**"
      ]
    },
    {
      "cell_type": "markdown",
      "metadata": {
        "id": "SE_rjqVhIwC4",
        "colab_type": "text"
      },
      "source": [
        "Tuning RBF C Values"
      ]
    },
    {
      "cell_type": "code",
      "metadata": {
        "colab_type": "code",
        "id": "fK-7pxN6pFR1",
        "colab": {}
      },
      "source": [
        "c_values = [0.000001, 0.0001, 0.1, 1, 100, 10000]\n",
        "gamma_values = ['auto','scale']\n",
        "degree_values = np.arange(1, 6, 1)\n",
        "# kernel_types = ['linear','rbf','poly','sigmoid']\n",
        "# param_grid = dict(kernel=kernel_types, gamma=gamma_range, C=c_range,degree=degree_values)\n",
        "# tuning_param_grid = [{'kernel':['linear'], 'C':c_values}]\n",
        "tuning_param_grid = [{'kernel':['rbf'], 'C':c_values, 'gamma':gamma_values}]\n",
        "                    #  {'kernel':['poly'],'degree':degree_values, 'C':c_values, 'gamma':gamma_values}]\n",
        "                    #  {'kernel':['sigmoid'], 'C':c_values, 'gamma':gamma_values}]\n",
        "svm = SVC()\n",
        "cv = StratifiedShuffleSplit(n_splits=5, test_size=0.2, random_state=random_seed)"
      ],
      "execution_count": 0,
      "outputs": []
    },
    {
      "cell_type": "code",
      "metadata": {
        "colab_type": "code",
        "id": "AotSYYdl5ZmH",
        "outputId": "e5359356-fef6-48cb-f4da-07ad0a8f76ff",
        "colab": {
          "base_uri": "https://localhost:8080/",
          "height": 301
        }
      },
      "source": [
        "%%time\n",
        "\n",
        "grid = GridSearchCV(svm, param_grid=tuning_param_grid, cv=cv, verbose=10, n_jobs=-1)\n",
        "grid.fit(pca_train_images,train_labels)"
      ],
      "execution_count": 20,
      "outputs": [
        {
          "output_type": "stream",
          "text": [
            "Fitting 5 folds for each of 12 candidates, totalling 60 fits\n"
          ],
          "name": "stdout"
        },
        {
          "output_type": "stream",
          "text": [
            "[Parallel(n_jobs=-1)]: Using backend LokyBackend with 4 concurrent workers.\n",
            "[Parallel(n_jobs=-1)]: Done   5 tasks      | elapsed: 14.5min\n",
            "[Parallel(n_jobs=-1)]: Done  10 tasks      | elapsed: 21.8min\n",
            "[Parallel(n_jobs=-1)]: Done  17 tasks      | elapsed: 36.5min\n",
            "[Parallel(n_jobs=-1)]: Done  24 tasks      | elapsed: 42.1min\n",
            "/usr/local/lib/python3.6/dist-packages/joblib/externals/loky/process_executor.py:706: UserWarning: A worker stopped while some jobs were given to the executor. This can be caused by a too short worker timeout or by a memory leak.\n",
            "  \"timeout or by a memory leak.\", UserWarning\n",
            "[Parallel(n_jobs=-1)]: Done  33 tasks      | elapsed: 50.2min\n",
            "[Parallel(n_jobs=-1)]: Done  42 tasks      | elapsed: 59.2min\n",
            "[Parallel(n_jobs=-1)]: Done  53 tasks      | elapsed: 69.5min\n",
            "[Parallel(n_jobs=-1)]: Done  60 out of  60 | elapsed: 102.7min remaining:    0.0s\n",
            "[Parallel(n_jobs=-1)]: Done  60 out of  60 | elapsed: 102.7min finished\n"
          ],
          "name": "stderr"
        },
        {
          "output_type": "stream",
          "text": [
            "CPU times: user 1min 3s, sys: 421 ms, total: 1min 4s\n",
            "Wall time: 1h 43min 42s\n"
          ],
          "name": "stdout"
        }
      ]
    },
    {
      "cell_type": "code",
      "metadata": {
        "id": "djYb8QIZj1kl",
        "colab_type": "code",
        "outputId": "5df67cde-2f56-494e-946c-a5d92948bb7f",
        "colab": {
          "base_uri": "https://localhost:8080/",
          "height": 125
        }
      },
      "source": [
        "print (\"The best classifier is: \" , grid.best_estimator_)\n",
        "print ('Score of best classifier :', grid.score(pca_eval_images,eval_labels))"
      ],
      "execution_count": 22,
      "outputs": [
        {
          "output_type": "stream",
          "text": [
            "The best classifier is:  SVC(C=100, break_ties=False, cache_size=200, class_weight=None, coef0=0.0,\n",
            "    decision_function_shape='ovr', degree=3, gamma='scale', kernel='rbf',\n",
            "    max_iter=-1, probability=False, random_state=None, shrinking=True,\n",
            "    tol=0.001, verbose=False)\n",
            "Score of best classifier : 0.8112\n"
          ],
          "name": "stdout"
        }
      ]
    },
    {
      "cell_type": "code",
      "metadata": {
        "colab_type": "code",
        "id": "0A-eSL6O5F7t",
        "colab": {}
      },
      "source": [
        "# grid.best_param.get(\"kernel\")\n",
        "# grid.best_param.get(\"gamma\")\n",
        "# grid.best_param.get(\"C\")\n",
        "# grid.best_param.get(\"degree\")\n",
        "# grid.best_param"
      ],
      "execution_count": 0,
      "outputs": []
    },
    {
      "cell_type": "code",
      "metadata": {
        "colab_type": "code",
        "id": "z24wv9V58yJd",
        "colab": {
          "base_uri": "https://localhost:8080/",
          "height": 228
        },
        "outputId": "32203267-c9cf-4ae0-a6e8-dc4c4ba5711e"
      },
      "source": [
        "for param, score in zip(grid.cv_results_['params'], grid.cv_results_['mean_test_score']):\n",
        "    print(param, score)"
      ],
      "execution_count": 23,
      "outputs": [
        {
          "output_type": "stream",
          "text": [
            "{'C': 1e-06, 'gamma': 'auto', 'kernel': 'rbf'} 0.32330000000000003\n",
            "{'C': 1e-06, 'gamma': 'scale', 'kernel': 'rbf'} 0.6828666666666667\n",
            "{'C': 0.0001, 'gamma': 'auto', 'kernel': 'rbf'} 0.32330000000000003\n",
            "{'C': 0.0001, 'gamma': 'scale', 'kernel': 'rbf'} 0.6828666666666667\n",
            "{'C': 0.1, 'gamma': 'auto', 'kernel': 'rbf'} 0.6247166666666666\n",
            "{'C': 0.1, 'gamma': 'scale', 'kernel': 'rbf'} 0.7956166666666667\n",
            "{'C': 1, 'gamma': 'auto', 'kernel': 'rbf'} 0.7856500000000001\n",
            "{'C': 1, 'gamma': 'scale', 'kernel': 'rbf'} 0.82825\n",
            "{'C': 100, 'gamma': 'auto', 'kernel': 'rbf'} 0.7752666666666667\n",
            "{'C': 100, 'gamma': 'scale', 'kernel': 'rbf'} 0.8544333333333334\n",
            "{'C': 10000, 'gamma': 'auto', 'kernel': 'rbf'} 0.7752333333333334\n",
            "{'C': 10000, 'gamma': 'scale', 'kernel': 'rbf'} 0.8441000000000001\n"
          ],
          "name": "stdout"
        }
      ]
    },
    {
      "cell_type": "markdown",
      "metadata": {
        "id": "1MU6VznPcSRH",
        "colab_type": "text"
      },
      "source": [
        "Increase C tuning of RBF C parameter"
      ]
    },
    {
      "cell_type": "code",
      "metadata": {
        "colab_type": "code",
        "id": "xjArLKdtG9FI",
        "colab": {}
      },
      "source": [
        "c_values = [150,175,200,225,250]\n",
        "gamma_values = ['scale']\n",
        "degree_values = np.arange(1, 6, 1)\n",
        "# kernel_types = ['linear','rbf','poly','sigmoid']\n",
        "# param_grid = dict(kernel=kernel_types, gamma=gamma_range, C=c_range,degree=degree_values)\n",
        "# tuning_param_grid = [{'kernel':['linear'], 'C':c_values}]\n",
        "tuning_param_grid = [{'kernel':['rbf'], 'C':c_values, 'gamma':gamma_values}]"
      ],
      "execution_count": 0,
      "outputs": []
    },
    {
      "cell_type": "code",
      "metadata": {
        "id": "V38lQtBmc1a3",
        "colab_type": "code",
        "colab": {
          "base_uri": "https://localhost:8080/",
          "height": 175
        },
        "outputId": "ac84c358-8a9c-4d66-bbb3-0a6ac689a46a"
      },
      "source": [
        "%%time\n",
        "\n",
        "grid = GridSearchCV(svm, param_grid=tuning_param_grid, cv=cv, verbose=10, n_jobs=-1)\n",
        "grid.fit(pca_train_images,train_labels)"
      ],
      "execution_count": 35,
      "outputs": [
        {
          "output_type": "stream",
          "text": [
            "Fitting 5 folds for each of 5 candidates, totalling 25 fits\n"
          ],
          "name": "stdout"
        },
        {
          "output_type": "stream",
          "text": [
            "[Parallel(n_jobs=-1)]: Using backend LokyBackend with 4 concurrent workers.\n",
            "[Parallel(n_jobs=-1)]: Done   5 tasks      | elapsed:  2.9min\n",
            "[Parallel(n_jobs=-1)]: Done  10 tasks      | elapsed:  4.5min\n",
            "[Parallel(n_jobs=-1)]: Done  17 tasks      | elapsed:  7.7min\n",
            "[Parallel(n_jobs=-1)]: Done  21 out of  25 | elapsed:  9.4min remaining:  1.8min\n",
            "[Parallel(n_jobs=-1)]: Done  25 out of  25 | elapsed: 10.6min finished\n"
          ],
          "name": "stderr"
        },
        {
          "output_type": "stream",
          "text": [
            "CPU times: user 1min 14s, sys: 310 ms, total: 1min 14s\n",
            "Wall time: 11min 48s\n"
          ],
          "name": "stdout"
        }
      ]
    },
    {
      "cell_type": "code",
      "metadata": {
        "id": "OvFrrvjRg8QI",
        "colab_type": "code",
        "colab": {
          "base_uri": "https://localhost:8080/",
          "height": 125
        },
        "outputId": "eaac6733-a5ee-4be6-c70c-1b907c3a6f10"
      },
      "source": [
        "print (\"The best classifier is: \" , grid.best_estimator_)\n",
        "print ('Score of best classifier :', grid.score(pca_eval_images,eval_labels))"
      ],
      "execution_count": 36,
      "outputs": [
        {
          "output_type": "stream",
          "text": [
            "The best classifier is:  SVC(C=150, break_ties=False, cache_size=200, class_weight=None, coef0=0.0,\n",
            "    decision_function_shape='ovr', degree=3, gamma='scale', kernel='rbf',\n",
            "    max_iter=-1, probability=False, random_state=None, shrinking=True,\n",
            "    tol=0.001, verbose=False)\n",
            "Score of best classifier : 0.81\n"
          ],
          "name": "stdout"
        }
      ]
    },
    {
      "cell_type": "code",
      "metadata": {
        "id": "KlanTYNFg9mU",
        "colab_type": "code",
        "colab": {
          "base_uri": "https://localhost:8080/",
          "height": 105
        },
        "outputId": "79443c1d-d579-4bff-f41d-1bc7d65bed78"
      },
      "source": [
        "for param, score in zip(grid.cv_results_['params'], grid.cv_results_['mean_test_score']):\n",
        "    print(param, score)"
      ],
      "execution_count": 37,
      "outputs": [
        {
          "output_type": "stream",
          "text": [
            "{'C': 150, 'gamma': 'scale', 'kernel': 'rbf'} 0.8548333333333333\n",
            "{'C': 175, 'gamma': 'scale', 'kernel': 'rbf'} 0.8547\n",
            "{'C': 200, 'gamma': 'scale', 'kernel': 'rbf'} 0.8546166666666666\n",
            "{'C': 225, 'gamma': 'scale', 'kernel': 'rbf'} 0.8543666666666667\n",
            "{'C': 250, 'gamma': 'scale', 'kernel': 'rbf'} 0.8543833333333334\n"
          ],
          "name": "stdout"
        }
      ]
    },
    {
      "cell_type": "markdown",
      "metadata": {
        "id": "Ca9-4ANhwG7D",
        "colab_type": "text"
      },
      "source": [
        "Tuning Poly Parameters"
      ]
    },
    {
      "cell_type": "code",
      "metadata": {
        "id": "Zvzts1MmwTX5",
        "colab_type": "code",
        "colab": {}
      },
      "source": [
        "c_values = [0.00001, 0.1, 1, 150, 1000]\n",
        "gamma_values = ['scale']\n",
        "degree_values = np.arange(1, 6, 1)\n",
        "# kernel_types = ['linear','rbf','poly','sigmoid']\n",
        "# param_grid = dict(kernel=kernel_types, gamma=gamma_range, C=c_range,degree=degree_values)\n",
        "# tuning_param_grid = [{'kernel':['linear'], 'C':c_values}]\n",
        "tuning_param_grid = [{'kernel':['poly'], 'C':c_values, 'gamma':gamma_values, 'degree':degree_values}]"
      ],
      "execution_count": 0,
      "outputs": []
    },
    {
      "cell_type": "code",
      "metadata": {
        "id": "sy_NXsA_wvAb",
        "colab_type": "code",
        "colab": {
          "base_uri": "https://localhost:8080/",
          "height": 299
        },
        "outputId": "f8f70d8a-9214-46e1-dc4c-b1ebbf0a14a3"
      },
      "source": [
        "%%time\n",
        "\n",
        "poly_grid = GridSearchCV(svm, param_grid=tuning_param_grid, cv=cv, verbose=10, n_jobs=-1)\n",
        "poly_grid.fit(pca_train_images,train_labels)"
      ],
      "execution_count": 40,
      "outputs": [
        {
          "output_type": "stream",
          "text": [
            "Fitting 5 folds for each of 25 candidates, totalling 125 fits\n"
          ],
          "name": "stdout"
        },
        {
          "output_type": "stream",
          "text": [
            "[Parallel(n_jobs=-1)]: Using backend LokyBackend with 4 concurrent workers.\n",
            "[Parallel(n_jobs=-1)]: Done   5 tasks      | elapsed: 11.0min\n",
            "[Parallel(n_jobs=-1)]: Done  10 tasks      | elapsed: 16.5min\n",
            "[Parallel(n_jobs=-1)]: Done  17 tasks      | elapsed: 27.2min\n",
            "[Parallel(n_jobs=-1)]: Done  24 tasks      | elapsed: 33.0min\n",
            "[Parallel(n_jobs=-1)]: Done  33 tasks      | elapsed: 35.9min\n",
            "[Parallel(n_jobs=-1)]: Done  42 tasks      | elapsed: 39.0min\n",
            "[Parallel(n_jobs=-1)]: Done  53 tasks      | elapsed: 42.1min\n",
            "[Parallel(n_jobs=-1)]: Done  64 tasks      | elapsed: 44.2min\n",
            "[Parallel(n_jobs=-1)]: Done  77 tasks      | elapsed: 48.4min\n",
            "[Parallel(n_jobs=-1)]: Done  90 tasks      | elapsed: 55.1min\n",
            "[Parallel(n_jobs=-1)]: Done 105 tasks      | elapsed: 73.4min\n",
            "[Parallel(n_jobs=-1)]: Done 125 out of 125 | elapsed: 132.1min finished\n"
          ],
          "name": "stderr"
        },
        {
          "output_type": "stream",
          "text": [
            "CPU times: user 9min 23s, sys: 488 ms, total: 9min 24s\n",
            "Wall time: 2h 21min 31s\n"
          ],
          "name": "stdout"
        }
      ]
    },
    {
      "cell_type": "code",
      "metadata": {
        "id": "fhuYmVxcwyEo",
        "colab_type": "code",
        "colab": {
          "base_uri": "https://localhost:8080/",
          "height": 125
        },
        "outputId": "84d98d5a-811b-48f1-feac-b11caf3572b4"
      },
      "source": [
        "print (\"The best classifier is: \" , poly_grid.best_estimator_)\n",
        "print ('Score of best classifier :', poly_grid.score(pca_eval_images,eval_labels))"
      ],
      "execution_count": 41,
      "outputs": [
        {
          "output_type": "stream",
          "text": [
            "The best classifier is:  SVC(C=1000, break_ties=False, cache_size=200, class_weight=None, coef0=0.0,\n",
            "    decision_function_shape='ovr', degree=3, gamma='scale', kernel='poly',\n",
            "    max_iter=-1, probability=False, random_state=None, shrinking=True,\n",
            "    tol=0.001, verbose=False)\n",
            "Score of best classifier : 0.7994\n"
          ],
          "name": "stdout"
        }
      ]
    },
    {
      "cell_type": "code",
      "metadata": {
        "id": "8rysTw_vw1C6",
        "colab_type": "code",
        "colab": {
          "base_uri": "https://localhost:8080/",
          "height": 457
        },
        "outputId": "81a58377-ec3f-4600-e2bc-e323eb904623"
      },
      "source": [
        "for param, score in zip(poly_grid.cv_results_['params'], poly_grid.cv_results_['mean_test_score']):\n",
        "    print(param, score)"
      ],
      "execution_count": 42,
      "outputs": [
        {
          "output_type": "stream",
          "text": [
            "{'C': 1e-05, 'degree': 1, 'gamma': 'scale', 'kernel': 'poly'} 0.5223000000000001\n",
            "{'C': 1e-05, 'degree': 2, 'gamma': 'scale', 'kernel': 'poly'} 0.4073666666666667\n",
            "{'C': 1e-05, 'degree': 3, 'gamma': 'scale', 'kernel': 'poly'} 0.3287833333333333\n",
            "{'C': 1e-05, 'degree': 4, 'gamma': 'scale', 'kernel': 'poly'} 0.21523333333333333\n",
            "{'C': 1e-05, 'degree': 5, 'gamma': 'scale', 'kernel': 'poly'} 0.17116666666666663\n",
            "{'C': 0.1, 'degree': 1, 'gamma': 'scale', 'kernel': 'poly'} 0.7710166666666668\n",
            "{'C': 0.1, 'degree': 2, 'gamma': 'scale', 'kernel': 'poly'} 0.7806833333333334\n",
            "{'C': 0.1, 'degree': 3, 'gamma': 'scale', 'kernel': 'poly'} 0.7810666666666667\n",
            "{'C': 0.1, 'degree': 4, 'gamma': 'scale', 'kernel': 'poly'} 0.7496166666666666\n",
            "{'C': 0.1, 'degree': 5, 'gamma': 'scale', 'kernel': 'poly'} 0.7256333333333334\n",
            "{'C': 1, 'degree': 1, 'gamma': 'scale', 'kernel': 'poly'} 0.7885333333333333\n",
            "{'C': 1, 'degree': 2, 'gamma': 'scale', 'kernel': 'poly'} 0.8109\n",
            "{'C': 1, 'degree': 3, 'gamma': 'scale', 'kernel': 'poly'} 0.8177333333333333\n",
            "{'C': 1, 'degree': 4, 'gamma': 'scale', 'kernel': 'poly'} 0.8048\n",
            "{'C': 1, 'degree': 5, 'gamma': 'scale', 'kernel': 'poly'} 0.79125\n",
            "{'C': 150, 'degree': 1, 'gamma': 'scale', 'kernel': 'poly'} 0.7933000000000001\n",
            "{'C': 150, 'degree': 2, 'gamma': 'scale', 'kernel': 'poly'} 0.8244166666666667\n",
            "{'C': 150, 'degree': 3, 'gamma': 'scale', 'kernel': 'poly'} 0.8449333333333333\n",
            "{'C': 150, 'degree': 4, 'gamma': 'scale', 'kernel': 'poly'} 0.8448333333333334\n",
            "{'C': 150, 'degree': 5, 'gamma': 'scale', 'kernel': 'poly'} 0.8414166666666667\n",
            "{'C': 1000, 'degree': 1, 'gamma': 'scale', 'kernel': 'poly'} 0.7933666666666667\n",
            "{'C': 1000, 'degree': 2, 'gamma': 'scale', 'kernel': 'poly'} 0.8254666666666666\n",
            "{'C': 1000, 'degree': 3, 'gamma': 'scale', 'kernel': 'poly'} 0.8457666666666667\n",
            "{'C': 1000, 'degree': 4, 'gamma': 'scale', 'kernel': 'poly'} 0.8436166666666667\n",
            "{'C': 1000, 'degree': 5, 'gamma': 'scale', 'kernel': 'poly'} 0.8421666666666667\n"
          ],
          "name": "stdout"
        }
      ]
    },
    {
      "cell_type": "code",
      "metadata": {
        "id": "tohKSGZNUbEJ",
        "colab_type": "code",
        "colab": {}
      },
      "source": [
        "c_values = [750, 1000, 2000]\n",
        "gamma_values = ['scale']\n",
        "# degree_values = np.arange(1, 6, 1)\n",
        "degree_values = [3]\n",
        "# kernel_types = ['linear','rbf','poly','sigmoid']\n",
        "# param_grid = dict(kernel=kernel_types, gamma=gamma_range, C=c_range,degree=degree_values)\n",
        "# tuning_param_grid = [{'kernel':['linear'], 'C':c_values}]\n",
        "tuning_param_grid = [{'kernel':['poly'], 'C':c_values, 'gamma':gamma_values, 'degree':degree_values}]"
      ],
      "execution_count": 0,
      "outputs": []
    },
    {
      "cell_type": "code",
      "metadata": {
        "id": "HdhMXedOUmnP",
        "colab_type": "code",
        "colab": {
          "base_uri": "https://localhost:8080/",
          "height": 158
        },
        "outputId": "568fe956-df53-4f4f-c469-98e233fcc906"
      },
      "source": [
        "%%time\n",
        "\n",
        "poly_grid_2 = GridSearchCV(svm, param_grid=tuning_param_grid, cv=cv, verbose=10, n_jobs=-1)\n",
        "poly_grid_2.fit(pca_train_images,train_labels)"
      ],
      "execution_count": 18,
      "outputs": [
        {
          "output_type": "stream",
          "text": [
            "Fitting 5 folds for each of 3 candidates, totalling 15 fits\n"
          ],
          "name": "stdout"
        },
        {
          "output_type": "stream",
          "text": [
            "[Parallel(n_jobs=-1)]: Using backend LokyBackend with 4 concurrent workers.\n",
            "[Parallel(n_jobs=-1)]: Done   5 tasks      | elapsed: 16.1min\n",
            "[Parallel(n_jobs=-1)]: Done  10 out of  15 | elapsed: 30.9min remaining: 15.4min\n",
            "[Parallel(n_jobs=-1)]: Done  12 out of  15 | elapsed: 41.9min remaining: 10.5min\n",
            "[Parallel(n_jobs=-1)]: Done  15 out of  15 | elapsed: 54.7min finished\n"
          ],
          "name": "stderr"
        },
        {
          "output_type": "stream",
          "text": [
            "CPU times: user 18min 33s, sys: 329 ms, total: 18min 33s\n",
            "Wall time: 1h 13min 13s\n"
          ],
          "name": "stdout"
        }
      ]
    },
    {
      "cell_type": "code",
      "metadata": {
        "id": "dDHjbzWKaGRo",
        "colab_type": "code",
        "colab": {
          "base_uri": "https://localhost:8080/",
          "height": 125
        },
        "outputId": "a2b062f2-8a11-453e-aa43-0480a258147b"
      },
      "source": [
        "print (\"The best classifier is: \" , poly_grid_2.best_estimator_)\n",
        "print ('Score of best classifier :', poly_grid_2.score(pca_eval_images,eval_labels))"
      ],
      "execution_count": 19,
      "outputs": [
        {
          "output_type": "stream",
          "text": [
            "The best classifier is:  SVC(C=2000, break_ties=False, cache_size=200, class_weight=None, coef0=0.0,\n",
            "    decision_function_shape='ovr', degree=3, gamma='scale', kernel='poly',\n",
            "    max_iter=-1, probability=False, random_state=None, shrinking=True,\n",
            "    tol=0.001, verbose=False)\n",
            "Score of best classifier : 0.7979\n"
          ],
          "name": "stdout"
        }
      ]
    },
    {
      "cell_type": "code",
      "metadata": {
        "id": "PKhnt2l0aOsd",
        "colab_type": "code",
        "colab": {
          "base_uri": "https://localhost:8080/",
          "height": 70
        },
        "outputId": "839d5c55-0c72-4a9d-99d0-01bef77a38c6"
      },
      "source": [
        "for param, score in zip(poly_grid_2.cv_results_['params'], poly_grid_2.cv_results_['mean_test_score']):\n",
        "    print(param, score)"
      ],
      "execution_count": 21,
      "outputs": [
        {
          "output_type": "stream",
          "text": [
            "{'C': 750, 'degree': 3, 'gamma': 'scale', 'kernel': 'poly'} 0.84555\n",
            "{'C': 1000, 'degree': 3, 'gamma': 'scale', 'kernel': 'poly'} 0.8456833333333333\n",
            "{'C': 2000, 'degree': 3, 'gamma': 'scale', 'kernel': 'poly'} 0.8459\n"
          ],
          "name": "stdout"
        }
      ]
    },
    {
      "cell_type": "code",
      "metadata": {
        "id": "YYxnjVBxzJNW",
        "colab_type": "code",
        "colab": {}
      },
      "source": [
        "c_values = [3000,4000]\n",
        "gamma_values = ['scale']\n",
        "# degree_values = np.arange(1, 6, 1)\n",
        "degree_values = [3]\n",
        "# kernel_types = ['linear','rbf','poly','sigmoid']\n",
        "# param_grid = dict(kernel=kernel_types, gamma=gamma_range, C=c_range,degree=degree_values)\n",
        "# tuning_param_grid = [{'kernel':['linear'], 'C':c_values}]\n",
        "tuning_param_grid = [{'kernel':['poly'], 'C':c_values, 'gamma':gamma_values, 'degree':degree_values}]"
      ],
      "execution_count": 0,
      "outputs": []
    },
    {
      "cell_type": "code",
      "metadata": {
        "id": "Mj92xn7qzKIQ",
        "colab_type": "code",
        "colab": {
          "base_uri": "https://localhost:8080/",
          "height": 140
        },
        "outputId": "f4669220-ab0f-459b-ef98-fa0a7bcf6adc"
      },
      "source": [
        "%%time\n",
        "\n",
        "poly_grid_3 = GridSearchCV(svm, param_grid=tuning_param_grid, cv=cv, verbose=10, n_jobs=-1)\n",
        "poly_grid_3.fit(pca_train_images,train_labels)"
      ],
      "execution_count": 17,
      "outputs": [
        {
          "output_type": "stream",
          "text": [
            "Fitting 5 folds for each of 2 candidates, totalling 10 fits\n"
          ],
          "name": "stdout"
        },
        {
          "output_type": "stream",
          "text": [
            "[Parallel(n_jobs=-1)]: Using backend LokyBackend with 4 concurrent workers.\n",
            "[Parallel(n_jobs=-1)]: Done   5 out of  10 | elapsed: 64.6min remaining: 64.6min\n",
            "[Parallel(n_jobs=-1)]: Done   7 out of  10 | elapsed: 79.4min remaining: 34.0min\n",
            "[Parallel(n_jobs=-1)]: Done  10 out of  10 | elapsed: 104.3min finished\n"
          ],
          "name": "stderr"
        },
        {
          "output_type": "stream",
          "text": [
            "CPU times: user 27min 53s, sys: 312 ms, total: 27min 54s\n",
            "Wall time: 2h 12min 12s\n"
          ],
          "name": "stdout"
        }
      ]
    },
    {
      "cell_type": "code",
      "metadata": {
        "id": "45Fq5MqD-Ao2",
        "colab_type": "code",
        "colab": {
          "base_uri": "https://localhost:8080/",
          "height": 125
        },
        "outputId": "d6b9be72-d8ca-4e4b-a79c-b6017784f45a"
      },
      "source": [
        "print (\"The best classifier is: \" , poly_grid_3.best_estimator_)\n",
        "print ('Score of best classifier :', poly_grid_3.score(pca_eval_images,eval_labels))"
      ],
      "execution_count": 18,
      "outputs": [
        {
          "output_type": "stream",
          "text": [
            "The best classifier is:  SVC(C=3000, break_ties=False, cache_size=200, class_weight=None, coef0=0.0,\n",
            "    decision_function_shape='ovr', degree=3, gamma='scale', kernel='poly',\n",
            "    max_iter=-1, probability=False, random_state=None, shrinking=True,\n",
            "    tol=0.001, verbose=False)\n",
            "Score of best classifier : 0.796\n"
          ],
          "name": "stdout"
        }
      ]
    },
    {
      "cell_type": "code",
      "metadata": {
        "id": "8fdBoycE-CUB",
        "colab_type": "code",
        "colab": {
          "base_uri": "https://localhost:8080/",
          "height": 52
        },
        "outputId": "faaed4c2-1f16-4aad-a9cf-740f55cb1298"
      },
      "source": [
        "for param, score in zip(poly_grid_3.cv_results_['params'], poly_grid_3.cv_results_['mean_test_score']):\n",
        "    print(param, score)"
      ],
      "execution_count": 19,
      "outputs": [
        {
          "output_type": "stream",
          "text": [
            "{'C': 3000, 'degree': 3, 'gamma': 'scale', 'kernel': 'poly'} 0.8455666666666666\n",
            "{'C': 4000, 'degree': 3, 'gamma': 'scale', 'kernel': 'poly'} 0.8452166666666667\n"
          ],
          "name": "stdout"
        }
      ]
    },
    {
      "cell_type": "markdown",
      "metadata": {
        "id": "21s8yvSzhmRW",
        "colab_type": "text"
      },
      "source": [
        "**Recursive feature elimination**\n",
        "\n",
        "\n",
        "m = RFECV(RandomForestClassifier(), scoring='accuracy')\n",
        "m.fit(X, y)"
      ]
    }
  ]
}